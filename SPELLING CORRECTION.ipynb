{
 "cells": [
  {
   "cell_type": "markdown",
   "metadata": {},
   "source": [
    "# **Programming Assessment \\#4**\n",
    "\n",
    "Names:\n",
    "\n",
    "Gonzales, Mark Edward M. <br>\n",
    "Lee, Hylene Jules G. <br>\n",
    "Ong, Phoebe Clare L.\n",
    "\n",
    "Group 13\n",
    "\n",
    "More information on the assessment is found in our Canvas course. Link: https://dlsu.instructure.com/courses/93383/assignments/739602"
   ]
  },
  {
   "cell_type": "markdown",
   "metadata": {},
   "source": [
    "<hr>"
   ]
  },
  {
   "cell_type": "markdown",
   "metadata": {},
   "source": [
    "The following libraries and modules — all of which are automatically bundled with an Anaconda installation — were used in this notebook:\n",
    "\n",
    "Library/Module | Description | License\n",
    ":-- | :-- | :--\n",
    "<a href = \"https://docs.python.org/3/library/re.html\">`re`</a> | Provides regular expression matching operations similar to those found in Perl | Python Software Foundation License\n",
    "<a href = \"https://docs.python.org/3/library/collections.html\">`collections`</a> | Implements specialized container datatypes providing alternatives to Python's general purpose built-in containers | Python Software Foundation License\n",
    "<a href = \"https://docs.python.org/3/library/collections.html\">`pickle`</a> | Implements binary protocols for serializing and de-serializing a Python object structure | Python Software Foundation License\n",
    "<a href = \"https://www.nltk.org/\">`nltk`</a> | Suite of open-source Python modules and data sets supporting research and development in natural language processing | Apache License 2.0\n",
    "<a href = \"https://pandas.pydata.org/\">`pandas`</a> | Provides functions for data analysis and manipulation\t | BSD 3-Clause \"New\" or \"Revised\" License\n",
    "\n",
    "*The descriptions were lifted from their respective websites.*"
   ]
  },
  {
   "cell_type": "code",
   "execution_count": 1,
   "metadata": {},
   "outputs": [],
   "source": [
    "import re\n",
    "from collections import Counter\n",
    "import pickle\n",
    "\n",
    "import nltk\n",
    "import pandas as pd"
   ]
  },
  {
   "cell_type": "markdown",
   "metadata": {},
   "source": [
    "# A. Loading the Corpus"
   ]
  },
  {
   "cell_type": "markdown",
   "metadata": {},
   "source": [
    "*The code for loading the corpus (and its tokens) was taken from the provided notebook `Using_All_Project_Gutenberg_Documents_in_NLTK.ipynb`.*"
   ]
  },
  {
   "cell_type": "markdown",
   "metadata": {},
   "source": [
    "Download NLTK's selection of texts taken from the Project Gutenberg electronic text archive."
   ]
  },
  {
   "cell_type": "code",
   "execution_count": 2,
   "metadata": {},
   "outputs": [
    {
     "name": "stderr",
     "output_type": "stream",
     "text": [
      "[nltk_data] Downloading package gutenberg to\n",
      "[nltk_data]     C:\\Users\\Edward\\AppData\\Roaming\\nltk_data...\n",
      "[nltk_data]   Package gutenberg is already up-to-date!\n"
     ]
    },
    {
     "data": {
      "text/plain": [
       "True"
      ]
     },
     "execution_count": 2,
     "metadata": {},
     "output_type": "execute_result"
    }
   ],
   "source": [
    "nltk.download('gutenberg')"
   ]
  },
  {
   "cell_type": "markdown",
   "metadata": {},
   "source": [
    "To investigate the effect of case folding (i.e., converting all the words to lowercase) vis-à-vis case preservation, two spelling correction models are created. In this regard, a counter is created to store the frequencies of all the words upon conversion to lowercase. This will be used in building the (unigram) language model."
   ]
  },
  {
   "cell_type": "code",
   "execution_count": 3,
   "metadata": {},
   "outputs": [],
   "source": [
    "all_words_lowercase = Counter()\n",
    "\n",
    "for filename in nltk.corpus.gutenberg.fileids():\n",
    "    words = [word.lower() for word in nltk.corpus.gutenberg.words(filename)]\n",
    "    all_words_lowercase.update(words)"
   ]
  },
  {
   "cell_type": "markdown",
   "metadata": {},
   "source": [
    "Similarly, a counter is created to store the frequencies of all the words without converting them to lowercase."
   ]
  },
  {
   "cell_type": "code",
   "execution_count": 4,
   "metadata": {},
   "outputs": [],
   "source": [
    "all_words = Counter()\n",
    "\n",
    "for filename in nltk.corpus.gutenberg.fileids():\n",
    "    words = [word for word in nltk.corpus.gutenberg.words(filename)]\n",
    "    all_words.update(words)"
   ]
  },
  {
   "cell_type": "markdown",
   "metadata": {},
   "source": [
    "<hr>"
   ]
  },
  {
   "cell_type": "markdown",
   "metadata": {},
   "source": [
    "# B. Computing the Probabilities"
   ]
  },
  {
   "cell_type": "markdown",
   "metadata": {},
   "source": [
    "The code segments below deal with the computation of the probabilities related to the unigram language and error models."
   ]
  },
  {
   "cell_type": "markdown",
   "metadata": {},
   "source": [
    "## 1. Unigram Language Model"
   ]
  },
  {
   "cell_type": "markdown",
   "metadata": {},
   "source": [
    "This function computes and returns the probability related to the prior knowledge of a given candidate word in a unigram language model. Following the convention in NLP1000, the return value of this method corresponds to $P(c)$.\n",
    "\n",
    "**Parameters:**\n",
    "- `word` (string): Candidate word\n",
    "- `is_lowercase` (Boolean) : `True` if the spelling correction model performs lowercase conversion; `False`, otherwise\n",
    "\n",
    "**Return Value:**\n",
    "- Float: Probability related to the prior knowledge of a given candidate word in a unigram language model"
   ]
  },
  {
   "cell_type": "code",
   "execution_count": 5,
   "metadata": {},
   "outputs": [],
   "source": [
    "def get_word_probability(word, is_lowercase):    \n",
    "    if (is_lowercase):\n",
    "        frequency = all_words_lowercase[word]\n",
    "        probability = frequency / sum(all_words_lowercase.values())\n",
    "    else:\n",
    "        frequency = all_words[word]\n",
    "        probability = frequency / sum(all_words.values())\n",
    "    \n",
    "    return probability"
   ]
  },
  {
   "cell_type": "markdown",
   "metadata": {},
   "source": [
    "Precompute the probabilities related to the prior knowledge of all the words in the Project Gutenberg corpus. The rationale is to avoid the expensive $O(n)$ recomputation (where $n$ is the number of tokens) if the spelling correction program is used repeatedly (e.g., during testing)."
   ]
  },
  {
   "cell_type": "code",
   "execution_count": 6,
   "metadata": {},
   "outputs": [],
   "source": [
    "word_probabilities_lowercase = {}\n",
    "for candidate in all_words_lowercase:\n",
    "    word_probabilities_lowercase[candidate] = get_word_probability(candidate, is_lowercase=True)\n",
    "    \n",
    "word_probabilities = {}\n",
    "for candidate in all_words:\n",
    "    word_probabilities[candidate] = get_word_probability(candidate, is_lowercase=False)"
   ]
  },
  {
   "cell_type": "markdown",
   "metadata": {},
   "source": [
    "## 2. Error Model"
   ]
  },
  {
   "cell_type": "markdown",
   "metadata": {},
   "source": [
    "This function counts the total number of occurrences of the given sequence of characters. \n",
    "\n",
    "**Parameters:**\n",
    "- `character` (string): Sequence of characters \n",
    "- `is_lowercase` (Boolean): `True` if the spelling correction model performs lowercase conversion; `False`, otherwise\n",
    "\n",
    "**Return Value:**\n",
    "- Integer: Total number of occurrences of the given sequence of characters"
   ]
  },
  {
   "cell_type": "code",
   "execution_count": 7,
   "metadata": {},
   "outputs": [],
   "source": [
    "def get_character_count(character, is_lowercase):    \n",
    "    total_count = 0\n",
    "    regex = re.compile(character)\n",
    "\n",
    "    if (is_lowercase):\n",
    "        for key, value in all_words_lowercase.items():\n",
    "            num_occurrences = len(regex.findall(key))\n",
    "            total_count += value * num_occurrences\n",
    "    \n",
    "    else:\n",
    "        for key, value in all_words.items():\n",
    "            num_occurrences = len(regex.findall(key))\n",
    "            total_count += value * num_occurrences\n",
    "    \n",
    "    return total_count"
   ]
  },
  {
   "cell_type": "markdown",
   "metadata": {},
   "source": [
    "The script below creates a dictionary for the error model derived from Peter Norvig's [collection of spelling mistakes](http://norvig.com/ngrams/count_1edit.txt). The entries are stored in the text file `spelling-mistakes.txt`."
   ]
  },
  {
   "cell_type": "code",
   "execution_count": 8,
   "metadata": {},
   "outputs": [],
   "source": [
    "spelling_mistakes = {}\n",
    "\n",
    "with open(\"spelling-mistakes.txt\") as file:\n",
    "    for line in file:\n",
    "        error, count = line.split(\"\\t\")\n",
    "        stripped_count = count.strip()\n",
    "        spelling_mistakes[error] = int(stripped_count)"
   ]
  },
  {
   "cell_type": "markdown",
   "metadata": {},
   "source": [
    "This function computes and returns the probability of the edit in relation to the error model, that is, the likelihood that a given (incorrect) sequence of characters would be typed when the user intended a different sequence of characters. Following the convention in NLP1000, the return value of this method corresponds to $P(w|c)$.\n",
    "\n",
    "**Parameters:**\n",
    "- `wrong_character` (string): Incorrect sequence of characters typed by the user\n",
    "- `correct_character` (string): Sequence of characters intended by the user\n",
    "- `is_lowercase` (Boolean): `True` if the spelling correction model performs lowercase conversion; `False`, otherwise\n",
    "\n",
    "**Return Value:**\n",
    "- Float: Probability of the edit in relation to the error model"
   ]
  },
  {
   "cell_type": "code",
   "execution_count": 9,
   "metadata": {},
   "outputs": [],
   "source": [
    "# Replace the arrow symbol used in the error model with a caret to be able to properly detect \n",
    "# the start of a word using regular expressions.\n",
    "pattern = r'>'\n",
    "replacement = '^'\n",
    "\n",
    "def get_edit_probability(wrong_character, correct_character, is_lowercase):\n",
    "    \n",
    "    # Concatenate the wrong sequence of characters and its correction to match the format of the spelling mistake \n",
    "    # as stored in the error model.\n",
    "    spelling_edit = wrong_character + \"|\" + correct_character\n",
    "    \n",
    "    # If the spelling mistake is in the error model, compute the probability of the edit.\n",
    "    if spelling_edit in spelling_mistakes:\n",
    "        # Use the prepared regular expression to replace the arrow symbol from the input.\n",
    "        correct_character = re.sub(pattern, replacement, correct_character)\n",
    "        \n",
    "        # Get the frequency of the correct character from the specified language model.\n",
    "        correct_count = get_character_count(correct_character, is_lowercase)\n",
    "        \n",
    "        # If there are no occurrences of the pertinent sequence of characters in the language model, \n",
    "        # then the probability is automatically set to 0.\n",
    "        if (correct_count == 0):\n",
    "            probability = 0\n",
    "            \n",
    "        # Otherwise, compute for the probability of the edit by dividing the frequency of the spelling mistake \n",
    "        # by the frequency of the occurrence of the intended sequence of characters in the corpus.\n",
    "        else:\n",
    "            probability = spelling_mistakes[spelling_edit] / correct_count\n",
    "            \n",
    "    # If the spelling mistake is not recorded in the error model, then the probability is automatically\n",
    "    # set to 0.\n",
    "    else:\n",
    "        probability = 0\n",
    "    \n",
    "    return probability"
   ]
  },
  {
   "cell_type": "markdown",
   "metadata": {},
   "source": [
    "<hr>"
   ]
  },
  {
   "cell_type": "markdown",
   "metadata": {},
   "source": [
    "# C. Computing the Damerau-Levenshtein Edit Distance"
   ]
  },
  {
   "cell_type": "markdown",
   "metadata": {},
   "source": [
    "This function computes the Damerau-Levenshtein edit distance, a variation of the classic Levenshtein distance that allows for transpositions. If this distance is 1, a list containing the distance and the string corresponding to the alignment are returned. Otherwise, a list containing the distance and a `None` object is returned. Since the project specifications limit the minimum edit distance to 1, this eliminates the cost of aligning the two strings if the minimum edit distance is not 1. \n",
    "\n",
    "This method implemented a dynamic programming approach to compute the minimum edit distance in $O(mn)$ time, where $m$ and $n$ are the lengths of the source and target strings, respectively. The space complexity is also $O(mn)$.\n",
    "\n",
    "**Parameters:**\n",
    "- `source` (string): Source string\n",
    "- `target` (string): Target string\n",
    "\n",
    "**Return Value:**\n",
    "- List of shape (2,): A list containing the Damerau-Levenshtein edit distance and the string corresponding to the alignment if the distance is 1; a list containing the distance and a `None` object, otherwise"
   ]
  },
  {
   "cell_type": "code",
   "execution_count": 10,
   "metadata": {},
   "outputs": [],
   "source": [
    "def get_min_edit_dist(source, target):\n",
    "    edit_distance = [[0 for i in range(len(target) + 1)] for j in range(len(source) + 1)]\n",
    "    backtrace = [[0 for i in range(len(target) + 1)] for j in range(len(source) + 1)]\n",
    "    \n",
    "    for i in range(len(source) + 1):\n",
    "        for j in range(len(target) + 1):\n",
    "            if i == 0:\n",
    "                edit_distance[i][j] = j\n",
    "                \n",
    "                # This corresponds to the insertion base case.\n",
    "                if i == 0 and j != 0:\n",
    "                    backtrace[i][j] = \"Left\"\n",
    "\n",
    "            elif j == 0:\n",
    "                edit_distance[i][j] = i\n",
    "                \n",
    "                # This corresponds to the deletion base case.\n",
    "                if i != 0 and j == 0:\n",
    "                    backtrace[i][j] = \"Down\"\n",
    "\n",
    "            else:\n",
    "                canTransposition = False\n",
    "                canSubstitute = False\n",
    "                \n",
    "                # Compute the costs of the deletion, insertion, and substitution operations.\n",
    "                deletion = edit_distance[i-1][j] + 1\n",
    "                insertion = edit_distance[i][j-1] + 1\n",
    "                substitution = edit_distance[i-1][j-1] \n",
    "                \n",
    "                # Check if substitution can be performed.\n",
    "                # If it can be performed, update the cost of substitution.\n",
    "                if source[i-1] != target[j-1]:\n",
    "                    substitution += 1\n",
    "                    canSubstitute = True\n",
    "                \n",
    "                # Check if transposition can be performed.\n",
    "                # If it can be performed, compute the cost of transposition.\n",
    "                if i > 1 and j > 1 and source[i-1] == target[j-2] and source[i-2] == target[j-1]:\n",
    "                    transposition = edit_distance[i-2][j-2] + 1\n",
    "                    canTransposition = True\n",
    "                \n",
    "                # Determine which operation returns the minimum cost and update the backtracing table.\n",
    "                if canTransposition and transposition < deletion and transposition < insertion and transposition < substitution:\n",
    "                    backtrace[i][j] = \"DiagT\"\n",
    "                    backtrace[i-1][j-1] = \"DiagT\"        \n",
    "                elif deletion < insertion and deletion < substitution:\n",
    "                    backtrace[i][j] = \"Down\"\n",
    "                elif insertion < deletion and insertion < substitution:\n",
    "                    backtrace[i][j] = \"Left\"\n",
    "                else:\n",
    "                    if canSubstitute:\n",
    "                        backtrace[i][j] = \"DiagS\"\n",
    "                    else:\n",
    "                        backtrace[i][j] = \"DiagM\"\n",
    "                        \n",
    "                if canTransposition:\n",
    "                    edit_distance[i][j] = min(deletion, insertion, substitution, transposition)\n",
    "                else:\n",
    "                    edit_distance[i][j] = min(deletion, insertion, substitution)\n",
    "    \n",
    "    # Construct the string corresponding to the alignment only if the minimum edit distance is 1.\n",
    "    if edit_distance[len(source)][len(target)] == 1:\n",
    "        return [edit_distance[len(source)][len(target)], backtrace_operations(source, target, backtrace)]\n",
    "    else:\n",
    "        return [edit_distance[len(source)][len(target)], None]"
   ]
  },
  {
   "cell_type": "markdown",
   "metadata": {},
   "source": [
    "This function constructs the string corresponding to the alignment of the source and target strings.\n",
    "\n",
    "**Parameters**:\n",
    "- `source` (string): Source string\n",
    "- `target` (string): Target string\n",
    "- `backtrace` [list of shape (|`source`|, |`target`|)]: Backtracing table \n",
    "\n",
    "**Return Value**:\n",
    "- string: String corresponding to the alignment of the source and target strings"
   ]
  },
  {
   "cell_type": "code",
   "execution_count": 11,
   "metadata": {},
   "outputs": [],
   "source": [
    "def backtrace_operations(source, target, backtrace):\n",
    "    i = len(source)\n",
    "    j = len(target)\n",
    "    trace = \"\"\n",
    "    \n",
    "    # Reconstruct the path from the bottom right cell of the backtracing table\n",
    "    # to its top left cell.\n",
    "    while not (i == 0 and j == 0):\n",
    "        if backtrace[i][j] == \"Down\":\n",
    "            i -= 1\n",
    "            trace += \"D\"\n",
    "        elif backtrace[i][j] == \"Left\":\n",
    "            j -= 1\n",
    "            trace += \"I\"\n",
    "        elif backtrace[i][j] == \"DiagS\":\n",
    "            i -= 1\n",
    "            j -= 1\n",
    "            trace += \"S\"\n",
    "        elif backtrace[i][j] == \"DiagM\":\n",
    "            i -= 1\n",
    "            j -= 1\n",
    "            trace += \" \"\n",
    "        elif backtrace[i][j] == \"DiagT\":\n",
    "            i -= 1\n",
    "            j -= 1\n",
    "            trace += \"T\"\n",
    "        \n",
    "        # Prevent out-of-bounds array access.\n",
    "        if i < 0:\n",
    "            i = 0\n",
    "        if j < 0:\n",
    "            j = 0\n",
    "    \n",
    "    # Reverse the string to obtain the alignment starting from the first character.\n",
    "    trace = trace[::-1]\n",
    "    \n",
    "    return trace"
   ]
  },
  {
   "cell_type": "markdown",
   "metadata": {},
   "source": [
    "<hr>"
   ]
  },
  {
   "cell_type": "markdown",
   "metadata": {},
   "source": [
    "# D. Spelling Correction"
   ]
  },
  {
   "cell_type": "markdown",
   "metadata": {},
   "source": [
    "This function returns details related to the spelling correction: *(i)* the type of edit (for transforming the candidate correction to the misspelled word), *(ii)* the wrong sequence of characters, and *(iii)* the correction to the said sequence of characters. This method comes under the precondition that the Damerau-Levenshtein edit distance between the two strings is 1.\n",
    "\n",
    "**Parameters:**\n",
    "- `source` (string): Source string (candidate correction)\n",
    "- `target` (string): Target string (misspelled word)\n",
    "- `trace` (string): Trace corresponding to the alignment of the source and target strings\n",
    "\n",
    "**Return Value:**\n",
    "- List of shape (3,): A list containing *(i)* the type of edit (for transforming the candidate correction to the misspelled word), *(ii)* the wrong sequence of characters, and *(iii)* the correction to the said sequence of characters"
   ]
  },
  {
   "cell_type": "code",
   "execution_count": 12,
   "metadata": {},
   "outputs": [],
   "source": [
    "def get_edits(source, target, trace):\n",
    "    x = 0\n",
    "    y = 0\n",
    "    \n",
    "    wrong_char = \"\"\n",
    "    correct_char = \"\"\n",
    "    edit_type = \"\"\n",
    "\n",
    "    # Retrieve the details only if the Damerau-Levenshtein edit distance between the two strings is 1;\n",
    "    # that is, if the trace is not a None object.\n",
    "    if trace:\n",
    "        for i in range(len(trace)):\n",
    "            # This corresponds to a match.\n",
    "            if trace[i] == \" \":\n",
    "                x += 1\n",
    "                y += 1\n",
    "                \n",
    "            # This corresponds to a substitution.\n",
    "            elif trace[i] == \"S\":\n",
    "                correct_char += source[x]\n",
    "                wrong_char += target[y]\n",
    "\n",
    "                edit_type = \"sub\"\n",
    "                x += 1\n",
    "                y += 1\n",
    "\n",
    "            # This corresponds to a deletion.\n",
    "            elif trace[i] == \"D\":\n",
    "                # Handle the case where deletion occurs at the start of the candidate correction.\n",
    "                if (x == 0 and y == 0):\n",
    "                    correct_char += \">\" + source[x]\n",
    "                    wrong_char += \">\" \n",
    "                else:\n",
    "                    correct_char += source[x-1] + source[x]\n",
    "                    wrong_char += target[y-1]\n",
    "\n",
    "                edit_type = \"del\"\n",
    "                x += 1\n",
    "\n",
    "            # This corresponds to an insertion.\n",
    "            elif trace[i] == \"I\":\n",
    "                # Handle the case where insertion occurs at the start of the candidate correction.\n",
    "                if (x == 0 and y == 0):\n",
    "                    correct_char += \">\" \n",
    "                    wrong_char += \">\" + target[y]\n",
    "                else:\n",
    "                    correct_char += source[x-1]\n",
    "                    wrong_char += target[y-1] + target[y]\n",
    "\n",
    "                edit_type = \"ins\"\n",
    "                y += 1\n",
    "\n",
    "            # This corresponds to a transposition.\n",
    "            elif trace[i] == \"T\":\n",
    "                correct_char += source[x]\n",
    "                wrong_char += target[y]\n",
    "\n",
    "                edit_type = \"tra\"\n",
    "                x += 1\n",
    "                y += 1\n",
    "    \n",
    "    return [edit_type, wrong_char, correct_char]"
   ]
  },
  {
   "cell_type": "markdown",
   "metadata": {},
   "source": [
    "This method performs the actual spell correction following the noisy channel model and returns the candidate corrections in order of decreasing likelihood. If the given word is in the corpus (i.e., it is recognized as a valid spelling), a no-error essage is returned instead.\n",
    "\n",
    "**Parameters:**\n",
    "- `word` (string): Input word\n",
    "- `is_lowercase` (Boolean): `True` if the spelling correction model performs lowercase conversion; `False`, otherwise\n",
    "- `min_edit_distance` (integer): Damerau-Levenshtein edit distance of the candidate corrections\n",
    "- `display_df` (Boolean): `True` if the table showing the probabilities of the candidate corrections (or the no-error message) is to be displayed; `False`, otherwise\n",
    "\n",
    "**Return Value:**\n",
    "- *If the input word is recognized as a misspelling* &mdash; List of shape(*n*,), where *n* > 1: Candidate corrections sorted in order of decreasing likelihood\n",
    "- *Otherwise* &mdash; String: Message indicating that the input word is recognized as a valid spelling"
   ]
  },
  {
   "cell_type": "code",
   "execution_count": 13,
   "metadata": {},
   "outputs": [],
   "source": [
    "NO_ERROR = \"Output: No error\"\n",
    "\n",
    "def get_spell_correction(word, is_lowercase, min_edit_distance=1, display_df=True):\n",
    "    candidate_details = []\n",
    "    \n",
    "    if is_lowercase: \n",
    "        all_corpus = all_words_lowercase\n",
    "        word = word.lower()\n",
    "    else:\n",
    "        all_corpus = all_words\n",
    "                         \n",
    "    # The input word is in the corpus (i.e., it is recognized as a valid spelling).\n",
    "    if all_corpus[word] > 0:\n",
    "        if display_df:\n",
    "            print(NO_ERROR)\n",
    "        \n",
    "        return NO_ERROR\n",
    "\n",
    "    # The input word is recognized as a misspelling.\n",
    "    else:\n",
    "        if display_df:\n",
    "            print(\"Output:\")\n",
    "\n",
    "        # Iterate through all the words in the corpus.\n",
    "        for candidate in all_corpus:\n",
    "            dist = get_min_edit_dist(candidate, word)\n",
    "            \n",
    "            # Consider the word a candidate only if the minimum edit distance requirement is satisfied.\n",
    "            if dist[0] == min_edit_distance:\n",
    "                edit = get_edits(candidate, word, dist[1])\n",
    "                editType = edit[0]\n",
    "                editChar = edit[1] + \" | \" + edit[2]\n",
    "\n",
    "                # Compute the probabilities related to the language and error models.\n",
    "                if is_lowercase:\n",
    "                    wordProbability = word_probabilities_lowercase[candidate]\n",
    "                else:\n",
    "                    wordProbability = word_probabilities[candidate]\n",
    "                \n",
    "                editProbability = get_edit_probability(edit[1], edit[2], is_lowercase)\n",
    "                prodProbability = \"{:e}\".format(wordProbability * editProbability)\n",
    "\n",
    "                candidate_details.append([word, candidate, editType, editChar, wordProbability, editProbability, prodProbability])\n",
    "\n",
    "        # Sort the candidates in order of decreasing likelihood.\n",
    "        candidate_details = sorted(candidate_details, key=lambda x: float(x[6]), reverse=True)\n",
    "        \n",
    "        # Display the results using a Pandas DataFrame.\n",
    "        dx = pd.DataFrame(candidate_details, columns = [\"word\", \"candidate\", \"edit_type\", \"edit\", \"P(c)\", \"P(w|c)\", \"P(c) x P(w|c)\"])\n",
    "        df = dx.style.set_table_styles([{'selector': 'td', 'props': [('text-align', 'left')]},\n",
    "                           {'selector': '.col_heading', 'props': [('text-align', 'center')]}])\n",
    "        \n",
    "        if display_df:\n",
    "            display(df)\n",
    "        \n",
    "        return list(dx['candidate'])        "
   ]
  },
  {
   "cell_type": "markdown",
   "metadata": {},
   "source": [
    "<hr>"
   ]
  },
  {
   "cell_type": "markdown",
   "metadata": {},
   "source": [
    "# E. Main Program"
   ]
  },
  {
   "cell_type": "markdown",
   "metadata": {},
   "source": [
    "As mentioned in the introduction, two spelling correction models are created: one where the case is preserved and the other where case folding is performed. Note that the models only support **single-word inputs**. If the user enters two or more strings separated by a whitespace, an error message will be displayed. "
   ]
  },
  {
   "cell_type": "markdown",
   "metadata": {},
   "source": [
    "## 1. Spelling Correction Model (With Case Folding)"
   ]
  },
  {
   "cell_type": "code",
   "execution_count": 14,
   "metadata": {},
   "outputs": [
    {
     "name": "stdout",
     "output_type": "stream",
     "text": [
      "Input: mohter\n",
      "Output:\n"
     ]
    },
    {
     "data": {
      "text/html": [
       "<style  type=\"text/css\" >\n",
       "    #T_c310393e_ddd5_11ec_8880_a81e840b27ff td {\n",
       "          text-align: left;\n",
       "    }    #T_c310393e_ddd5_11ec_8880_a81e840b27ff .col_heading {\n",
       "          text-align: center;\n",
       "    }</style><table id=\"T_c310393e_ddd5_11ec_8880_a81e840b27ff\" ><thead>    <tr>        <th class=\"blank level0\" ></th>        <th class=\"col_heading level0 col0\" >word</th>        <th class=\"col_heading level0 col1\" >candidate</th>        <th class=\"col_heading level0 col2\" >edit_type</th>        <th class=\"col_heading level0 col3\" >edit</th>        <th class=\"col_heading level0 col4\" >P(c)</th>        <th class=\"col_heading level0 col5\" >P(w|c)</th>        <th class=\"col_heading level0 col6\" >P(c) x P(w|c)</th>    </tr></thead><tbody>\n",
       "                <tr>\n",
       "                        <th id=\"T_c310393e_ddd5_11ec_8880_a81e840b27fflevel0_row0\" class=\"row_heading level0 row0\" >0</th>\n",
       "                        <td id=\"T_c310393e_ddd5_11ec_8880_a81e840b27ffrow0_col0\" class=\"data row0 col0\" >mohter</td>\n",
       "                        <td id=\"T_c310393e_ddd5_11ec_8880_a81e840b27ffrow0_col1\" class=\"data row0 col1\" >mother</td>\n",
       "                        <td id=\"T_c310393e_ddd5_11ec_8880_a81e840b27ffrow0_col2\" class=\"data row0 col2\" >tra</td>\n",
       "                        <td id=\"T_c310393e_ddd5_11ec_8880_a81e840b27ffrow0_col3\" class=\"data row0 col3\" >ht | th</td>\n",
       "                        <td id=\"T_c310393e_ddd5_11ec_8880_a81e840b27ffrow0_col4\" class=\"data row0 col4\" >0.000463</td>\n",
       "                        <td id=\"T_c310393e_ddd5_11ec_8880_a81e840b27ffrow0_col5\" class=\"data row0 col5\" >0.000094</td>\n",
       "                        <td id=\"T_c310393e_ddd5_11ec_8880_a81e840b27ffrow0_col6\" class=\"data row0 col6\" >4.337539e-08</td>\n",
       "            </tr>\n",
       "            <tr>\n",
       "                        <th id=\"T_c310393e_ddd5_11ec_8880_a81e840b27fflevel0_row1\" class=\"row_heading level0 row1\" >1</th>\n",
       "                        <td id=\"T_c310393e_ddd5_11ec_8880_a81e840b27ffrow1_col0\" class=\"data row1 col0\" >mohter</td>\n",
       "                        <td id=\"T_c310393e_ddd5_11ec_8880_a81e840b27ffrow1_col1\" class=\"data row1 col1\" >morter</td>\n",
       "                        <td id=\"T_c310393e_ddd5_11ec_8880_a81e840b27ffrow1_col2\" class=\"data row1 col2\" >sub</td>\n",
       "                        <td id=\"T_c310393e_ddd5_11ec_8880_a81e840b27ffrow1_col3\" class=\"data row1 col3\" >h | r</td>\n",
       "                        <td id=\"T_c310393e_ddd5_11ec_8880_a81e840b27ffrow1_col4\" class=\"data row1 col4\" >0.000004</td>\n",
       "                        <td id=\"T_c310393e_ddd5_11ec_8880_a81e840b27ffrow1_col5\" class=\"data row1 col5\" >0.000012</td>\n",
       "                        <td id=\"T_c310393e_ddd5_11ec_8880_a81e840b27ffrow1_col6\" class=\"data row1 col6\" >5.010995e-11</td>\n",
       "            </tr>\n",
       "    </tbody></table>"
      ],
      "text/plain": [
       "<pandas.io.formats.style.Styler at 0x23f9e55ccc8>"
      ]
     },
     "metadata": {},
     "output_type": "display_data"
    }
   ],
   "source": [
    "word = input(\"Input: \")\n",
    "if (len(word.split()) > 1):\n",
    "    print(\"Please enter only one word.\")\n",
    "else:\n",
    "    get_spell_correction(word, is_lowercase=True)"
   ]
  },
  {
   "cell_type": "markdown",
   "metadata": {},
   "source": [
    "## 2. Spelling Correction Model (Without Case Folding)"
   ]
  },
  {
   "cell_type": "code",
   "execution_count": 15,
   "metadata": {},
   "outputs": [
    {
     "name": "stdout",
     "output_type": "stream",
     "text": [
      "Input: mohter\n",
      "Output:\n"
     ]
    },
    {
     "data": {
      "text/html": [
       "<style  type=\"text/css\" >\n",
       "    #T_d698c04c_ddd5_11ec_8313_a81e840b27ff td {\n",
       "          text-align: left;\n",
       "    }    #T_d698c04c_ddd5_11ec_8313_a81e840b27ff .col_heading {\n",
       "          text-align: center;\n",
       "    }</style><table id=\"T_d698c04c_ddd5_11ec_8313_a81e840b27ff\" ><thead>    <tr>        <th class=\"blank level0\" ></th>        <th class=\"col_heading level0 col0\" >word</th>        <th class=\"col_heading level0 col1\" >candidate</th>        <th class=\"col_heading level0 col2\" >edit_type</th>        <th class=\"col_heading level0 col3\" >edit</th>        <th class=\"col_heading level0 col4\" >P(c)</th>        <th class=\"col_heading level0 col5\" >P(w|c)</th>        <th class=\"col_heading level0 col6\" >P(c) x P(w|c)</th>    </tr></thead><tbody>\n",
       "                <tr>\n",
       "                        <th id=\"T_d698c04c_ddd5_11ec_8313_a81e840b27fflevel0_row0\" class=\"row_heading level0 row0\" >0</th>\n",
       "                        <td id=\"T_d698c04c_ddd5_11ec_8313_a81e840b27ffrow0_col0\" class=\"data row0 col0\" >mohter</td>\n",
       "                        <td id=\"T_d698c04c_ddd5_11ec_8313_a81e840b27ffrow0_col1\" class=\"data row0 col1\" >mother</td>\n",
       "                        <td id=\"T_d698c04c_ddd5_11ec_8313_a81e840b27ffrow0_col2\" class=\"data row0 col2\" >tra</td>\n",
       "                        <td id=\"T_d698c04c_ddd5_11ec_8313_a81e840b27ffrow0_col3\" class=\"data row0 col3\" >ht | th</td>\n",
       "                        <td id=\"T_d698c04c_ddd5_11ec_8313_a81e840b27ffrow0_col4\" class=\"data row0 col4\" >0.000429</td>\n",
       "                        <td id=\"T_d698c04c_ddd5_11ec_8313_a81e840b27ffrow0_col5\" class=\"data row0 col5\" >0.000100</td>\n",
       "                        <td id=\"T_d698c04c_ddd5_11ec_8313_a81e840b27ffrow0_col6\" class=\"data row0 col6\" >4.277337e-08</td>\n",
       "            </tr>\n",
       "            <tr>\n",
       "                        <th id=\"T_d698c04c_ddd5_11ec_8313_a81e840b27fflevel0_row1\" class=\"row_heading level0 row1\" >1</th>\n",
       "                        <td id=\"T_d698c04c_ddd5_11ec_8313_a81e840b27ffrow1_col0\" class=\"data row1 col0\" >mohter</td>\n",
       "                        <td id=\"T_d698c04c_ddd5_11ec_8313_a81e840b27ffrow1_col1\" class=\"data row1 col1\" >morter</td>\n",
       "                        <td id=\"T_d698c04c_ddd5_11ec_8313_a81e840b27ffrow1_col2\" class=\"data row1 col2\" >sub</td>\n",
       "                        <td id=\"T_d698c04c_ddd5_11ec_8313_a81e840b27ffrow1_col3\" class=\"data row1 col3\" >h | r</td>\n",
       "                        <td id=\"T_d698c04c_ddd5_11ec_8313_a81e840b27ffrow1_col4\" class=\"data row1 col4\" >0.000004</td>\n",
       "                        <td id=\"T_d698c04c_ddd5_11ec_8313_a81e840b27ffrow1_col5\" class=\"data row1 col5\" >0.000012</td>\n",
       "                        <td id=\"T_d698c04c_ddd5_11ec_8313_a81e840b27ffrow1_col6\" class=\"data row1 col6\" >5.126243e-11</td>\n",
       "            </tr>\n",
       "    </tbody></table>"
      ],
      "text/plain": [
       "<pandas.io.formats.style.Styler at 0x23fa071de48>"
      ]
     },
     "metadata": {},
     "output_type": "display_data"
    }
   ],
   "source": [
    "word = input(\"Input: \")\n",
    "if (len(word.split()) > 1):\n",
    "    print(\"Please enter only one word.\")\n",
    "else:\n",
    "    get_spell_correction(word, is_lowercase=False)"
   ]
  },
  {
   "cell_type": "markdown",
   "metadata": {},
   "source": [
    "<hr>"
   ]
  },
  {
   "cell_type": "markdown",
   "metadata": {},
   "source": [
    "# **Your Reflection / Takeaway / Analysis**\n",
    "\n",
    "*Kindly place the rest of your write up. More information is found in the Canvas write up.*"
   ]
  },
  {
   "cell_type": "markdown",
   "metadata": {},
   "source": [
    "## A. Approach to Spelling Correction"
   ]
  },
  {
   "attachments": {
    "noisy-channel.PNG": {
     "image/png": "[encoded data removed]"
    }
   },
   "cell_type": "markdown",
   "metadata": {},
   "source": [
    "![noisy-channel.PNG](attachment:noisy-channel.PNG)"
   ]
  },
  {
   "cell_type": "markdown",
   "metadata": {},
   "source": [
    "Inspired by Claude E. Shannon's seminal work on information theory ([Rudra, 2007](https://cse.buffalo.edu/faculty/atri/courses/coding-theory/lectures/lect8.pdf)), the **noisy channel model** is one of the most widely used approaches to spelling correction. The idea is to pass an input word to a channel that introduces \"specks\" of noise &mdash; similar to an audio-distorting wall (as suggested by the picture on the left, taken from [here](http://www.inf.ed.ac.uk/teaching/courses/inf1-cg/lectures/23/noisyChannel2.png)); in the context of spelling correction, this noise may come in the form of substitutions, insertions, deletions, or transpositions. In the figure on the right (taken from Jurafsky and Martin [2021]), the resulting noisy (misspelled) word is termed `noisy word`.\n",
    "\n",
    "Ergo, the objective is to build a model (or an approximate replica) of this noisy channel. To decode the intended spelling of `noisy word`, different candidate corrections are passed to this model. In the illustration, the $i$<sup>th</sup> candidate correction is `word hyp i`, and the result of passing it to the noisy channel model is `noisy i`. The different instances of `noisy i` are then ranked according to their similarity to `noisy word`, and the `word hyp i` that corresponds to the most similar one is tagged as the most probable spelling correction.\n",
    "\n",
    "This preliminary description highlights the two most important components of the noisy channel model: the candidate words and the model of the noisy channel; the former is generated via the **language model** while the latter is also referred to as the **channel model** or the **error model**. As pointed out by Jurafsky and Martin (2021), this intuition is formalized as a Bayesian inference. \n",
    "\n",
    "However, one of the challenges while reflecting on this project is that this connection may come off as a \"rabbit pulled out of the hat\" without some prior knowledge of probability theory. To supplement the discussion found in their book and strengthen the mathematics behind it, it may be helpful to note the antecedents and the consequent in a Bayesian inference:\n",
    "- The first antecedent is a **prior probability**, denoted by $P(c)$. This corresponds to the language model. An egregiously simplistic, non-Bayesian model would just recommend corrections based on the most probable words suggested by the language model. <br><br>\n",
    "- The second antecedent is a **likelihood function**, denoted by $P(w|c)$. This corresponds to the error model. In mathematical terms, this is related to the evidence used to update the prior probability, which is the heart of Bayesian inference. It translates to the probability that a given (incorrect) sequence of characters would be typed when the user intended a different sequence of characters. <br><br>\n",
    "- The consequent is the **posterior probability**, denoted by $P(c|w)$. This corresponds to the output of the noisy channel model: the likelihood that the user intended a (correct) sequence of characters when they typed a misspelling instead.\n",
    "\n",
    "Let $W$ be the set of words in the corpus. In light of Bayes' theorem, the most probable correction $\\hat{w}$ is given by \n",
    "\n",
    "$$\\DeclareMathOperator*{\\argmax}{argmax}\n",
    "\\hat{w} = \\argmax_{c \\in W} P(c|w) = \\frac{P(c) \\times P(w|c)}{P(w)}.$$\n",
    "\n",
    "Since $P(w)$ is constant for each word and, is thus, immaterial to the relative probabilities, the formula above can be simplified to\n",
    "\n",
    "$$\\DeclareMathOperator*{\\argmax}{argmax}\n",
    "\\hat{w} = \\argmax_{c \\in W} P(c|w) = P(c) \\times P(w|c).$$"
   ]
  },
  {
   "cell_type": "markdown",
   "metadata": {},
   "source": [
    "### Implementation"
   ]
  },
  {
   "cell_type": "markdown",
   "metadata": {},
   "source": [
    "The implementation in this notebook follows the noisy channel model discussed in class. In particular, a unigram language model is employed, and the minimum edit distance is limited to 1. The measure used is Damerau-Levenshtein edit distance, where a uniform unit cost is assigned to all four operations (insertion, deletion, substitution, and transposition). \n",
    "\n",
    "Aside from this default model, several variations of it are also built as part of the experimentation:\n",
    "- To investigate the effect of case folding, two spelling correction models are created: one where all the words are converted to lowercase and one where the case is preserved. The differences in their output will be discussed in **Section B.2**, in relation to maximizing the utility of the error model. <br><br>\n",
    "- To investigate the effect of the minimum edit distance, a model inspired by the idea of backoff is built; if no candidate correction is within a minimum edit distance of $n$, it proceeds to incrementing the distance window to $n+1$ and so on, until a candidate correction is found. This is further analyzed in **Section C**, side by side the evaluation of the model's performance. "
   ]
  },
  {
   "cell_type": "markdown",
   "metadata": {},
   "source": [
    "Let $W$ be the set of words in the corpus and the input word be $x$. The flow of the algorithm is as follows:\n",
    "\n",
    "1. If $x$ appears in $W$, it is recognized as a valid spelling. Therefore, spelling correction is not performed.\n",
    "2. If $x$ does not appear in $W$, it is recognized as a misspelling.\n",
    "   1. Iterate through each word $w$ in $W$. If the Damerau-Levenshtein distance between $w$ and $x$ is equal to 1, then it is added to the set $C$, which represents the candidate corrections.\n",
    "   2. For each word $c$ in set $C$:\n",
    "       1. Compute the probability related to the prior knowledge of a given candidate word in a unigram language model, i.e., $P(c)$. This is done by counting the occurrences of $c$ in the corpus and dividing it by the number of tokens in the corpus. \n",
    "       2. Compute the probability of the edit in relation to the error model, that is, the likelihood that a given (incorrect) sequence of characters would be typed when the user intended a different sequence of characters. This corresponds to $P(w|c)$. This is done by getting the frequency of the correction in Norvig's list of spelling corrections and dividing it by the number of times the correct sequence occurs in the corpus.\n",
    "       3. Compute the final (posterior) likelihood of the candidate correction by multiplying the probabilities obtained from the two previous steps.\n",
    "   3. The element $c$ with the highest final likelihood is taken as the most likely correction.\n",
    "\n",
    "Some optimizations done include precomputation of the probabilities related to the prior knowledge of a given candidate word in a unigram language model. The rationale is to avoid the expensive $O(n)$ recomputation (where $n$ is the number of tokens) if the spelling correction program is used repeatedly (e.g., during testing). Additional optimizations done to optimize the computation of the edit distance and backtracing are detailed in the code portion of this notebook."
   ]
  },
  {
   "cell_type": "markdown",
   "metadata": {},
   "source": [
    "## B. Corpus and Confusion Matrix"
   ]
  },
  {
   "cell_type": "markdown",
   "metadata": {},
   "source": [
    "At the heart of the language and error models are the corpus and the confusion matrix. However, it is difficult to give a conclusive definition of an \"ideal\" corpus and confusion matrix. While spelling correction is typically understood as a general or domain-agnostic task, it can also be fine-tuned to more specific classes of documents, such as medical reports ([Mykowiecka & Marciniak, 2006](https://link.springer.com/chapter/10.1007/3-540-33521-8_56)) or clinical records ([Lai, Topaz, Goss & Zhou, 2015](https://www.sciencedirect.com/science/article/pii/S1532046415000751)). In this case, it would be ideal to consult corpora and matrices that belong to the same domain. \n",
    "\n",
    "It is, therefore, necessary to first establish that this notebook assumes a **general or domain-agnostic** stance to the spelling correction task. Moreover, since the input is restricted to single-words, it is reasonable to restrict the scope to **non-word spelling errors**. It is from this perspective that this section evaluates the suitability of the corpus and the confuson matrix, and suggests recommendations on how they can be modified to make the model more accommodating. "
   ]
  },
  {
   "cell_type": "markdown",
   "metadata": {},
   "source": [
    "### 1. Corpus-Related Concerns"
   ]
  },
  {
   "cell_type": "markdown",
   "metadata": {},
   "source": [
    "In evaluating the suitability of the corpus, it may be helpful to lay out some guidelines:\n",
    "- **It should contain high-quality data**. The corpus should not be contaminated with misspellings or words that do not belong to the language. \n",
    "- **It should be as comprehensive as possible**. If the corpus is limited, then several correctly spelled words will be erroneously tagged as misspellings.\n",
    "- **It should reflect the current usage of the language**. For instance, the word `tythe` is an obsolete spelling of `tithe`. While `tythe` is technically not a misspelling, it is most likely not the intended spelling of a present-day typist; even Microsoft Word's spell checker tags it as a misspelling. Therefore, the corpus should ideally not contain obsolete spellings and the like."
   ]
  },
  {
   "cell_type": "markdown",
   "metadata": {},
   "source": [
    "The corpus used for building the language model was a subset of the documents elecronically archived in Project Gutenberg. The script below prints the titles (file IDs) of these documents. "
   ]
  },
  {
   "cell_type": "code",
   "execution_count": 16,
   "metadata": {},
   "outputs": [
    {
     "data": {
      "text/plain": [
       "['austen-emma.txt',\n",
       " 'austen-persuasion.txt',\n",
       " 'austen-sense.txt',\n",
       " 'bible-kjv.txt',\n",
       " 'blake-poems.txt',\n",
       " 'bryant-stories.txt',\n",
       " 'burgess-busterbrown.txt',\n",
       " 'carroll-alice.txt',\n",
       " 'chesterton-ball.txt',\n",
       " 'chesterton-brown.txt',\n",
       " 'chesterton-thursday.txt',\n",
       " 'edgeworth-parents.txt',\n",
       " 'melville-moby_dick.txt',\n",
       " 'milton-paradise.txt',\n",
       " 'shakespeare-caesar.txt',\n",
       " 'shakespeare-hamlet.txt',\n",
       " 'shakespeare-macbeth.txt',\n",
       " 'whitman-leaves.txt']"
      ]
     },
     "execution_count": 16,
     "metadata": {},
     "output_type": "execute_result"
    }
   ],
   "source": [
    "nltk.corpus.gutenberg.fileids()"
   ]
  },
  {
   "cell_type": "markdown",
   "metadata": {},
   "source": [
    "All 18 documents are all canonical literary texts and are stored in a reputable electronic archive, which implies that they are high-quality data that have undergone multiple rounds of proofreading. It is expected that they do not contain instances of unintentional misspellings or typographical errors. While there is a mixture of prose (e.g., Jane Austen's *Emma*) and poetry (e.g., John Milton's *Paradise Lost*), all of them belong to the genre of fiction, and there may be words common in nonfiction texts that are not captured. Nevertheless, the presence of 42,339 unique tokens (cf. the output of the script below) vis-à-vis the 171,146 commonly used words in the English language ([Sagar-Fenton & McNeill, 2018](https://www.bbc.com/news/world-44569277)) may be taken as a rough and nonrigorous attestation that it captures almost a quarter of the commonly used words in the language."
   ]
  },
  {
   "cell_type": "code",
   "execution_count": 17,
   "metadata": {},
   "outputs": [
    {
     "data": {
      "text/plain": [
       "42339"
      ]
     },
     "execution_count": 17,
     "metadata": {},
     "output_type": "execute_result"
    }
   ],
   "source": [
    "len(all_words_lowercase)"
   ]
  },
  {
   "cell_type": "markdown",
   "metadata": {},
   "source": [
    "The paramount issue lines with respect to the third guideline. Among the 18 words, only five were published in the last century: Thornton W. Burgess' *The Adventures of Buster Bear* (1920), Sara Cone Bryant's *Stories to Tell Children* (1918), and G.K. Chesterton's *The Ball and the Cross* (1909), *The Man Who Was Thursday* (1908), and *The Wisdom of Father Brown* (1914). None were published in the 21<sup>st</sup> century. In order to gain a more concrete picture of the effect of this observation, the script below outputs the words that are present in the Project Gutenberg corpus but are not present in three NLTK corpora containing documents published in the 20<sup>th</sup> and 21<sup>st</sup> centuries: Brown, Reuters, and Web and Chat Text Corpora."
   ]
  },
  {
   "cell_type": "code",
   "execution_count": 18,
   "metadata": {},
   "outputs": [
    {
     "name": "stderr",
     "output_type": "stream",
     "text": [
      "[nltk_data] Downloading package brown to\n",
      "[nltk_data]     C:\\Users\\Edward\\AppData\\Roaming\\nltk_data...\n",
      "[nltk_data]   Package brown is already up-to-date!\n",
      "[nltk_data] Downloading package reuters to\n",
      "[nltk_data]     C:\\Users\\Edward\\AppData\\Roaming\\nltk_data...\n",
      "[nltk_data]   Package reuters is already up-to-date!\n",
      "[nltk_data] Downloading package webtext to\n",
      "[nltk_data]     C:\\Users\\Edward\\AppData\\Roaming\\nltk_data...\n",
      "[nltk_data]   Package webtext is already up-to-date!\n"
     ]
    },
    {
     "data": {
      "text/plain": [
       "True"
      ]
     },
     "execution_count": 18,
     "metadata": {},
     "output_type": "execute_result"
    }
   ],
   "source": [
    "nltk.download('brown')\n",
    "nltk.download('reuters')\n",
    "nltk.download('webtext')"
   ]
  },
  {
   "cell_type": "code",
   "execution_count": 19,
   "metadata": {},
   "outputs": [
    {
     "name": "stdout",
     "output_type": "stream",
     "text": [
      "ashdothpisgah\thara\twaxwork\tfuddled\tolympus\tkirjathbaal\trashnesse\teasinesse\ttattooings\tduffey\tcurdled\tmasted\tflitted\tcontroverted\tunstranded\tidolaters\t?'\"\tknockers\t_secret_\tslippeth\tblisteringly\tsatanic\tinconstant\tconciliating\tanchises\tannuall\tblockes\tjaffa\tunmirthful\tskalds\tsoliloquizing\twatry\tcomforteth\tdishonour\tvnschool\tmail_\tthyestean\tloveth\ticonium\tstrucke\tarmoury\tsupposition\tmadnesse\tcommotions\ttalitha\tschoole\tispah\tsteelkilt\tbarke\tplethoric\tmischance\tasterisk\tproboscis\tintrenchant\tharme\tiudgements\treposeful\tebullition\tcontemns\tstal\tjourneyings\tunstreaked\tsuspition\tcuthah\taladdin\tdentistical\tmightie\tmadmannah\thipp\tcarnally\trakkon\tbaronetage\tsatyrs\tfobbing\talmane\tseconded\tmoue\tgallina\tunmanly\tharum\tlackaday\trabba\tlifelessly\tdoxology\tashdodites\tcurre\tmahlites\theadstrong\tnominalism\tzealanders\ttestator\t00021053\thazarmaveth\tjamin\talluringly\tphaseah\thums\tbehest\tinvokingly\tartificiall\tmeete\temanative\tcondiment\ttransgressing\tpharah\tskald\tgier\tforetasted\ttreasurest\tchagrined\tkishon\tencasing\ttendon\tmisdoubt\tunreserve\tbajadore\tphantasmal\tcoverlid\tramiel\thearkening\tgneiss\tcanakin\theaths\tcabalistical\tgeologies\tkentledge\topenmouthed\torganick\tkip\tbeautie\tsachem\tgrapegatherer\tmaon\tthereinto\tsuccoth\tinsuppressiue\tjearim\tmixt\tpurposeth\tzimran\tmonstrosities\tthundereth\tchaldea\ttablecloth\treddening\tjemima\trevenger\tvnbraced\tabominations\ttresses\tadhesiveness\tsinite\tensovereign\tvnequall\tbondmen\tneer\tbeanstalk_\tsheepshearers\tslippered\tconioyn\ttalismans\trevolter\tcomplainers\tscorbutic\tlivelong\tprolongings\tpoysoner\tunprov\tfusee\t*[\timprudence\tweale\ttyred\tpromiscuously\tazem\tbakemeats\tdesignedly\tingathering\tpopt\teshban\trumination\tpardoning\tliken\tloftiness\tpitious\tcentipede\tgodforsaken\tbenzoheth\tmehir\tspoyle\tjurymen\tsteeds\tcarowsing\tsnares\tindiaman\tmohrs\topacous\tcrystalling\tunbeginning\tacqua\tenna\trefulgent\tgothard\tbereaving\tcappadocia\tvnkle\ttureen\ttola\tshimhi\teare\tunhoard\t_unrequited_\trapha\tarbitrement\tfornications\tprussians\tadroop\tstumblingblock\tedgeworth\tundeterred\taccoutrements\tconverteth\tepping\tpeepe\tdownhearted\tunshored\tmarchedst\tteraphim\tvariableness\twarriours\tgartersnake\tadummim\tnicolaitanes\tambushments\troanoke\tprotegees\tadjure\tsellest\tnape\tterrify\tunconsumed\trosin\troares\tabysms\tetham\tsolitaries\tlehi\toverrunningly\tcolosse\tdelineate\twheresoe\tappeare\tdiotrephes\tskulked\tdiklah\tmarrieth\tstoopingly\tinstep\tgila\ttruisms\tartillerists\t_tell_\tmeanly\tanswere\trevolvers\tscythe\tbattlement\tcellini\thideousness\tembower\twaterspout\tbefooled\ttinners\tmercia\tcapered\tletushim\thaughtiest\tspitted\tmaia\ttransgress\tcinneroth\tconies\thatchment\tshiftings\tsouldiership\txxxi\tvollied\tvprore\tpapered\tburneth\tremembraunce\ttindering\tachsa\tmasterest\tadonijah\tjehoram\ticiness\tsoundings\t$?\tmirma\tezbon\tgayly\tshouell\tbrisson\tastrologers\twilds\tphantoms\tforetruck\tribband\thotwell\temmet\trenounced\tconfirmations\tenvenom\tnettles\tleade\txv\t1809\tindelicacy\tunspoiled\tmultitudinously\tlookest\tunpolished\tdistills\theau\tsiloah\tlowerings\tunfurnished\tmarius\tfatlings\tjinglers\thepher\tbloudy\twhirle\tkicke\tsalome\tforeseeth\tsatest\tscrawl\tnephusim\trenderest\tzedekiah\tditto\tmashal\tarphaxad\tgreasepaint\tsakes\timaus\tdispos\tsympathising\tmishal\twellpleasing\twadding\tlombardy\tforthwith\tcontemned\tnehelamite\tabstained\tbeelzebub\traca\tbowsprit\tkoz\tpersimmon\tnedabiah\tsoone\twafting\tkanah\timmutableness\tgongs\ttuscans\treueale\ttahapanes\tsternest\tupbore\touer\tsoueraigne\tmyraculous\tordaining\tgareb\tparan\tbrauely\tbountifulness\tshipmen\tvum\tbeares\t_h_arm\tdoubloons\tforenoons\tunpermitted\tlooke\tafeard\taduise\tdandies\tgaudiest\thul\tphlegeton\tnutt\tintermit\tvitalities\tmortify\tkaw\tonesiphorus\tevinces\tthefts\tconsentedst\tamplias\ttrippers\twolues\tapertures\tmerrie\thagerite\tunindented\tundevelop\tguv\tstreights\tgorse\tjehovahjireh\tpescar\tmoonrise\toutbellying\thatita\tcieling\tabodest\ttrellised\tbrasen\tkorhites\tposies\teuphrates\tgalloon\trockings\trefutations\tnonplussed\thogshead\tsutors\tmaledictions\tsauory\tseditions\tsapient\tpresseth\tbeersaba\tordaineth\tunfastidious\tcambyses\tbuyes\tfalshood\tlambe\tlusted\tcynna\tprettinesse\tpersecuting\tyeelded\tgospell\tcompanied\tempyreal\tbethshan\tzmite\tdeified\tgaleed\treignest\twhencesoe\texceedest\tunsteadiness\tludgate\tmariolatry\tcogitate\t_particular_\tunworthiness\tfoule\tfathomed\trued\totway\tbithynia\tgan\tglozing\tcolure\t'?\"\twagonette\ttitanian\thivite\tlocksmith\tunseduced\tpelethites\tmarmora\tmiser\tinvocations\tupholden\tdrewest\tcanaanitess\tdamndest\tenterprisest\ttyrannus\tamasiah\tundecreasing\tsteersmen\tbowsman\tunappropriated\tgrappler\tcrownes\tshipp\tsolicitudes\tfume\tspaniell\tsponger\tbruite\tsworded\tavim\tshabbiness\tunreverenced\tribby\teventuated\tdalilah\tbegge\timpeach\tintreaty\tcai\tdetermin\twhirlwinds\tintil\tpurposing\tvnnumbred\tsphered\tgeryon\thatreds\tcareth\tendurances\tuncoiled\tazgad\tsphynx\trase\tcancell\tunpanelled\tunbecomingness\tsparrowes\tcheeked\tpaumanok\tgleaning\treseru\tstumbleth\talmug\timmanuel\tunslaughter\twithdrawest\tcatastrophism\tsillily\tmontems\tuniter\treproached\tmerman\tmaddens\tgoodnesse\tgroundlings\tgabled\tsolaces\tstormes\tdalliance\tbandy\tchargers\tplatonian\tjeaterai\tserug\tcrowners\thamulites\tjehoiada\tpyrrho\tcanallers\toweth\tgarrote\tashantee\tuncompounded\targumentative\tpresumptive\tunceremoniously\tpadanaram\tsherds\tpatris\tmeere\tmelancthon\ttrifled\tspakest\tshutteth\tairly\tflowerless\tphysiognomist\tliveliest\tsabaoth\texecrable\tbustled\tchapiter\tresheph\tabidan\tproposer\tincorrupt\tsuggestiveness\tapronful\t.\"--\ttunbridge\tsihor\tperswades\tfenceless\tequable\tcherubims\tcyme\tjada\tmone\tcarue\thogmorton\ttricke\tgaslight\tjorah\tzaanan\tspindled\tbizjothjah\toveraw\tgashed\tsensitiveness\tsethur\tdottiness\tskyward\tjoiarib\twaymarks\tlozenges\tsland\tseasick\tlyest\tsus\trevilings\tdreadless\tprouerbe\tconsecrating\teuermore\tbaalzebub\tgambol\tboatheader\tamariah\tjaphet\tnigntly\tkoboo\tcenchrea\tdeuise\tcalais\thydrants\tadusted\tpythian\tflap\tplaintiveness\tbunting\tgraspe\tcombated\toverladen\tparnach\tgibed\ttributaries\tfilthie\telenthero\tnethinims\tsychar\tejaculates\tdeuotion\tabominates\tdwellingplaces\t-?\"\t_dogmas_\tashkenaz\tcousen\tsharkish\texpiate\tgounod\tstriketh\tmoccasined\tkir\tvnwip\tgeraniums\tlacepede\tisui\tchanc\tplayfulness\tsaguenay\tpaler\teasie\tpeppering\tshaked\t_page\tsich\tuninhabited\tinterchanged\ttehaphnehes\tactuall\tworthinesse\tkerioth\tzebul\tbacchanals\tlearnedly\tlipps\tunsubstantial\ttou\tarsacides\tdisannulleth\tgoading\twesterne\tmidnights\trory\tpicklock\tgomorrha\tspoiles\tunrevoked\tdraggles\tuncorking\tprintshop\tcircumnavigation\tteeniest\tabus\tstingeth\tshimmers\tsoliloquizer\tteemed\trichardsons\tmockings\tmerchantability\trevenges\tmallets\t_his_\tquaintly\tcrownest\tshallowes\tdunsinane\tconsuls\tyond\tdandelions\tkilledst\tparm\t200th\thuddersfield\tinattention\toop\treviling\timaginist\tbulbous\tlikhi\tbethhoglah\tsamothracia\tgraveclothes\trepast\taffluents\tcroqueted\tbespake\tspeede\t_yours_\ttaciturn\tguidons\tjabesh\tseraphims\tnaturae\texpatiate\tmargate\tteetotaller\tbered\tsayes\tksar\tgainsay\tfolden\tmanmaker\tdietetically\tchamping\thousemaid\tparturition\tforborn\tingendering\tfeede\tbottome\tpolonius\tesek\tleah\todin\thamadryads\treanimation\tkhiva\tcompast\tdibongad\tlysanias\tmurth\tringleader\tcaulked\tjosser\t_man_\tbespeake\tunperturbed\tparadises\trivulet\tblasphemously\tmalchus\tlogician\toverawing\tpatagonia\twaggish\tcrimsoned\tjamming\tsalmone\tdicker\tapparelled\tfreebooter\tmagnetize\tmicah\ttrustful\tclews\textinguishing\trechab\tstraggler\tignobly\tdisjointedly\tgleig\tarry\tbenares\tchucks\tkanada\tverifies\tgendarmerie\tdomineerings\tbashee\tkison\tjachan\tpastoricall\tallured\tburnishing\tcourst\tdesiredst\tembalmed\tkrusenstern\tshrinked\tlucil\ttympan\tdalmanutha\tmischoose\tfoxes\tgemmed\trhythmus\ttriumphed\tgrones\tsealine\tunsisterly\tlenton\tunsought\tholyday\tthelasar\toverset\tprescribing\ttimbrels\tcertitude\t_be_\tlandlesse\tmainsails\tlavinia\tgambolled\tgorings\tinterposes\tnekeb\tinnocency\tmaiesties\ttattooing\tasphodel\tdiuide\tparch\tagainsts\texpence\tphares\tbroiling\thampden\tstanchlesse\tvses\tamana\thiggling\tseaward\tjotbathah\tbarmaids\thelek\tmoabitish\tbarlow\twhisperingly\tgloriest\tpolitest\tcorsairs\tspeaketh\tcontortionist\tbegetteth\tscolded\tscathed\timbarked\tfoppery\tbengala\teshkalonites\tcontractions\tnobs\tachsah\tcontriuer\tclowdy\tbaaseiah\tbaits\tshiverings\tembrocation\tsleepe\tpursie\tsauagely\tlowerers\termine\trous\tguineas\tachim\tdoated\tromamtiezer\taffably\tjewellers\timpetuousness\tmasteries\treconcilable\tunbottomed\tdismasting\tmachpelah\tyearsley\tbeeshterah\tdarkeneth\tnetophah\teliel\tareopagite\tyeelding\thastens\tgrandmamma\tosage\tgiddel\tphantasm\tsolidified\tdoubteth\tfidelities\tjaaziel\tforsooth\tunensanguined\twaterpot\tjaasiel\tcarelesse\tshudderings\tmisspent\tcrocus\trepliest\tdiddest\tthronging\thosing\timportune\tgreaze\tahimaaz\tpetticoats\tsultanism\telucidating\tconfusedly\tunapproachable\timputeth\tcutlasses\tunsunk\tviii\tlamatins\tsuffusing\tchace\tpoureth\twrackt\tcharades\tassaileable\tschoolfellow\tpitty\tezer\tzippor\tyestermorn\tgadites\tmolland\tselleth\tahishar\tangelick\tsuperadd\tpekee\tsuccothbenoth\tdisputation\tpromulge\tcatacombs\timprisonments\tgallantries\ttrecherie\turbane\tcoole\tpremised\tharpooning\tararat\tpsalmody\tsettees\tsatisfier\tdispleases\tviscountess\tamam\tathene\tbeaks\tscougin\tmizraim\tbaalgad\thabakkuk\tprimall\tishmaelite\tfayle\tbespoke\tunmodulated\tninevites\tunprofitableness\tpop_\tashur\tcainan\tweepes\twhimsiness\tlinings\tundervalue\tillinoisian\tmoralising\tconduce\tlassy\t--]\tbedowee\tflagg\tbarm\tdimon\t38655\tsuggestively\tchested\tjimmini\tcorroborates\twomankind\temoluments\t_bride_\tjapho\tcombin\tdeare\tamminadib\tpittied\t_their_\tconsternations\tshaves\tenderbys\tthereat\tdefiniteness\tdexterous\therdmen\tdamaris\t);--\tcalendered\tbilliards\twooes\tmuddle\thundredfold\tphilistean\tapproveth\twantonly\trookes\taldrovandi\tmotiue\tbeleeue\tsaylors\tunbared\tassir\twinne\tspectres\tsweltred\tdisgusts\tyokes\treserue\tmisprints\thoppity\tmerodach\tdisgorging\tiutty\teliphalet\tstallions\tbarzillai\tartificialness\tskarfe\tshaster\tahiman\timprovidently\tjecoliah\tjaareoregim\tforeship\taridatha\tcrumpets\tbethdiblathaim\tconglobing\thower\tforeteeth\tvoyaging\tsoaks\tgittaim\tfedallah\twandereth\tlibra\tcrowne\twarbles\tcousend\twholesomeness\tprimrose\thodevah\texorcists\tpessimist\tabydos\tunthinkingly\tbenummed\twalkes\tdigressively\tfidgetiness\tloaden\tswet\ttuk\tnarwhales\tpeaty\trhodope\ttriangularly\tboisterously\tdowers\tlappe\tpedee\tpureness\twrestled\tablest\tstargazers\tencourager\thizkijah\tgingerbread\tfanged\texaggeratively\tshrined\tshelumiel\tloda\twakeneth\tcopartner\tpekod\tadioyn\toctauius\tcalliope\tmutinying\twoodcocke\ttehinnah\tamaz\thaggles\teliphal\tempie\taltitudes\ttravailing\tmenan\tunrustlingly\tazal\tenshemesh\tcoxes\tspred\tforwards\twaddling\tiudge\tlamented\tolassen\tberodachbaladan\tberaiah\texcellest\tproperest\tbereaveth\thezeki\tphilosopheress\tvsurpers\tthimpin\tbehauiour\tintermixed\twithereth\tearnes\ttempests\tdescrying\ttoyes\tadullam\tstoupe\tobtrusive\thiccupp\tstarshine\theadbands\tdestroyest\tsaron\tahisamach\tblesse\tanswerer\tfruite\tizeharites\tconiah\tblasphemer\tunvoyageable\tbenyson\tjanoah\thashabnah\tdislodging\tpaley\tconservatories\tscalder\tgozan\tchemos\tsullenness\tnahath\tsatins\tprouender\tspikenard\ttrueman\tscabbards\tleadest\tcogged\tbriefe\tchuff\tsagas\tmerryhearted\trepeale\tmurmurers\trabshakeh\telizabeths\tapologised\tmishael\tbethlebaoth\tcringe\tbarachel\tmaarath\tmargery\tdrusilla\tript\tsorrie\tdromedary\tsicke\tvnderstood\tcherubs\tevermore\tsepulchres\tperiodicalness\tperdie\tsardinian\tstedfastness\tkedar\tprefigured\tbegg\tcarcas\tcraftiness\tcaprice\taccurs\tunexceptionably\tsennet\tpatronised\ttreaders\thugest\tfixe_\tpooley\tginne\tshopman\tsported\tnoontide\tjebusites\thypo\ttranscribing\tcunningest\tzebulunites\tostentatiously\tseate\tdesmarest\tunfeatured\tliterat\tacrosse\tshagginess\tshinbones\tdepriue\trespectfulness\tunexhilarating\tunconquering\timplores\tunfeeling\tnescio\ticefield\thavothjair\telephanta\ttrenchers\tshepheards\treadie\tcarkasse\tellison\thatipha\tjoktan\tdetains\tdissipate\tthereunto\telonites\tabishai\tplaintively\thymenaean\tijeabarim\tshoolbreds\tternate\tunfitness\tdishonoureth\tengross\tdetaining\tsignes\tfoyle\tinterfused\tvapours\tunrumples\trapinavititis\tforeordained\tjehozadak\tcrofts\tknowe\tenhakkore\tcaes\tequinoctial\texegetist\tfathomless\tloathesome\tcrost\taccordant\tshoaling\tchaldee\tgules\tabiathar\timpulsively\tskyish\texactors\tshuhamites\tshaaraim\t---\"\tparle\tpredestinate\tcherisheth\tforecastle\tseeva\tsouldiers\tbukki\tsuccoured\tnaashon\tsundial\tcephas\thachmoni\tlarders\tpredestinated\tvnimproued\ttrauaile\tarmoni\thaughtier\tdisproportions\tinfirme\ttilde\tconflagrant\tholde\tchancing\tjekuthiel\tinsincerity\tdents\toathes\tmonocle\tnaturall\tcockcrowing\tdentical\tinterfusing\tpatmos\tgreefes\tbookxxxv\tmagbish\teffeminacy\tgovernance\tintertwisting\tkoosa\tmainsail\tmusked\tmanrico\tfourpence\tbarnum\telah\trowze\tithream\telnaam\tdoole\tarchiepiscopacy\tjashobeam\tlimn\ttwistedly\treynoldo\tbalk\tsecures\tstudding\tporthole\tcomplaind\tlawfully\tdeathless\tabash\thobgoblin\tunmannerly\tguiltily\ttimaeus\tforking\tindued\tfantastics\tdeliveress\tabimael\tsojourning\tunshaped\tglarings\tcontrariwise\tharps\tdeprecation\tshowes\tcrag\tikkesh\tgarlick\txxviii\teclaircissement\tpuzzledom\tprovokers\tingorged\thomeborn\tlebaoth\tnahallal\tsaue\tmarm\tshual\tclowne\tgardiner\tdimme\thoodman\tfirewood\twags\tkannakin\tphrenological\tevolv\tpalluites\tunmake\tenviron\tmarsena\togre\tordinaire\tcockle\tsorcerer\tsabta\taspersion\trhene\tvnuallued\tlocusts\tokeechobee\tvnprepar\tolmstead\tuncleanness\trephah\tgrazes\twren\tuttons\tavow\tgollywog\tfernandes\trelatiue\tguifts\tunaccomplished\tzalaph\tibis\tdissertations\tserue\tbuyings\tvenerate\timminglings\tstroake\tvndeseruers\tliv\tcondor\tfirstling\tdownsitting\tinfaith\tadadah\tmender\tvsurp\tjehoash\tshocho\tsmackingly\ttu\tattaines\tephesian\tswishing\tcockatrices\tnumismatist\tcontrastingly\tdisgustingly\tbayaderes\tpertinaciously\tmeasurer\ttirzah\ttravail\tvociferated\tbeanstalk\trevenging\thonourary\t_sposo_\t_exceedingly_\ttwining\tclimber\tstopp\teliada\tconueniently\tpiasters\torbed\tcontinentals\tmoo\tfeebleminded\tsoueraignty\tremembred\tpomatum\tmaschii\torgane\twithheldest\tmarmion\tjoses\t"
     ]
    },
    {
     "name": "stdout",
     "output_type": "stream",
     "text": [
      "uncontaminated\tgreatnesse\tpheasantry\tgreeued\tpismire\tsabians\twhaleboning\tboyes\tethanim\ttitinius\tcuffes\tawkwardnesses\traamah\tnoblenesse\tmarketless\tpastiles\tscurf\tmonstrousest\tpluto\tzilthai\tsawcie\tspattering\tforfeiture\tintimation\tnumismatic\tindifferently\tparcelling\tghauts\tflume\tremiss\ttrefoil\tencrease\tforceps\tskreenes\toppos\trequisitions\tluff\tmischeefe\tvrge\tputridity\telixir\tbrigandine\troarings\thalak\tneriah\tasmodeus\tlyst\tgonzago\tjobab\tduelled\tmagyar\tzuyder\tlandward\tsychem\tchooseth\tbequeath\tundistinguishing\twindes\tblameable\tforethrown\ttattling\thaniel\tloiter\t_introduction_\tmemorandums\tedar\tzobah\twaiteth\tgaffs\tspluttering\tcadmus\ttwas\tpotentates\tacte\tlactantem\t72d\tsitka\ttoper\trezon\teshcol\temprises\tprenominate\tdiscorrupt\tpuh\tcolney\tenigmas\tjeshohaiah\tmazzaroth\tmaintainest\twhiter\tsummes\tconiectures\tjoshbekashah\tweepeth\tupheaving\tfibred\tneverthless\tsoused\tskysail\tpantheists\tcompoundeth\tobeyedst\tmisse\tcutpurse\tcrikey\tcaecias\tspight\tgouern\tarmfuls\treflectively\tprofaning\twedging\tbradshaw\tshearer\ttypifies\tskie\tcubick\tmegiddo\teleutheromaniac\thouer\tgennesaret\tknowist\tuncivilly\tfellowservant\tsmyrna\tevaporates\tburnish\tfamiliarities\tyew\tleaues\tshabbiest\tchums\tbarrens\ttrivially\tanaiah\tgamin\tsocho\tdesmoulins\tshaulites\tderided\tphysitian\tdimples\tlehabim\tcozening\tpharisee\tequall\tknickers\tbetaken\tchafed\tmalcham\tlethean\tbetweene\talbic\tstraggly\tbramble\tkirjath\tcleanseth\tpresentiment\twittenberg\tengrosses\tbowle\tcherubin\torbic\tpervert\ttheeues\trecoueries\tvnfixe\tphilistine\tmacnab\tforeworned\trascall\tanathemas\tsymbolizings\tdrape\tdrabbest\tprincipality\tarreed\tmakkedah\ttartarus\tbaalzephon\telvish\tunopposed\texcites\tunrecking\twonne\tmishraites\tdeserveth\tbootlace\tlusting\tprouokes\tunconsidered\tibsenism_\twhisk\tzabbai\twomans\tunmentioned\tstorie\tshebuel\tdieted\teyther\tspringes\tspaine\teld\tork\ttongueless\turanus\texcrementitious\tstoode\tcantabile\tdissuaded\tzaphnathpaaneah\tminstrelsy\tinuenomed\tgrieveth\tsmarterer\tremoue\tfagot\treubenites\tmayn\tintellects\tthorkill\tabdicate\thosea\tbraue\tbress\tfared\thearsed\tdrams\thustings\tbrawn\tghostliness\tdiplomatically\tsublunar\tredeemeth\tacanthus\tlevi\tmunition\tpatagonian\tmyrtles\tvouched\tmarvellous\talane\tspiralizations\tprickt\tdynamiters\tblackguards\tmeetest\tcroud\tvial\tdispatcht\tvnckle\tbeholders\tdarmonodes\thabitant\tdiabolically\thaulers\thabeat\tdisfavour\tsabtecha\tarrah\t_did_\tartisanship\teder\tderwentwater\tathaliah\teunuchs\tesrom\tpreconcerted\temprise\tdisinclined\tsinnes\tjoiada\tater\tpublike\tbeno\tfirstripe\tcurs\tnaamites\tfricassee\tlaugheth\tthirtie\tdevourest\tbreakest\tendear\tmystifying\t,\",\theterogeneously\tmorgana\tflasks\tawes\tpoore\tunreturn\taroostook\talmodad\tnite\tcowslips\tkohath\tasphaltick\tshooke\tdote\tforbearance\trhododendrus\tmelech\tbewilder\tabsolved\tmordecai\tsowed\tpoon\tprofligate\tscalped\tvoyd\tschared\tvolitions\tentangling\tchesalon\ttebaliah\tfrighted\t_more_\tseance\tsulk\thairdresser\tperversions\tsosthenes\tleddest\tunbegun\tpadling\tdeists\tapplauses\tvolcanoes\tphrenologists\tdarts\tuntattooed\tinterchangeably\tcalphurnia\targosy\tpolicie\thaires\tmilch\t4109\tcopest\tnard\tdisplease\tcrowderb\tbitts\tsurcharged\tprelusive\tassis\tbrevier\trequit\tcentrepiece\ttelleth\tcommodores\tliers\tdagon\tzeeb\tkells\tgaal\tsashes\tdeuoutly\tcurate\tji\tzartanah\tblockheads\tfrothed\twinkes\tshilshah\tcountess\tprosperously\tindignations\tmeshillemith\tfunerall\tsirocco\tquartus\tperuda\testuary\tforequarter\tbanquoh\tjahmai\tpertaines\tpickhaxe\taduancement\tfoamingly\tperplexes\telectioneerer\tcomical\tsantee\tpropound\tpalavering\tcatarrhs\thollowly\tpublickly\tbethinking\tpromiscuous\tpeddlin\treticulations\tshimrath\tchaldees\tawaketh\tjebb\thiel\t1739\truffle\tmischieuous\truine\troods\ttebah\tastern\tenemie\treuels\tvapour\thungered\twhereunto\tretrospections\ttwine\t_great_\tcalabash\tantediluvian\tsennaar\tclifts\tboweth\tphantasma\tfeints\tgudgeon\tcomplacence\tmagots\tdicotyledonous\tvoyces\trockaway\tsuona\tlegges\tfeignedly\tbastille\tpythagorean\ttrickled\taddar\temir\tscupper\tmurthered\tkensington\tdewed\tperdition\tjehdeiah\timpiousness\tpleadeth\tgutting\tnappishness\tslops\tparlours\tanammelech\tdauntlesse\tthriue\tpopularize\tasthmas\tstrugling\tpiercefield\tmilcah\tolfactories\tbenammi\tmonger\tfratricidal\tpairing\tenuious\tfablest\t!\")\tgleanings\tkibe\tkindle\tbowts\tspoakes\tvortices\tweightily\tpollutions\thuswifes\tgrownd\tpresentiments\tyoricks\t_housebreaking_\texcrements\tezel\tivah\tvitreous\tsubsisting\tgaius\tministration\tfeste\tregretting\tlighteneth\tvelvets\tsabeans\ttriform\tmagnets\tconcubines\turania\trenter\tsailships\tlacketh\thowting\tcasluhim\tremorselesse\tellenborough\tvnproportion\tunfrequented\tsoweth\tfelicitations\tgrayheaded\tarchdeacon\tenioy\tkarkaa\tendeth\tgeba\tmacd\talvah\tkith\tdraggled\tbetrayeth\t;'--\tcaprices\tmultum\tfuego\tfarthing\thashabiah\toverspread\tvnmanly\tfished\trissah\truby\tencombred\tunabsurd\tsaumur\tsuppe\ttrogyllium\tdriftings\tsichem\twithholden\toreb\tsansannah\tcrick\tprizefighter\tcrayfish\tprotester\tsavest\tpillowes\tunroofed\tferule\tunsucceeded\thabituation\tthessalonians\ttransfix\tvalparaiso\tdrownes\tmindedness\ttushes\tfastidiousness\tlividly\tannotations\theauenly\tasswage\tturnest\tvnrung\t_sacrifice_\tadmonishment\ttamer\tlongeth\twitticisms\tdaysman\tdisinterestedness\tscorches\tbaal\thautboy\tdistemper\tacuteness\tbeseems\testeeme\tcouetous\tjannes\twist\tconduits\thelkath\tcalp\tplutonic\tglebe\tbeseeching\tgalliot\talmon\tantike\tmesha\tcuttest\thomeliest\thumph\tedifieth\teyesalve\tsieges\taceldama\ttrebisond\tflowerets\tbodering\tforfeite\tdunces\tblackguard\tdaze\twaists\tphygellus\tvncharge\tshowery\tqualitie\tvouchsafing\tambergriese\t1807\tpropellers\tjeribai\tgalilaeans\tsympathiser\tvidocq\tdisingenuous\tenchain\tfrankland\tresolu\tjabal\tsonne\tvalours\tlimes\talienable\t_dissolved_\tphilologically\txviii\tuncontinented\tnorwayes\tunript\tdiscoloured\tfearest\tforlornly\tentrailes\telbowes\tpretors\tincenses\timpertinently\tgeshem\tbuttered\texcursive\tmilche\thin\tcustome\tinbred\tpublicans\tataroth\tteutonia\tshobek\tannexed\tpetrifick\tdispersions\tsixpennyworth\tunsheath\teuer\tflamingoes\tdicta\tvina\tprong\tatlantean\tjoezer\tgroans\tthinketh\testimable\tvsurpe\tsendest\twinebibbers\tennoble\targall\tconversed\thar\tflinty\ttiberius\tsiluer\tplait\tsheepish\tzoan\tauouch\tfeign\tjotbah\tkruman\tgoddard\tlamppost\tleathern\tworthier\tdunghills\t_woodhouse_\tgriefe\tlamentings\tmortalitie\tbodiless\tcalles\tharpooned\t--.\tforbiddeth\tirrelevance\ttrodden\tlamech\tquadroon\tunshut\tmorasthite\tstubbing\textorting\tgobern\t_marry_\tremisse\tsaukara\tjehohanan\tantonies\tazaniah\tmisdeem\tpalestina\tambrosia\tmedusa\ttabbaoth\tslandered\tdenmarke\tmiddleton\tjareb\tprocinct\tumbilical\tcriest\tdebir\tlawgivers\tahuzzath\tephrathite\twhereinto\twithholdeth\tsupernaturally\tnaioth\tperswade\ttrine\tgoodlier\tdropsies\tperemptorily\tneah\tadina\tclumping\temims\tgizzard\tinchanting\tarisaig\tinterweavingly\tprevaileth\tthewes\ttrespasse\tvalognes\tdeceivableness\tjettest\t_ship_\tinterlacings\tfunereally\tionia\tselsey\tinflates\tvnlimited\tpoysoning\tfewness\ttrophimus\tstrengthenedst\ttoed\ttranced\tbalmier\tforke\trinsed\tstythe\tfiguera\tmarah\tchorazin\tgenially\tbigamy\tgryphon\tgrowlands\tthirsting\ttearingly\thighlander\tvplifted\theauiest\tmatrons\ttarquins\tgoeth\tharod\tdeceivings\tscampered\tconcourses\tmurk\tmalcontents\tshowt\tdissembler\ttwilit\ttasseled\tbimetallism\trisers\tsteppers\tprincipalities\tuncouth\tmanilla\tpyrate\tvnmixt\ttamarind\tcambrics\tsophists\tteareth\twrapall\tgur\tplumy\tchanceth\twriggles\t?;\thuswife\tdwelled\taphek\thullo\theraldry\tshapham\tincompast\tlosse\tcoachmaker\thousings\trhubarb\tvnkinde\tgunshot\tardently\tdevine\tloruhamah\tastronomers\tsailorish\tinnumerous\twhitebait\tlonesomeness\t1775\tthinkest\tsosipater\tsatisfieth\tenvelopment\tmushi\tcycloid\tmanacled\tcheerfullest\tishtob\thonourableness\twaller\tdrawes\tkartan\tunstudied\tavouched\tincommoded\tbilin\tpaltry\tchusing\tmattrass\tembarrassments\tbrooch\tnailest\tirretrievable\torigine\t_her_\tsheshan\tsuffereth\trimmon\tmallothi\tmedoc\tdilatory\tsurrenderest\tconcealeth\tbeatitude\tavengers\tdowne\tfam\tstoole\tthirtyfold\tprolongeth\tuncompromised\tembouchures\tyer\tmanet\t!'--\tsocietie\tcelts\tvoyce\ttenantry\tmossy\tcursings\tcounterfeiters\tbewailing\tsunda\ttutelary\tloudness\treliques\tcarchemish\tsubtlest\tleeward\tmoonsails\tcheerfuller\tplenteous\tkazbek\tagape\tsheresh\ttastefully\tdispossess\tellery\teziongeber\tvolant\trespecter\trumah\tunfeudal\ttruncheon\tethnologist\tgreatnesses\tcush\taramitess\tmeteyard\tunsuppressable\tknops\tlabourer\tgraues\ttreadeth\tzechariah\tmystick\tfashionableness\tstaringly\thoures\thealthfull\tforges\thierapolis\thazle\tjairus\tsixtieth\tarod\tcaldrons\tcloaked\tibiblio\tauditress\tiigging\tkorahites\tcroat\tcolumella\t[*\"\tpossesse\tunwrit\tbelteshazzar\thelbon\tvnmastred\tluc\tbattaile\tlumine\tnagge\tfeegee\ttransfigur\tskulled\tmaddened\tdemogorgon\tacquistato\tjeezerites\toughtest\tmaccabees\trelenting\tunsufferable\tdrinke\taffrights\tthereabout\trozole\tprovokedst\terreth\tredden\treflectiveness\tcomposedly\tsanctuaries\thaman\tpew\ttomahawk\twhil\tphilosophs\tphantasmic\tdespiseth\ttemanite\tblankslate\tinnkeeper\ttast\tpocketing\tqueequeg\tstye\tabeam\tkimboed\texpresse\thanoch\tamative\ttopers\tcontriuing\tmeshobab\tchasteneth\ttopsails\tdescant\tmekonah\tmystifications\tgabbatha\tmuskiness\tsaltpits\tneighings\t_they_\tedrei\ttetrarch\ttowres\ttryall\tglencoe\tqueene\tpulsometer\tmortalities\twipeth\tscoot\tkorathites\tdistaff\tcareering\tphysicks\tgibbering\tintricacy\taccuseth\tbedropt\ttimor\tdeflowered\ttohu\tsultaness\tgrossest\tconjectural\tsequell\tgederathite\tduesl\tharorite\tbanqueting\tloadeth\tpealing\tdarkens\teloth\tlimbeck\tunstruck\tintrailes\tsleeue\tnahaliel\twived\tgratulation\tbargaine\tprocuring\tmeaths\tvarrus\tdetachments\tbaptizeth\tpartiall\tardors\tarnholds\tjaphlet\ttatnai\tdishonourable\tportici\tnephewes\txxxii\tpossitiuely\twhoremongers\tmaidservants\tstinglesse\tcretes\trepossessed\tagnostic\tbuzite\tvexations\tsindging\tintimates\tscrimps\tsingeth\twhelm\tpersecutions\tcateran\tcarpus\tlandsman\tquail\tjollies\tentwining\tmalchiram\tpaphos\tcuckold\tmultiform\tspose\ttheefe\tunsucked\tperuse\texalteth\tbreezeless\twhorish\tiowan\tdeferr\tbrine\thareph\thowsever\tintertangled\taygre\tsennit\teliahba\ttertullus\talwayes\tunsocial\tmacaroon\timportunity\ttopmaul\tbrawniest\tslander\tdormouse\tumbrage\tanklet\tcentrick\tpierrot\tjonah\trearward\tlated\tstraitest\tvgly\thattil\tgriffiths\toutliues\tcavil\tdissipations\tstraitly\tchub\treclind\tahiramites\tpotencies\tharoc\toddes\ttemperaments\tcalmely\tincommoding\tthane\tungrown\thonouring\tstocke\tunsullied\tsupernaturalness\tmasrekah\tcohering\tdomestique\trinaldini\thazerim\timmures\tperformeth\tperverteth\tparuah\taskers\tshammah\tparmacetti\tbrickkiln\tcircumstantial\tturnus\tcrowbars\tbeaux\tshua\tdawdled\tsaturnius\tchemarims\tewes\tseale\tintercession\tadobie\tsposo\tnibhaz\ttantalus\tinbound\trenish\tattune\tsigheth\tlasea\tswindle\thorrent\teatest\tsmiting\tonesimus\tperceptibility\tpsychometric\tblackmailing\teurynome\tcheereth\tbrags\tnonpareil\thumpback\tpreservers\tfores\tlarboard\ttrooped\tcreatest\taffraid\tdeliberating\tzillah\tripens\tminutia\tartilleryman\tbetharam\tpolynesians\tswordsman\tcactus\trechabites\twhipcord\tvoracity\tazariah\tsoldan\tcressant\tmelons\tsheepmaster\tdeigns\tdisdayning\tchristiania\tquestionings\ttyrus\tnuptial\tallurings\tflambeau\thumps\tbethhogla\tiester\tscourges\tthracian\tgemalli\tchiefest\tahabs\tsloth\twomenservants\tdeigne\tbathrabbim\t\").\thies\tunbelievers\tishbibenob\thalteth\tdisperate\tslippering\tgreekes\tmississippies\toakly\tgrots\tfarrago\tremission\tsignorina\tsnuffling\tsparke\tahihud\ttierce\tobservest\tasenath\tthatch\tbalmed\tkabzeel\tsculler\tchian\tmineralogists\tperceiv\tpapaw\tabsinth\thelah\tpeacemaker\tharnesse\tbespeaking\tlefthand\tdaubing\tinadmissibility\tmesopotamian\tshihorlibnath\ttows\tpeerage\tballasts\ttemplars\tnezib\tquenchless\tballasted\t_been_\tresemblances\t_here_\treproaching\tclime\tgrimaces\tsephar\tpayeth\tgodhood\tchastiseth\thermas\tbaldric\tresplendence\timbodied\treverenced\tunloosing\tplumbs\tfunnily\tev\tjudgest\tjehush\tzalmunna\talboni\tyawp\tconsolatory\tunser\tmnason\tsnowhowdahed\tbeeroth\tmummery\tpreserveth\trakes\thelekites\tseruile\tcabbon\tyoake\trochefoucault\tarnon\torewhelm\tsophereth\tdumah\tbabylonish\trefusedst\trisest\tchiun\tequiuocates\tdestructions\tknits\tphrygia\taimest\treverberating\tkedemah\t_glu\tkine\taduenturous\tcharnel\tswabian\tfruitage\tcautiousness\tcleverer\tparvaim\tsauk\ttharshish\tcypher\talewives\ttragicall\twindings\tdissuades\tdisputing\tseemes\twarriour\tbeautifed\tenclosures\tworaciousness\tpursuest\tpanhard\t_mr_\tscorpion\tpricke\tsurnamed\tbepatched\tapprehensiue\tbargemen\tghastliness\tmites\tenfoldest\tsterning\tkiriathaim\tchushanrishathaim\tknaves\tcragness\tbyth\tmethinks\tbookes\tministeries\tneath\tbaanah\tshedeur\tcolouring\tskilfulness\tdisentangling\trabbith\tvultures\tbobbies\tshobai\tjoshaviah\tusurous\tejaculating\tconsum\tsystemized\t_us_\tpreuayl\tspasmodically\tstadtholder\tprivily\tsavantism\tneuters\tstraying\tmanoah\tunsuffusing\tsloven\theralds\tpresures\tsolliciting\tbethul\tshemer\tindissolubly\twoundeth\tkirjathaim\teffulgences\tzeredathah\tbiserta\tfellowworkers\tlibidinous\tworkfellow\tshelah\tquires\tmacaroons\tpygmean\tarbah\tfoyles\tlawlesse\treuennew\thoratio\tdelaiah\tharangue\tmonsieurs\tthaught\tbreakfasting\tcoueted\tpennyworth\tgoggly\tgoodliest\tpromptitude\tdescribeth\tsalma\tnethaneel\twallflowers\thowdah\tishijah\ttelabib\tleapes\tunpierced\tmaternity\tdeclarest\tripplingly\tmeremoth\tstroakes\tdistend\tphlegon\tsuperbest\tpharphar\tkirheres\thateth\tbaptizing\tdigg\tnez\tjiff\tramathite\texalte\tguildensterne\tjudaea\ttodhunter\tsubborned\tunlooked\tmosera\tregardest\tsimultaneousness\tmothy\tgalal\toasis\tdaintier\tpooles\tunintelligibly\turijah\tseemly\tpyramidical\tabihu\tlovest\tdevilry\tfinde\tjehovahnissi\tshaaph\tfirmaments\tmismanagement\treefing\tneedful\tjoyfulness\tcabalistically\ttasselled\tpraier\tcretians\tbadgers\tletteth\tpaps\ttediousness\tdenouements\tgibeon\tcounsellors\tjehoahaz\trouses\tfrisky\tlytton\tbasons\tfez\treapeth\tintermeddle\tnimrod\teuclid\tmozah\tshmotherin\tthenceforward\tbetrayest\twasherwoman\tassailable\thashem\thumh\tsurprisal\tgory\tthimbleful\tdegradations\tbenhadad\tcurtseying\tforbearing\tgrossness\tsucceedest\tesile\tatlantics\twiseish\tasthmatic\tgriefs\tweavest\tlade\texactions\tingag\tplaine\tfauour\ttelem\tprimroses\tgurgling\tsombrely\tbiped\twaifs\tmightst\tpocketless\tjezaniah\tgladdening\tunremoved\tsupperless\twindrow\tstepdame\tuprights\thasshub\tyawners\tschollers\tgideoni\tsimeon\telbethel\treeke\tadmonitory\tlaceration\turiah\tborderland\thanani\tros\trockery\tpirohitee\tfruitlesse\tedication\tjenning\trefuseth\tforgaue\tgolan\twatchfull\thowlings\tdeepeningly\tchollericke\tpraetorians\tterseness\theauily\telead\tbrigandines\tstygian\tspiritous\tjosiphiah\tthreshers\t_own_\tscaly\tserbonian\tdeprecate\tarno\tburyingplace\tedomite\tvnusuall\tsidon\tobseruant\tstraiten\tbelaboured\tcommendations\thireling\tjapanned\teltekon\tbesmerch\tpearle\tfaileth\taccesse\tunappalled\tcountervails\tvtterance\tjabez\ttomfools\tdenderah\tclothest\tbondwomen\ttardie\tgrandest\toctauio\tsapphires\tdishonors\ttendeth\tvales\tpitying\tshewing\tgrandpapa\tquog\timp\tsorata\tkalmucks\trameses\ttendrils\tenclose\tantinomy\tprolifick\tvioll\tfountaine\tnativities\tevi\tcohort\tmarres\tdiuel\tconcernment\tthanksgivings\tdeafen\tpossest\tcrueltie\t_we_\tgreediness\tforeboded\teri\tdisembosom\tassiduities\tachiev\twhiles\tchuses\tscena\tdrivel\tshalman\tcornet\tdutiful\tmembranes\tknapsack\tkadeshbarnea\tsnarl\tslipt\tlycaonia\tpervious\tlaplandish\tantipatris\tpelaiah\tdamsels\tdefrauded\tfissiparous\tcotillons\tomnitooled\t:--\tpotipherah\ttappuah\tshapers\tyieldest\tgergesenes\tambergris\tspoons\ticebound\tkneepans\tgittites\torotund\timpalpable\tportcullis\tcrucifixes\tmischiefe\tbroodings\trecitatives\tlazar\tarioch\thjckrrh\tuncheerful\tseascape\tenvieth\tpostponedly\tinterdicted\tusury\tgoncealment\ttusk\tdiscarding\tthreescore\tgoary\tcalme\tzephyrus\tsheete\thoneycombs\tmanslayer\textenuated\tchinaware\talvan\tsiloam\tgambled\t----!\"\tjoha\tovercharged\teustache\tbituminous\tintermeddling\tsniffs\tfearlessness\tbaliene\tsworne\tyokefellow\thampstead\ttetes\trechristened\tdint\tbenignity\tuglifying\tazzur\ttrebonius\tmisrule\tcryer\tcranial\tapennines\tgath\tbaleen\tstreames\tpharez\tupstart\twhiled\tarodi\tuzai\tunbind\tdannah\tunshared\treueller\tkirjathhuzoth\traphu\tsomnambulistic\triser\tproletarian\tbuttoning\tmumblings\tholily\tmushites\trant\tsuffusingly\tgainsaid\tskrimshandering\tbizance\tshipwright\tconceyu\tpersecutest\tgrieve\tvenetians\tfainting\tadar\tcabbages\tjigs\tzurishaddai\tseiz\tsurfeted\tcalicoes\tterrorem\thandmaid\tsoberness\tpennons\tswags\t1668\tyawing\telues\tuncrossed\thelpes\tinexpressive\thec\tlaver\tcircumcising\tmeeke\teshek\tcourtesie\tblab\t_that_\tstupefyingly\t_puppy\tincurrest\tsheber\tmalignity\tenderby\tspasmodic\tsatyr\tlibnah\tbowser\twielders\tshoeless\tbakt\tashriel\tfeignest\tblackling\tharville\tabram\tstanza\twaterspouts\trosincrance\tapollyon\tmockest\tcentripetal\tsorrowes\ttyrrany\tpugnacious\tmiasmas\tshammoth\tkenaz\tbugbear\t_wish_\tsleepes\ttoilings\tvndon\tderne\tkikes\tportionless\t_patriae_\tgomorrah\tovertaking\tmelteth\tfey\tnuzzinks\trayes\tchariots\tcandlesticks\timpel\tjibsam\tcondescended\tcapting\tgederah\tconversable\tjesu\tmenacingly\tshrouds\tneede\tcourtland\t_____________\ttolad\tmonocotyledonous\tverbalism\ttish\tantlers\tepaulette\tcontroul\tshrowding\theapeth\tsextile\tmaggot\tloam\tdonavan\tstupefied\treades\tquicknesse\tlightheaded\tcoverest\tciuill\tuntended\tchink\thezro\ttravailed\tashpenaz\tshimronmeron\tlupercall\tinfects\tlooseth\tcalneh\tasmadai\talarum\tpoysond\tvials\tblasphemers\twhereinsoever\tdraggingly\taaronites\tblanch\tmagpiash\toswestry\tkindles\toverturns\trhea\tsonnambula\tswaddlingband\tardours\tarming\tderoulede\todium\tborgia\tprocopius\tunwakened\tdureth\trauel\tvnlocke\tcursedst\thastier\tjehieli\tstemm\tverdigris\tnaughtiness\tvoltemand\tsighings\tmakest\tdeservings\thidest\testeeming\textenuations\tfellowes\tbackwardness\thoary\tformeth\tkinswomen\tenrogel\tplantedst\tcyrenians\thomam\tjes\tohel\thuzzab\toperant\tpivots\t!.--\tsabbatarian\ttogas\tbouge\tquenched\tpalliate\tmasqueraded\tshoutings\tarelites\tubiquity\trama\tgossips\tocchi\tdinings\tsennacherib\tpredisposing\twoollen\tdewes\tprejudiciary\tconcurring\tdiuellish\tsaturnine\tnutriments\tgettee\tromane\ttopples\tintreate\tnavan\toutsurging\tbringest\texhorteth\tjanum\tzibia\tvnpurged\timmerse\tcoveredst\tketos\tvnwholsome\tuglify\toints\tbeleeued\treceyu\toddish\tbewray\tcomerce\tspicin\trunne\ttinkles\trolleth\tjushabhesed\tdispirits\tuprisen\tcockleshell\tvicinities\tetchings\thariph\tcurv\t_idee\tapproch\taimedst\tconundrum\tiuggel\thaughery\taharah\tmaned\tingiustamente\tsericana\tgrapegatherers\ttryphosa\thezion\twagga\taduantage\tpileha\tsinker\tshetland\toccupieth\trecognitions\tchurl\twilkinsons\thatchings\theartens\tjanohah\tartaxerxes\tunexpert\tdescry\tbonnets\tstoutest\tnibelungen\tdetour\tsterrile\tsecricie\tshipkeepers\tmedad\tusest\tsilla\taretas\tcongeal\tgirdled\tbaseness\tdebell\tmediate\tguestchamber\tundesigned\tsodomites\ticily\tsinnest\tkindleth\trecompensed\tisinglass\t_h_arbour\tdemagogue\textortion\tmarvellings\tjaziz\tsquareness\tascertaining\tmealy\tdipsas\ttrudge\tasshurim\tmurtagh\tunwashen\tchrysolite\tgushes\toronoco\tanaharath\tlearner\teuodias\tseruant\tsicknesses\twarblings\tgibbe\talighted\tcheerfulest\tslingers\tignorantly\tkittim\tbringer\tinroad\tdesart\tbristly\tzoba\tsalaams\tterrapin\tgratifications\tgilding\tchaldaeans\telymas\tsliuer\taziza\thostesse\twhet\tkilles\tcraues\tveyl\tpantaloon\tothniel\tinlanders\tfriesland\tretrievements\tcompleter\tefflux\tharhas\tsion\tdeeme\treforme\tzuar\tmoosehead\tcorruptly\tyee\toutweighs\tconcocts\tlaths\tbaalathbeer\tthresheth\tthibet\tammiel\timmoveable\tfroid\tlodgeth\thobomack\tsinewing\tmendocino\tstreaking\tisshiah\toverstay\tdisputings\tunseated\tdefilement\tfootpads\tweightier\tabelmeholah\tmichri\theiligwaldenstein\tacerbities\tpractis\tgleemen\tclasps\tcavils\tix\tcalda\tfatted\trabidly\thumboldt\ttryalls\t---.\tobseruation\tjerahmeel\tjahziel\tstedfastly\tsurpasses\tspeediest\tazriel\tfryingpan\tvnseale\tviver\tdiuision\tdriest\tconqueress\tarah\tsteamboats\tsodoma\tvolumnius\tjebusite\tirreligion\tkeepe\tdelightest\tchilder\tpepperpot\tsooth\tcassino\tseville\tosricke\tillyricum\tkish\tunastonished\tundesired\tlimbed\tblandishments\tkidron\taffectedly\tlicentiousness\tforsworne\tdisguiser\twinebibber\tplowmen\treclined\tsouldier\tdiscerneth\tparmacetty\tpelet\tmombaza\tmaleuolence\tesaias\tfirework\tstuffe\tostent\terst\tweymouth\tbrau\tepigram\tunexhausted\tnark\tspool\tseruices\tslumbers\tdiaboli\tsighes\tshewn\tspurted\tlaggards\tmellower\tspann\thadst\tuppercross\trepassing\twatercourse\tspicers\tstrangling\tdecan\tnasce\tslippes\teuphrasy\tcounterfeits\tambushment\tenshrined\tbaalmeon\tpratler\tsuperlatively\tpennsylvanian\tmonomaniac\tvultureism\twarbled\tblisful\trills\tkaubul\tsouled\tunform\tmarshy\tjoram\telate\tbriny\thittites\tfissures\tflearing\tjeeringly\tbrayed\tdenieth\tstrewments\tlookes\tvndaunted\tjeered\twisdome\tamasai\tjosedech\tsupernal\tfortuna\ttrembleth\tmassillon\tmetellus\tunsheathed\tpalatial\tberothai\thananiah\tpuncture\tincisions\twhimpey\tgunwales\t_court_\tasaph\tthessalonica\toverburdening\tasphaltic\tottomans\tcolhozeh\tgalilaean\thypnotism\tazubah\tspearing\tintertinged\tshewedst\tjakim\thupham\tdeferential\tgallic\ttiti\ttobijah\tpopularities\tlibni\tarraying\ttrustest\tmastodon\tconcerneth\tjackanapes\tgehenna\taraunah\taffidavit\tinnouation\tcurlews\tlatencies\tbagg\tbehead\tpinewood\tresiduary\tscrouge\tmufti\tphoo\tginnetho\ttransgressest\tcataract\tbejuggled\tsmite\tmiching\tresistlessly\tirriguous\tseirath\tsnivel\tmayhap\tembonpoint\tplenipotent\tsinfull\tpropitiation\tgurgles\tmasoned\ttowheaded\tjoosy\tcomber\tdallier\tgrafts\t_achieved_\tslav\tcrosslets\tsopater\thumtah\textendeth\tanointest\tdeadening\tdelineations\tillegible\tcompar\tsenslesse\tnarrating\tibri\trandolphs\tsprights\tspoutings\tcressets\tabsalom\tparricide\tramifying\theape\tvanquisher\trason\travening\taphiah\ttarrieth\tnuncheon\tgnarl\tsublimer\tlovingest\tbewildering"
     ]
    },
    {
     "name": "stdout",
     "output_type": "stream",
     "text": [
      "\tdiner\tnorwey\tunendeared\tamputations\tserle\tgederite\talchymie\tbethcar\tlineaments\tlunched\tfugue\troasteth\tchastise\tjerijah\tincumbrances\tzebah\tzophiel\twitchery\tastoreth\tbutteries\teruptions\tchampain\tshewest\ttrebly\thazarshual\trhegium\timplead\twassell\tithiel\tgaue\twip\txxi\tenjoyedst\tmonthes\tunbarred\tballes\t_you_\telam\tshuppim\tlevites\tspecked\tloosed\tcouchings\tentappuah\t'\"--\tcluny\tbrigger\trepeateth\tvnmatch\tbachrites\tscotcher\tsmeerenberg\tmarauder\tapish\tcircumcise\tdefyingly\tallemaine\tbeauer\tsnorer\twriggling\tshamefull\tibneiah\tbarsabas\tfarwell\tspurn\tmistooke\tsebond\tmarrowlesse\tgleams\tunpitied\trais\tplacard\ttossings\tbeguiles\tstammerers\tsated\tditchers\tfearefull\tarad\torizons\tunvitiated\talmansor\tbareheaded\tlodg\tconfound\t_home_\thazeroth\tazrikam\ttittle\txxvii\tpliny\tbealoth\tdaffodil\tindite\tmahazioth\tfalconroy\tmartyrdoms\thege\tprophesy\tquaff\tdrugges\tsubiect\tcheckmated\tsuperinduced\taloofe\tjehu\tfoameth\thappenest\tunwell\tjoes\t_lady_\tzererath\tkindreds\tdemy\tvoicelessly\tpersue\thashupha\tnebaioth\tshama\tphallus\tblanketing\tobal\tfantasie\tcoulters\tpallace\tsparely\ttremulous\tincautiously\tentretied\ttautology\tjahzah\tkezia\tglim\tkerenhappuch\tozni\themdan\taffghanistan\tbounties\tbehoues\tbeleeu\thaled\trivallingly\tredresse\tsecretest\tdreames\tbaalhamon\tresenting\tvirtuously\tsusanna\ttopographical\tasleepe\thasupha\tstupendious\ttuileries\tgederoth\twouldist\talian\tnurs\tgiah\tbalaam\ttoilsomely\tpaintedst\tcharing\tgrasps\tvnfortunate\tauaricious\twindowed\tseuerally\twaxeth\tmehunims\taspramont\tsolitarily\tcropt\trancour\tyellower\tyesty\tlegacie\tprimer\t,)--\ttransformations\tfrocks\texpends\tlavater\tdelayeth\tbeaufet\tbethbirei\tleviathan\tmayflowers\tsupprest\toarsmen\tmegaera\tfellowlabourers\tfitz\tarimaspian\tshriller\ttoute\ttrowsers\tnaarah\tflanks\tresentfully\tscotchmen\tbarnacled\twestgate\topulence\tgaffman\trashness\tlambent\tgreeteth\tmews\tfictitiously\tconiure\tensigne\tdispeopled\trauens\twavereth\twhither\tmonongahela\tiscariot\tdoublings\tbeersheba\tusquebaugh\trance\twinnows\tlayn\tisidore\thammath\tathach\tdriedst\tfrenchwoman\tarion\tgores\tsleigh\tdumbe\taegaean\tvsing\tdeceiu\tterrene\tpooh\tmeekin\tplacably\tzacchaeus\tpalmerworm\tmibzar\tcherith\tdirged\tforemastmen\tseatward\thowbeit\tcapeable\tlevanter\tunrighteously\tbanquetting\tsquints\tservilely\tgeder\trelater\tcertainties\twonderer\tforeplane\tzemaraim\thasteneth\ttrumpeters\tsmother\tsumm\tassaile\tvicissitude\tusurper\tcompunction\twinde\tzem\tcruelties\tsusi\tunrival\twery\trehum\tdrouse\tcliffe\tequestrian\tsavio\texpectansie\tithmah\tpequod\thadlai\tzidonians\tnehushtan\tazekah\tnaum\tmessmates\tconvuls\tespecial\tcoppie\tdebouch\tcumbereth\tmalkin\tloth\ttinctures\tfetich\tmortiz\tvnderneath\tpersecutor\ttemeni\tvalour\tseorim\tsanballat\tadvantaged\tinseparableness\terech\tenterred\tperrys\thumored\tportals\tgrapnels\tgibeathite\tdwarfish\tbloodie\tthoght\twanteth\tregardeth\tslideth\tmelodiously\twiths\taslope\ttaske\tziba\tboasteth\tkashmere\tsalut\twonderous\tuncompromisedness\terectly\tomers\tinclineth\tsceptic\talbemarle\tshtill\tomar\tassizes\tvociferations\tgoblet\tchinn\tbooing\tvarnished\treaper\tbipeds\trood\twonderings\tomnigenous\tcomplexions\ttartars\ttreadle\tmeonenim\tintolerableness\tdiggeth\tladyship\tdeale\tdeuotions\texpostulated\tzohar\tsawed\toffscouring\tbozrah\tdelivereth\tbodkin\ttrios\tforbidder\tgrecia\tvol\tselfwill\tmaske\t_gibson\tcombustible\tdibri\tquohogs\toliveyard\tuz\tbequeaths\tfondling\twashy\tregularizing\tconfidantes\tgluttony\tturvy\tkelita\twearie\tunspared\ttelegraph_\tgraue\tbashemath\tmillar\tteresh\tcankerous\tijon\tgesham\tzethar\tvuoi\tconuinces\tholyoake\tunattempted\tblear\tmaterialists\tconuoy\tstanched\taccidentall\tbulwarks\tlign\ttinct\terromangoan\tplac\tzigzag\toutspreadingly\tsinew\tfreshest\tcounterfeited\tdoome\tsupplants\tcounterpane\tdirecteth\thalloa\tgravings\tatheism\tgirgashite\tfissure\tdaggoo\tunmuzzled\tphylacteries\tguilefully\tdomiciles\tamashai\teldaah\tgrovelling\tlanguidly\tparchingly\tnicopolis\thaue\tjehosheba\tmehida\tundream\tcerberean\tnemuel\tupsprung\tlungless\tdutie\tsyrtis\ttransfixedly\tvari\tvolleyed\tarmholes\twisedomes\tkernes\tbateses\tzorathites\tbedad\temployables\tquoin\tblurt\tastonish\towneth\tsquattings\tcivilly\tmaruels\tuncracked\tsheba\tidiocy\tdegradedly\tvntyr\tthews\tcinematograph\tcisterns\twaft\tbayous\tvpshot\tparadings\tplaythings\trayther\tlyable\teubulus\tfurls\tsilvered\tunintermitted\therbenger\tmagdiel\tfashionablest\tode\tporky\tprivation\tbowler\tsideral\tyesterdayes\tpuisant\ttotalities\toverswarm\tequably\tvisitants\tnunnery\tparmashta\tbarnfloor\tsorrowful\tiddo\tsheepfolds\tsardella\ttiptoe\tgeber\tdiagonically\tphosphorescence\tsexta\tinhumanly\trejecteth\tbarristers\tmacnabs\tziphites\trudimental\tidoll\texpostulations\tlikenesses\tpeeuish\tmercilesse\t_much_\tceaseth\thoarfrost\tdrawest\tcircumnavigations\tcouncell\tbrier\tsmootheth\tunforewarned\tseperated\tartlesse\tlikelier\tphysic\tadornment\tkibrothhattaavah\tanus\t_measure\tbloodily\texterminated\tadventurously\tgallied\tcurriors\ttauris\tharpoon\tchalcedony\tdelighful\thalfe\tcellery\t_true_\tmalchielites\tfinsb\tgrone\tmeonothai\tbace\tdissociate\thanochites\ttharsus\trebekah\tcivilised\tcataracts\tshalisha\tcontaineth\tamericanos\timpostors\tdryshod\tseaography\tvoyagers\tcloister\tvigils\tahitub\tsuppliants\tunilluminated\tnotus\tshyness\tclaimes\tsacs\ttutti\tcanonic\taffraide\toboe\tmogulship\tbefel\tjaphleti\tdemigorgon\tlabio\tbludgeons\tposh\ttwopence\tmaws\twhitest\tdynamiter\thelkathhazzurim\tremaines\tcondemneth\tvanisht\tmandarins\tculloden\tmaul\tmaalehacrabbim\toptimist\troseat\ttophet\talammelech\tshebarim\talexandrians\tpoltroon\trendred\tpaupered\tepilepsy\twallabout\ttartarian\tgunwale\ttrending\tmenials\tinconsequently\tfeebleness\tyounker\tgeshurites\tdigester\tsenuah\tforemast\tnirwana\t_would_\t_mrs_\tnetophathite\tlucillius\tsmelleth\thubb\tespeciall\tdistended\tswedenborgian\tforsaking\tachmetha\timnah\tpassionlessness\tdegrades\thouseroom\toregonese\tslightingly\tpythagoras\twhiruled\tmalacca\tgamesomeness\tmoones\tstrandings\tfrequendy\trepining\tfortinbras\tbrome\tgondibert\treveller\tforgiuenesse\tdroning\tcollectedness\tasshur\trendereth\t_now_\tsisterly\thelez\tmispereth\tmonarchy\tgrieves\tcoasters\tlaish\thumouring\tyellowstone\taltereth\tthrusted\tivlivs\tsharar\twauing\thamul\ttaanach\tetonians\tohioan\tbindeth\tharumaph\tvndeeded\tvirgo\tkast\tcubits\tmizen\tsherebiah\tcovenantbreakers\tgainsaying\tsingest\tnourisher\tshimea\twarmeth\twhaleman\tbandboxes\tbehring\tsnarles\t(*\thearkeneth\thoreb\tverily\tinnumerably\tlispe\twhalemen\tlinnaeus\tministring\tworacious\tslipperiness\tcongratulating\tmenteth\tfurlong\tanchyses\tadders\tunapprehensive\tdoating\tjehucal\tneesings\tsherbet\thelam\theere\tperga\texcrement\tfreshens\twades\tkneadingtroughs\tbavarian\ttahitan\tshelesh\tfriendliest\tgnasheth\tchicha\tnaharai\t7000l\tfallowdeer\tjourneymen\tpharpar\tfistful\tcontemptibly\thatcheth\tapothecaries\tproofe\tseu\tdeaden\tconsummations\tpilau\tsorceress\tspaniard\tthriftlesse\tdisenthral\trephidim\tenhazor\tgiuen\ttitianesque\tnarrates\tspiritless\t_white\telimelech\tinsupportably\ttuckahoe\tdisdained\tdisputations\tsirloin\telves\taholiab\tilai\tconvinceth\tplumping\takan\tenforc\tbaptizo\tmarcell\ttuneable\tfaining\treasonest\tprophanely\tmocketh\tshema\tpopayan\tallghanies\tafternoone\tfringes\tamphitheatrical\tidolators\tscedule\tbiddeth\treproved\tfirelocks\ttormentors\tduellists\tgarnish\tbariah\tproteus\treechie\tshanter\tobstructions\twaterward\tzidkijah\tmacduff\thummingly\tconstabulary\tgimcrack\tunobtrusiveness\thabite\tshumathites\tengendering\tfonntain\tchamberlaines\tblason\tcoeval\tknaues\thindustanee\tormskirk\tazmaveth\thalters\tahishahar\tunpoetical\trheume\tergo\t_bourgeoisie_\tdictaean\ttantalization\tzelophehad\tchemick\t_almost_\tbanterings\tandirons\tminnesingers\thedgeless\tblacky\trecollects\tgaash\tethiop\tsmutty\tconiuration\tshoulderpieces\talreadie\tzared\tjehalelel\tithran\tglorifying\taugure\tbetwixt\ttyrannie\tchilian\tdurand\ttwelvemonth\tknop\tcruellest\tlothe\tgambols\tdor\tfungoids\troundingly\tgettest\ttaralah\twalfish\tpauper\tnorland\tcotyledons\tarmoric\tpitferren\tacquitting\thereafters\tlexicographer\tpreverse\t_of_\tleaved\tsetled\tjakeh\talcides\tbenejaakan\tmoulted\tuntwist\tgurglings\tgristled\tsoliloquy\tclenching\tmeglio\tdreamiest\tinuested\tmarseillaise\textrauagant\tundirected\tsiloa\tsundering\thawsers\ttranspose\ttertius\tdecorously\ttriumphal\tdention\twonderously\tcaptaines\tplumes\tupwhirled\tcarlacue\toeta\tshushan\tchronometer\tmilalai\tsloper\tloafing\thadadrimmon\tupreared\tseedling\tunlade\tinclosing\tpittious\tknewest\tstipendiary\tsheweth\tbreez\tmousquetaire\tneptunes\tunsuspect\tsuperuize\twhirleth\trecurrences\tmahalath\tfennell\t_to_\tsutor\tdesisted\tintermixingly\tnecke\tfrends\theav\tbru\ttwaine\tmoab\tgera\tmainwarings\tlookee\tcelibacy\tadin\tlurchingly\thumoured\tchameleon\tummah\tflighty\tstupified\tapproches\tprowd\tbegirt\tsunned\toutlive\tasphaltus\thugg\tunexaggerating\tkettles\tcasked\tbulrushes\ttrovano\tinoffensiveness\tpedlar\tsyw\tlockt\trudiments\tsups\tsdeined\tmichah\tlecah\tcaldron\ttram\tunbodied\tstoutness\tgardenny\tunderstrapper\taxletrees\tunresting\tillo\tshtring\tstrakes\tjointed\tnony\tfamiliarise\tahithophel\tsmeer\touercame\tquietude\tdarkish\tunassured\tphantasms\tbethhaccerem\tonam\treddens\tbides\tvnmeritable\thonestest\ttowring\tsidling\tunsetting\thymenaeus\tcoopering\tsuppliant\tunopen\tsharppointed\tlatherers\tisolatoes\tbattledores\tsafes\twearies\tmurtherer\triuals\tnortherne\tfrailty\tdelusive\torbs\tibid\tusk\tazimuth\t17oo\tcetological\tunextinguished\tjadau\tastronomic\ttylandria\tdashwoods\tfurred\tmaides\t----------,\tpursueth\texpostulation\tbosomes\tcalve\tpanniers\tjehizkiah\troyally\tcataleptic\tunmanned\twheresoever\tammi\tcauldrons\twastingly\tglorieth\tconceald\tstraine\tpartridge\tdovelike\tdwellest\tspigot\tmichaelmas\tsorryest\tcornfloor\tlounger\tsawe\tjabneel\tphoebe\tflyest\tretaking\tsmeare\tvnlineall\tsupperannuated\telamites\tshadier\ttreeless\tmeunim\tevilfavouredness\tcozbi\teightpence\tmithnite\tcrownedst\tinhabitable\tfeuorous\teleemosynary\thodaiah\thued\tbelieue\tburthen\tishbosheth\tbrighggians\tchrysoprasus\tknockes\tpluckt\tvalise\tclaudius\tnitre\twittier\tentombment\tdishevel\tfamously\tarchy\tstrawed\tsceptred\trehoboth\trecantation\tstreaky\tunrivall\tunfallen\tfrontlets\ttyphon\tmilcom\tdeliverest\tmazeppa\tamours\tephrath\tmarianne\tmagnetizing\tpatentee\tuncleannesses\thamlets\tstrooke\tbetharbel\tbilshan\tunimpeded\ttalketh\tanim\tslantingly\tlayedst\tprisoned\tempyrean\traiment\tjeoparded\tbaalhanan\t.**\tmonrovia\tunexhilarated\thashub\ttribulations\tevilmerodach\tstiver\tassessour\tpersonify\tpinions\toverweening\toho\toozy\tspecksioneer\tcarrieth\tmss\tjeffereys\t1998\toutermost\tshahs\tperverting\tacknowledgeth\taholibamah\tbenumb\trondeletius\tcouching\tparnassus\tsered\tbahurim\tfashter\tthrasher\tuntouching\tappertaineth\tzoological\terromanggoans\ttiara\thunks\tlegatees\tmarriageable\tshobach\tasperses\tembryos\tbeheldst\tventur\tcuplet\tcourtships\thebron\tlapt\tsacrilegious\terring\tpartakers\thackt\tbankes\tqueerness\tsanitie\tpeebles\t_it_\tmeaneth\tperverts\tcaryatid\tpactolus\tfatiguing\treciprocating\tdimonah\tpersonall\tibzan\tpressfat\tuncoil\tcorlaer\tsacramental\ttrowels\tunoutgrown\treleefe\tphlegra\tillogicality\tajah\tconsumeth\targent\tpalpableness\tdiscolouring\tembitter\tasham\tvnyoake\ttrinacrian\tfeeles\tunrolling\tzethan\tsofala\tjorim\tsaracen\thillock\tfasted\tdrunke\tbarreler\tdistempered\tgodly\tlyrist\tshiphmite\tflaps\tferrule\tinconveniences\t_not_\tbuildedst\tquills\tpharisees\tlookst\tbethmaachah\tflourishings\tsuretiship\trebell\tjezreel\twalles\tcapernaum\tgraffed\tdayes\tdarest\tthunderbolts\tragau\tebedmelech\tdiffereth\ttimeliest\tcraveth\tbended\tcouchant\thobbledehoy\ttrombone\tunworshipping\t73d\teziongaber\tinstructer\trobuster\tadrammelech\tglistered\ttabbath\tgiue\tsarra\tincurious\tenwraps\ttransmutes\thelem\tdivings\tnotabilities\txxv\tunwinking\tanoints\tzoreah\tspiders\tintervein\tindentures\tcany\tmountaines\tpatrobas\tbrinded\tyarman\timpedimentas\tstrick\tdarknesse\teglah\tcoxcomb\tlockets\tbeerothite\tsummervill\tconjurer\tjonas\teladah\tupturns\tdromedaries\tproserpina\tpaines\tchides\thatches\t.'\".\tjehoshuah\taminadab\tbulwarke\tsardians\taviled\tunequals\tradishes\tstigmatizing\tjuggler\timmovably\t_the_\ttekoites\twagers\tpinckwerts\tpastrycook\treelingly\tinclin\tsashless\tvnwatch\trovers\thauteur\tlaine\tbeeches\treefed\tadami\tquintillions\tgazzam\tsavageness\tjorai\tunbending\therbage\tkindliest\talarme\tharasses\tasnapper\tdismantled\tcivilisation\teurus\thimselves\tgigantically\tvaunted\tfeminam\toutlarie\tblackcoated\twalkest\tsympathetical\tunwaked\tfogs\tsepharvaim\talb\tsuruiuer\tgrazier\tretentiue\ttraine\tundashed\teliah\t.--,\"\tremembrancers\tunhinderd\tdiscoloration\tcarolinian\tunemployables\tbabble\tcaptivate\tjustifieth\tazazel\twaives\tbyrlady\trending\tbetakes\tanointed\tgayhead\tbellerophon\tephraimite\tserraliona\tcasius\tcrowner\tdrouths\tjointing\treprobation\twakest\tucal\tdelectable\tpowre\tlarolles\tpostilion\tvillanous\ttemporizer\tgurry\tarchly\tsheaved\tsongster\tmotheaten\tcorlears\ttriune\tgibbets\tchampollion\tdeepness\tpolluting\ttels\tjointure\tyeeld\tbarreller\tfretteth\toutvied\toverruns\tunbolt\tdemoniack\ttabering\tparrys\tproclaimes\tbedarned\thammersmen\tironwork\tnaphtali\tdoubletongued\t1695\tfatnesse\tdrabbing\tscann\tboscath\tstylites\tulcerous\tahasai\tdugdale\tshapen\trecollecting\tmorever\tpanoply\tdistresse\tboulnois\toutshine\treelaiah\tmisapply\tunborrowed\tvtter\tspeedwell\tahimelech\tsickely\tgapes\tchersonese\tnavvy\tiouerney\tdisbelievers\tregem\texcellencies\tealing\thooroosh\tdisposer\theralding\tblatherers\tmatted\tshrow\tentereth\tdisapproving\tmalformation\tbenefactions\tyoul\tblanke\tcarrol\trumbly\tjarmuth\tdemas\ttimbred\tdevilishness\tlaide\tarphad\tshochoh\tshebam\tstiffely\tclau\taruboth\tobstreperously\tmeeteth\tvntye\texcitements\tbehauiours\tshahazimah\tgileadites\tparthians\tberachiah\thumours\tcrony\tcraftily\tcrappo\tmovest\tsufferance\tskewers\tbegrimed\tlimed\tnymphas\thim_\thearkened\tworme\tabominated\tquieteth\tproportionably\tjingle\tsnortings\tpaconcies\tsteepe\tseeketh\tbogberry\taueng\tkeity\ttester\tpards\theshbon\t(~),\tseru\tforbare\tvillanies\ttyrannically\tinferable\tcushan\tsuperstitiousness\tsewest\tmizentop\tgibberish\tunrespited\tconuert\t"
     ]
    },
    {
     "name": "stdout",
     "output_type": "stream",
     "text": [
      "reaps\tmiletum\tcorrecteth\tmastless\tsandersons\ttarsus\tbenefactors\tcompasse\tmittened\tlookingglasses\tuttereth\tog\tmalefactor\tsycophant\tbreastplates\tunfearing\tabhominably\tsurmisings\tfruitfull\tcontumacy\twoodbine\tspearmen\tnineve\testeemeth\tskrimmage\ttranque\tbuyest\tinterlocks\tundrawn\texhorters\tlents\tchanson\tsavesoul\tosities\treme\tdissolv\tadulteress\tsurroundest\tsalathiel\tmilke\twashpot\tmither\tunsounded\telienai\tjahzeel\tstander\tlouingly\tundiscerning\tnecromancer\tadaies\tconjoint\tlaburnum\tweare\tsearcheth\trephaim\tnoone\twinterwork\tbethharan\tkingdomes\tinoffensive\tsurest\tunhooped\tupstood\tjediael\tdil\tthrobb\tthumbe\tunrestrained\tgaddiel\thaberdasher\tganders\tinestimable\tobediently\twindpipe\thachaliah\tcaricatures\teffusion\tsauiours\tthrusteth\tbirmah\tmonotonously\ttributary\tshears\ttransubstantiate\talleghanian\tlapp\tdesirest\tgentlewoman\timployment\tgroaneth\teulogy\tendamage\tsunne\thyr\tincorporeal\tpossessest\tahoah\tconfesseth\tsayd\trambled\theeva\tbellied\tabiure\temblazonry\toutherod\tfoine\tapologizes\tithrites\tconundrums\tgenuineness\teffulgence\tchurchills\tcolonnades\taboue\tglazier\tpannag\tvntill\tincomputable\tphysicall\tdodo\tforc\tprouoke\timputing\tuncleanliness\tluhith\tplentie\tunflaked\tdescartian\tlabial\tdenizens\twot\treddy\tsaintly\tbohn\taccursed\thowre\tfeete\tcanopies\t_indeed_\troosting\taniam\tcolaterall\tzoar\tshapher\tbattersea\tmuslins\tspurr\twhipt\tjedidah\tnippers\tbiled\tcleare\tapparation\tprenatal\tingulfed\thealeth\tpiebald\tgreybeards\tcleets\tpalme\t\"'\tbecamest\tsignifiers\t_taylor_\tselectest\tdiggings\t_cannot_\tsarmon\tasrielites\tembalming\tungraduated\tdemigods\tenscombe\theresh\tlapwing\tincuriously\tscornes\tbubblingly\tharvilles\tribb\tfowls\tspunge\toutragious\tdefileth\thonie\tthamar\t[\"\thashubah\tdeceits\tnourish\tslopingly\tclipt\tindure\tailed\tliterati\tpuritanism\tshobab\ttallest\twreckers\tlawgiver\tstretcheth\tmurellus\tbaudry\tenhued\tvioletta\tpleasest\tfloate\tunbeheld\tminims\tbookstall\tmidwinter\tsicklied\tcharme\tbonze\taroynt\tlaughers\tphiletus\thoned\talang\tzorites\tdextrously\tgarbe\tcaressingly\tplucketh\tlewdnesse\tdestroys\topine\tamiability\tgrandmama\tfindes\tshuttlecock\tdelicatesse\tfishhooks\tskewered\tenurn\tvpbraid\temetic\thivy\tgarters\tstrainings\ttemanites\tdidymus\tarous\tcomutuall\tislanded\tplucke\tchode\tvillaines\taverse\thoshaphat\tmara\tbarnardo\tplazza\tcuckow\tappertain\tuncapturable\tknauish\tfurrier\trowdies\tsermonizings\trosse\ttumultuously\tdyre\tswellest\tquadruped\tdevotee\tunrigged\twayle\tmidwives\tacquit\thadid\tunfurling\tmarocco\triposte\tundesirableness\tclouted\tragges\tupraise\tblinder\tbystanders\tzered\tgethsemane\tpuddling\tlunacies\tinfallibly\tjav\tpuritanic\tmebunnai\tpatriarchs\tchelub\tdiuell\tbribing\tadown\tbroyle\tlimpers\tsaveth\tcastest\tprotegee\tegina\tzia\tshamefacedness\thandleth\tquarelling\tabolishes\tmarrie\texaction\tbeaked\tdoue\terrantism\tsobbings\tcoigne\tripper\tpeccant\tsherah\trephaims\tenosh\tobviating\twhar\taleak\trepayeth\tbalancings\tseething\tstilton\t_first_\tbountie\tprepossession\tstevedores\tunbegot\toutmost\tonanists\tbiddy\tabstrusest\timbrute\tlapidoth\tundraw\tdallied\tfomorians\t_gentleman_\tdraughtsmen\teker\tweeper\tprosings\tobstetrics\tfootholds\taugmentation\tformless\twearers\toutbidding\tmortises\tconuerse\tethnan\tprotestation\toread\thungrily\t_mediocre_\tmassie\thewers\tornamental\toutstretching\tishmeelites\tllama\tmalignantly\tsalchah\tbrowes\tslink\tgilgal\tcherub\tmadwoman\tvillas\tclerihew\tabdy\tsaies\tcomist\tligature\tawls\tbeera\tfrenzies\thurtful\toblations\twhimsicalities\t_named_\tthanke\tdeserued\taccost\twitted\tprescience\thasteth\tiohn\ttricking\tsplay\ttoder\tmidmost\tfauor\tlassa\thyperions\tbrak\ttableaux\t_dixon_\tvnmann\trestest\tzacchur\tabishua\ttramps\tscotched\tdiscomfited\tmeshach\t_on\testotiland\tslaughters\tmelind\tielly\tgyues\tneerely\t?--\"\tjaroah\tarithmetician\trenewer\tcompos\tcareens\tcongratulant\tchasticement\tupborne\tbarjesus\tfoible\tbroadminded\tvnnerued\tzebulonite\tunaspiring\tenvernes\ttelah\tshipwracking\tpersecute\timpotently\tcemeteries\tintill\trecame\tcrucify\tignoble\tsadden\twarrantry\tequivocation\tzelia\tburtons\tnovelette\timperturbe\teccho\ttoile\tzatthu\tassenting\tzobebah\tbrobdingnag\tesquimaux\ttransgressours\tannuls\tphrenology\tvnsex\tkeros\tuntasted\tlouing\t_like_\tadonikam\tmidianites\tcamon\teavesdroppers\tpalanquins\texpandingly\tabba\tpeniel\tloiterers\tforecastles\tdecanters\t...?\"\trears\tbermudas\tunthrone\tgreeues\t_he\tnegations\timbuing\tappeareth\tcompunctious\tleadballs\tbilgai\tspeculates\tnazarites\tportentousness\trotto\tcouer\tobserv\tmoodiness\tunmitigated\tglimmered\tdumpy\tscorchingly\temulations\tashtoreth\tkarkor\tbewailed\tdishan\tinsomuch\tlibyans\tlael\tterme\thowsoever\tvnreall\t_cause_\tmartyr_\tprig\tprecipices\tperiwinkle\tfeelingly\tchayre\tzophai\tguift\tobil\tpouf\taverred\tcyphers\tgershonite\tmovedst\taran\tdelilah\tzaphon\tsuppliance\twindlesses\tdiscouery\tcapricornus\tmaisters\tloyall\tyawned\tempirick\tderisive\tgrime\twreaked\tmens\tennuye\tskulking\tunrebukable\tungenteel\tchaldaea\ticeberg\tcalumniators\ttwad\tmaralah\tvniuersall\tphysiologists\tindisputable\tfilthiness\tment\tfoolerie\tcommandments\tenchanters\tdray\ttaberah\twaggons\tsheering\tahasuerus\tjimimi\tflutterings\tdeputation\tpyrrha\tshnug\tbaale\tcyrene\tchinneroth\tremmon\tsweeper\theate\tgouts\tbenignant\tnankin\taristocracies\tsylvanus\tunseemliest\tconsecrations\tlyme\tinhabiters\teffusus\tbrandish\treceyue\tloggerheads\tpaseah\trebells\tdisinfecting\tunclaim\tcovereth\trecoiling\tbishoprick\tcharade\tdeprecated\taristobulus\tsurrenders\tpyjamas\tunchain\tprophecying\t_with_\thankering\tramparts\tmourner\trote\tspeechlesse\tsoughing\tdumbly\tmummey\toutcries\tithamar\tprecipitant\tbragge\tshuffler\treserveth\tcormorant\tcharractery\tterrors\tvictual\tbravadoes\tdaysie\tthreatener\tvnruffe\tmoriah\tgreenhorn\tenthralment\tpianoforte\tloveit\tbenaiah\t.=\trailed\tkneele\tsonnes\tshastas\thooped\tpox\tnaboth\theleph\t.\";\thorsse\tperquisites\tlarches\truleth\tunblameable\tcloyster\thorsses\tcheever\tbrawlers\tjehiel\tannas\tdilean\tprimordial\tlawlessness\twetted\tpiccola\tcreepe\theerein\tbillowy\tkadesh\tthanet\tblunderbuss\tzoheth\thebrewess\tsimoon\tdeede\tloseth\thiddai\tserenades\trezeph\tthemis\tenvies\tinterprete\tquahaug\tknowings\tbenhanan\tsaviors\tnegus\tbaptizest\trecklesse\tsteerer\tcheerless\tsheva\tprophesyings\tlunacy\tquavery\tflay\tpossesseth\tprepareth\thumpbacked\tecclipse\tsegub\tsteadiest\tvoltumand\thangings\tfasces\tbuttonhole\toutstepped\tittai\tbrahmins\tnameth\taroar\tfootprint\tinuite\tcomeliness\tsmilest\tcentaur\tvndivulg\tdoat\ttekoa\tarrantest\twatergate\tbreathest\tderbe\tniphon\treciprocally\tvesuvius\tsayle\tabiram\trosetree\tmoult\thazo\tteare\tspendeth\tsutes\tmississippian\tmanasseh\tcompeer\tlowdly\tacrostic\tjeremoth\tintercessor\tsmil\tshewne\tunmeasured\tfarrum\tepaulettes\t_our_\tbreake\tfinical\treadiest\tcruisings\tmercurie\tcreateth\tendureth\timpenitence\tjuba\tshagge\tsallets\tanticke\tdemonisms\tsheaves\tsunrising\tsheshach\tbeneficent\tlank\tsibmah\tdandified\tnebo\twraths\thootings\tenfold\tjeroham\tsolstitial\tdugge\tworkwomen\tstarbuck\thuppah\traguel\tpenuel\thabaziniah\tblowne\tbleared\tprocesse\tlaboureth\tpharzites\thellish\toccupiers\tleopard\teltekeh\taffectioned\teffaced\tdecapitating\tiealousies\tselahammahlekoth\ttruepenny\tgoatish\t!')\tunsplinterable\tjezer\tflaneur\taileth\tenhuing\tbelled\tbared\tinfinitesimals\tinclosings\tpotable\tweightiest\tinwreathed\txxxiv\tshamsherai\tenvyings\tpiercer\tshrewsbury\tauran\tsways\tanath\tawaked\tabhorrence\tnorweyan\tpikes\tchauvinist\tmurdrous\tshamelessly\tbestowals\tharnepher\tharrum\tsearchest\tsubmissively\tlaburnums\tencreased\timpasted\tdejected\trabblement\tneglectful\tlusciously\tdrinkes\tzilpah\tforme\tkore\tobi\tgulfe\t;--\trobustious\tpasseth\tdecease\tfatherhood\tcomplexioned\triff\tjahaza\tmeane\tbalah\tgalliots\telasah\tferrars\tsteadying\tblushingly\toffereth\tzuriel\tpancras\twriggly\tamazonian\tleer\tsackcloth\tplumbline\tembanked\tkickshaws\tmaiming\tunquenchable\thecat\tdado\tsavan\tparisians\tamalek\tcontemplations\tfantasticke\tcomitatus\temblem\tshephuphan\tconfronter\tscand\tparagoned\tscarest\ttikvath\tdroll\tbustles\tzephaniah\tsharked\tfavourest\tblundering\tajax\thvalt\tcandace\tsollemne\tvaliantest\tforetel\tvoweth\tappertaine\tjunia\tseawards\tmainour\tconstructiveness\tlodger\tcorroborative\texecration\t,*\tcue\tatrocity\tcuffed\tgrisled\tgiuers\tbridechamber\tgoodliness\tcreditably\tunfeared\thalleluiahs\tbuildeth\tyaughan\telishah\theadlong\tingraft\ttemperer\taxemen\tinsensibility\tmattathah\treconnoissance\thoky\tabyssinia\tjolts\tplat\trepublished\tlikeliehood\tfiercer\tcaviller\tmijamin\tsauntered\tshoue\tpedahzur\tbilgah\textoller\tkens\tthyself\tnomadic\tcartloads\traham\tvalentines\tduc\tflints\tgeshuri\t_time_\tauthentick\tbochim\tfoundest\tchineses\tdevours\talcinous\teuclidean\tfickleness\tverifications\tmeshech\tchuse\tmutines\tinfinitude\taialon\teiffel\tperfections\tacheron\tseventimes\tremembrancer\tcountermanded\tfungi\tjeshimon\tstonecrop\tseekest\tineloquent\tpocky\tpurloining\tazaliah\tvolubly\tzarephath\tdawdling\thouseless\tprovincialisms\tcleanse\twooding\toverlaying\tartedi\ttudors\tcraning\thesitations\theadsmen\tlept\tentreateth\tworser\tbethpeor\tmanifesto\trokovoko\tjephthah\tiudgement\tdeuel\tunguarded\tflatterer\twittiest\tenquirest\tremovals\tatheist_\tsquilgee\tjathniel\tfranscisco\tcreepes\treconnoitering\tgrammars\thamathite\tcitadels\treddenest\thalloo\tyeomen\tcramm\tplayeth\trhinoceroses\tmeasur\thalyards\ttinking\taliue\tmogadore\tchenaanah\tlancets\tpispah\tcompend\tcononiah\tcircumfused\tnincompoop\tgammadims\tbung\tunhaunted\tstripling\tnightgown\tseductions\tpriestley\tjoanna\tvisor\t1414\tsardis\tevilly\tgiddily\ttartan\tjarah\tmenstruous\tnavesink\twincings\tnephishesim\tunmasking\tnoways\trustics\tahoy\tbeginningless\tweakeneth\twildenesse\tinutterable\tresemblest\tweigheth\tbuyeth\tevincing\ttastin\tfashioneth\tsogger\t_chaperon_\twilkinsonian\tgladlier\tbartimaeus\tweepe\tmorrel\tcopulation\tannuitants\tcolter\tplaudits\tmoreouer\tsavour\tnehum\ttorturing\tstreakes\tmusicke\tscuppers\trereward\tromish\tkeilah\tviols\tnestorius\tcleane\twhitewash\tjackal\tseene\thippolyta\tdecillions\thirest\tnks\tnooses\tcryes\tchastised\temigrants\tenterprizes\tituraea\tcontrollable\tarza\tnahamani\tmelchi\tintermitting\tunmow\tbattled\tsophi\tspiralized\tfang\tdebouching\tdreadnaught\tebook\tendeavoured\tpraiseth\tsiphons\tterzah\tharuphite\tpurueyor\tuncorruptness\tpresumable\tslicings\trappahannock\tmolifier\tavataras\t_wanted_\tdemselves\tuncondemned\tfaire\taboundeth\tsalutes\tatoning\tscrappy\tlongstaple\ttrespassers\tinlay\tfirmest\tscrawls\tamelioration\tbleakness\thothan\tmonkhouse\thelbah\tferments\tdavenant\tcassia\thonourest\tamphisbaena\tstablished\tdeckt\tdreamland\tthistles\tunconquered\tbecks\tcambric\ttroubledst\tswathing\tdomesticke\tphilemon\tshealtiel\thillo\tgrumbles\tkindnesse\trinnah\teyries\thindostan\toutdone\tuntraceable\thazezontamar\tstroken\tlayes\tnantucketer\ttousle\tjucal\tprimus\tloweringly\thealings\ttailoress\t_natura\tspindles\tdisplode\tcrimefull\tpotsherd\tmerab\tunvanquished\ttrinitas\ttarlton\terrour\tbellegarde\t;--'\tbaronetcy\tfreebooting\tespalier\tviewest\truines\tseldome\tsabres\tcholer\tcircumnavigated\thopeth\ttoilers\twasps\tepilepsies\t_times_\tpresaging\tadithaim\tsympathised\tshihor\tramped\tglasse\ttimbuctoo\twinepresses\tfrore\tshameth\tunheld\tquickeneth\tcarpentered\teddying\tsoultry\tpaus\tbulke\tvnpreuayling\tspotlessness\tauroras\tforgiveth\tprophetique\tsoothings\tlubber\tbeneberak\tcupola\ttitania\tbegot\t_does_\tgeniality\tprongs\tinsufferably\tspanishly\trenewest\tishbah\tbetrayers\thoham\tancestress\tannus\tprocureth\tcreepeth\tfeejeeman\tfamilyless\thebronites\texulted\tstateliness\tshebah\tpurim\tmorquan\tillume\tcasuist\tananias\tizhar\tfinery\tcouncillors\tthammuz\tjeuel\tperjured\tbleated\tunconventionality\tforbiddance\tshethar\twestons\tcompra\tpelion\taddon\tbarrell\tcatastrophist\tmurmurs\tdebatement\tdaresay\tdaintiest\thuphamites\tober\tconstantia\tcommandest\tencircling\ttilgathpilneser\tbartelot\tacceptress\tbebai\tmazes\t:\"--\tstubbornest\tsmoake\tdisagreeing\tinnkeepers\tlittleness\tunperform\t*--\tbawl\tearing\thedonists\tvnnaturall\tdeceiued\toakum\thanwell\tarbutus\tvineyarder\tfinessing\tcupbearers\tsyren\thadad\tleviathanism\ttwirl\t,\"'\tdiscomposed\tcynicke\tmanslayers\trevengeth\tenthrone\triseth\tdolorosa\ttrivialities\tbezer\tzachariah\tunstinted\treverberates\tmahath\tjoiakim\tcharmouth\tvosges\tsapphira\tlesse\thypos\tsottish\tticklish\tuprightness\tchinnereth\tlodgers\tunknowable\tdoores\ttexel\tchaldean\thelter\tbalak\tmeraioth\tdirest\tangelical\tpisseth\tbasketful\tdiscreditably\twitnesse\tthoughtfullest\tcrookedness\tbunco\twelkin\trossius\t,'--\tgoadings\ttenour\talimental\tsevenpence\tbickerton\tgyrating\treceiues\tseducers\trarest\tsundered\tshowres\tunclose\tsluggard\tagonizingly\thermaphroditical\tcredulities\theifers\tquiescence\tbreakings\tpattering\tdescriptively\tzorobabel\tpartitioned\texculpating\taher\tthaddaeus\tungarnished\tdelightedly\tindirections\thovels\tshemida\temetics\tifaith\tsafetie\tcuriousness\tbunghole\tbygones\tdimness\tharke\tbraine\thorims\tquils\tespousals\tdissonance\tswackhammer\ticebergs\tbidden\tammishaddai\tdreampt\toddest\t\"--(\tdunstable\tsharke\taduice\tlansdown\trecognising\tdeform\tprodromus\tunreined\tobeisance\tprouide\tshage\t_felt_\tpoyson\tashnah\tlanke\twhizz\tgenitals\thagaba\tduskier\tfertilely\tsamoiede\tbason\tvtmost\tcampbells\troundish\timaged\tvnnaneld\tneighbourly\tproserpine\tparosh\tglorifieth\tdumpling\tpeelings\tthermes\tgoblin\tderick\tblameworthy\tcomprehensiveness\tcass\tmurrain\tpethor\tscapula\tahi\tcertaine\tobdurate\tsprindge\tsaunter\tcontrivance\tcleaue\tstrake\tforger\tdunfermline\tfop\twhoremonger\tenglishwoman\tsplutter\tedify\tceti\tpawse\tlording\tappalls\tunlimn\tiulius\tbenjamites\telealeh\tcrescents\tjoahaz\tdraughtsman\tbels\ttendest\theretick\terweening\twalkt\t_addition_\tfogo\t_i\tproverbially\tahlai\treu\tartimedorus\tjerubbesheth\tmagnanimous\tcymballed\tlaughest\tnorumbega\tcomicall\tgadarenes\tgumme\tvnction\tmouthes\tblasphemeth\tzamzummims\tejaculation\tafflict\thappeneth\twarmest\tstretcht\tshowring\tcobbling\textricating\tgigantick\tconvolutions\tsmartness\tmeribah\tnergal\tgoodly\tshoote\texhalations\tcompeers\tbarrès\tbearest\tconvinces\tgiddalti\tplurality\tlothing\ttremors\tguardianship\toverhear\taccustomary\tingale\tbarnabas\tstaggereth\tcoll\tdeerer\twarding\tfairyland\tmattatha\tachish\thighwaymen\teuen\tbunah\tguileful\tdisclos\tambassage\tpleaseth\tyorick\taesop\tnoph\tsorrowed\tbelabouring\tseuerall\ttamar\tinformers\thandspike\t_allowing_\tthirsts\tinfus\tlibnites\tnosegay\ttrooping\tretaken\trapine\tseine\tonely\turim\tsisera\tfalconer\thandedness\tplowers\teightieth\tgluepots\tunfathom\tconfectionaries\tjeziah\tawl\tundulates\tarmourbearer\t.\"'\tintoxicate\trejoicest\tincivility\tenclosers\tebronah\tsmartened\tocculted\tkew\trheums\tnonsenses\trebellest\texhorted\tbegat\tahumai\tcherethites\tscholler\tmoustached\tappertains\tuncatastrophied\tvervain\tepicurism\timpiously\tnere\taiah\tscoots\tnain\tpuff_\tshamhuth\tmontezume\tmalcome\tmarconi\tcentring\tbigge\tsealest\taurungzebe\tjustifier\tmonwealth\taquiline\therat\tflourishin\tsleights\tointments\tfussiness\t_legends_\tkirharaseth\timprudent\thena\tlovedst\tsledges\tsodainly\tderides\televes\trecompensing\tcapons\tvnbecomming\tpollax\tbootlesse\tpolon\ttomfoolery\thalohesh\tunfeelingly\tunpent\tfaggots\tunfastens\thieroglyphics\tplainer\tswilling\tnavis\tpresumptuously\tspaniards\tcheerlessness\tsurfeiting\tfulfiller\thandmaids\tcounsell\tbadg\tfirth\tcheeke\thadarezer\tmedallion\tsagacious\tswisserland\ttrumpa\tdrearily\tladie\tyeeres\tmisjoining\tcranium\tvaine\tcinna\tayde\tupheaved\tmahol\tschissors\tsowedst\tyander\tsunstruck\tescalade\tenjoyers\tshiloah\tdara\tpeeress\tfigs\tbasilosaurus\talow\tgroanes\ttalisman\tupraising\tshowted\teasterne\tstockinged\tdrat\t',--\tswordless\tmidship\tovertrusting\twrecks\ttempteth\televate\tmastications\tinclinde\tsimpletons\tmidships\tenan\tdigestions\tshoemakers\tinfirmities\tsey\tunsourced\tigominy\teuery\twelder\tfeegeeans\tgraved\tdulness\tmattock\tunoriginal\tneyther\tislets\taureola\trigadig\twisenesse\tjago\tvails\tamazedly\tboomer\tgropes\tmelancholly\treturneth\tcurtseys\tiowles\tvnto\tashan\trazors\tdrumsticks\tgloaming\tcirculates\t--!\tqueenly\tdowrie\tintermits\trefus\tincumbered\tunsurvey\tinscrutably\tspringy\tdiscourseth\tideality\tnebushasban\tbetime\tfetters\tdisincumbered\tpaura\t1828\tbeholdest\tcircumscrib\tbamah\tflushes\tdoorless\taccepteth\tgibeah\tsheepskins\tsippai\tlisteth\tstaues\tdisprooue\tsuccessiue\ttranspicuous\tbartholomew\tmasques\tbesmoked\tconsonancy\tvamps\tunseamanlike\tfaithfulest\tfilme\tfouledst\ttemir\tplacards\t--\"\twarder\tonan\trepine\tsibma\tconcussions\tphalec\tintricacies\tblamest\tflues\timplor\tishui\tbesmeared\tmalignant\tprogenitors\tungraspable\tcimber\thimmalehan\tseyton\thares\tventuring\timpositions\t1873\tothni\trooke\tona\tmonitions\tconnecter\tthirstily\tqueerly\tamramites\tamraphel\tmeerely\tmowings\ttacklings\tlaboring\tjollily\tstridest\tpedigrees\tungodliness\troyall\tlanguish"
     ]
    },
    {
     "name": "stdout",
     "output_type": "stream",
     "text": [
      "\tartlessness\tintercessions\tzigzags\tlimbered\tunbare\talgum\ttorments\thyacinth\tcleanliest\t_recollecting_\tconical\tstrato\tsamoed\thellespont\tidolater\tdisburthening\telbruz\tsupernumerary\terblown\tlivest\tsanguinely\treproachest\thowle\tlemnos\tsweare\tlarning\tgoshen\tchalcol\tpell\tboastest\trapturous\tbestride\thallooing\tbisogna\tcals\tinductive\tlaziness\tdeafening\ttookest\tindispensableness\tinferiors\tsmild\tmethodic\tpalsies\tcumbrous\tfractur\tmesopotamians\trefiningly\therdsman\twindlass\tremoued\tharbinge\tachings\tasherites\tmultipliedst\thackluyt\thadashah\tfacetiousness\tscillies\tbuttes\tnarrations\tpetsora\thyssop\tlouring\trossmore\tkinswoman\tunmoveable\tflatterers\todder\tportall\tpacifying\tplatformed\tbelike\tcommodious\tserveth\tunawed\tmorbific\thosannas\tpoesie\tcrisped\tcyclic\textricated\tcogency\tspermaceti\tuncovereth\tcrapulous\tchrists\tetherial\thilles\tdresse\tchid\toutlast\tbestuck\twildered\tantipathies\tallon\ttearless\thophni\tbloude\treverential\tanahuacs\tconfesse\tvpper\tdum\tunnumber\tunpossessed\tpreachest\thoram\tpitchpoled\thelpfull\tpeninsulas\tkirjathsepher\twaxes\ttrowel\tslewed\tcruet\tbeater\tmodestie\ttragedie\tleftest\tgalvanize\tobis\t_say_\tengrave\tdividual\tdarke\tscrupled\tliftest\tloammi\tlevite\ttobiah\tyawingly\texultations\tjaponicas\ttrickes\tfirstborn\tunaffectedly\tcontrives\tpuissance\tneedfull\tcapping\tdesponding\tuntwisted\tparturitions\tmagnifick\tdeuis\tbagging\tcannibalistically\tcaterpiller\tjaalam\tanani\tomnifick\tramathlehi\tetta\tdreamily\twarrantee\twhaled\tensample\tinflexibly\ttilleth\tsyrophenician\tinly\tazaz\tnohah\tunfrequent\terspread\tbab\tunpardoned\tbannisters\twritest\tsticke\tseir\tcheran\tpourtray\tdomestick\tfriending\tuntowardly\tfortifies\tnebuzaradan\tthrouble\ttallying\tshunn\tcussed\tschoolmistress\tperforme\tsixe\taenon\thereof\trauin\tdivineness\tholiest\tbruis\tinfused\tbreefe\tvnwelcom\tnie\tswaddling\tvivifying\tspoyles\t_jack\teleasah\tiawes\tmarigold\tcenci\tthunderbolt\tfootmanism\txxxix\tnimshi\tsledge\tcallow\tbemoaning\tsconce\tmanufactory\tindulges\twavingly\tstubb\tquicksands\tconvolved\toffends\taught\tpeleg\tmulatto\tcasements\taliment\tdecoction\tmoiety\tfindeth\tpiqued\tsokes\tcalveth\tprattled\treverentially\tvacuity\tgruel\tbethsaida\tfireboard\tkolaiah\tsoleil\tdeafest\t\"!'\thappes\tpartiality\tsavourest\tfieldglasses\tunintelligence\tarboring\tjehozabad\tjeberechiah\tquadrate\tassiduous\tcouplings\tdisrespectfully\tbrawler\tmisapprehension\teleale\tnaaman\tdecamp\thauing\tazzah\tjared\tvnderlings\tbarques\tintercessour\teels\tkattath\tmagdala\t_you\tshiloni\tpeevish\tdescries\tlasciviousness\tworne\tliterats\tordereth\tsirius\toutgrown\tpitchiest\tunsound\ttimbrel\treumah\tdiuided\tbradlaugh\tbenhail\therbe\tcheeriest\tcudgelling\ttimberheads\tcavalcade\thammon\trankled\tmaketh\tsavoir\tpinnace\tbehauior\ttahitian\tmachination\tplautus\tvillars\tinganuar\tcowper\twights\tproscriptions\tfanshaw\tprided\tunfeigned\tgilberts\ttars\tsuffred\tpharosh\tenlarges\tmichmas\tshelemiah\tflits\tgrowes\tlucre\tmainest\talights\tmirthful\tjesuitry\tshebna\tjethlah\tpartialist\tbegone\tinebriety\tpenning\tspirtis\tseales\tmicaiah\tencourag\tinventer\trevengeful\tleaveneth\tentangleth\tphebe\tsith\tlightnings\tsolway\tcircumambulate\tmoza\tintermeddleth\twriggle\ttwig\tshamer\taladule\tscoresby\tthsunne\tcheefely\tcurvicues\tpostponements\tchanaan\tgreeu\tapparant\tdreameth\tsmithies\tplungingly\tpelted\tunstricken\taltern\tvncle\tsnorting\tabsentminded\tphilopater\trezin\tmires\tsimpering\ttob\tsemei\tsuccesse\tjehoaddan\tunclosed\tplacable\tcarstairs\tsochoh\tchimed\tunjustly\tvnity\tmigdalgad\t1726\tpersis\tgadi\tmabel\tlebbaeus\tconjunctures\tkingdome\thoushold\tbegets\tbethphelet\twavered\tbowditch\tkil\tbethzur\tmaterialist\tincontinency\tinsensate\tjiphthahel\tvalencourt\twat\t_snap_\tsourse\trequireth\tinelegance\tdoer\tpind\tgrasse\twhelped\tvesper\tsargon\tharto\tideot\tnehemiah\tharlequin\tdeadmans\tcarpentering\tdeserue\tarriued\thushim\tbreathlesse\thermitage\tgoate\tdimpling\tpelaliah\tmaleleel\txxxiii\tavengeth\theartedness\tcicerone\tclogs\thandedly\tchittim\treadest\tjahdiel\tahiah\tradiantly\tbookshop\tsecacah\ttilon\tjasiel\tjahzeelites\tfinales\telnathan\tsceva\tberi\tcenotaphs\tnativity\tamaziah\thandstaves\teddystone\tvireo\t_et\tundiscerned\ttempering\thasting\tsiphmoth\tnabobs\tpresidentiad\tamities\tnoiselessly\tpapier\tpurifieth\toffendendo\thesperides\tsardius\theshmon\tmoidores\tbiased\tsomnambulisms\timpregns\tsinecures\tworkbags\tdiastole\tunblest\tclarifyings\tbanquo\tdisquietness\toftenest\tconjuror\tshroud\tbrimstone\tioy\tleonine\tdeprives\tcaptiues\tdrizel\tbashan\tdeciphered\tweareth\tplotteth\tinterpose\tspouter\twailings\twagoners\tmout\tpretension\tbrutish\tunanswerable\tspued\tinterposest\thonying\tguni\tpunctilious\tragamuffin\tliefe\talpacas\ttalb\tbeamed\tjawed\tarabah\tkoran\twended\trottenness\tintolerably\tspheric\timagineth\tspurning\tzelzah\tappaid\temigre\tfrolicsome\tahab\timproprieties\tbethinke\toverpass\tspundge\tskein\tauarice\tpasturages\timputable\tthebes\tpiteously\tdungeoned\tvibrate\t.\"'\"\tsaginaw\tpromis\thonours\tbequeather\ttine\tfatfleshed\tcompt\tquarta\trecognizances\ttheudas\tbecam\tbigness\tfitter\tuncoloured\tupharsin\tvacancie\tibleam\tweeniest\tenticed\t.;\tboggy\tuncelebrated\tcamphire\texhalation\tbrigs\tascanse\tclave\tminehead\tbestil\tblowed\truminating\ttatters\tstumblingstone\ttrippingly\tmeshelemiah\tlowness\t--?'\tworthing\twoer\tabdiel\tgalatia\tparliamentarian\trideth\tseuenty\tinterblending\tteazing\thydras\treceyuing\tfamish\tteazed\thummer\treaiah\tdespondence\tunswerv\thecuba\tstampedes\tfalne\tzoetrope\tdasheth\tscragged\trequited\tpeste\troboam\trepulses\tazotus\torontes\tpasach\tblesseth\thopefulness\tcoeternal\theft\tbloodier\tfoundries\tvestal\tmisapplied\tpalling\tswoon\tozias\tembowered\tindiscretion\tshamma\tjehonathan\tafflicts\tlovingkindness\tahimoth\tshimma\tabsents\teremites\twilleth\tmyriads\treptile\tchallengeth\tgazez\tshoreless\tresounded\tcalking\tcolchester\tbilocular\thedgehogs\tzereth\thabergeon\tbirthdome\tsibboleth\twhets\tjanuarius\tsender\trepletion\tmangrove\trevelest\tlye\tbeautifullest\tpaule\tazzan\tabelmaim\timpon\tlier\tdupe\tshorn\themlocke\tmitylene\tfestoons\tdesertions\ttalus\tsmitest\tshakspere\thazarding\tfadest\trecrossing\tvntimely\tpetticoat\tiumpe\ttancred\thandbreadth\thydriote\tshimrom\tascends\tkirjatharim\tspiles\tinvault\tviol\tunsubduedness\tshenazar\tclayey\tvivas\toverrating\thydaspes\trepellingly\tsulkies\tirpeel\tunpardonable\tpounce\thony\thathath\tcrye\tinnoxious\tloone\ttiria\tcoyings\tcubit\tcareys\telihu\tunprincipled\tclamour\toptick\tleige\tbendigoes\tcleaveth\tsolemne\tdreaminess\tcrisscross\tcoasting\thazily\tcyn\triu\tunpardonably\tcomprehensible\tfellowhelper\tcopiousness\tzoroaster\tloiters\tboated\tforetelling\tseyt\trankly\ttinctured\tepaphroditus\tgaspings\tlucidly\tinquisitions\ttaches\taccidently\tlagg\tshreeking\tkist\t,-\tdraweth\tdespotisms\tcogitations\tslily\tdemigod\timplorators\texcepted\tgedeon\tinterre\tabana\tdamasked\tlaconia\tfrind\tjairite\tconniving\twitchcrafts\tsechu\tbellying\thaeckel\tappeaseth\tcincture\tbreaches\tpeor\tassuaging\tpatirosa\tzso\t00482129\t_71_\tshingle\tpareill\thoby\tcallings\tremorselessly\tunbiased\timbalmed\tvnsafe\tdefaming\tresina\tsolidification\tcommandeth\tpuns\tpatronising\tjetheth\tsardonyx\tsucke\tunbolted\tmonarchal\tspurres\tschoolfellows\tslangs\tnumberless\tcana\tphalti\tcuracy\ttuscan\tsparerib\tsbirri\tseemeth\ttransgressions\tcolonizes\tboanerges\tseedsman\tbeerlahairoi\tdarkey\tmire\tsibraim\titerate\tbelial\tnetophathi\tpaltite\tinquisitively\tfiancee\t1729\tmizra\tchelal\targus\t_each_\tsallu\tezza\tauoyd\ttarried\trespirations\tgouerne\twheedling\tcookery\tnoised\t_robin_\tunholy\twad\tpuss\tshavsha\tjezreelitess\tovermuch\tchamberlains\tvedas\thummock\tplaygound\tiudicious\tineffaceable\tsavans\tchapt\traal\tneere\tderiding\t-----\ttrilling\tbringers\teclaircise\tsola\tdeviseth\tanalyse\tsubducting\t):--\tpunctual\tluxuriant\tperesh\tcivilities\telishama\thereupon\tshpied\twaster\tinkhorn\tstar_\ttympans\tclamber\tmalcolmes\tcarnage\tmanasses\tdewy\twellbeloved\twhor\tcharwoman\tshashak\tbeastly\twhisp\tkanuck\tbreefely\tirresistibleness\tcomforters\tavers\tloues\tremaster\tproclaimeth\timperialistic\tshubael\thindes\tbaharumite\tmotiues\tlaodiceans\tbane\ttyros\tbuzze\tjapanee\trefutation\tdesirableness\tmalc\tducat\tginnethon\tforeknew\tdespiteful\timprovident\tunsearched\thoronaim\tfortieth\tzaham\tundiscoverable\tamad\twishers\t_repentance_\theli\tvenome\themispheres\tshucking\tzabbud\tshewbread\tdisembowelled\tcaparisons\tbracton\tproportioned\t_purport_\ttythe\tunwatched\tshitrai\tindented\tjoshah\ttyrolean\tlaught\tyeanling\tsixpence\tcarlines\timpo\tfeareth\tkronos\tmellifluous\trestoreth\tliveth\tzephon\toriana\tcastaway\tgoe\tyarmouth\tsenteries\thakkoz\tshadrach\tsuperabundant\tburstingly\tcorban\testray\trotted\txi\tinsulter\tacceptably\tlakeman\tseyward\ttoth\tunheal\tfleshhooks\tunceremonious\tessaying\tdamocles\tchime\tbelie\tincognita\tsurprizes\tappendage\tamplest\tkneeles\tlacuna\thaggiah\tgalbanum\ttemperamentally\tfestus\tcharlemagne\thermon\tregemmelech\tayry\tbanteringly\thasted\tperceivest\tendive\tinfirmer\tbeginnest\thashbadana\t_puff\tplantagenet\twields\tunderstandest\tsheepfold\thindereth\tthackery\tbavai\twolvish\tunbelief\tpurlieus\tasaiah\toutwards\tdurands\teverydayish\troncesvalles\tcartwright\tespials\tantipatriot\tfagged\tpragmatists\tinsufferable\ttowing\tmacey\tcoppers\tfruites\tjokdeam\tegotistical\tsawes\tanathema\tloungingly\topenest\tsodi\tkingfisher\trainbowed\tchaseth\thazarenan\tulam\tmantles\tsodomite\ttumult\tlov\tthessalian\twantonnesse\thodijah\tdimensionless\thabitude\tinterluding\tbondservant\tvnreclaim\tbetah\tsukkiims\tjecholiah\tpathrusim\treiterations\tdisorganised\tpildash\tblacke\tincenst\tglede\tzogranda\ttroublous\tpernitious\tgorgons\tplundered\tmaruell\trummier\tappar\tthanes\tcallest\tlyrically\tupheave\tmelicu\tinterceded\tjaeger\tbravissimo\tmelzar\tdetaching\tinterdiction\t_adair_\tbelfort\tmomentousness\tselfe\ttrustiest\tlarrikins\tprofounder\toeril\tfining\tephai\tayd\tuntractable\tborroweth\tperambulators\tunactive\tfetiches\tochotsh\toutfaced\tgenteeler\tzareathites\tmarketplaces\tpresbyterians\tpuhites\tglug_\tmoonbeams\tjesharelah\tlancers\tjashub\tspringeth\tdemeanour\tpallaces\tarmenia\tnought\tsituate\tintreat\tbailer\tharboured\tgenlis\tbooble\tharuz\tfeuer\twinces\tredounding\tunseeded\thasrah\tluxuriate\tviolante\tvnruly\tmagdalen\tgirds\tworthyest\tcousinly\tkorah\tsuccourer\tbaptize\tpontus\tgoath\tmizar\tahikam\tforfeiting\tphysiognomically\tgutta\tascriptions\traisins\tleauy\tdeuill\tdazzlingly\tarmie\tfusil\tger\tinvalided\tkishion\tpaarai\ttruncheons\tcrusts\t.!\"\tgarret\tmourns\tzephi\tquarrelled\tpawser\tseparateth\tflowne\tgavest\tclowds\trecompences\tblasphem\tammonite\tscaped\tinvertedly\thaphraim\tchurchwarden\tjehoiachin\ttranquillized\tlatchkey\trivalship\tobseru\tstarlit\tcushioned\tadventured\tsoliloquized\thydrus\trubie\thungering\tinstigated\tunextinguishable\tunicornism\tgnash\tliketh\tlyre\tmehujael\tthole\thittite\trestorer\tquietest\tcapstans\trounce\tlifteth\tioynes\texhortation\tattai\tpitchy\ttesty\tploughmen\tdissembled\tblastus\tunskilful\tapprobation\tbethshean\tlst\tjessamin\tbated\tdunciad\tgraveth\tberiah\tnourisheth\tdrover\tsunless\tdodavah\t_way_\tparadiso\tfrisking\teater\tdedicating\tskylarks\tperceiveth\tshillemites\tgulping\tpuddingers\tmaiesticall\tasphyxiated\tpolake\tneri\tglobules\tdevolved\tkarnac\tmosses\ttikvah\tcaoutchouc\ternani\twebs\thosanna\tmistrustful\tsupernaturall\tknocketh\tdedan\ttwiske\tnebuchadnezzar\tunmeet\tmediaeval\tcomers\tstoical\tkop\tpenetrates\tjaresiah\tpriuates\tbarjona\tsanctification\t_greater_\tovertakes\tfeedeth\tdisdainfully\tauoid\ttranquilly\tmattocks\tboord\tlyne\trecanting\tzebedees\tgripe\tevergreens\tpreuent\tencouragements\tdawlish\tleaven\tcraping\tsabachthani\theadstone\tdistrusts\tjapheth\tcastes\tcoffle\tremembereth\tdouceurs\theigh\toverpast\tblare"
     ]
    },
    {
     "name": "stdout",
     "output_type": "stream",
     "text": [
      "\ttiar\tshaharaim\tsanctitude\talexandrian\tunstirring\tfawns\thorsey\tfornicator\tunpierceable\thamuel\tquaintness\ttravaileth\theardest\tspreadings\tthinnest\tshobi\tpeerelesse\trepossessing\tteff\tjonadab\tgutenberg\tboue\tsuitableness\tuphaz\tsunniest\tcheapside\tsooty\tunobnoxious\ttempestuous\tslothfulness\toutswelling\tziphion\tlimiteth\tsplendours\thamo\twhizzings\tpaged\tadelphi\tupbraideth\tagonised\thispahan\tspendest\tvnkindest\tfarwel\thelpeth\tstereotyping\tgroanings\tundoubting\tchantant\tjoying\twisedom\tstoutish\tgigs\tporatha\tcumber\t1842\tseethed\tomnisciently\tbespattering\tnorthwards\tbogs\tdreading\tprismatic\thent\tshigionoth\tadmeasurement\tmiphkad\tforgers\tdroused\tvenial\tclogges\tlyar\tsombrero\tcognisance\tmysterie\ttogarmah\tfleshhook\tcomfortless\tarchippus\tsubordinately\tpitteous\tlachish\tmessa\tismachiah\tdribbles\tchangeling\tjabbok\truination\tdribs\trebounds\tbosporus\thyrcanian\tpirouetting\tmetaphysically\tossa\texulting\tpreserver\tabelshittim\twhiffe\ttyrannicide\tgilead\tpampas\tgibea\tcapitall\tabilitie\tsolicitously\tjecamiah\tholier\treuiuing\tscoria\twhelp\tintermixture\tarchitrave\tknowers\toughts\tpassedst\thardeneth\tsmoothnesse\tephlal\trabbins\tdalrymple\texcelled\tonycha\taskant\tcretan\tbenwick\tcaphtorims\tassisi\tmurmurings\tsatiated\tbeached\testimations\tbaite\telectrified\tamputate\tmahanaim\tfoame\tresound\twrathfull\tdepopulation\tharuest\tkossabone\tshittim\tfeastest\tstirreth\tinclos\ttammuz\tcastedst\tnibshan\ttrebble\tconnoisseurship\tadramyttium\tgirt\tmonkie\tsaile\tabiezrite\tprofluent\tcoppied\tindispensably\twarmes\toutlandishness\tdefectiue\tineffectually\tfitly\tjeziel\thiperion\tscarceness\tchorals\tpapas\timputest\tvnicornes\tvacantly\tgreenlandmen\tjarha\tbrigden\thazor\tgreetes\tconfessedly\tcapella\twheedle\tdisparted\tdefiles\tputteth\thussey\tforewarned\tnaturedly\tpostillion\talhambra\tgloat\tunderstandeth\tarkansian\tclassing\tforeshore\tdagger\talighting\topposites\tunmethodically\tbashfulness\tfishmonger\tundulations\tinterstice\troadsides\tr_\tdensely\tkingship\t.\"]\tsashed\tblankness\tburiers\trisings\tmutterings\tbelov\tpincushion\ttelegraphs\tlitigated\tjackals\tadue\tobeyest\tfootsore\tahiam\tgawdie\tcucumbers\ttarnishing\teffluence\tbetokening\tsubordination\tmuppim\tunamazed\thakupha\tbreezing\traamses\tirradiate\tbombazine\tcoos\tmakaz\tquantitie\toverruling\tdainties\tenticeth\tgidom\tquadrangular\toccult\tbeene\tbusybodies\tguardafui\tincites\tinditing\tatheistical\tbethtappuah\tquadrature\twhitefoot\ttillest\tcalue\tfrogge\tdeafe\tdiscerner\tdunnest\tberrying\ttins\toare\tabihail\tcreas\tlookist\tcentinels\tseduceth\tmildewed\tdreines\tabida\tillyria\trabmag\t_one_\tsettest\thaggites\tadulterer\truggedest\tfitfull\tkelt\tloued\t_altiora\totways\tmaath\tinheriteth\tkissers\tader\tcompassest\texperient\tpurveyed\t_part_\t_______\thardily\taridai\tdisobey\tsmackin\timrah\tezem\tenow\tmortall\tusurping\tredness\tserried\tchoak\ttangling\t:'--\tshemiramoth\tdecore\ttoyle\ttistig\tprehensile\ttahitians\tenchantments\twitless\tcine\tyoked\tscandall\tvnpacke\ttrickleth\tstandest\ttrimm\tkinsfolks\tthady\tlasha\tscowls\tjoash\tdrearier\tdinaites\timpartially\tteachest\toons\tlandaulette\tmarchant\tfloried\tpackthread\tforerunning\tsufferest\tpendragons\tpella\tinsular\tovershadowing\treturnest\todes\tscarecrows\tblent\tnoblemen\tbackbiting\tanan\tvnbattered\tkohathites\tmizzah\ttottered\tnoder\twhilest\tpremeditate\toblation\tmaidenly\tunspied\tmaonites\thearthstone\tlipp\t_rustle\tayrie\t_miaouw_\tetext02\twalling\tophelia\tsaruch\twayfaring\tsnoozing\tadona\twofull\tcelestiall\tapace\tbestir\tdevolves\tbohan\tdisfigurement\tbeloued\tcaul\troebucks\tencreaseth\tmermaids\tbetoken\tbelzebub\tenthrall\tariel\tammiral\tfirme\tcauseth\tlovelier\tcompassionaters\twinefat\tforewarnings\trabbah\taeneas\ttruckling\tsomnet\thounded\tboatful\tsuckling\tpioner\tclimbers\tmotionlessly\tephraim\treceivest\tremoveth\tdalaiah\tcorporeally\terebus\tsecunda\tleant\tgliding\tshen\tquarrelling\tthunderings\tglints\tnehushta\tfelloes\ttoadstools\tcrackest\tstillest\tsuiting\twayes\tdiscompose\telops\thawkt\tshamir\truinationed\tostrich\tcornish\tjimna\tforgives\tdosition\tarodites\timpure\taddan\tmohammedan\tventiges\t_idea_\tstacte\tdeuils\tterrifick\tpadlocks\tinheritor\tbarnacle\tplayfully\tunrewarded\tthrall\tflit\tdayly\t.')\tencloser\tstoicks\tadmirant\trecure\tgawk\trandalls\t_moment_\tmoreshethgath\tboystrous\tgershom\tbilious\tcoincidings\tachar\tgreyheaded\tkirharesh\tdirefull\t_told_\tdorking\trecluseness\tvouchsaf\tuncivilized\tinherences\tchoirs\tsmallridge\tebcdic\thalfspent\tadamic\toverhung\tdrily\tadventur\tmeditates\tprating\tpalmy\talameth\twithersoever\tsyllabled\treeles\tcabby\truminate\tdefiled\tcloistered\twilful\tcusco\t_understand_\tcommandingly\t,\"--\tavignon\tcheff\tchawdron\tpronounc\tvermicelli\tshamgar\t_sensation_\tdasht\tstatuettes\tsculls\tsubsiding\tjiphtah\tflippancy\tverdes\twarlock\tprythee\tfaders\tunmurmuringly\tleaue\tpalos\thottentot\tcarman\tdeputed\tmanent\tzenas\tshouldst\tmachnadebai\tribboned\tmibht\tbathshua\tbacke\tpelicans\tjourneyers\tappals\tunwearied\tscape\tlivy\tpontifice\tyeomans\tbroidered\tecclesiastes\tcesterne\taudacious\tforca\tmanchon\tshallecheth\tvii\tausonian\thonk\tunimmortal\tcompassing\thenadad\tpsalteries\tenfoldings\tbewitches\thereabout\tmaltreated\tmurkiest\tacquaintanceship\treuenges\trelieu\ttorturer\tamorites\tgrotesqueness\tfalsities\tdunder\tsaraph\tinlaying\tdealest\tobdured\ttrowser\tselfwilled\tmuffledness\tprais\taleian\tlotheth\tshimeam\tbeholding\thosen\tjulys\tillnesse\tunsmoothable\tetext03\tcalleth\tpowowing\tospray\tdimensioned\tshabbethai\twhittled\tprofiteth\tdescrib\tswarme\thallohesh\tarbite\timpresse\tsentimentalism\tdivined\tshored\tintombe\tsunburned\tplayest\t_me_\tmeddleth\tacceptest\tscourgeth\tversal\theyres\tjaazer\tinfolded\tissachar\tamittai\tpitchpoler\tablutions\tsinn\tquoth\tfeathering\tratifiers\trenascent\tscul\tbeatest\tostler\tundissuadable\taroerite\trevealeth\twhereso\tsacrificers\tbesmeare\toverlording\tpenitents\tdefiancies\tscorne\tcomplacently\tocran\televatedness\tswifter\tshouteth\tunsurpass\tprivateers\tsob\tmonkford\ttahanites\tbamoth\thierarchal\tbestowes\tsixpences\tfabrick\tvisiteth\tdispaire\tsubscrib\tmercifull\tasps\tbursal\tweakling\thazarsusah\tizri\tstriue\tantichrists\tdesirer\tdeclareth\tprenticed\telizur\t_most_\tdelicateness\tshrieke\teligibilities\tgowne\trelapse\tcrowes\tmaugre\tadmeasurements\tmysia\tcheefe\tanem\toshea\tproperer\tgestation\tdoored\telidad\thaply\tuncreating\tfarme\thobab\tmortising\tjaanai\tingenuous\tverities\tcride\tstowaways\tzetham\ttash\tkenites\thoised\tmockers\tinterwove\tyees\tlictors\treadeth\tbreaketh\tapprehending\tgauled\tstreamers\tprogresse\tsprinkleth\tiewels\tblabbing\tbluer\tcontumely\tunhallowed\tfirebrand\tkemuel\tindorsement\tstokes\toren\tayres\ttithing\tsupposall\tpotsherds\tpurifications\tstomacher\thilts\tturneth\tbichri\t_but_\tfluking\tfetcht\texecutest\trecomposed\tthronged\tunobstructed\tchelluh\tmisers\tsaphir\tcloaks\tvegetarianism\tdardanius\tdews\thamath\tmuteness\tprodigiously\tfann\tperswasion\tpriggish\taltays\tkishi\tdissipation\trendeuous\twindrows\tsucklings\tmigdol\tsmotest\toutreaching\tbarbacued\thindermost\tslewest\tdexterously\tglutton\tagate\tous\tmattan\tscimetar\tels\thyperbolical\tbaalis\twarlicke\toverrunning\tmeale\tchesil\tunshackled\teyewitnesses\taziel\tsmooths\tligarius\tamiably\ttelharesha\tunlighted\ts_\tbusiris\tsomersetshire\tformes\tdespight\tunhelped\tvnbated\twonst\tnly\tsatyre\tpryed\tderring\tforeskins\tjeer\tdispatchful\tstartles\tbrun\tcorporals\tusurpation\tglozed\tvacating\tcasuists\tmidianite\tunpersuadable\t_them_\tazmon\tunlading\tfeedingplace\tejaculations\tcroft\tministereth\tpreparatives\tarchelaus\tuntaught\tloomings\tensamples\tbehoves\tdemolishing\t.\")\tmodell\tjarib\t--,\tgirdling\tvashni\tbalm\tmizpar\tjarring\tpersecutors\t_miss_\tmisused\thems\tforseeing\tkerchiefe\tcorrelative\ttane\tnoadiah\tachaicus\tcompends\tlais\tsupplyes\twooing\ttare\tbethbarah\tresolutes\t_misery_\tobliuious\tpurty\tknowne\tpromo\t_was_\trepaire\trheumatisms\tthummim\tsabean\ttabrets\tincomposed\tslaues\tstarers\tshimmered\tdisrelish\tdefenceless\tcosa\tjokneam\tpigliar\tzabdi\tknowest\ttransparently\tscum\thungerbitten\tbandbox\tsoundeth\tiibes\tbethlehemite\tbackstay\tjozachar\tfanners\tthahash\tmikneiah\t_little\tmisfire\tworth_\tjorkoam\tafther\tsophistry\timposingly\teyest\tordains\ttiresias\tunwarrantably\tgulch\tplanetarily\tigeal\twhoel\taphik\toffrings\tretailed\tbetook\tunwedded\theled\tunapparent\tkanadian\tspurrings\tintertwistings\tbendeth\tmonarchs\tfirmament\tapharsachites\tscarry\tsheshai\tblackbird\tunforbid\tconfectioneries\tblucher\tdesist\tbrindled\tsecresy\tmatri\toutwitted\tmacedonian\tsymbolised\tashteroth\tmistris\tquickely\tchepharhaammonai\tcylindric\tasphaltites\tbask\tfearfull\tzuph\trespires\tmuscari\tgoloshes\tpontoppodan\trestraine\tiocund\trevolutionise\tcostermongers\treba\tananiah\tbeshrew\tjeering\ttarshish\tdamascenes\tsodaine\tcustard\tmorrows\tspirals\tsuckingly\tvowedst\tencore\tdaintiness\tlandskip\tdissolvest\tgruffest\tmullein\tseweth\tcommitteth\tnachon\twinterhouse\tensanguined\tchesed\t_philip_\tpoplars\tcaboodle\tehrenbreitstein\tchastening\toutflew\torcus\tgilboa\twafted\tunstay\tsextons\tshaalbim\tweepons\tjustifies\tdalmatia\tparsee\treuerend\txx\themp\tophites\tsyntyche\tawestruck\tsceptered\tascension\texpatiated\tselvedge\tsupportable\txiii\ttritons\timblazed\thuppim\tcreepingly\thelmeted\tpeacefulness\tcountest\tunbrushed\tdaringly\tunbutton\tcourageousness\toccurrent\tpois\tcankerworm\tirascible\tbaalhazor\tmasker\tireton\tdears\tscap\tburghers\tprankes\tmanhandle\tdisarrayed\tgirl_\ttebeth\tarrum\texpensiveness\tammah\tarieh\tcrusoe\tbesooted\tdoubters\ttinned\tpronunciations\twilily\tprepar\tinquiringly\tchangeth\tgauzy\tmugger\tcuth\tupstarts\tmarketh\t1795\tuntried\tmariners\tshelomoth\tallonbachuth\tconfections\thesebon\tperdinavititis\tunlightsome\tencountred\trepulsively\ttrachonitis\tsleighs\tbestead\tselah\tsorcerers\tsaluation\tprosing\tcin\traspberries\tassignes\toratorios\tretaineth\tbamboozingly\tshecaniah\tburs\ttemporizing\timmutability\tservility\tunconcluded\theaues\tlapland\trosh\tcharmes\tmisgiuing\tsharer\tstrello\tinsinuate\tthould\thurle\ttaints\tgoggle\tsmutch\tsheeny\thonourably\timperatively\tcompell\tbedfellows\t.--,\ttinkerings\tsavagest\tjesher\tfringing\thezron\tanatomist\tthreshingfloor\timmolate\tluckless\tmeraiah\tdaintie\tdooryards\tneiel\tbefalleth\tvnhappily\teran\tnipper\tsatirizing\tphilosophie\tpurgeth\telzabad\tfactious\tduellist\tmiddin\tbirthmark\tgourmand\tswayings\tadornments\ttoddies\tstephanas\tmethusael\tmattanah\tmolid\tcommiserated\tbaboon\tladders\tjoshaphat\tfullers\tpertinacious\tcanneh\tdreame\tcloke\tmurthers\tdroope\tbernice\tfructifying\tobseruance\tfontarabbia\tunexpressed\tnewness\todours\taiath\tpennoned\tstammerer\tmaneh\tdarefull\tvole\tbastions\tbokh\tresurrections\tworsting\tmoneymakers\tiudges\tunobjectionable\tzophah\tgoblins\tmonarchies\twafers\tbattell\ttrauailing\tplatte\trememberest\tcroquet\tleysure\tobadiah\twickedest\tselim\tunreach\twantoned\toutblown\tminding\tdeceas\tspightfull\tslaver\tmusgrove\tneapolis\tvnlesse\tserf\tcouriers\tjourneyman\tirreproachable\tcaramba\tblabb\ttremisen\tmatthan\tsaddest\tgeranium\tuntranslatable\tsnored\tgamming\tcumnor\tquaternion\tplatitudes\tunrighteous\tseneh\tsubdivisible\tforewarning\treproacheth\telsenour\tunspotted\tparchments\tthinkes\tsorowes\tabdon\tsparrows\tmontague\tamiableness\trebounding\trabbath\trefutes\trailings\tfestoon\txxii\ttherof\twisconsinese\tdrubbing\tvnpregnant\tconuenience\tinterminably\tfrowardly\tziha\ttransgressors\tappellation\twaketh\tpomfret\tdicotyledons\tnethaniah\tsence\tavims\thesiod\t?--'\treverberate\tuncaged\tcleophas\tfeegees\thylas\tconsolations\thorridly\tmurtherous\tindiuidible\tbefriending\tharoeh\tepicureans\tgatam\tascendeth\treydan\twigwams\tbewilderments\thuskings\tawak\tenjoyest\tcrooke\tdons\tvisitest\tahijah\tincorruption\teares\ttheoretic\tcountersign\tetrurian\tgoodnatured\ttalebearer\tjaddua\tcarrions\talmondiblathaim\twakens\tunlearned\ttestifieth\tfitteth\tvntouch\tcombate\trabboni\treassumed\tdotings\tades\tvaticans\tsheleph\twhales\tbrutus\tshtands\tsupped\tbroadcloth\tenvier\tvnpolluted\tdeuce\tprotrusive\ttertia\t_nearer_\tanglian\tsadnesse\tglooms\ttrumpeting\tbethpalet\tcoxe\tsilks\teleutheromania\tploweth\twaif\tharts\tdooks\tpadan\tteethes\tdodanim\trezia\tboxe\trebuker\tswaths\taesthete\tcontinuest\tpuget\trepents\tknottie\tcompleat\tmesobaite\tholdst\thangeth\tdisclaimers\thistrion\ttittered\tlendeth\tflieth\tmoory\tahuzam\tpesant\ttaffrail\tfollowes\tchrysolyte\tabideth\tplundge\t!--(\tplutonian\tpunick\tsamaria\tthrascias\tfirkins\tunflinching\tvauntingly\tcocksure\tmicha\tcostliness\toverwrapped\tloades\tatad\tgrievously\teliab\tperceivers\tiew\tafric\tniggard\tuncreate\tmeditativeness\tmindes\tspermacetti\tenkindle\tvisitings\teliathah\tsentinelled\tatomies\telpalet\tstaving\tquarrelsomely\tdehavites\timparting\tpopillius\ttobit\tverde\tfulnesse\tstraiteneth\tpitchpoling\tgoddesses\troate\tbethhoron\tlethargic\trachab\tsublimity\tchivalric\tbradith\tsprawls\tbridegroome\tsaftly\tfaerie\tdeere\tetam\tingin\tspectroscope\tminnith\tscarffes\tsmiters\tenterest\tsubstratums\tlouers\t_well_\tgathrimmon\ttarpelites\tgombromise\t_roar_\ttusitala\tprostration\tgrandam\theccats\toppositions\tshipwrecks\tembarks\tflogging\tsorer\tkinsmen\tjeshua\tmoity\tboxing\tbezaleel\tobjectless\tundiminish\tbraithwaites\tpropos\tsoloma\ttochen\tsidonian\trarities\tbiztha\tdamme\treverting\tgrantor\t_pop\thimmalehs\tcatched\tzabulon\ttweeds\tdaberath\ttarea\tshnipped\tintervolved\tbaaltamar\tfixedly\tgaein\timprimis\tsleepeth\thewn\tthrowne\tleviathans\tscreamer\t_so_\tloftier\t,--\"\thattush\tsaluteth\thaggith\tbushy\tofficiously\tphilologus\tcollectedly\tscribes\trased\tsaco\tpoled\tredstart\t--'\"\t_myself_\tunappeasedly\tcannikin\tfounted\tjollity\tcorpusants\tnepheg\tfattest\tbasted\tsuccessions\tsupposest\tbethshemite\tmincer\tpondereth\tgorged\tracke\tblocksburg\tearneth\tarousable\talehouse\t_who_\tioyntresse\tfleans\tshibmah\twiddowes\thoar\tcryedst\tcumbrance\tsnuffdishes\tdistinctness\tflexion\tidolatries\tmastership\tfretful\thormah\tdecrepit\tcapitoll\t!)\"\tdantean\tblubbering\teyres\tunblam\tchoppine\tstatists\tpropounded\t_answer_\tpatara\tcanes\tputney\tretyrement\tunstaked\temendation\tderiu\tcosmopolite\tobituary\tcibil\tpshaw\texpung\tcourtesies\tperches\tgesner\taccho\tgirding\tinvisibility\tretrospects\tomnipresence\tundismay\tconfiscation\tdeclension\tbigtha\teliakim\tnimbus\tinheritances\tmedicament\thaahashtari\tchloe\tnavvies\ttarre\tcataloguers\tquohog\tvnkindnesse\tdirgelike\tearthen\tsilverlings\ttwentieths\tzaavan\tleav\twellspring\treservedness\tabiasaph\twoodlands\tunpursued\tclambring\tbelou\tiustly\tadultress\terites\tlangsdorff\tsuborned\tfoolery\tneziah\trailer\tdally\tkenite\theinousness\tcracke\tmearah\tvoluptuousnesse\tintentness\tbethgader\ttruster\taspatha\tsanctifieth\theton\tedg\thomewardbound\tcontemneth\tbelievest\tposset\ttartarean\tunagreeable\tcurtsey\tscourged\tfeauer\tinforce\tjesimiel\thabitan\tsimilitudes\tneedes\tspels\trouce\tcondescend\timmerses\tforgivenesses\teateth\tasse\ttwigging\teuills\tcontemn\tshalem\thostlers\tcleopas\t_too_\trationalists\trestrainest\tfoldeth\tunspeckled\tvertebra\trightlier\tabusers\tsidmouth\tveyled\tinfixes\treigne\tcannibalism\t:--\"\thoopes\tuxorious\tpanado\tconsolator\treveries\tbuz\tjehoadah\tridest\toverbuilt\tsophist\tbric\tuncrown\tjanna\tfamiliarized\tundersetters\twouldst\tretrospection\tcowls\tlandless\torifice\tunsatiable\tscruples\thippopotamus\tedification\tcorrupters\tamorite\tsines\tmessias\teuerie\tunessential\tgileadite\tacceding\tithrite\tpining\tecliptics\tholburn\t_little_\tdeify\teternall\tlongeve\tunexpress\tlahor\thusbandman\tvowes\tconfectioner\tblamable\tturfe\tcogitation\twindowes\therodion\t!!!\"\tvaunting\tobloquy\tnumbed\tsiddim\tpuah\tdeseruers\tlonelinesse\tmegiddon\tebed\tscrofula\tjunci\tbapt\tfavourer\tprophesie\tmouthfuls\texudes\tsubstantiated\toverwhelms\tmene\tkindhearted\tdiddled\tshard\tgeometer\tsintimint\tperillous\tcommuned\tidolatresses\tvaliditie\twaterest\tmanx\thazael\tpurgatiue\tdescents\tunselfishness\tbezai\tvivaciously\tantiochus\tnethermost\tlunatics\tharangues\tbridleth\toccurrents\tassaies\tposer\thones\twringing\tshowghes\tpalmerin\tzarthan\tparteth\tdefamed\tundefended\trequite\tdeceiue\tjournalistic\tfinsbury\tsinkes\tgrierson\tpierceth\tnerues\tgirdeth\thannathon\tastrologer\tjeiel\teterne\tvnseene\tdisqualifications\timpittious\tconcision\trizpah\tplowdon\tpinon\tbanyan\tintreated\tequiuocate\tamanuenses\tardure\tchephirah\thayters\tconnexions\tseraphtide\tvniust\ttermagant\t_why_\tvasting\t1760\twooll\t_some_\tsodering\tbossuet\tcaiaphas\tcoenties\tcornices\tpergamos\tfestooned\tloo\tunsweetly\tspiritualist\tgashmu\tuntutored\tuncheered\tcylindrically\tslatelike\tanyrate\twherewithal\tcajoling\tsibbechai\tgiloh\tgonfalons\treuenge\tamalekite\tintreaties\tpachydermatous\tovercareful\tcrusty\tcouert\tcavaliers\treaks\tarmada\twindrowed\ttermes\thoning\tono\tchedorlaomer\tbestriding\tahilud\tmattenai\toxygenated\tbolter\trascally\tizrahite\tlibbard\tanah\thibla\tsodom\t--------.'\tcompassions\tsteamships\tmossbonkers\twithall\twolly\tdonal\tesau\trunnest\thabaiah\teglaim\tdrivellers\tren\tpineth\tharan\tscatheless\tcurvetting\tinstilled\tmufflers\tmantling\tquitted\tfeares\tstoopes\tlillys\tpurgers\tnetherward\tmarlinspikes\tundecayed\tanab\tshuffel\tdoeth\tlymbeck\tquartered\tynch\tadn\tfejee\tsecludedness\tbulgarian\ttravailest\ttympanum\tprevailest\ttongatobooarrs\tquadrant\tgriefes\tberber\tglobous\tnighest\tchidon\tpreventer\tophion\tauouches\tnecessitie\tperezuzza\tmussulman\tunended\timmortals\tunpraised\tcharr\tamazonia\tswirls\texegetists\tspectralness\tkinne\tbarhumite\tvictis\t_h_earth\tjahzerah\tmaaziah\tleper\tsubdivide\tcoronations\tmisinformed\tincognito\timploringly\tnantucketers\tpelonite\tflagons\thelmed\tpiedro\tspiracle\tpedaiah\tpatcher\twinks\ttransgressor\trelinquishment\tbonet\tunquarried\tmanfully\tunsays\theedfully\t_ten_\tengirth\tparmenas\ttenderhearted\tforsookest\tdisagreeables\tchaplesse\tforeplanned\tcozens\tabagtha\tgeuel\tfelow\tprescient\tauger\tspasmic\tbuoying\tberechiah\tbutchers\tbumpkins\tophrah\tsenaah\tseduc\tannulled\tmahlon\tmortifications\tweeke\tbroodingly\thussar\tiocond\tharmes\t1652\tclew\tshemeber\tfleshly\tafer\thartshorn\tchiaroscuro\tcouldst\tmulberries\ttrappers\thangmans\tgushing\ttrellis\tremov\tgrammarian\tbaalshalisha\thodaviah\tdulcimer\twalke\tbetake\tintrenched\tencamping\tconspirator\tprincedoms\tscaena\t_any_\tjonan\tshalim\tambulanza\tunresisted\tappeares\twilfulness\tteneriff\tcentenarian\tkansian\t"
     ]
    },
    {
     "name": "stdout",
     "output_type": "stream",
     "text": [
      "bewaileth\trubarb\tgalvanized\thaile\tdaggers\tunfledg\thighth\tellasar\tbllcr11\tabarim\tthroated\tthinkst\taccusers\thunchbacks\tazel\tbeauchamp\tpassports\ttumults\tquayle\tmustereth\tinterude\tarbours\tcawdron\talleviations\tpromontories\tinsipidity\tpransings\tmuffle\tfaulcon\tgreefe\tjabeshgilead\tpobox\tcaphtor\tplateaus\trechah\tdeliciousness\tturnes\tlepers\tmerchantmen\tunderfed\tbllcr10a\tcornets\tuthai\tgolgotha\tpransing\textolled\tboastful\tcredent\terelong\thalhul\tvaldarno\tulysses\tchiefe\tconfin\ttarriest\tmerom\tedom\thumblest\tcaska\t;--\"\tfardles\tzephathah\tpuzels\tperezuzzah\t_bath_\taske\tbestirring\tlamenting\temerg\toeuvre\tfrobisher\tashima\tcockades\tlemaître\tshamefully\tcentaurs\tbehoved\tpirathon\tjub\tinhospitably\tstord\tvinculomania\taffayre\twherfore\tunlover\taboriginally\tmarvellously\tsauvera\thoard\terrest\tangers\tunannounc\tgodmother\tknightleys\tzaccai\tsare\tbobs\tfowlers\traking\tcursorily\tlud\thermonites\ttelled\tgetteth\tilium\tchaunted\tyawed\tlethee\thumiliations\tpompeyes\tdisconcerted\tangerly\tcudgel\tlusteth\tplaything\tsurety\theber\tmultiplieth\tcostless\tuzziah\teffrontery\tcyrenian\tloggets\tastir\tspleene\tsuperfine\tdandled\tpegu\ttropick\tteacheth\tamal\tjehezekel\tvngalled\tgymnosophist\tvindictively\tweening\trelapses\tstunsail\treconnoitre\twhirred\tarrear\tgam\tshuah\tdab\tmansonry\tbetters\tgrafted\tplye\tgarlands\tsterner\tengendred\tshimei\tmountaineers\troome\tpyres\tantarctick\tbeachy\tthemselues\tbozkath\tcarnall\tuninjurable\toxeye\tjashubilehem\tvlcerous\towlish\t_cinderella_\theifer\toppress\tcardamum\tvaunt\tconioyntly\tadmah\tgallowgrosses\tthievery\treconcilement\tchios\tadoring\tprayses\tepistle\tjahdo\tsollicit\tmourne\tregicide\tincoherence\tbrahma\t_blunder_\tinterspers\talbicore\tasprawl\tvilde\tsterrill\tforraigne\tinfirmitie\tamzi\tstickytoes\tsurmounts\tyourselbs\tsechem\tbargainers\telihoenai\tenam\tshilhi\tplatonists\trobespierre\tdeaftly\tmanservants\tunbiddenly\tdahoman\tedifices\tlaunchest\trequirest\twoken\tmaritim\tvnbaited\texmoors\tdarwinian\thighnesse\tpedler\tgallim\tgwynne\tdonalbane\trosamond\tmemucan\tmowsing\tmachbenah\tsauing\tbrimming\tcandelabra\taggregated\tstokers\taner\tbluest\tbehaued\tthroned\tiim\tthrewest\timna\tmattithiah\tbarkos\tcommuning\tretriev\tzaanannim\tinwreathing\thilen\tdamnable\tbethelite\timbrowned\tsweetbread\tswimmer\twavering\t_very_\t_whir\tfolger\tunmarred\tcarriest\tspiritualistic\twhist\texeunt\tstrictness\tbishlam\tboyle\tinconsiderate\terysipalite\tsterne\tdiadem\tstrown\tbuilde\tcanoniz\tencorps\tinclining\tmaharai\treceiv\tjehud\tbutterless\tmourneth\thostilely\tstept\tsurceased\thorem\teshean\tcornelius\thadattah\tcruse\tbaara\tpawnbroker\tapollos\tlucent\tindus\tunblameably\t_boiled_\tjabin\tintermitted\tgurge\tenigmatical\temmaus\ttranquillize\tchock\tcurles\tflamingo\tmatchwood\tkeepsake\tcloths\tdeceptions\tvnsifted\treadier\twhiffs\treceit\tformules\tezbai\tcleanliness\tpreme\tpihahiroth\timblazon\ttenpin\tshemidah\tashchenaz\tshaketh\tqueernesses\teshbaal\tdisbands\tepidaurus\theauens\tpoliuto\trowlocks\tshihon\tbirsha\terewhile\tzin\treclines\tmemphian\tseise\tfettered\tbesor\tsolecism\tjesui\tprethee\tanakims\tunweighed\tabednego\twideness\tcoon\taddi\tliue\tscowre\trammer\tgrug\tbethdagon\tbecharmed\tgirded\tgirgashites\tdrugge\tarraigne\tdedanim\tthicke\tcrescens\tcupolas\tthatched\triotously\tmistah\tzay\trecomforted\tdefaced\tsunshade\tundulation\tauroral\tbefriended\tunremark\trondure\tjamlech\ttirhanah\tsunlit\tinuites\tzooks\tsoules\tinseparably\t--:\tembroiderers\tpantheistic\tparacelsan\tpannier\tephah\tabitub\tcartload\tkiln\tfurbusht\tmisgiving\tintendest\tbridles\taltay\tachzib\tbeninu\trepayed\tsimpered\tarriu\tscanted\tclangor\tblacken\tomnific\tcondescendingly\tbowmen\tundecked\tfaithfulness\tunforeknown\tindecorous\tcosines\tizehar\tmercie\tvoyagest\tharpooneer\tformentation\tblotteth\tswaies\ttreasur\tshtone\tplata\tpharaohhophra\teidolons\tungenerous\ttahpenes\thaggai\tdeprecating\teffacement\teteranl\t?\"'\tohad\treproofs\tcounterfet\tquerilities\tarchi\tfrustrateth\tdrugger\tdiscontents\tvpon\tcaroling\tchomped\tastley\tsomeuer\twhoring\tdevoureth\tmalluch\tshehariah\tdeuice\tbraines\tvillainy\tmoabitess\tpleated\t_compassion_\toverclouded\tsate\timpulsiveness\tsoliloquies\tfourscore\tacclamations\tquestionably\tdissembleth\tcarelesly\tzarhites\ttidiest\tmatthat\tcrish\tschreemes\tsteads\tabsenting\t_compliments_\tahohite\tchuza\tdiminute\tdisturbers\tuptore\ttendance\tchrysalis\tnaham\ttelharsa\tsteamers\twombe\tquainter\tfleeced\tbosh\themath\tjourneying\tquakerism\tdireful\tvivifies\tmoued\tundeserving\tnueces\tcordials\tbewept\trueful\treachings\ttwould\tfellowsoldier\thadar\tunexempt\t1839\thowted\thonoureth\tanomalously\tcruppered\tdoct\tshuham\tpoca\tplenteousness\tnephtoah\tcupbearer\tetait\tbasmath\tvnaccompanied\tphysiognomists\tcanaanite\tredounded\tslayer\tscotching\timmemorially\tsufficit\tdimm\tadbeel\tattyre\tagar\tsapphire\tautomata\tmealtimes\tluridly\tsheiks\tcatcheth\twonderments\tsheth\tjabbering\themm\tpreluding\tbetokened\tmilkiness\tadalia\tlayest\tglooming\tpromulgations\tassiduously\textrication\tsepharvites\tsagittarius\tstriker\trepublica\tgenealogy\tbabels\twretchedly\tmadian\tdefie\tsweaten\tineradicable\ttutte\tslacked\tperpend\ttema\tpinmoney\tbanke\tcorals\tendued\tperseus\tpats\tinaugurate\tassos\tstunsails\tadjured\tmowes\tforedoes\thatchways\treticent\tkarnaim\tibnijah\tinelegant\tcompendious\tgebal\trecommencing\tflayed\tbarcelona\tkingham\tsorek\tbackbiteth\trefraine\tclaime\tlaboured\tshold\tminerall\tuninviting\tunbenighted\tthyine\tsaucepans\twaltzes\tunforgiving\tsuppresse\tchattahoochee\tercoco\tsuchathites\tsubterraneousness\tacquisitive\troyals\tshoco\timprovisatore\taleppo\tinsanities\trephael\t_treasures_\thammelech\tplaint\tterraqueous\tsuperadded\tuncloses\tspirts\thamongog\tbefitted\tpistoles\tpublican\twinnoweth\tappal\t_courtship_\tpoky\tphineus\thuntest\taery\tduplicity\tatoned\tsentest\tincautiousness\tvertuous\tmow\tbahama\tlovingkindnesses\toliveyards\tharrold\tberites\tremedie\tcleverest\tmacy\tabassin\tstufft\thararite\tdonwell\trestoratives\tnonentity\tfixity\tstealers\tazarael\tcloathes\tcrockery\tstretchers\twomen_\toberon\tcloven\tcalmes\tlory\tteneriffe\tmozambick\tquiver\tstarless\tspinet\tsisamai\tkentuckian\tpollonius\tstampt\tlayeth\ttwere\tfoile\tadust\tthether\tchurchwardens\tpartridges\tmutable\tdecketh\t\"?'\tmeate\tundimm\tdiabolick\tjubilee\tpeazants\t_tout\tcrookedly\tautre\tmoues\tinfecting\tcleaving\telocution\tpressingly\thie\tboule\tclos\tdrolly\tbootjack\tearles\tfighteth\t_can_\tfakes\twinneth\tgimzo\tconscientiously\tforgavest\tstools\tforelock\tophiusa\tescalloped\texhale\ttypist\timpregnable\tinferiour\tgittite\thirsute\tmahali\tgoer\tsirrah\tnimph\tlistlessness\troote\tsmatch\tsabbaths\tpettifogger\tpathetically\tdemurs\tlowd\tmanoeuvr\tswashing\t_your_\tprostituting\teternam\twallen\tingannato\tramshackle\twaken\tgarrulity\ttristfull\tnigher\tcockfight\tporker\tequipt\tsardites\trustles\tvisitant\tshamble\tebal\tjosabad\tbaalath\t_real\tsitnah\tunbuckling\tpaddington\tconcupiscence\tmantua\tnebai\tseethingly\tfrankincense\ttouchest\tdiuine\tshuni\trosincran\t_three_\tshew\tdepriu\tcocoanuts\tcouplet\tdisplac\treprobates\tshews\tstorme\tspurre\ttrots\tglitters\tweyward\tantipas\tbungle\tactest\tcriminologist\ttupper\tcorkscrews\thucksters\tunctuous\tarcturus\tupholdeth\tcottonwood\timperiall\tpestilences\tdesisting\tabsolv\twithholds\tbrokenfooted\tjaculation\todorous\tteman\tagonistic\tsubconsciousness\tshropshire\tplaiting\tspaniels\tayme\tsaide\tchippewa\tdanjaan\tcalumnious\tburglaries\tuncurtained\tsawest\tpaternity\tkeziz\trauen\tpagiel\twalruses\tdrachmaes\tmelchizedek\tstrewing\tdoubtfull\tunutterable\tgleesome\tdieth\tvindictiveness\tibsens\tmortifying\tjapans\tvolubility\tliues\ttattle\tafflictest\tjakan\trhetorical\tprogress_\tthamah\tsailmakers\tjeshuah\thugeness\terastus\treasonless\tkindling\tductile\tstatued\taltars\tmesopotamia\tdeliberated\tviiith\tswordstick\tvneffectuall\tstonie\tupbraidings\tbimhal\tdinn\twonted\tleafage\tvolly\tjasher\tblackguardly\tdawned\tprobationary\tconcomitant\tzeboim\tagabus\tpowering\texistences\tunfaithfully\tbethaven\tfoetor\tjags\tapprovest\tunperplexed\tmadder\tmathematicians\tvessell\tcomforter\tanticipatingly\tpatapsco\tdrippings\tcollops\tscold\texternals\tiaw\tchoughes\tnahshon\tdeiect\tjerahmeelites\tturbid\tadonizedec\ttantalize\tzeror\tmusgroves\twolfish\tincens\telzaphan\tbetroth\tdiscordant\tcronian\tsabtah\tpickest\tmazy\tamasa\ttrottoirs\tquoggy\tpersuasiveness\thawser\tromage\tilles\tminions\tgazingstock\tunclothed\tponiards\trind\tmalcolme\tteokallis\tvnmake\teverythings\tbeleaguering\tcovertures\ttekoite\tabialbon\tadjudg\tlousia\tgrudg\tinextinguishable\tbolero\tashbea\treturne\tastonied\tbookbinder\tadorneth\tsalamed\tcullest\tleviticus\telectioneering\tstomacke\tspademan\tpomps\teluzai\tsupping\tcheerly\tthrum\tiot\tvasco\toders\tboaster\tsarai\tdoeg\tarsacidean\tethereous\tcurtsied\tampstead\toutree\tisolato\tcarmi\targufy\tabstainer\tsoales\tmachirites\trowels\tziph\tarbitress\twenches\tconuerted\trepairer\ttopsy\tabridgements\tkeepes\tbeeves\tinhumanity\tunlook\toppressions\tnemian\tjehoshua\tregistred\tbukkiah\tdrie\tpastured\tremaine\tlontano\tplase\tforerun\twoolsack\tpaynim\tzelah\tventing\tpekahiah\tcockade\tcaphtorim\tundiscouraged\tpeece\topiate\tterah\tseared\tbeholder\tdefinably\tgathereth\tgoodhumoured\tvillaine\tabiah\tdeserues\tpatronizes\tbelubed\tbeak\thabitations\trayne\toary\tahava\tgrandsires\tpithom\tungraciously\tundeceiving\tstilly\tvallombrosa\tflingers\tvngently\tkelsons\tjahleel\tstiffnecked\tfro\taforetime\tworshippeth\tattalia\tlavers\texampled\tvnshaped\tpigmy\tfallings\tostalis\tgowanus\twoodhouses\tbeckens\tdevouring\tcymber\tshimeath\thalibut\tuntired\tdiviners\tkink\tjotham\tsmarting\tplayedst\tewer\tavites\tprofaneth\tjaala\tdogge\ttann\tophir\tfailings\tindiamen\tprofundities\tsoothsaying\tsolicitations\tpua\telon\ttransfigured\tbrigandage\tprate\tmystically\tvisaged\tratled\tlongedst\tjehovahshalom\talijs\tpowerfullest\tunperfect\ttubalcain\tforewarn\tsinneth\ttalkest\tripen\tbuilded\tazaziah\tbelah\tseverest\tfluttereth\tspoilest\toarsman\tlightnesse\tjavelin\tstateliest\tblackberrying\tbowlders\tvppon\tgamboll\tkareah\tconsecrate\tcods\tmarys\tundiscriminating\tvengeful\tdogger\tlecturers\tthreatenings\tleviathanic\tdistrustful\tclef\tzerahiah\thousekeepers\tdut\tfanatic\tscribbles\tbodykins\tgammon\tshechaniah\tvilely\tintangibility\tmoneychangers\tabhorring\ttransgresseth\tredounds\tbressed\t1603\tpudens\tarchite\tburin\tmiamin\tkild\tjochebed\tahian\toutriders\tintrepidly\tsowest\tembayed\tdisinherited\tspooning\ttiphsah\tbidst\tfooles\tslantings\tcedars\tcinderella\tsavours\tpincers\t.\".\taznothtabor\tserapis\tlengthens\ttrammell\tpang\tdemarcate\twithdraweth\t_married_\tseignories\tgendered\tprynne\tsighest\tfraoud\tmilkie\t;\"--\ttophel\tconfinelesse\tgallio\tfarrow\tincumbrance\tshebaniah\tjeriah\tmetled\thumanitarianism\tramothgilead\tmooing\tlycia\tnobly\tjesty\tenuiously\tgivest\tnauigation\tunbuttoning\tdisespous\tzaladin\tturvydom\tmillo\targestes\tdalroy\tlothed\tmillstones\tshrivel\tshetharboznai\tcasteth\tlintels\talemeth\tbestirs\tsotai\tpiggledy\tloyaltie\tgallowes\tossifrage\tdoorsill\talgerine\ttoucht\tspelt\tcanebrake\tenlisting\tundazzled\tcornaro\tenkindling\tunrivalled\tmonied\tmontem\tjester\tguiltlesse\tmums\tdrossiest\tplacelessly\tmaoch\tputeoli\tbelayed\tunwiser\tzolas\tmoabites\thieroglyphical\tredwing\tharbingers\twinepress\tbannockburn\t,**\tindividualities\tpince\texcavating\tfalconish\tharmonise\texigence\tsovranty\taright\tfulgent\tshpread\travin\tmethegammah\ttobadonijah\theedful\teffused\tinclinable\tcrie\trevolters\tneerest\tembowelled\tundiscernible\tcuriosities\tsallery\tspiralise\tvophsi\tarpens\timproue\tpersevering\tsurprize\tdiabolist\tobtaineth\tseizings\tdauntlessness\tchenani\tdolour\tphospher\tbridgroom\tezekiel\tpaiocke\tbrotherliness\tpenitent\tmankinde\taria\tforraine\tgiblites\timbowered\tquakes\tslumbry\tslighted\ttechnicals\takimbo\twedder\tclootz\tsurroundingly\tpilaster\tbodices\tgudgodah\tinuestments\tplougher\t,)\tvap\trehob\teyld\tstyrian\twarie\tl100\tfortunatus\tdeceiver\tpatientlie\tbarca\tpuppyism\tkensit\tspoliation\trapscallions\t:\"-\tatonements\tpreserue\tsluff\tzabdiel\twastfull\t_at_\tsanely\tphaltiel\tspurzheim\tharoun\tmorcar\tswain\tzerah\tmorbidness\tsurpassest\tbowlines\tskelter\tskunk\tpott\tcrowbar\tyoking\tsourceless\tmachir\tmoaping\ttellus\tdiscerns\tweepest\tclematis\tsevenfold\tpagens\tamphitheatre\tconsulter\tquietus\thurleth\tsumptuously\toctagon\texpanses\tseventieth\tmithredath\tclearenesse\tpethahiah\tjavelins\tvillainies\trostrated\thur\tlongingly\tvnfortified\thorribles\tjabberwock\tworthies\tliturgies\tbreadfruit\tmou\tcalved\tfellowhelpers\tastracan\tdispise\tcassi\tchileab\toctavoes\tdescried\teneas\twitcheries\thatefullest\tbusybody\tirradiance\tbeholdeth\tvnderstand\tmannahatta\tauk\t--\"'\tebooks\tidumea\tinuentors\tcrookbackt\tnoe\tscepters\taroer\tjubile\twhalebone\tvnite\tprofaned\tjezrahiah\tseedes\tmethought\teliam\tsagge\tdolefully\tadversities\tbrigness\tdoted\tneckes\tchildbearing\tdissever\tlikings\tassur\tarmours\tdroopings\tthro\tunimplor\tfreemasons\temblazoning\tbuoyantly\tbaalpeor\tleaperous\todorless\twentest\ttigerish\thierarch\tsporty\tcachalot\tcolumbkill\tlittleton\tlivings\tprocrastinating\tanothers\tpeopling\thachmonite\twidout\tpertinacity\tult\tfightings\ttriuiall\tperverseness\toverthrew\tkalender\tpealed\tfirstbegotten\tdissemble\tcoddling\tliuer\topeneth\tenticings\tdolors\tphut\tdooryard\tcymbals\tuncompleted\tmache\tingloriously\tupstaid\tbelies\tuncaptured\tmotherless\tuzzensherah\tvirginie\tbeheaded\tpulpy\tunfound\tsereneness\teffulgent\tthitherward\tbitingly\tammonian\tcondolement\trepressless\tulla\tshelomi\tknobbed\tdouceur\tthongs\tseychelle\tmalicho\tdebasement\tunparallel\toverwork\tchiselled\tabhor\tdishonorable\tidumaea\tspinoza\tsittest\tdissolute\tharsha\tiemme\tsnowdon\tsuah\tbusinesslike\thominum\tl12\timpieties\tmachi\tmeasurelesse\tpanelled\tadjutant\tjackasses\tprotector\tqui_\tparsnip\tinfidelities\tsnipe\tgrop\tjudgmatically\tobtrude\tyonnondio\tvnscorch\tmisanthropic\tcurtsies\twhelmings\tinne\tunfaithfulness\tmighties\tmigron\tfatti\tastraddle\tswitchback\tmistifying\twaverings\tceremonious\tsamphire\teleloheisrael\tpaweth\theldai\ttelaim\tstash\ttimorous\tcambalu\tlaud\tcravat\tsalcah\tbaled\tmarvelling\tinvigorates\tblaspheme\tfixt\tminni\tfatalistic\tautres\tcloake\t"
     ]
    },
    {
     "name": "stdout",
     "output_type": "stream",
     "text": [
      "needeth\tsorroweth\tpamphylia\tpacified\tchangeful\tfayl\tbloodthirsty\tscrewing\tgarrisons\thomelike\tsiaha\tresuscitation\tsubsists\taccoucheur\twhew\tgritted\textolling\tsinells\tgamesom\tmelatiah\tpervade\travenswood\thumorousness\tpinny\treceiveth\tnecturous\tfixion\tchristenings\tgodby\tmoou\troarers\tscolds\tarnhold\tezar\tshouldest\ttarge\tpottowottamie\tzebudah\tcomplie\tsepharad\tvotin\tunlimber\tlaodicea\tmakheloth\tscheld\tgirdest\tprepossessed\tregimental\tcurbstone\tcompassed\tpartakest\tgosling\tturfed\tlimbes\tbiteth\tcauseway\tshallowest\tadde\tdrear\tphuvah\trunneth\tlystra\tplentifull\tesarhaddon\taphekah\teutychus\tdroppes\tjerushah\tuncreated\tjashubites\tlepidus\tshelomith\thonourable\tabstruse\topined\tcompulsatiue\tramath\tennactors\tsaturate\tprincely\tunmerciful\tbalaene\thazaiah\tpallidness\tbrompton\tfulham\tpruriently\ttimotheus\tclasp\thavock\ttirathites\tmonarkes\tzuzims\tmilliners\tswearers\tswoope\tmasterdome\tchambering\tlawes\tl150\tdisagreeableness\tsamarchand\thashabniah\tshearjashub\tunintelligent\torientals\tportioning\tfustian\thamutal\tslue\tafterglow\twoodcocks\tcolmekill\thollowing\tbarricadoed\tquizzed\tsunbeams\tlecherie\ttalkativeness\tmemorie\tharim\tfrequenting\torses\tgordian\tthel\tcontendeth\tamethyst\tflambeaux\tdiplomatists\tvnsmirched\tfancie\talacke\tbolled\tpromontory\tgihon\tdeficience\tmehuman\teglon\tdard\tnaamathite\tdallying\teltolad\tmottling\tmaai\tstun\tcarmelitess\termastering\tioynt\tmemnonian\tmacduffes\tthunderstruck\tsinim\tsecundus\tceasd\tcantatrice\taskelon\tmellowing\tgrowlingly\tuneventful\tiustice\tvndiscouered\tcleanser\tpouting\tartemas\tunitedly\twarreth\tlassies\thygienic\tmorbidities\tidolator\tbasilisk\tokotsk\tmammis\tpalsied\tcrosslights\tilex\timmitigable\tbrunswicks\tdistends\theraldrie\tredoubted\tdeiected\tnoyance\texmoor\tslieveleague\tforswear\tephratah\tcabmen\tinfolds\tvpward\tcountersinkers\taquila\tsmut\tzumpt\tlateness\tobseruers\tbecher\tlighteth\tdiverge\tunreck\tjehudijah\tseeme\treconcil\tmasterbuilder\tchristendome\ttranquillities\tbehoof\tuntypical\tstubbornnesse\trepentest\tcirculars\tcanst\tarius\tsarve\tpensively\tbrainish\tmishaps\tmehetabeel\tbagdad\tmazarin\tabsorbingly\tovergrowing\thardhearted\tdeske\tsheene\tharosheth\tabiud\tmusick\t_elton_\trerule\tvouch\t_a_\tpasdammim\tflowerbeds\tunwary\tabishur\ttowered\tcobbler\tblessest\tvngorg\tseat_\tabiezer\tfomorian\twallachian\tweaknesse\trustiness\tbloud\tapeak\tpedestals\tsmoulders\trues\testablisheth\tpostilions\tsurueying\tcamerado\tlintel\tyonger\teugenically\tlunges\ttranquilize\tcorporall\tsartin\tiangled\tmidianitish\thayti\tdrowsie\tpellucid\tstanders\tsheariah\tatarothaddar\tbucklers\taboundingly\tjeconiah\texpedients\tlicentious\tflavorous\teulogiums\teranites\tsupplication\tjadon\tuncomfortableness\tpugilism\tinflaming\tdisused\thearses\tcompactness\twindlasses\tunlibidinous\ttranspositions\tbarb\tmonadnock\ttradesmans\twormwood\tbethbaalmeon\tovergrowth\tze\tmerari\twhitwell\tspitefully\tmycenaean\tunstopped\tdenmarks\tbenefactress\tjehoshaphat\tsubterraneous\tnilus\tmagnifical\tadria\tlitigious\tdrovest\tmizpeh\tdescendeth\tinfers\tconcaue\tindistinctness\tshalmai\tbisson\tdisguisement\tscoenes\tdumbness\tbeavers\tbetimes\tunprosperous\trohgah\tsigne\tdarbies\tammonites\tundemonstrable\tpiggin\tphial\tbaronetcies\tpurpled\tsubduedst\tlikenesse\tblackmails\tshameless\tafflicting\tbosor\tvashti\trosincrane\tpurplish\temboss\tscurrying\tphyseter\tstrophes\tgentrie\tdaughers\tcockatrice\tscoriae\tdrossie\thornets\thogarthian\tforcible\trawe\tpreacheth\tactus\tcrowneth\tcategut\tscamp\tsalutations\tcircumvented\tclinching\tcrescentic\tbroided\tunfeignedly\tocta\tsequah\taffabilitie\tbridals\tvalorous\tfurtiveness\tenlivening\tunkindly\tapostasy\tputtest\tforbeareth\tundeliverable\texprest\tsoever\tevan\ttolstoian\theweth\tadieus\tsamlah\thobah\tbethmarcaboth\tpleade\tforbear\tbatchellour\tredound\tgyant\tgraciousness\tharlots\trecks\tswalloweth\ttiberias\thysterics\thereditarily\tdustbins\tmouts\tkirjathsannah\tmahalah\tnaptha\tjogbehah\tactium\tdwelleth\tfrivolities\td_\tmichmethah\ttekoah\tsolemnized\ttrigonometry\tvidelicet\tseisure\trefrains\tprowesse\tgelder\thearke\ttrencher\tindecency\telysian\tscolloped\tmuslin\thuzzas\trosses\tbrests\tfaile\tshamariah\tcleere\tproofs\tbethabara\txxiv\tradiness\tmatterhorn\tpedahel\tcircassian\tvipers\tbozez\tnimble\thoshaiah\thesperian\tbutta\tdismemberer\tachor\tinquisitiveness\tbaalim\tbrakest\tenamoured\tsophistical\ticelander\tsnorts\trelators\treadinesse\tfolios\tarchangelic\tcongenialities\twhisperer\tdistill\tsnub\tinhabitest\tephesdammim\tsycamine\tnahbi\tenderbies\tsuet\tdisenthrone\tpertly\tarbors\tdivinations\tresisteth\tshillem\tnorthman\tinadvertencies\tirae\tshearers\tbitin\texult\t).--\ttimorously\tflagstones\tdunedin\tinstants\tcanonicals\tmanna\tundenied\tunmerited\tgoberned\tdoughty\tarrant\tbeateth\tfledge\trayed\tarme\tkenizzites\tvanquished\tbethpazzez\tbealiah\tclans\trefresht\tjesaiah\tgratulating\tpredestination\tcath\tamplitudes\tbulkington\trevilers\twaterflie\tirrelevantly\tirkutsk\ttroubleth\tgunnery\tabstemious\tcommonalty\tfuzzing\tcharashim\tfated\tnaphtuhim\treprimand\thosah\tmousetrap\tpartialities\tspendings\todi\tuzzi\tsuckled\tyawne\tscimetars\tcæsar\thammoleketh\tcheefest\teleph\troughs\tcauliflowers\tslacken\tfauourites\tthoughtest\tmallice\tponders\telparan\tmocke\tpointest\tfenny\tleewardings\tshallum\tbulrush\tcaesarea\timprison\timbonded\tboundlessly\tzephonites\tdamne\tlanguor\tbirthdays\temblazed\timmethodical\tmongering\tvext\tzif\tejaculate\tcountersunk\thandmaidens\tkorahite\ttaphath\tbeggers\tstrucken\telul\tsideling\tdespairer\tthare\tabinoam\tstayeth\tsaltness\tinterwetting\texteriour\tmapple\theathens\ttheban\tdecrepitude\tloue\tgreaves\twanderest\twhereto\tprayest\tportress\treticule\tspoilers\t_both_\tamina\tpurpos\tpottsfich\tfalleth\tinfamously\tslewe\tnutriment\thungred\tshepho\tapprise\tflawes\tmaxims\tadieux\tpoorely\tpippin\tdido\t--`\tobviated\tpyes\tzemira\tfreewill\tyorkshireman\tblench\trhododendrons\talbatrosses\ttoah\tharbourless\tbackbitings\teuent\tforsaketh\tdoge\tgaolers\tmanured\timprinting\ttornadoed\tathenaeum\tplanteth\tcapitols\tslain\tseducing\teuerlasting\tchinawoman\tankers\toverdrive\thyre\tithra\tchisell\tbattened\tshewd\tteetotum\tthroe\tdeedily\tinfixed\tzalmonah\tvassals\tapollonia\tpilled\tcommendeth\twarders\tephod\tclipp\thewing\tspars\tscourings\thasenuah\tpasturing\tearely\thippocrates\thauptmann\tkinde\tportent\tperticular\tpharaohnecho\tcaking\tmexitli\tgho\tjerubbaal\tdisengaging\tbezek\tashdod\tstrawes\t1836\trecouery\tgenubath\tturnbull\tornan\tchristabel\tcomity\tunwaiting\twafter\tgrego\tunhealing\tgoldsmiths\tbethanoth\tfierie\tpotentate\timbordered\touerlook\tgreatcoats\tdubiously\tforlornness\tparkers\tinformer\tscipio\tfegee\tringstraked\tshoemaker\tforeshadowing\tfaunus\tmaiesticke\tdrowse\ttolaites\tscratcht\tconquers\tinlayings\tfondest\tcaesarian\tdominions\tunearthly\tbroadwood\tbooties\trelapsing\tmeaner\tworkes\tsixteene\tabysses\twatchman\tbehoue\tvernant\ttumblers\tincontinencie\tdiffus\taugury\tdisfiguring\thandywork\tgauls\tconformities\tbountifully\ttantalized\truffianly\tarrowroot\tincarnating\twhitish\tconstrainings\tpomegranates\tapologising\teliphelet\tannamaria\tartificers\tsceptres\tcheerily\tprevaricated\tdriuen\ttiras\tkingbird\tforeland\tpattens\texceptionable\tpicnicking\tdisembowelments\tfidgets\tbrandreth\tminuter\tboadments\tblurr\tpetticular\tunreluctantly\tvnsanctified\tpotently\tpurr\trepenting\tephrathites\tsweete\thatband\tfootpaths\tperceiue\thalfpence\twalkedst\tkenebec\tshooes\tfleeces\tfreshening\tpadon\tsteams\tbeggard\tadoration\tsurcoat\tnatio\tzacharias\thirah\ttriply\tshipmaster\ttriest\tbilboes\tcarking\tabridge\tjavan\tdiabolism\tabating\tenrages\tluggers\tcitrons\tharbinger\tinrolled\trebeck\tretaine\tpelican\tgenteelly\tdilatoriness\thashmonah\tretrench\toznites\ttugg\tdeuteronomy\tvnshaken\tgael\t:!\"\tmends\tseethe\tbuttress\tapale\trakkath\tadamite\t--?\"\tensigns\tmiscarrying\tturbaned\tamalekites\tadages\taboord\tfidget\tcoalmen\tbulldog\tproiect\tarter\tunreconciled\twavings\tchimpanzee\tscoena\tjeezer\tepical\tcamest\tfarthingale\tsuffocate\tbooz\tstampe\tdinting\tmahalaleel\trowse\tparching\tunfumed\tturke\tthresh\tasswaged\tshlips\tl1\tsuperfluity\timmodestly\tfrightens\tbals\tmysticetus\tundecipherable\t?'--'\tpygarg\t'--\tleucothea\tbeerothites\tpurples\tovercometh\tsiedge\tiru\tskirre\textremest\tserv\takrabbim\tdefilements\tsweatings\tramadans\twonderfull\tprairies\tspeculatiue\tcabalistics\tpluckes\tnadab\tdiscouered\trudenesse\twotteth\targob\tfamiliars\teckerman\tdyest\ttwoedged\tbusying\ttiling\tnasturtiums\thabor\twesternr\tosee\tjekabzeel\triuer\tstreete\tarriue\textortioners\tkeepeth\tnegatived\tconsumato\tshrivels\tsoldiours\tobtruding\tstaines\texhumed\t_she_\twhalin\tyesternight\taddrest\tlefthanded\tbackwoodsman\tswage\telkoshite\t_walk_\tflyes\toriginatress\tstreetes\tportends\tstreetwalkers\tadmatha\touerthrowne\tmeads\tfrailties\tplentiest\tpamlico\tasperity\tincarnated\tpunctures\tsift\tmalays\tbriars\tpleasuring\treuisits\tfishpools\tingenuously\toverturneth\touertake\twaveringly\tsog\tlauish\tcurseth\tbeefsteaks\ttranspires\tapharsites\tespy\tknavery\tundesignedly\tzenan\tconuersation\tgedaliah\tcharran\tunpeopled\theareth\tdrinkest\timpecunious\tslobbering\tdiuers\tnatured\tholloa\tsouse\tomnipotent\tdaysies\ttabor\tanak\tcasing\ttahan\tsalvers\tgills\tcaput\tvnguarded\tabbots\txiv\tpolypi\tequalized\tshaalbonite\tadmonish\tshinab\tquarrell\twanings\ttwill\tshimeon\tungentlemanlike\treanimate\tsadowa\tdathan\tskittishly\touches\tphallic\tstreame\tvestment\tshowest\t,--'\topprobrious\tchildlessness\toverscorning\tbrac\tbigthana\t[*\tneedn\tjedidiah\tabijam\tcognisable\tarvad\tembroiderer\tcasuall\tstarry\tcosies\tgibeath\terruption\tenrichest\tpurifier\tdophkah\tplentifully\tdefile\tdyspepsia\tfallies\tforebore\tiigge\tgrenadier\tcollyogh\tskrimshander\tchronicler\tquiloa\tgladsome\tecbatan\tcoronets\tberiites\tmilmans\tscorpions\tcaterpillers\tenviest\tshammua\tgrossenmark\texacteth\tcobs\tvnderstanding\tcoynage\twaxe\tnook\tmadonnas\twandsworth\thesed\tunquestioning\tguttersnipe\tcataclysm\tmacrocephalus\tsumless\tjeshebeab\tmiddletons\tfanne\tcauiarie\tnimblenesse\tdrest\twitnest\tpommel\tcovetous\tashdothites\tstabbing\tdirges\tsauagenes\tulloa\tboarders\thod\tvnhand\timbecility\thartle\tretrenchments\tingrafted\thogarth\tguil\tdenominate\tpalpitations\tarba\tgidge\tforestalling\tbondman\tslunk\tyieldeth\twrig\tionian\tenhaddah\tunderlings\tchislothtabor\tlibertad\tsoladoes\textravagance\tstrafford\tishi\tploughboy\tpassionless\transomes\tjethro\tagreeth\tbaali\tveriest\tunspeakably\tshallun\tadamantine\t;)--\tpratlings\tsinaean\tescapeth\tbereaved\tjahleelites\ttubercled\tulai\tdarksome\tpadock\tfirebrands\t_are_\tandronicus\tinstructers\tjerioth\tasahel\tcharnell\tbrawny\tshimron\tuprose\tcovenanted\tsportively\tsciential\tcoap\t_precious_\tmocks\tswelter\tcerimony\tresolue\tdispriz\tnestles\tspareribs\tteares\tuncircumscribed\tremonstrance\taccaron\tcharybdis\tenthroned\tthankworthy\tmolech\twight\tyoaked\troofe\tbesai\tpathros\taristocrat\tdartingly\thorat\tudder\thumiliate\trequin\tpassovers\tbilhah\telegantest\tfeelest\tspurne\tayre\tmehetabel\thorseleach\treprover\tdisannul\ttyrannic\tbrokenhanded\tbuildest\tthaws\tgasometers\tizrahiah\tremediless\tsano\tcompassionating\tpelisse\tglosse\tmacedonia\tnaarath\taggrandizement\ttizite\tpasser\tcheeseries\tplods\ttemani\tvnkennell\tchiswick\taddresse\tanalogical\tmillionth\tsneeringly\timediate\tnodab\telim\tmanhattanese\tdle\tvainglory\tpies_\tsheathed\tshicron\tmaranatha\tmuchness\tdiverged\tderide\tsorceries\tenlightener\twapping\tjustle\tamnon\tunharming\tframeth\tprocreates\tuprightly\tlibecchio\tmilked\tsheal\tmehunim\tpelorus\tcrosser\ttransferringly\tserpentines\tstrow\tthorow\treproachfully\tsaylor\tsurmounting\tsitteth\tmeasure_\tcieled\ttweezers\tantarctic\t_engagement_\tbamothbaal\thumbleness\tsharaim\tesculent\t!--'\tranck\tfemmine\tnavies\thumbleth\tgangrene\tadorning\tdoore\timmobile\tneedest\thussy\thappinesse\ttreade\tteashop\tellisons\tattractiue\tchidden\trescueth\tscorning\tsoundless\tmelson\tsulleyes\tnoons\ttyphoean\triblah\t_half_\thaps\tcocytus\tgaba\tzelek\tampler\tapproue\tflavorish\tplann\taimable\tfainteth\tstablish\traftsmen\tvaniah\tombay\tpharaohnechoh\thempen\tineffably\taffayres\tworshipper\teuill\tsinke\tsylphs\tbriareos\ttalkers\tambass\tvnripe\tparrying\trunnes\tfastings\tleniently\tcastaways\tmercurius\tdevot\trauishing\tvnattended\tbarbarously\tabominably\tcottagers\tflageolets\twiltshire\tenjoinest\tennuis\tskinnes\texterminates\tdog_\tjeriel\tgabbai\t_world_\tconcoctive\tsunwards\trecentest\tmeholathite\tmichmash\twantonness\theberites\tvnseam\twrights\tremitting\tseriuce\tthralls\tschooners\tgonzealment\tseyw\tcanaller\tazbuk\tseare\tentertaine\tcubical\tsires\twilles\tmountebank\tcutlery\tproffer\texcelling\tdisproved\tthoughted\tsucceede\tunconsciousness\thandsaw\tbilhan\tlivingly\tmatse\tmurrellus\tcoffer\tethbaal\tcertaintie\tmoralised\tsorrowing\tbutchering\tbrilliancy\tmutine\tvastnesses\teffectually\tcautioning\tscoene\tstilleth\tdinah\tfashionables\tasiatics\thedwig\tvapory\tspeckle\tramoth\tcleave\tpresbytery\tjuciest\tsleepie\teshtemoa\tspreadeth\thabitation\treserv\tneats\tunproclaimed\tnisroch\tdisinherit\talphabets\tslanderously\tshadest\tpreciousness\tescap\tashkelon\tvniuersity\tunintentional\timploy\tcircean\tcountersinking\tflickering\testeems\trosinante\tneu\tintoxication\tstoodest\tkadmiel\twands\trepack\trogelim\tscythes\teneglaim\tphenice\tforgat\tbera\tchisleu\trecline\tmansoul\tplanisphere\thollanders\tshockes\tzephath\tdonalbaine\tpharos\tliued\tzabad\tserieant\tvanisheth\tvizards\tpeeres\tparalytic\tpusie\tfatherless\tmichaiah\tclingings\teely\tvnassayleable\tknockings\thermione\tgummes\twafer\tdismisse\tpossets\targuer\tseethings\trepentings\toose\tdeceitfully\t_source_\tzizah\tmusketry\ttrustedst\tlacie\twomanish\tsagacity\tmanuring\twhereat\ttestie\ttrysail\tentangle\texultingly\twishest\trelished\transomed\thagabah\tponiard\tcosam\tpertaineth\tsina\tgobbling\tincased\twiselier\tafear\tdrollery\tunearn\tsinne\tconsiderest\tunconfined\tdisband\tsickens\trevoltress\tfaulconers\tchalkstones\tbosomed\tbaronight\tehi\tingredience\taul\tlameness\tnoonday\tbeldams\tomnivorous\ttrespasser\temptiers\tincertaine\tgarraun\tbileam\tmenchildren\twhaleboats\tmanillas\tabia\tthreshingplace\tcribbing\tcolmes\tdesireth\tparshandatha\tunretracing\t_will_\tcarmites\twaight\tholofernes\tthrobbest\thuzza\thunteth\tinconsolable\tduteous\tdiscountenanced\tconcentring\thiddekel\tservily\tabidah\tvenetianly\ttenures\tshelfe\tamminadab\tamalthea\tsihon\t_present_\trancours\tfatling\tuntying\tclumsiest\twettest\tscythian\tkelaiah\tgoatskins\tbreedeth\tkushaiah\txxiii\take\tequivocate\trehoboam\tabhorreth\tjemmy\ttous\tsummits\tsighe\tunbecoming\tringleaders\tbaden\tasiel\tnemuelites\ttrimmest\ttroublest\ttalke\tunpolluted\theman\tconspiracie\tcomfits\thighbury\tunterrified\tfellowservants\tgipsy\taffectations\tcriss\tbillow\tconfection\tcorpes\tbethphage\tamarant\tdeign\tspunging\tcustodians\tarchway\teunice\tpiercingly\tsquitchy\tunwarily\tplacidly\tjezerites\twilloughby\tlowing\tbackslider\texultant\tsheminith\tpoysons\tsoprani\tunfrequently\tchoyse\tespied\tromanist\tinuenter\tliliput\tsarid\traze\tglimmers\ttuft\topposer\tjezoar\tpiram\tmaasiai\ttaskmasters\tagaine\teternities\tcarshena\tabnegations\tevince\tlancy\tfleecy\tyiang\tdapple\tantichronical\tinstid\treapers\tunweeting\tbreech\tchats\tclumped\tezri\tclashing\tbethnimrah\thorrours\tpresse\tlocalness\tpreferre\tparturient\tcumi\trocke\tsirion\tprochorus\tunpurged\tgerizim\tpurities\tseruice\tbethjesimoth\tforasmuch\trhomb\tarchevites\twampum\tfowling\trighteousnesses\tdiapason\tdeceitfull\tbaketh\tscylla\trecordable\tredeems\tpastorall\tbreeching\tvelazquez\trustick\tmephaath\tpatricke\tscragg\tuncomely\tsplints\tuncorruptible\ttabitha\tfaints\tziz\tunmanifested\tbehests\tinuention\tirksomeness\tmarten\tcedron\tfeasters\tbreatheth\twantest\tteacup\timpendent\tloitered\tattestation\tbackbones\tloe\tabridgement\treuengefull\ttriolet\tpardoner\ttoiling\tormus\tsabtechah\toutran\tmilkes\trossini\tuntagging\tmenpleasers\thefts\tmachbanai\tfitnesse\tnophah\tmelancholies\tunnearable\tazur\tmateship\tfeastings\tkithetmroboscis\tshoemaking\thazarsusim\t_vae\tsiskur\treproving\tcounsels\tgramercy\tabashed\tmaachathite\tjahaziah\tapphia\tdesigne\texpressively\tcymballing\twhereover\tshiphtan\tunsentimental\tkehelathah\theereafter\treeved\tbedchamber\twallows\tcalcol\tvttermost\tholie\twhaleships\ttacks\tpartizan\tmeroz\tregencies\tmantelpiece\tmalefactions\ttayle\t_may_\trensselaers\tcalms\topprest\ttenons\tbabbler\t?',\tcorkscrewed\tprevaricate\thezronites\tprimogenitures\tbodilesse\tdanite\thoshea\tcoveteth\telmodam\tslided\tmountebanke\tiniquity\tunfix\tunthankful\texhilaration\teaves\torbicular\tconflagrations\tcindered\tcataplasme\tfeuillage\tpeut\tendeavouring\tmadest\tinvolv\tple\texecrations\t_something_\tafoam\tgropeth\tbethuel\tchelubai\tsufi\tbirnan\telisheba\tenfeebled\tsprawlingly\tworthily\tchansonnier\tpreyed\ttakest\tquillets\truggedness\twelshman\tsyene\tlaughable\tsulphurous\tundelighted\tsubtilly\tarbitrator\tanticipative\tpreuaile\tjesiah\treplunged\tcerments\tbatchellor\tconvoyed\tconjecturing\t_promise_\tlanguisheth\thindges\tfrets\tunderlapp\tmanliest\tkirhareseth\tlawlessly\tstigand\thabitatory\twelcom\tbehinde\tfortie\tweal\tcaru\tetymology\tdecipher\theartiness\tvnfold\tkneph\tclingest\tscourging\tasyncritus\tblossoming\ttheame\texurge\tredeemer\tminuteness\tunslung\tinhabiteth\tbashanhavothjair\tnamelessly\taccouche\teyeless\tpenitence\t?--(\tdiscreetest\tbirnane\tsojourned\trereading\tasseverated\tjidlaph\tgauntlets\tsettlest\tunfathomably\trevisiting\tafarre\tshimrith\tmessala\tyases\tanckle\tjungfrau\tcobler\tignominy\tzibiah\tjesurun\tsweetstuff\tishma\tanointedst\thabitues\tquire\tinlarg\tdonnel\thaarlem\tmadon\tjambres\tcarowses\tshirk\tglobular\timpurpled\tfiffe\tdrave\tiades\tillimitably\trarmai\ttitin\thatchets\tdunce\t_were_\tgrandees\tgroane\tdiscoverers\temblazonings\tdisquieted\tpopulousness\thowlets\tintemperately\tjebus\thermits\tiewell\t_appropriation_\tmaadai\tshooteth\tmissiues\texcelleth\tgrandpapas\tchalking\tvolpi\tleades\twhay\tcalkers\textol\tharped\truskin\tplayd\tpried\tlovings\twhitakers\texigent\tdisengaged\turbanity\tunloosen\tstinketh\tdiscerne\thideth\tdisgest\tquadriennial\tunproductively\tbeulah\trowers\tinclines\tbuzi\tbehindhand\tprima\tgadite\toppidan\tamoz\tunwieldy\tinlander\timpressively\tobominable\tdiscommode\tiourney\tfascinations\tliuing\thautboys\thumbling\tthrobs\trelieveth\tchurlish\tbarlet\tanethothite\tsycomore\ttroas\treproveth\tdragoons\t[*]\thappyer\tinsufficiency\ttimnite\tengedi\tlahmam\tunwrap\tunnam\t"
     ]
    },
    {
     "name": "stdout",
     "output_type": "stream",
     "text": [
      "debel\tmatest\tabbeyland\tkinsman\tcurtsying\tnephthalim\tforenoon\tclovenfooted\teton\taggrandise\tthebez\tembellishments\ttattersall\tsuperiour\tlinnen\tabbreviate\tseedtime\tshimronites\ttride\tfoure\twrestlers\tslay\thumourist\tpedlars\tjotbath\tinhaled\tharmonick\tsoapstone\tsoop\ttreasuring\tbarrister\thazaraddar\tfoolscap\tunclosing\tenrimmon\t_shall_\ttelmelah\tnebajoth\thobbling\tcholo\tadiel\tvnsure\tomnes\temulous\toboth\trapturously\tbaleine\tmilkmen\tnomads\tindissoluble\tarchness\tshimeathites\tbethshemesh\tlascars\tjetur\toftest\texordium\twringed\tpurlieu\tchast\tanswereth\tpacifieth\tsemiweekly\tbinnacle\taereal\t!--`\tsealeth\tpoisoners\tspotter\thanameel\tclayme\t,\"--\"\tpommery\tshopfronts\tbonneterre\thindoos\tithnan\tairley\tshrewdness\twhats\tjael\tproch\tlugubrious\tcoz\tbruit\tathaiah\tequiuocation\tmungrels\tsences\tslumbereth\tvouchsafe\trejoiceth\tmislead\thoarded\tpated\tsenir\tunrefuted\tsprouts\tninepins\ttyber\tbehaveth\tcrieth\tvaletudinarian\tzacher\tropeyarn\tstooles\tidealists\tishbak\tentreatments\teleusis\tchurchman\tfrowardness\tharbonah\triveted\twellbred\tflaccid\tascendency\tproem\tchesnut\twonderment\tmaeotis\tunsupplied\ttaanathshiloh\tunconstrained\tnursed\tmaestros\tunhewn\tputrifying\tsord\tairing\tburg\tbossy\tenfolders\tunpleasing\twhensoever\tshophach\tmalvoli\tethni\tpassover\tlentiles\tfifes\tkamtschatkan\tzerubbabel\tshoone\tstudieth\tprouinciall\trustlings\timmer\txvi\tprolongingly\tpaternal\t_c\tbabbling\tkisse\tartlessly\tindiscreetly\tgershonites\tbedwards\trouth\tpraetors\tlacings\tbegger\tbetonim\tthreepence\tsillier\t_evening_\tgeulles\twhisker\tpekah\tanub\treacheth\tliberall\ttashtego\tamarantine\tstowing\tshadowes\ttrod\tvnfledg\tunshaken\ttarrying\tnaaran\taholah\trapsidie\tunfoldest\tunnerv\thain\tinferentially\tbeaune\tlampshades\timla\tpunon\thebenon\tsartainty\ttroopes\tdalphon\tmazard\treuolts\tdroppeth\tscrapper\tsledded\tdodai\twhelmed\tinconsiderately\toutstretched\tboreas\twreathen\tvolcanically\tunobservant\tkilleth\tsystole\tstealeth\tsarsechim\tuninvitedly\tconcubine\tensnared\tgoers\tspirting\tenseamed\tfetches\tscorns\trighteously\tfaddy\tigal\theares\thadassah\tferociousness\thighminded\trodmond\t10000\thisse\tvapoury\tbonomi\tskinnie\tlewdness\tgaddi\tchamped\tagag\tcircumvention\tleanness\ttweakes\ttaketh\tmimick\tbaladan\tpowerfulest\ttownclerk\tunmeditated\tjehoshabeath\tsurlily\tlouisianian\tprovincials\tmockeries\tdistributeth\ttraffick\tbuttrice\tscorneth\tretooke\tnosed\tcenturions\tgebim\tspines\tesser\teffuse\tcypresses\tsprigs\theauie\tshemaiah\tnazareth\tcoine\tleanfleshed\tkitron\tuntaken\tieering\tarst\ttremour\thinnom\tabimelech\tapes\tsweats\tsternward\tconueyance\tchislon\tgottlieb\tbarouches\tindigence\ttheophilus\trecompensest\tsmiteth\tenvying\tibhar\tjehoiarib\tyouthfull\therdman\talms\tplighted\tafore\therodians\tdisparage\tcarde\trabsaris\tpeulthai\tdefier\tserenate\thukkok\tgamul\tdubosc\tdiscomforts\tsweetmeat\tmacb\tphilistia\tluminary\tshimri\tebiasaph\trian\tscrupling\tapostate\taija\tappaim\tcanariensis\tparamours\tadorers\tvant\tinhabitant\tlunching\tbewrayeth\tunbar\tfourths\tschalted\tfreshing\tcausest\twaistcoats\tloafe\teffulgently\tpyrrhus\tavith\tcharmers\tjousted\tencompassement\tengrafted\tvolum\tkirioth\tsolidifying\tsallai\tbalme\tmisrephothmaim\ttediousnesse\tishmaiah\tentree\tsportful\tbeleefe\tporpentine\tswolne\tentreaties\tbedeadened\tcaptiuitie\tpanics\telhanan\tlathering\tpropontis\tanoynted\tviper\t(*)\tbeeliada\tpretences\ttrophee\twriteth\tfaiery\tbray\treceiu\tarvadite\t!)--\tchryselephantine\tplaistered\thilkiah\tinterweave\tfrith\tmarlingspike\tmawes\tspry\tsprinklings\tforthing\tdampier\textort\tcollaring\tingrateful\tbigamist\tvildely\tprised\tvoyagings\tassuage\tfreighted\tcasiphia\tbonelesse\tcaulking\telika\tsellin\tresistless\televe\tkibzaim\tsundaies\tidyls\thazarhatticon\tbeate\tobstinately\tgnashed\tberith\t--.\"\tunderexercised\tclownish\tdeuoure\tcompellest\tgestations\toly\tunkindness\tspud\tscattereth\tabaddon\tinarm\thabituated\theedlessness\tobviate\tgluttonous\tfellowlabourer\tparadoxes\tillumin\t_horses_\tgideon\tvnsatisfied\tasriel\tacorn\timpenitent\tadah\temblematical\tproprieties\tatarah\tsedgy\tlicketh\tstrengtheneth\thostelry\tokonee\twakedst\tjeshaiah\t_thing_\tetude\tcid\tadvantageth\trenegades\tdispraise\tdoorkeepers\tspluttered\tperida\taustral\tthoughtlessness\ttabeal\tunexaggerated\tjazer\tbeckonings\tdryads\tnerue\tmajestical\tfellowprisoner\tmauls\tbefalne\ttatter\tdondra\tfarre\tathlai\thanun\tstammer\tcawdor\tlockes\tgrandsire\tsackbut\tfroward\thusbanded\tjustling\tnaue\tdibon\tephron\ttufted\tlubim\tallures\t_respect_\tjephunneh\tporper\tfloridness\tbethlehemjudah\tascribable\trins\trecrossed\tteil\tunforgiven\temperour\tanted\twatchmakers\t_accepted_\tprimitively\tcowed\torlop\timmerged\tmacbeths\tquicke\tbedfordshire\tchimeras\tehud\tunreproveable\tcosin\tzior\tscarfing\tcouldest\theartwoes\tsivan\tspiritualism\tlebonah\tatroth\tkingly\ttricycle\tperceiu\timmortall\thodiah\tbely\tmarling\ttumbrils\theauy\tween\tmadmenah\tshaashgaz\tamuses\tfencer\tdisburden\tsement\tlaertes\terwhelm\thalah\twatereth\tjimnites\tthroughly\tchangers\tpaddling\teau\thooded\tsheshbazzar\tdisjoin\tperpetuity\thoisters\tpettie\tclemencie\tthumbes\tpassant\tsauntering\t;\"--(\theire\tunadvisedly\tcabaco\tpraetorium\tscummed\tahinoam\tamerce\tstintless\tbonapartes\tdishevelled\tmissourian\tconuocation\tenginery\tgoths\tsinewes\ttriumphes\trakem\tnumberest\tophni\treuerted\teliphaz\teaglet\trul\tsware\tcoptic\tlippety\tsperma\tarborets\tbooke\t_party_\tshuphamites\tdelectations\tbondmaids\tlyars\tunparticipated\twoundedst\tconjuring\twaterpots\tlod\tuzza\tbier\tchalices\taverts\tophiuchus\tdominations\tsouthwesterner\tcasuistry\tdespitefully\tfantasticall\tparallelograms\tconvien\tbrandished\tpourtrayed\twons\tauoyded\tdeci\tcrier\tziza\tadmir\tprophetess\tclowd\tjahath\tspeechlessly\tdeceiveth\tisabella\tdresseth\tbarbarism\tsinecure\tigdaliah\tchildrens\tstauncher\tsignification\tbroughtest\tolympias\toratresses\telioenai\tarbathite\trubbes\tpenelope\tnathless\tbackgammon\tlittlenesses\tattaine\tfleetness\tflaggers\tmalchiel\tshimeah\trecant\tshobal\tcupidity\tshuhite\tfeverous\tcorruptions\tvapors\tpublius\tendwise\twordless\tundeceive\tagen\truminant\tvaunteth\tshal\tdalrymples\tlours\tbaken\tharpoons\tuntraditionally\tperturb\tperambulator\timpersonator\tyearnfully\tlep\thazarded\tnaves\tinnocculate\tbabyish\ttruely\tbether\tplainlier\tioyne\tblinde\tsurplice\tseer\tmandrakes\thauiour\tpalter\tblueness\tpolygon\tshechemites\tbrunetière\tvertues\tflauius\tzorah\tshishak\tunseal\tjoppa\tmandeb\tziphron\tscaleth\thagar\tceres\tleuell\therodias\tjehonadab\tresponsiue\twasteness\ttallied\twahsatch\tpommelling\tgadding\tprovocations\tvnwilling\tscarft\tcauseless\tsteale\tobliquities\t_virgin\tbetho\tperceptibly\tgilonite\tcircumuent\tchenaniah\thorites\tanoint\tsociably\ttheron\tneuer\tdivinest\tforeknowing\tdabareh\tkinsfolk\texpound\thamathzobah\tdisburdened\tswimme\tmuskrat\twhoso\tfillet\twarne\tpurtenance\tsalamis\tprogenitor\tsimeonites\tteenth\ttrophees\teddied\tvexeth\timpeides\tsacar\touerthrow\thonourd\tsyue\tardour\tsignall\tplacidity\tlisp\tdomineered\toutyell\telliots\troareth\tbethemek\tagagite\tcutteth\tforsomuch\tshire\tjashen\tmibhar\tmanipulator\tabjects\tireful\tinloop\tburrower\tstiflings\tlamound\tplainness\tpravity\tbeautified\tarnan\tmelpomene\tconcentred\tetna\thonestie\tseemest\tdeliveredst\tjether\tchalice\tappellations\tmaturest\tawakes\treceivedst\tpuncheons\tvnkindely\tmalls\tlaidst\tmenstealers\tmissent\tsubserve\tquicksighted\tconformable\tevangel\timpregned\tcathaian\tcolic\twillains\tglumpe\tsilvanus\tprofaneness\timlah\tindistinctly\tzaza\trahel\tfainter\treigneth\tbenefactresses\tpoz\twrongeth\t.)--\tmalform\t9000\tbaana\trusheth\tforg\tvestures\tservedst\twhin\tarchers\tknauery\tdisant\tmoone\tleeks\tstretchedst\ttun\tpibeseth\tjegarsahadutha\tfollowedst\tvigour\trefusals\tunsurrendered\tshipcraft\teulalia\tpaire\tlinkes\toblongs\tgomer\tdomineer\tdurance\tambient\tfuturist\tappurtenance\tanathoth\theres\tslanderin\thieroglyphic\tdemijohn\tavails\tstrangles\tthrowes\tspiralizing\tmoreh\tmeales\tenfolding\tishod\tchopfalne\troyaltie\trecked\tloggerhead\tsubvert\tdoze\ttap_\tammizabad\tunsolicitous\trachal\tchilmad\tdenizen\tdrawne\tgiuing\ttracery\tredeliuer\tcarolling\tnobah\tadoram\tvicarage\tovum\twarres\tgamesome\tpashur\tbeauti\treare\tmaiesty\tlumberingly\tcheats\tforbeare\tgolconda\tscamps\tibbotsons\tmaacah\tintensest\ttransmuting\tadoraim\tdishonourest\tchangeless\tbetharabah\tconiuring\tchampaign\tmetel\t.--`\tjachin\tvnprofitable\twhelps\thartfield\tdeathful\tfornication\tcines\tmaeonides\ttearful\tundraped\ttupmans\tembarrass\toppressor\tminutest\tinsensible\taugures\ttabeel\tunsmooth\tdisclaims\tcaptiue\tuzal\talmsdeeds\tdeckest\tunvexed\tthirsteth\tstile\tadulterate\tspooks\tcadenzas\tunloos\triphath\tjosibiah\tchapiters\tnazarite\tdefiling\tdepreciates\tcrappoes\tholpen\thacke\tribbed\tsubmiss\tseleucia\tjeremias\tservitor\tlorn\taccust\tseraphic\tvnshak\tvajezatha\tdisencumber\t.--\"\tabelmizraim\tscaffolds\tfishwoman\tworketh\thowler\tsicken\tgreywood\twaifing\tales\tkosmos\tdruggists\tunhide\tinebriate\tfoursquare\tasketh\ttraile\tshippe\tweltering\tgainsayers\tequiuocator\tknell\tspeedie\tdisport\tcheweth\taloth\tludim\tquig\tinsultest\thalfpenny\thuldah\tconiunctiue\tworthie\tmne\tmatine\tindeede\tnaturalists\tlooketh\tanswerest\twisher\timpetuously\tunbeautiful\tmeribbaal\toechalia\tallegeance\tjalap\triband\tstrivest\tdrench\tbannered\tscorch\twroth\tmislaid\tchastisements\tpiquet\tbleatings\tthrobbings\theele\tsilenc\tstunted\tphichol\tosiris\tjoyousness\thumbler\tdisembarkation\tjacobins\tdisappointeth\tmerarites\tfurtherance\trevealer\theede\t,--`\trepented\tmarat\tboorded\tiust\tdeliriums\tsirah\tweeding\tsplintering\tlotan\ttetter\tcrowsfoot\tsocrates\tzeboiim\tstonest\tgloominess\thali\tjozabad\tbeere\t1240\tdistrait\tskeptic\tprimy\tmenservants\tsnobbishness\tfilledst\tsuccour\tgargoyle\toverbury\tenuy\tpaddled\tprouidence\tgalvanised\tdodges\tcalfe\trushlight\t_amor_\tbussling\tcheckered\tabandonedly\tnarcissus\tthanker\tfindest\tunni\tunderived\tundreaded\tunprevented\tfait\tinforme\tmatchbox\tillium\tsuperscription\theedlessly\tabridg\tnill\tuntutor\tmistresse\tpreserued\tunobserved\tbekah\tnonsence\tlevitical\tdisobliging\tregardful\tismaiah\tkartah\tmigdalel\tpai\tfossiliferous\tsmot\tadulteries\tshrunk\tclauda\texpositor\tmandolin\tinhabitiveness\tbravuras\t_two_\tupstays\tmelchisedec\tbaalhermon\tdistrusting\tdivineth\thoosac\toutwent\tseruants\tthankes\tcymbal\tgallopingly\tlabyrinths\tblasphemest\tcetology\tgenoese\tferreting\tbeerelim\tchapmen\tslidden\tnondescripts\tahiram\tappetence\tdevourer\tbasenesse\t_has_\ttroubledly\ttrulie\tunassayed\tgong\ttongu\tamok\tlegerdemain\tanarchists\tphinehas\tpunisht\ticicles\tcherubick\tfisticuffs\tponderosity\thammedatha\tmaud\trenard\tmoladah\tproues\tgraving\trepell\tplained\tbattailes\tfloud\telegancies\tburials\tsatisfiers\ttransfused\tnoyse\timparadised\trumpe\twatchtower\thiggledy\tgezer\telishaphat\tpadrona\tsedulous\tepaphras\tdrudge\tphrensied\tpandects\tcroker\tsentimentally\tnebat\tcherrying\tinfamed\tcountreyes\tmerionethshire\ttreasons\tgrieved\tsocoh\tlamplit\tgeneralled\tsuppresses\tsoutherly\tneskyeuna\thuz\tdiscursive\tleaneth\tshoelatchet\tredeemedst\tunceremoniousness\tverged\tfalles\thezrai\thadadezer\tfugacity\ttolstoyan\tuncomb\tjekamiah\tcaulk\twhaler\tbethanath\twracke\treliev\tegge\tdiademed\tdeepe\tuglification\twaterflood\tassails\tstationer\tsebat\tdistilment\tbigamists\tcarouse\tjogged\t275th\tdisporting\tmahanehdan\tvictorie\tjemuel\tconcerne\tadamah\tsoare\tjuncus\tvsually\tjagur\t_winch_\tproselytes\tquaffed\treplenishes\tfellowheirs\tpropensities\tvoided\tunfitted\tbumpkin\thyes\teshton\tdisannulling\timpenetrably\tshimites\tcounterview\tpriesthood\tbuffeting\tmickleham\tjellied\tmiscellaneously\tsnooze\tasahiah\tconfoundedly\tdetestably\tlahmi\tbene\tstampedoes\tpowdering\tcanaan\tcalno\trill\tdebutantes\timpearls\t_my_\tgenerall\tbarouche\t---,\tmajestick\tslaughterous\tclaptrap\tmanahethites\thananeel\tfoulness\ttalmai\traddai\tmobbed\tmerathaim\tunfledged\tpindarus\tphoenicians\tserjeant\tmobbing\ttarns\tzeruiah\textreamity\tbinde\tdiluvian\tbrathe\tunworldly\tvpspring\tstyria\thorrifies\tshewed\tcorroded\tapharsathchites\tnipping\thelkai\tunitest\tpersuadable\tsauage\ttopheth\tgiues\tspeakest\tlieth\tzithri\thoodwinke\tseth\tkeels\texemplary\tjerkingly\ttabret\tperusall\timpell\tgirle\turchin\tennuyes\tsignificancy\tgrampus\t_happily_\tspion\tunctuousness\tfledst\tknave\tthunderer\teyrie\tmoabite\tflatteries\taffecteth\t_what_\theightens\trestingplace\treprove\t_have_\tdekar\tsixeteene\tpalpitated\tsnowdrop\thighnesses\tbackstays\twholsom\tmimicking\tlahad\txerxes\telbowed\tpithon\tfoetal\tastrea\tflaggon\twhirr\tharhaiah\tthistle\terflowed\tsultanically\tjehubbah\tscrutinies\tvirtuousest\twhereabout\tscorners\tinculcating\tmarl\tsmels\tinfantileness\ttombed\tfoorth\tlichfield\thornpipe\tcheekes\tchezib\tnormans\tzedad\tzeri\tabjure\tdeliria\ttiglathpileser\tperazim\tjabneh\tossian\tnomine\ttibni\tinkstand\tiealous\tcareah\tjerusha\tpersuadest\tporpoise\tdeafness\tsirrha\trejecter\tbowline\tvndertakings\thersel\tjuda\tdisobeys\treseated\tinfold\tweedes\tdipt\tcolleagued\tcroqueting\tcruell\tnabal\teveningtide\tsaltcellar\tfirepans\tvillaintropic\tedtions\tliear\tfarewells\twaterless\tareli\tparegoric\tlege\tmilsom\tlunatick\tdaboll\tbattues\touercome\tdagda\tbalconyful\tcrim\tlybian\tpiltai\tfizzing\tlebana\toppositely\tantothijah\taugurers\tmiry\tcholler\tprecipitately\tglades\teltons\t:,\teshtaol\tgravelotte\tbinea\txii\tmisham\tfoundst\thalfepeny\texceedeth\tabdi\tinfolding\tchaises\tgirgasite\timprovisatori\t3d\tsorra\tdisguiseth\tsleptst\tslates\tsettee\tpugilists\thoure\tquizzing\ttimna\tladeth\tcalibres\tstrifes\tcolnett\tassaid\tattrite\tplaguey\tichabod\tuniverses\tnarrate\tsystematizer\tripley\tseekes\thumbledst\tlasharon\tquicksand\tkenath\tspeake\ttoothache\tunstaggering\tkinah\tnoisome\tacquaintances\tgaham\tadroitly\tgirdles\taffronts\tmosaick\tjezebel\twalla\tunwritten\tuntamed\tllamas\tuncropt\tenglands\tjohanan\tfeedest\tthreatning\tcompasseth\tgruffly\tshophan\tconceiue\tbalena\tconcreted\thamonah\t_had_\tfairylike\tguiltinesse\theadmost\thameth\thagab\tpublisheth\tdarien\ttumid\tcudgell\thurricanes\theleb\tathirst\tsonnambules\tflauntest\tvenerableness\tundeviating\tgudgeons\tbanqueter\ttibhath\ttartareous\tdeliuers\ttarquin\tuntrimm\twarrantie\tphilippic\tlunger\tteetotallers\tvilest\tbastardie\tfetor\tconfides\tpredestinating\tvnknowing\tconcernments\tallude\tflashings\tenvelop\tdespisers\tflukes\tbesodeiah\ttyro\tsleeplessness\tducroix\telsa\tdispiriting\tpreble\tzephyr\tsharpens\t_caro_\tgrubbing\tmannikin\tundrape\tunpossibility\tcocke\tslivers\ttessellated\twallises\torpah\tremaliah\tproue\tcounselled\ttestimonies\tknapp\tcircumambient\tunsubduable\tcyclopean\ttydings\tforefather\tflinched\tbirzavith\tneballat\tshelly\tinterlinked\thoronite\tcharg\teielids\ttoilette\tlisps\thugge\trimmonparez\tclanging\tnachor\tblustering\tinstrumentall\tconsulteth\tjoatham\t"
     ]
    },
    {
     "name": "stdout",
     "output_type": "stream",
     "text": [
      "owle\tflaked\tleprous\tosity\tdizahab\tunwarped\twheelerite\twhoredoms\tzare\tladiship\tdiggedst\tunlaunch\tshticks\tsyriamaachah\tbroils\tlaving\tcalledst\tsquadroned\tappointeth\tmirrour\tcoppice\tragge\tdefies\tholdeth\tciphering\tmilliner\tiouiall\tislet\tosceola\ttoucheth\tvultur\tlamentable\tdy\tfauors\tnimrim\tdisguising\tfount\tsapience\tabbana\tvitalizing\tchattahooche\tguidon\treflux\tbethmeon\t.\"*\tdiscovereth\tcinque\tblowes\tsubsisted\tmaroth\tslumberings\tmasonries\tgipsies\tadiew\tworryings\tbarbars\tmummeries\tdecius\tmercies\tofttimes\tvapoured\trentest\totherways\tdeshabille\trencontre\tshupham\twiddow\tdumfoundered\tsymes\tmishma\thearthrug\telishua\tbasketed\tflatting\tpolemen\tencrustations\tsusanchites\tdenominating\tsayest\thashum\trectory\thugger\tcondolence\tnibbled\tvpmost\tboudge\tmithcah\twaites\tignominious\tpatroling\tfestivity\tcosins\thenoch\tasarelah\tconcernings\tzebina\tscottato\tbrainless\thillocks\tpacifics\tabijah\tgoblets\thowsoeuer\twindmills\tfulfils\tdreadfull\tovercharge\toutstript\tswinish\tvertumnus\tdefensively\t8oo\tjaakobah\ttahtimhodshi\tcrape\tdisputer\tbrack\tirrelevancy\tproclaime\timps\timpowered\tarkansaw\tunostentatious\tashtaroth\twinketh\textortions\tjailor\tkneaded\tsheepcote\tabjectus\tmeyerbeer\tcadwallader\travished\tjahazah\tacquirements\tthousandfold\tcaffre\tdidst\theroick\ttedded\tpercha\tobstetric\tjephthae\thav\tdotes\tdoth\tvrg\t_perfection_\tachshaph\tlucifers\ttutored\tthralles\tmoseroth\tmuftis\tgrowne\tcrewkherne\tcopse\tprows\tdealeth\thypochondriac\taphses\tsidonians\tloines\t_when_\tjona\tbanq\twouldest\twineglass\twatcher\tshemaah\tamphipolis\tmarke\talush\tloup\tthara\tsnuffeth\tcudge\tbourget\torbe\tarkite\tithuriel\tworming\tashbelites\tjailbird\tfertilising\tcrossness\tflunkeys\tuneventfulness\tstarres\tcabman\tfilers\tgroweth\tadonibezek\thareth\tcircumnavigating\tamain\tproveth\tgreeue\tmendanna\tbarachias\tlassitude\tlargeness\tjamb\tverbalists\tembarcation\tdarda\ttrope\tpsaltery\tjaaziah\tshallop\tdefiledst\tgouty\tfoamin\tgreybeard\tmammon\tmoadiah\tmirabilis\tdisrated\tswound\tcackles\tastrological\tjahaz\tprophane\tlave\tbarak\tsenit\tflummery\tterribleness\tcalues\tvnluckily\tvnder\tuntwisting\trecoyle\tsuspiration\tlarded\tstrayings\tordenance\tentreaty\tachaia\tupliftings\tcleaver\tcountenances\ttwilights\tsenselesse\tsartain\tdecayer\tdisannulled\tchieftest\tcassock\tbenumbed\tunbereav\tpeake\tmontalban\tdeckedst\tshilhim\timpolite\tthinkings\toilpainting\tcrouded\tguesse\telucidate\tquoins\tahio\tbrawling\tfleddest\tspurnes\treway\thenceforward\tdeucalion\tplenteously\tepitaphs\tportmanteau\ttranslatress\t.*--\tagur\tcoffined\t_i_\tporcius\thoed\tzee\tker\trapacious\tpeacemakers\tmeshezabeel\tbegetters\tjericho\tfootmen\talleluia\tgendarmes\trobbeth\tbeerbohm\ttahath\tfloodgates\tstowage\tscorner\tcirclings\taven\tpressman\thorseponds\tfallest\tenormousness\tphrenologist\tprotuberant\tnantuckois\tfors\tstiggs\twakefield\tgwine\tmered\tbequeathing\tcombativeness\tatheling\ttrumpeted\tdrumme\taffettuoso\tcheerefully\tmungo\tunsearchable\ttenori\tverra\tintents\tunwaning\tsweareth\tpantings\tcostliest\t_letting_\tmuddled\toverleap\tmibsam\tforesail\tbyways\trepossess\tdanke\tshunites\ttwopenny\tbedward\tcondemnest\tunreasonableness\tcanaanitish\tbaronne\ttether\tansweredst\thives\tharems\tcoached\tdamply\tstolne\ttremblings\tcircumstanced\tbrobdingnagians\tnunnerie\tvesture\thauocke\tcrammer\tned\themam\trebuketh\twitnesseth\tmaadiah\tsheddeth\tbarnegat\tapparell\therrings\tbridegrooms\tbodie\tpausers\tplaguy\tswitzers\tschemed\tazore\tchirography\ttree_\tnaphish\thorsebacke\tagapemonites\t_think_\toverbalance\tpethuel\tepicures\tsloops\tsplendors\t]\u001a\u001a\tdirenesse\tletcherous\tuntempered\tpilothouses\ttipt\tmephibosheth\ttolstoys\tdrieth\tmutinous\tcurricle\tswede\t_just_\tcapriciously\tguidable\thamor\teddyings\tcountermarching\tagnus\tdecayeth\thoneysuckles\thaggi\tanarch\tmoulded\tdunghill\tpuffeth\tfrankely\tdoctoring\tindiscriminately\tabishag\termites\tabiezrites\thasadiah\tinwards\tgainst\tboundlesse\tdespicably\tpromulges\tblither\tfavoureth\tcopestone\teffusing\treuel\tpallu\ttourniquet\tjoelah\tkedeshnaphtali\tcountering\tmenaces\tappall\tflexions\tlodgest\thackmatack\tunsurrenderable\tblankes\telpaal\tstickes\tshammuah\tpencilled\tlydians\tdespoil\tprovidentially\tconversationally\tswoonded\tantimilitarism\twearieth\timpetuosity\tfrance_\tamputating\tbegettest\tpacifically\telipheleh\tbesought\tespying\tselina\thillsides\tvolleys\tschame\tarriere\tareopagus\tscull\tdeceitfulness\tjubilate\tdimnah\t--(\trazory\tsmites\tinures\tdesperado\tlancet\tassorting\tmightier\tsordidness\tdiblaim\tfamishing\tentr\tantothite\tdisobliged\tgambals\timri\tscilly\tspermy\tzimri\tunmeaning\tpelt\t_is_\tmafeking\tvedi\ttranquillised\tdemoniacally\tapoplexy\tuninformed\tshomer\thukok\treceiued\txvii\tshuthelah\tdecapitated\tevangelize\toutvie\trevolutionist\tprophesieth\tunpretty\tfolgers\thval\ttamely\tesq\tgrog\tnonchalance\tfoughten\tendowing\tbemoaned\tcumbered\tgibeonite\tsudra\tstraggliest\tmephistophelean\tfinchley\tvppe\trevolutionaire\tvngracious\tabib\tillaudable\tpisidia\tcaphthorim\therdsmen\tbarres\tjeshurun\tiphedeiah\ttauntings\tpaddocke\treioycing\tenumerate\tfellest\tvseth\thistorie\tweighes\tfourfooted\tgreenlander\ttwelue\t_rank_\tgroomes\tinformes\tslouched\twainscots\tvilified\tslumbrous\tnuee\tlistning\theroisms\tsufferable\tishiah\tseywards\t-?\thymning\tconueyances\tsubtile\tbreezelessness\tunsheathes\tupbraid\tconuince\tblusterer\tfomented\t:--'\tcohered\tpossessors\ttrover\theath\tshrimping\tfrontispiece\theirdom\tbosome\tupgrew\tphurah\tamisse\tsanctifying\tbasan\tmarge\tbeteene\tpannangians\taijalon\tjaalah\tmishmannah\ttastiest\tlirra\tsepulcher\tbarbarity\tbrothell\thatter\tdigge\tcytherea\ttormentor\tseuen\tquiddits\tfaine\tfaintness\tcorybantian\tunnamable\tflailings\tundulate\tshem\tobtuse\tstrathspey\tprecipitance\tabda\tzeus\tshortens\tjeremai\tardites\tshepham\tpandemonium\tpyrotechny\tshimon\texeat\trhesa\tou\tactiuely\tforenent\tunfractioned\tunclench\tallenham\ttirhakah\tcoile\tneckerchief\trewarder\tgulfweed\tguildenstern\twhitsuntide\tdisingenuousness\tsatanick\tdruggist\tdelve\tinspiriting\theraulds\tammonitess\tsherezer\tmulciber\thethlon\tdiscordancies\tuzzia\tmaist\taffright\tbame\taharhel\twonderfullest\tpined\tprophetical\tsitst\tbaptista\tunsuspicious\tcrossway\tuprolled\tshephatiah\twinch\tmanito\tmournest\tsicknesse\tquella\ttankard\tshiza\theadfirst\ttinges\tgrowls\tscandalous\tsayer\tpierc\tfeasted\talbescent\teldad\tintrusted\tajalon\tobiect\tsupremes\tcetacean\tdogging\tintrust\tunprecedentedly\tafflatus\tdrowne\troamer\tlevant\tjattir\teliasaph\tkerchiefs\theeling\tseraiah\tstirr\tcull\tindignity\talderneys\tsufficeth\tleape\tuntransmissible\thivites\tinventers\traisings\toughtn\tperilousness\t_water_\texecutedst\tlunches\tembryon\tzabud\tnazarenes\tbactrin\thusham\tgaged\tdemur\tinuisible\tseraph\tarborous\tbakbakkar\temily\tlimeese\tcreagh\tgarmite\tapparrell\tcasbeen\tmong\tharrying\tfancifulness\tknockt\tmorter\temulating\tbalin\tjalon\toverstrained\tjoker\tbreathings\thaters\tbounder\tturchestan\tsheldrake\tvillany\tengannim\treveille\tjauntily\tseba\tbaalah\trustle_\tcafé\tclapper\tsqueale\tbrevis\tbenjamite\tbathsheba\tiephta\tbounteous\tvictress\tstraitened\trewardeth\tharrogate\tdeedes\tsolander\tballa\tpiratical\t_names_\tarchipelagoes\tspangling\tahira\tmaziness\tspue\tbedrid\tfearfulness\tstreightens\tirad\tbegorra\ttrotting\tzepho\tshechem\twacho\tcontinuall\tnatiue\tstrippings\treioyce\tclarions\toverloved\tvende\tfreshet\tur\treapest\tshemidaites\tacknowledgements\twigless\tchretiens\ttreads\tdrawlingly\tryranny\tstalest\tconcourse\tponderings\trequiting\tscorching\tarcadian\tsanctorum\tdippeth\tconvolute\traved\tdartford\teene\tphallu\tarrowes\tbethjeshimoth\tkytes\tstiffhearted\tfleece\tdriue\tpleiades\textenuation\tnahari\tindubitably\thaziel\txix\tebon\tpau\tforswearing\tjudgeth\twhetstones\tkelpy\tsycomores\tavaileth\tlucianus\teate\tislip\thospitalities\tweeny\tvnspeake\tnurseryman\tentertainingly\taddeth\tgracefulness\tantlered\thallooed\t;,\ttishbite\tmelita\twinke\tvollies\tsharai\tgoggling\tassyrians\tbullfrogs\tambassadours\tflatboatmen\tjered\tincarnardine\thammothdor\tadulteresses\tstoope\thorrify\treposes\t!\"?'\tkosmic\tphidias\tministrant\tmete\tsneezes\tsturdily\tfeele\tcontraries\tvnmaske\tbondservice\tdoomes\tblastments\tsleety\tdignities\twhiten\teliezer\tsignifie\tferrets\tuntrod\tvnprouokes\tdroops\ttychicus\tobserue\tsocratic\teuening\tlabours\tunpolite\tjesuites\texpostulate\tshaalabbin\tpeeces\tmillionnaire\tblitheness\tsticketh\tglade\tgravitate\tmannerly\tperceiued\tfoment\tfac\tappertained\tbaca\taonian\tishmaelites\twellfavoured\tramah\tbantam\tpreternaturalness\tmoony\tovermanned\tmidriff\tremonstrating\tpotluck\treposing\thiggaion\t.'--`\tpulteney\tanetothite\temboldeneth\tpaquin\tjuttah\tachaz\thullabaloo\ttumuli\t----\"\tapprehensive\tdupt\ttippet\tceas\tembers\tvnrighteous\twithstanding\tpromulging\tvnaccustom\twalketh\tungenial\tvoracious\tpropels\tavatars\talcott\tamara\tstalke\tlandlady\twithinside\tbefor\tdivulged\tunwithdrawn\textortioner\thushah\ttaci\tdiseas\tknowes\tscrabbled\tharadah\tdoomesday\tcrauing\tchassee\tstablenesse\tbondmaid\tarmagnac\tbildad\tgloomier\tjosias\tfamines\tlikeminded\tpleasantest\thelianthus\tshadiest\tsolemnities\thoughed\talamoth\tmetaphysicall\ttoothpick\t_the\tjahaziel\tincrustations\tgeneralizing\televations\tjekameam\tlikening\tspeakable\tbaalperazim\tshoham\tsailers\tslur\tdustier\tishpan\tminde\talienations\tcerastes\tannawon\tnaasson\trevealment\tshittah\tahaziah\tbigthan\tovertaketh\tadder\tphiz\tqu\tjair\tplowman\tdamasco\tpacifick\tgoring\tcauls\tiugling\tdispensatress\tlosings\trazeed\tdecapitation\tleafe\tmightest\tmammiferous\tfirstfruits\tunsubdued\tsadducees\tunamiable\tdishon\torcs\tlopt\t--'\tsuperfluousness\tknapsacks\tcommings\tdodona\tmarigolds\traphaelite\tunmisgiving\tvnbrac\tribands\t_small_\tquarried\tbugles\tswagger\tenfranchis\tdigged\tspesso\tforemen\tsixscore\tpitieth\talbatross\tmalchishua\tdisconsolate\tunsoftened\tshashai\targento\tavowal\tslumberers\thintings\tfervour\ttanach\tyeelds\thorite\tshly\tfleance\tstraite\tzophar\tarchibald\tsorrowfully\tsupplieth\tgrotto\tglens\ttriall\twilks\ttranspointed\ttoyles\trauell\tcoupleth\tparragon\toppressing\tunconstraint\t?\"--\"\texculpate\twearer\tennobled\tsadoc\tdegree_\ttolerably\tjoed\tobtruded\tspirally\tnovices\tsaviours\ttupman\tseemliest\tprescript\tillimitable\tunderhand\tpoetical\tfawne\ttreb\ttelassar\tjilting\tgoads\tinformidable\tfoaled\tsubjection\tcalah\thermony\tfreedome\trestlesse\tunbefitting\tchoisest\tmadai\tlethe\timprecate\tstirre\tcrypts\tunpractised\tblurres\tlatterly\tshkin\texpending\toars\t_unreasonable_\tleummim\tbanditti\tennui\treiteration\tarethusa\trifts\tmallows\tstoneless\ttreachery\tappellative\twaifed\thist\thallow\tgarners\tspicery\twatersprings\tchallice\tweares\tirnahash\tfalsified\tmanhattoes\tintellectualism\tthroate\tconsisteth\tcoarses\tapparitions\tpantaloons\tremonstrances\tbethany\tedens\taffear\tstraitness\tsurpriz\tfesole\tglamys\tpalmetto\tdood\tegress\tdetriments\theark\tunobscured\trepayre\tvexer\tvndertake\tuntouch\tbogberries\tmetempsychosis\trashly\tstolidity\tsharping\twingfield\tmichal\thailstones\tbelongeth\tinwove\tshimi\tgriding\tscoffers\tfoots\twhang\tcommodiously\tmouser\tlimpsy\tsaluting\tpriuy\tkedemoth\tzebedee\tharhur\tpainfulness\ttryphena\ttunings\tbuttermilk\ttellest\tlichens\ttete\terarching\thumbles\tdesolated\teastwards\tbethshittah\tlimitted\tmanxman\thoter\tlandsmen\tinterlinks\tcheapely\tcleombrotus\tacridness\tpropertie\treuolt\tedomites\tcomtesse\tmanassites\thanan\tcontrouersie\tglistering\tchowgh\tjahdai\tarumah\tgallivant\tmischeefes\tmisgrown\thanger\texpiations\tbocheru\tbigvai\tobededom\tidolatrous\telkanah\tjoinings\tcauerne\tsurry\thye\tjambs\trejoined\t;'\tfadeth\tcrisping\tinuest\tbechorath\tphysiognomical\tgored\tsixes\tresen\tslingstones\tbiscay\tvntitled\tfurbish\tmateriall\thuntsman\tdermod\tfraternal\tsylph\tprologues\tunminded\tcalebephratah\tishmael\tquadrupedal\tseneshals\tgezrites\tcleerely\t_\tjeduthun\thoveringly\tcarcase\tsanctify\tlippes\tunhinge\tbather\tginath\tshrew\twillm\tgispa\tpeto_\tabaft\tfootlights\tepaenetus\tmoping\tekron\ttort\toppresses\tosiers\teckermann\trew\tsedateness\tmisgab\tchaire\tentrapped\tpeaceably\tsweares\tindomitableness\tdriveth\tbadest\tconsecrated\tburiall\tplaister\tslandereth\tabnormality\ttut\tthankfully\tprocreant\tcrozetts\tunencumbered\tducates\tselues\trattleth\tclippers\tuntainted\tfalser\tthamyris\tgedor\tbalan\tpittie\tinterflow\tgilder\twheugh\tvrine\thelpe\tclaudia\tseeke\tvulcans\twizards\tenflaming\tequestrians\tparacelsus\tkedgerees\tservest\ttherin\tunfatherly\tuncouthness\tzemarite\tpriuate\tlieges\taccad\tnecho\tmarchioness\tenveloped\tabelbethmaachah\ttableaus\tstoppes\tpersevered\tedgware\tphilistim\tunsignifying\tadnah\tcontiguity\thazargaddah\tunenervated\tsidelingly\tformall\tdiablerie\tziklag\tfervid\txxix\thermetically\tholdfast\tshuthalhites\tshaveh\tunfulfilments\tshur\tecstasies\tbeautifier\tnereus\tconaniah\taristarchus\tconvulse\tsaidst\tnaturans_\tpardoneth\treuerence\tsaracenic\twesters\tdicers\tsleeke\tsepulchre\tunpitying\toverplus\tahinadab\tclearest\tincontinently\tungentlemanly\texcelsis\tzaanaim\tmountaine\toverpower\tioyntly\tstiffest\tmiscreated\tfallacies\tcogent\tgaine\tglistens\tmagniloquent\trefuges\tawhere\tinabstinence\tarisai\tconiur\tcarest\tattent\tvermonters\tephphatha\tdelighteth\tbakbukiah\tsixtyfold\tsubterranean\tvnweeded\tshephi\tminish\tunexceptionable\tshewes\tswindlers\toceanica\truhamah\tcircumferences\tcontinueth\tzebaim\tmeekness\tophel\tforeknow\tcurries\tpanteth\tcenser\theeds\tvnborne\tcourb\thumoredly\tue\tspoonfuls\tinquietudes\tsheepcotes\tozem\tzelotes\tembroils\ttrucebreakers\tdeseru\tprevenient\tmoles\tsplashboard\thistoricall\tleuied\tpeleth\tangularly\thitherward\tshoon\tashterathite\tritualistic\tsamgarnebo\tvignettes\tdivideth\tfiliall\teschylus\tbidkar\thollo\tponent\tdabbasheth\tbarrenness\tcanaanites\tgreenlanders\tshineth\tfowly\timpeached\tsagaciously\teliud\tslighting\thallucination\tmarshals\tspraining\t_refused_\tannoint\tmethodization\tclaymore\tvnsinnowed\tchoppers\tmcsomething\tkites\tgarrets\tthimnathah\t?)--\tspired\ttogged\teccentrick\tsilvering\tmosco\thecticke\tsouthmost\tcrouches\tundisturb\tfairely\thansoms\tclamours\ttyphoons\tdenmarkes\tnowise\tdeadlier\tfolio\tfootprints\twassels\tidbash\tbedfellow\takkub\tdruids\tkindlier\tinaudibly\tvicegerent\talloweth\tenjoyments\tglu\thastie\twester\texactitude\tdarings\tmoveth\tchesulloth\tmaachathites\tdewdrop\tcenis\tcondenses\tvociferation\tlaudable\tgloried\trawnesse\tfunereal\tpahathmoab\tcondemne\twillinger\ttahpanhes\tbarbary\tsophy\trefresheth\tdericks\thothir\tminiamin\tunloitering\tgether\tpassest\tribai\tpoetling\tglobose\ttranquo\twheres\ttussled\tbabbles\tpleadings\tclitus\tintentionless\ttyrannous\tguillotine\ttraueller\tvulgarity\tfirstfruit\tbestows\tsteales\tabelard\tgallipagos\tpates\tconnatural\tsatisfie\tsemachiah\tbeeri\tpitifullest\tzebadiah\tthalia\tgatherest\tsamaritans\toctavo\tglassie\talowd\tkallai\tesli\tdeadreckoning\tdebar\tbeest\tuomini\tcompunctions\thardicanutes\ttimnah\tproceede\tblaspheming\tstoven\texaggerative\ttransfixed\tbloweth\twandring\tcordage\ttalkes\tporus\tthinn\t"
     ]
    },
    {
     "name": "stdout",
     "output_type": "stream",
     "text": [
      "undetached\tbouverie\tmesse\tjehudi\tmonsoons\tmagnetick\tshiphrah\tviands\tunworthily\tchoake\ttimnathserah\tcastors\tides\tsojourneth\tleuwenhoeck\tleth\turchins\tshrewder\tmorrice\thorrour\tadaiah\tvbique\thatefull\treuolution\tnahalal\tjeuz\ttragick\tshovelled\tnois\tdingily\tpenetrable\treprest\tsacredly\texasperations\twhaleship\tdeepely\tgamaliel\tunfaltering\tsimri\tmoonstruck\taffrighted\tblacksmithing\tsomerses\tgastly\tmaidservant\ttartak\t*:\tjaminites\tclamouring\trepartees\tnaarai\tpeevishly\tintrench\tevildoer\t_tap\tmartiall\tmusters\tadramelech\tperizzite\texpress_\tsibbecai\tmatred\tsardonically\tfetcheth\t_broke_\ttapor\tzeuglodon\tcobl\tvertue\tcalendula\tunresponse\tbowings\tsuperannuated\tslewing\tbreasting\tpriams\tlifter\tbowd\tsweno\tsubtil\tarcheresses\tundefiled\tecliptick\tshedder\tcomplaire\ttwentie\ttuns\tmagormissabib\tsendeth\tvalved\tblains\tsackclothes\tblossomes\tmodernist\tplashing\tabinadab\t_invite_\tomens\thori\tentanglements\tbrawniness\tangler\tdebased\tshaul\taccompt\tartire\tindescribably\todoriferous\tgrosser\tfatall\tfranchis\tcray\tdeferreth\tauthoriz\tenamour\tlaer\tmacduffe\tbeautied\tslush\tbaboones\tselleredge\trhymed\tdebouche\tsquirming\tahiezer\tincreate\tbaronet\tinterrogatively\tupsprang\tlowermost\tscarse\tdionysius\twrathfully\tsmoak\toverjoyed\tinfranchisement\tbabblings\tcampe\treigh\tisuah\tcaines\texecuteth\tringbolts\tgrunsel\tneariah\tlongwinged\tdryad\tfolde\tstrived\tmisgave\tstarv\tmower\toffall\tunreproved\tbeggarly\tchasms\thuzzaing\tunsuspected\therschel\tconcoct\tspile\tgerent\tprognosticators\tnnight\tecstacy\thoglah\tpeeped\textorted\trehabiah\tskippedst\tbawd\travishment\tboades\tpopil\tcurtesie\tinkindled\tspoutholes\tforwardness\tulceration\tregardings\tuncircumcised\tmalchiah\tmoustachios\taforehand\tcummin\tdwellingplace\tt_\terpowered\teffusions\tlandholder\tliest\tconglobed\tmisbehaviour\tswaddled\taglow\tmarmoreal\tgoldbug\tthornberry\tnauseous\twafts\tgreeuously\tpinkest\tgamboge\trephaiah\tbrahm\tmettels\trips\thakkatan\tuzzah\t!**\tcoaxes\tmeshullam\tconceit\tlettuces\tvncurrant\toverpraising\tabdication\tgrauity\tbedclothes\tflagon\tlins\tloftily\tprest\temerods\tfoysons\tabital\tzereda\tnant\tsuccessless\tparalell\tseeling\tnivir\tnewtrall\tcastaly\thavilah\tsoris\ttingled\tkedger\terwatched\tinspectingly\tdigression\tjoyless\tneutrall\tcromer\tmaruellous\ttherfore\tconfirme\tembattling\timpostor\tlappeth\tmoneths\tabasing\tcathnes\tdrenching\thairbreadth\tdenser\tfrontest\toutsetting\ttransforme\twoodman\tprofanely\tlacke\twint\themlock\tclapp\tunmodernized\thorsepond\tmelea\tunstarched\tsawcy\telsonower\tbelaying\tstonesquarers\tgustie\tbamboozle\tmarline\thermogenes\tspirita\ttweene\tbyrth\tluffs\tchozeba\timpoverishing\tsextillions\tdowny\tsharonite\tweightie\trubied\tpanellings\ttriumphing\tcraue\tpendants\tsoured\thymenee\tshilonites\tbaptised\tancientest\tflowt\tirrepressible\tateliers\tjerah\tidlest\tasnah\tpreternatural\tmaachathi\tsmoothe\trecouer\tbestowing\tdanites\t_thoughts_\tstouthearted\tcordiality\thornbill\tengulphed\tparbar\tbehemoth\tdelightsome\tminion\tmahli\tgastric\tneruij\tgaff\tmiserly\tfoode\tslues\tcoffins\tdeceiv\tcress\tardon\tflye\tgilds\tenwinding\ttamah\thelve\tnitrous\tperisheth\tlaved\timmutably\toutbranching\tfructify\tbenevolently\tartifices\tlimberest\tdamiata\tunrecorded\tsuperstitiously\tbrightening\tbestreaked\tbaulks\tuntroubled\tzalmon\tinterceding\tpayes\tninny\tteapot\twebbed\tquid\tpathway\tsweepers\teyeservice\tostriches\tsills\tmaccaroni\tdamped\tunshunned\tvomiteth\tbazluth\tpowres\tweazel\tnews_\tremainest\trenowne\tmurd\toldness\tquails\thoboyes\tplebeians\tconsidereth\talmanack\tcobham\tuncordial\trecast\tserjeants\tclimbest\treasonableness\teuidence\tsoundlesse\tgardiners\tmountaineer\tungovernable\tpleasanter\talraschid\tsixpenny\tbarrows\tdefeate\tjustus\tunworshipt\tpreventest\tsergius\tsopp\twindward\ttwisk\tvnmannerly\tiade\tbasest\ttestifiedst\tinfesting\tpassionateness\taider\tspareth\tgorgonian\tzarah\tdeparteth\tsyriac\t_should_\tsurpassingly\tchaff\tprologue\tcanaris\tbosky\taccoutred\tsacrificeth\ttisbury\tstalkes\tcannoneer\tstaine\tinvective\tcoopman\tbeershop\thilted\tdeliverer\tcrossly\tdudgeon\tknottiest\taddage\talembic\tsaucer\tdismalest\tcleanness\tunembarrassed\tmagicke\thyacinthine\tsharpeneth\tgederothaim\treceiue\tnewlanded\tjoky\tadmirest\tmouing\tuninvented\tgrandeurs\t_there_\tdurst\tdissemblers\tlunacie\thagarenes\tplummets\t_can\tshemariah\treprehension\tsowes\tbethrapha\tstampings\ttremendousness\tbleede\ttenderer\tchafes\tiest\tgendereth\thousetops\tinterpreters\tithai\tserah\texecutioners\tallowers\tvas\tgrupello\tthereout\tdexterities\tzoheleth\tsherd\tzanoah\tdisconsolately\tmortgaged\tfulller\tcivitas\tchorashan\tmainyard\tabhorrest\tblacksmiths\tpestiferously\tslatternly\ttrode\tnathanmelech\tweake\tscullion\tharpier\thorson\tallaying\tstrewed\tshaws\tostentation\tconspirers\tscuffling\tshingled\tbackslidings\tbrauery\tourang\teternally\tgayest\twarringly\twrencht\texhort\tjustest\tmanhatto\tvalvular\tstoppeth\telihoreph\tcustomed\tprescrib\tbeareth\tjeshishai\twondrousness\tfuturity\tflouts\tapoplectic\tsarepta\tweened\texhaustless\tcamell\tgrandissimus\thuram\tshirr\t_he_\tcausey\tintrepidity\tfamished\tgrievousness\tlatently\tleauing\tmiletus\tclossets\tzimmah\ttremblingly\tentablatures\teliseus\tlouer\t\"`...\tpondside\tgallopping\tabased\taphrah\tfootway\tchinned\tsteppeth\tweyard\tschreame\tvenerealee\tlaves\taslant\tmacdonwald\thatefully\tvassalage\tinwoven\tuzziel\tclymate\tpovelson\tcounsail\ttransfiguration\tladled\thecats\tmenthe\tpoohed\tgreeke\tkenezite\theeles\tmadras\trealme\tinterrogating\tinterlocked\tmoaning\tliquours\tdivorcement\tclomb\thippogriff\tunmanufactured\tacceptation\terthrew\tunlearn\tdogges\tloftiest\tduncane\tputiel\tworshipp\tfitches\tazareel\tfleeth\twigwam\tharrowes\tnegligently\tinveteracy\tmildness\tunclad\tbreuitie\tgibeonites\terections\tvnskilfull\theresies\thatefulness\tchurchyards\tdanaw\toscillates\thatful\tpowrefull\topal\tthrashers\tbelus\tlanyard\tbesom\tvaunts\tproposest\t_must_\tdeerely\tratifie\tclift\tezekias\tpasse\tendlessness\tapter\tradney\tingendered\tdragg\tcravats\ttirade\tcarmelite\tlaundress\thwal\tjewry\tdabs\tshriuing\tjudah\tsodainely\tmacdonalds\tshakespere\tfakirs\tcruised\tchangest\tbedan\thelon\tsloped\tronyon\twasteth\ttalian\tthreshingfloors\t1667\tixion\tjezliah\tungirded\tgatherer\tcartouches\tmilitiaman\tstomackes\tseled\tcowdray\tiuyce\tfeebler\tdelos\tmorbidity\tintersperse\tclownes\toctillions\tbyrnam\tarchbishopric\twhoredom\tdeliuer\tshinar\taholibah\tpigge\twindbound\tphysicke\tbragges\tbondwoman\tthornes\toppresseth\tenquiring\tdeliriously\tantipedal\tshure\tscarsely\tundignified\tshtand\tunshod\taccouchez\tnorthumbria\tmoneth\tpalmers\tseeth\theyre\tbaste\tsceptics\tcrispus\tbravas\trevile\tdippers\tleaveth\twatcheth\tao\thousetop\t_quite_\tspleenatiue\tpreuention\tberachah\tredeye\tjostling\tmerodachbaladan\tintermix\tsetteth\tworke\tinfernal\tamies\tcrete\tstablisheth\tpreservest\tobserveth\tbunger\tahasbai\tclappings\troly\tbodings\tbecke\twildely\timpartment\twrithes\tpreparedst\tconcealments\trelievo\tflatted\thachilah\tlearne\tnisan\taswell\tanticipat\tlipless\tpewter\tcarous\traues\tinsatiate\tbazardjusi\tawaking\tanointing\tbetted\tligure\toctoroons\tengenie\tgleamings\tmunificently\tpur\timbosom\tworkbasket\tupbraided\tfagin\tstedfast\toutang\tlaplander\tauant\tshisha\theires\tvnbend\tvttered\tunmomentous\tunmoor\tkelson\tnyseian\tcoterie\tvnholy\tunquestioned\tioyfull\texpertness\thuguenots\tjeush\tshindy\tguadalquiver\tshotted\twhelming\tembroider\tincommodiously\thorsehoofs\tjozadak\tinsensibly\tinterflowing\tvioloncello\tmeasureless\tranting\tprecipitancy\tbyrnane\tbedsteads\tshowting\texeter\tdraff\tforthgoer\tbaasha\tsteeles\ttasteth\tlobsterish\tspeakings\tlyes\tspaniel\tbowsmen\tshapeliness\tbllcr10\tviler\tspinal\tpriscilla\tfarings\tbrigands\tjehoiakim\tsnaky\ttreacherously\ttopaz\tbenetted\tsupplications\tamerced\thoniton\ttearlessness\tdarkon\tshephathiah\theth\tniggardly\traftsman\tdevises\twend\tbunni\tfurie\tmaliciousness\tabihud\tclapham\tolympas\teznite\tmeannesses\tomri\tconceiv\tlawfull\tfourfold\tprospereth\tbeor\tmidian\tshunem\timbibing\tlitheness\tdisincline\twhatsomever\twaues\timpertinence\tmeritoque\tidalah\tnergalsharezer\tcooz\tgazers\tparenthesize\tinconsideration\tgrac\tgreco\tclearings\tdoormat\tfinis\tpocketfuls\tcarnation\tjaasau\tsanities\tlourdes\tfurbished\ttanhumeth\tasareel\tacquittance\tpropheticke\tdeliverances\timpregnably\tdinginess\treplenishing\tconfus\tahban\tsweetsmelling\thodesh\tsurprized\tjeweller\tjimnah\tencampeth\treckoneth\tsparingly\tcirclet\tfidgeted\tflie\tscalping\tboasters\t_dixons_\teidolon\tcarnivorous\tmane\t_eighteen_\twaitest\tpilasters\tcrayon\tcapsizing\thezir\tspoileth\tparsnips\tunsparing\tobiects\tkrusensterns\tadriel\tspousal\tfearefulnesse\trevilest\twittemberge\tdoublet\tparticularize\tintercedings\twittiness\tdelicates\thegai\tingenuousness\tsignets\tbazlith\tsallied\tdriues\tmischiefs\tramathmizpeh\thumiliates\tirshemesh\tguffaw\trahab\tphrensy\tnekoda\tcryed\trecuperated\tgentlenesse\tgentlemanlike\tgarnery\tbackbiters\tchoppie\t1784\trageth\tinroll\thaggeri\tsymphonious\tlifes\tbittern\tgarnished\thagges\tfishiest\tberothah\tduodecimo\tfreshets\tsolus\tdespisest\tgunsmith\tseines\tkniues\thartz\tcham\tglaz\tarbour\taldrovandus\tshooks\tioyfully\trowsed\tcocoanut\tshined\tplungings\tdiuinity\tinvunerable\tshudderingly\tthwarts\tmelchiah\travens\tbooksellers\tperadventure\tmeteorous\tunbegotten\t_daily\tupbubble\traiseth\tmcculloch\tallurements\ttye\tmaktesh\tpunctiliously\ttamerlane\tsanctum\tdinning\tuntrackably\tkillest\tmoderne\tcrotchets\telizaphan\tunrestingly\tunharm\tloadstone\tmasterless\tenmishpat\tagnostically\tschmerenburgh\tsqually\tchastenest\tvastness\tcobhole\tpenknife\tdepositing\theidelburgh\tbrokenhearted\tterrifiest\tdamps\tdesolateness\texpell\tpaneas\tsuperciliously\tquailed\tbitterer\tgradation\tmows\thawthorn\triuet\tmejarkon\tdunsmane\tsittim\tbussing\thearkenedst\tharbours\tplaguing\tdelaford\tcommandedst\tsanguinary\tpavilioned\tbeon\traines\tinquietude\talack\tvestry\tmenahem\tsportive\tbotom\t_mrs\tfrend\ttonneau\tunblamed\tbusks\tgehazi\tunexampled\talimentive\tziphah\tunfamiliarity\tcalomel\tdespaired\tinstigations\trespeaking\twalw\tbarabbas\tdidactic\tvsuall\tlobsters\tgourds\tbeare\trashkill\tphilippics\tfiers\tsquarer\tunalterably\tkirjathjearim\tgaol\ttopsail\txxvi\treignes\tsoyle\tsal\tershades\treproachful\ttenon\tdespicable\tshaphan\tcapsize\tshachia\treubenite\tmadnesses\ttorchlight\tearls\tbedeiah\tabez\tgathhepher\tunsavoury\tdehumanized\t.,'\tbeten\tsanscrit\tgnat\tscone\tappearest\tsmote\thenshawe\terarches\tshardes\textasie\tunlimbed\thizkiah\tbecomingly\thammes\teventide\tsancturize\twhalers\tnicety\twimples\teke\taduanc\tworthles\tunprejudiced\tgau\tmopers\tittahkazin\tdefenced\tunfathered\timportunate\tinclose\thabitudes\tcannoneers\tjahveh\tstrew\tcloy\tunpretending\tmassinger\teuils\ttalbots\tatlantick\tjocularity\taccosts\tcomplimenter\tzipporah\tberothite\tforgone\tsilversmith\tkedron\tstork\tvenerates\ttraffickers\tspouts\theresiarchs\tdisclaiming\tsorter\tnevadas\tootiful\tcuttle\tchargest\tsusa\trollaround\tcoucheth\tdrugg\treueng\tpalal\tmistiness\tperizzites\t_do\tmarksmen\talphaeus\tsyriadamascus\tfolke\ttravelleth\tmikloth\teath\tteaze\tpuft\tmattaniah\tvnhatch\tchasten\tsubtleness\ttrusters\tzeresh\tlowlynesse\t--.'\telopement\tahlab\tstartingly\twooingly\tvnfelt\tbeliest\tjeshanah\tducate\t_then_\ttusked\tslanderest\tbrigand\tschoolmasters\t_rev\tmaachah\tnaamah\tlaugher\trusling\tembalm\ttearin\tatwixt\tsawce\toverlived\tpatronise\tabishalom\tnewington\tamble\tavows\tequivocations\tleur\tgrudged\tcuriouser\ttattlers\tblunderingly\tlyonesse\tfatalism\tcompasses\tinfringing\tlodebar\tvndone\tnobleness\tunmentionable\tfrode\tcuttlefish\tazor\tdeerest\tvowest\tknobby\tharks\twhalesmen\tfirstlings\tshilonite\tgulfs\tbarrowful\tbrimmers\tchatterer\tarras\toverseers\tjoyed\tpoure\theartlessness\tencircles\tjetted\tbyrnan\tpoly\tgayne\tcroucheth\tunassailable\tcoalings\ttalmon\twriggled\tescheweth\thadoram\twayting\theedfulness\toxus\tstatillius\tbaalberith\ttarah\telysee\tfracas\tvanishest\tmouncht\tashbel\tpersuadeth\taliaska\tarmes\terre\tfloweth\tgibbar\tflourisheth\tyaw\t!\"'\tbelongest\tbraz\ttwines\tsowre\tlahairoi\tunprovided\telath\tunreprieved\tappii\tbrooking\tleshem\tlionnesse\thourely\tholyhead\tdoatingly\tchoosest\tnebuchadrezzar\tloitering\tribbes\tleanes\tyeare\thaling\tsibbald\tfewest\tcircumscribe\tlimitary\twheele\tactuates\tjibs\tzeruah\tmouldy\tloathsomely\tteases\ttyerman\tpriories\tpery\tneigh\tstunn\twineglasses\tdisioynt\tundrawing\tdooming\tlatchet\trapiers\tmoneylender\tsoberest\torphean\tpupella\tprotectress\tspiracles\tsiz\tmatthias\tlydda\toutstaid\torsetto\tvntrod\tdisloyall\tcannibally\tpendent\twisht\tunbuild\tlubims\tspungie\tfifteene\tunintegral\tjailer\thinds\tunwonted\tflambeaus\tvnworthy\tholdest\tapelles\tharvestman\tscentless\tamadis\tincreaseth\tzarethshahar\tbithiah\tmeronothite\terrantry\tunthought\tupcast\tcroakes\tauxiliar\twhited\tproofread\tcomposd\talmighth\tooman\temins\tgeshur\tpostillions\tuninterpenetratingly\tsaph\tfoie\tdrays\tcompanionably\tflong\temulation\tseminaries\tvnkles\tsubdivided\tcresset\tperseuer\tsharezer\tentrances\tweeps\tbutlership\tanswerd\texactness\tstealthy\tunpleasantest\tslipshod\tails\tscaramouch\tzaccur\tungraceful\tthron\tvngartred\thezekiah\ttadmor\tdoest\tparvo\tremeth\thurrahs\twheaten\trushy\tincarnations\tmissest\tspurts\tvane\tsled\tunbenign\timmoderately\tfeeders\tproceedeth\tengraven\tlowlinesse\trosetta\tcrunching\tglidest\tmutineers\thardiest\t1779\tlysias\t_that\tgeographies\ttraytor\tdeliriate\tpompe\trosier\tdacre\tunadmonished\towest\tapostleship\tretiredly\teates\tphrensies\tcoppersmith\tdeserter\tbusie\tbalac\troes\tindeauour\tindiscretions\tbrandisht\tshowts\tcomplainest\tvoyaged\tsnugness\twoodpile\tprovideth\tburgomaster\tconnubial\tshoa\tcontendest\tnotifies\tunwalled\tmandible\tchaffering\thookah\twholsome\tnahash\tprays\tbefriend\tobliquity\tbaly\tuntottering\tamram\ttimnathheres\tmamre\tshalmaneser\tbusinesse\todde\tblotch\ttideless\ttwinkled\tincoherences\tpekin\talarums\tyeares\tcanoeing\tbefalls\tbaggonet\tdeific\tharbona\tvnknowne\tdinhabah\twhisperers\temmor\tchopt\tgape\tbriers\tsleekest\tdestroyeth\tforetold\tleicester\tmaceys\tvnshrinking\tsleepest\tsailer\tvolubil\tsavanna\tforgiue\tfainthearted\twhisper_\tbethgamul\tpinnacled\tyeomanry\ttramping\tashurites\tbestirred\tfauours\tpaltiel\tcarbuncles\tsideway\tseptima\tuplifted\tscall\tintelligential\tresuscitate\tkeepest\tclamorously\tlebanah\teloping\tcontort\tscanter\tfurl\tfie\twrung\timbark\tvacillations\tunderbred\tstachys\thazazontamar\tstript\tburampooter\tmathusala\tgirlhood\twhate\tbibber\tsarjeant\tjebusi\tsupineness\tpecuniary\tquaked\tmizpah\tcommunicable\tlakum\t_pilgrim\tjoktheel\tnephish\twheeze\tzer\tdiscoursing\tbullock\tunpained\tmeddled\tharlot\tlobtailing\tsporades\tdolorous\teleuen\tgorgon\trevolvingly\tlexicons\tincrustation\tlaadan\tshaphat\tgrewell\tslayeth\tshulamite\tbeforetime\tmizzen\tcamphorated\tbdellium\tmerrier\trampantly\tcilicia\tstoning\trafted\tgrapegleanings\tsustaine\tforgettest\tblindeth\tunsleeping\taccurst\tgrasshopper\tcaudam\tguernseyman\tturtledoves\tabdeel\tincommode\ttidore\t)--'\tzichri\ttassel\tpolynesia\t!\"--\tverdure\tmarasmus\tslaue\tmacian\tcnidus\tcontriue\tpotiphar\tbreastband\tgaza\toverfloweth\tnarwhale\twatcht\tvertu\tmisheal\twateredst\tsybstance\tbarbarisms\tsower\tnewes\tslimepits\tflinch\tfellowdisciples\tsovereignest\trepenteth\talchemist\thai\tammihud\tbestrown\tishmerai\ttiptoed\thatach\tabominable\tpolititian\taccuser\tunlettered\tgahar\tsem\tpurer\tdore\tsignifieth\tdeclineth\tbacksliding\tful\tcabul\tunmeaningly\tdarlings\tnorse\treck\twhitenesses\tgleane\trechurned\tclinking\tcicatrice\tslews\tunsustained\tgrandchild\trellish\tprofesse\tblindest\tobeyes\tsentimentalist\t_assistance_\tscooper\treachers\tscud\tforgetfull\tdismays\tdepravest\tcommittest\tsute\tannihilating\tanthonies\tcarrion\tdrowsiness\tequipage\tte\tmover\t1772\tzavan\tprophesying\tshent\tanamim\tpalti\tspied\trekem\ttrieth\tslanderers\tmurtherers\tbotch\tinconstancy\tsnuffers\tcaptaine\tlevities\tsubdueth\twhatsoeuer\tenvironed\tsteerers\tcraned\taule\tskulks\trithmah\tshoreward\tcensers\tmutes\tbreastplate\tkedesh\tspearings\tcoppered\tsoudanese\tepher\tpolynesian\trepelling\tcurios\tunexpensively\tfanno\tspeciall\t_presume_"
     ]
    },
    {
     "name": "stdout",
     "output_type": "stream",
     "text": [
      "\ttoting\tstrows\thore\tinferiorities\tpersonableness\tbithron\tlieve\tsuccourless\tmahlah\thart_\tharpstring\trepinings\tpoi\tammon\tamon\thyperborean\tembellishment\tinartistic\tproselyte\tjehaleleel\tegotistic\tinmost\tminished\tsecrecie\tmaaz\tfogge\tbackwardly\tstumblingly\tgeliloth\thushai\tconstancie\tredtail\tbladed\tmiddlemost\tdrinketh\tstilled\tmedeba\tplaints\thandcuff\tl10\tnonchalantly\tbiffin\tpuls\tdispenses\toverflown\tbuzzer\tspiralizes\tboozy\temblazoned\tendor\tlabourers\tincompetency\tachbor\tlandlessness\tanacharsis\tpirathonite\tresteth\tgershon\tbarked\tblanco\thabiliments\tavenger\tweazell\tsplint\thatest\tdorsetshire\tgoest\tschouten\tcleaves\tzodiack\tgoney\tdissentient\tharpooner\tluccio\tlookouts\tinions\tcornice\tloweth\tshimshai\tyis\tflaunt\tuproarious\tblights\tsoonest\tsightlesse\tsheaths\treasonings\tandromeda\tzibeon\tsmyling\tstubborne\tdispels\tenlargeth\tinvariability\tbilleted\tunhorse\tmarishes\tpulverize\tbuzzard\tgat\tplatane\t15o\tregaling\tishuai\tairth\tfossils\tbattledore\tsanctities\tluz\tsleepiest\ttithe\towt\ttwer\tvnhouzzled\tgazites\tsolicites\tzareah\texerciseth\tdiscriminations\ttitanism\tblameless\tsiam\taccouchement\tcordially\tsaskatchawan\tweser\twhirlpooles\tphilanthropists\tcharioteer\tripply\trevenged\tincredulous\tpelatiah\tdestinie\tinvestiture\tbrutes\tweakenesse\teligibly\tsheepishly\taduance\tperfectness\tpurg\ttobias\tshrunke\tgrecians\tkaqueta\tbenoni\tcalamus\twrongfully\twitticism\tholon\tsela\t!'\"\ttrespassing\tgav\tsere\taspirer\texcrescences\tlopatka\tvouches\tvats\tenfranchisement\tsinnewes\tiealousie\toftner\twindswept\tdisproportion\tpokers\tunapproached\treferr\tpottage\theraldic\tfilleth\tsluing\tavaille\tcombinedly\twroughtest\tclimbe\tobelisks\tdominicho\tsweatie\tkithlish\tmeribahkadesh\tscourgings\thightened\tioue\t_joint_\tmesmeric\tvinedressers\t_could_\tlookt\tadullamite\tunculled\tharmattans\tswaller\tdisfigure\telude\tconquerours\tbaling\teshtemoh\treelman\thankers\theardst\tdeservedly\tcharchemish\tupbraiding\tshivers\thows\tdeuices\tmechanicall\ttanaquil\t_try_\tdecapolis\tstanzas\tentreatie\tbiblic\tunalloy\tuzzielites\tcorsican\twhetstone\thearties\toverthroweth\tcitoyens\thauran\tgreyish\thackney\tbloodguiltiness\thastiness\tplumtree\topposeth\thazelelponi\tcaresser\thusbandmen\tarpad\tsuffusion\tgrottos\tinvincibly\tziddim\tawakest\teliadah\tphrenologically\tunconformed\tforgetteth\tcontemplators\tuseth\tconstraineth\tbuttercup\tcyrenius\tavowedly\tobeyeth\tadino\tjokim\tmezahab\tsovran\tunconceal\tsackville\timpeaching\twoodenness\tgreeuous\tgoatlike\tgurbaal\tmeshullemeth\torus\tocther\tmeliboean\tshelanites\tangrier\tperused\tballynagrish\tmeshillemoth\thayle\tezrahite\ttrafficke\tpasteboard\ttradespeople\twhomsoever\tpersude\tloured\tsolitariness\tmaida\texaltest\tundoubtingly\tdeserting\tfaithless\tdiminitiue\tseawood\t....'\tfurthest\t00081429\tsurer\tbugges\tspitzbergen\tsacrificedst\tchimham\tcolick\tvnforc\tpanegyric\tinobled\thertfordshire\tseesaw\tquintessence\tnasturtium\tsoundest\tenvelops\tunbuckled\tchemosh\tjokmeam\tbethink\tcontrariety\tobeisant\tsickle\tlettest\toutworks\twatchfires\ttrampers\tturtledove\tmortemizing\tjib\tunitary\tmaddest\tgulls\tplaning\tabysmic\tadze\tstumblingblocks\torisons\tnecked\ttetering\tspos\theauen\tdismasted\tcoppée\thagarites\ttother\tgaddest\tcelled\tquaternions\tballena\tzebulun\tsauroids\tmansfield\tprovoketh\thosmannus\tnectarous\tjezreelite\tshiphi\tleuying\tbattersby\tgales\tplaist\tjokshan\tsuperincumbent\taffability\tmesech\tirijah\tunobeyed\tundeservedly\tmayhew\trepealing\tshammai\tevolutions\tsepulchral\tjedaiah\tpearch\temanate\tbyward\thabergeons\tgreves\ttabrimon\tushering\tmammy\trelents\tjachinites\tdoffe\tkirjatharba\trebuk\tabstractedly\tmaim\tscruple\ttherewithall\tduncans\tbinnui\tcursest\ttrice\tserenest\tconfirmeth\tskinne\tvndoe\tpittifull\tunwilted\tleuies\tmell\truminated\tmahavite\tahaz\tdofrafields\taltamahaw\tuncanonical\tawning\tvnfirme\theadship\tpeninnah\toconee\tcounteth\tcauldron\tmuleteer\tphrenzy\tzattu\tprink\tappeas\tflauio\tchooser\tjanus\tninefold\tplayfellows\twanding\thild\tconfounds\tstriveth\tbajith\tjubilations\tshenir\tworkpeople\t}[\tpresentment\tpison\tslouching\truffed\tsignalised\tbelaites\ttares\tcounsailers\tvans\tchansonniers\tdiscouer\tbattalians\tgloating\tundenominational\tnaam\tcautell\tquilles\tfillest\tabase\tcracknels\treaia\tplaits\tsouthend\t_him_\timpossibilities\tunloving\ttressels\tneighed\tsprat\tthunders\t_as_\twarre\tjacinth\twhithersoever\tsacerdotal\twince\tpunisher\tdropsy\tlief\tsecurer\tlimbe\tyourselp\tpinion\tfoole\tneerer\tdelphian\tnocent\tstrook\tconuey\tasuppim\tshemuel\tsuperber\thoisting\tcloudlets\tdimmer\tfrill\tlustrious\tsunbursts\tsubtilize\tneedlework\tmaaseiah\trollings\tbattailous\ttopt\tswimmeth\tbulwer\tduelling\tleane\tforebodings\twaile\tbedstead\tide\tmecherathite\thayl\tmak\tremaineth\tfarthings\tquadrillions\tponchos\tfeates\tpoising\trelent\tpalings\tknightley\tlackest\tjeruel\tstopt\twarble\tsebastian\tdoddering\tsubtilty\timportun\tfilleted\tnahalol\tjehiah\tchaotically\tregale\tleapest\tmercyseat\teuents\tscapes\tdualist\tstraitening\tcapsizings\tclapt\taccustom\tcloath\teuboic\tcrusted\tmooue\tcentinell\ttreacherie\tvishnoo\tmaty\tcummerbund\tkrakens\tdyspepsias\tventurous\tsatyricall\tknocke\tzaretan\tinsupportable\tsatisfiest\tcorrupteth\turias\tdiffident\thenhouse\treleeued\thurai\twast\tmarish\twrapt\tdogmatize\thierarchs\ttorre\twending\thearken\tundress\tunfruitful\tcleats\tdinnerless\tpremeditated\tmildest\trhymers\ttroubadour\tresolv\telonbethhanan\tsaplings\thalleluiah\tscraggy\tbullocks\tgerahs\tdayspring\tentrenchments\tverdurous\tbereave\tunclipt\toded\tendue\tapices\tuncloy\tmemnon\tlugge\tpommels\tsterned\toccasioning\tsaild\tpenem\tmoode\tjogli\ticicled\tcorpulent\tskurried\tknaue\twretchedest\tearthsman\thabitans\tpreparest\tskirra\tsamaritan\tbraining\tloatheth\thassenaah\tpeeringly\tlectern\tbaskirs\tunsuitableness\tgittahhepher\tclocke\tthyatira\tishuah\tsweetmeats\tmeah\tjourneyest\tglitteringly\tmocker\treceiuest\tbrahmin\tspouters\tniphates\tcontortions\tuntrodden\tmagian\tpauselessly\tintegument\tmeridians\ttheseus\tgrossely\tbetaking\tanche\tekronites\tcadiz\tcetacea\tholp\tusurer\tdisuse\tcharlemain\tomnipresent\tmistresses\tbeaters\tmounttop\timprov\tzadok\tdissention\thogsheads\tdreyne\ttrichinopoli\ttendinous\thumouredly\tgraal\tamuck\tlangham\tcomfortableness\ttalbotite\tbrazon\tdreamers\tebbed\tclarion\tfiue\ttingle\tboardroom\thaire\tunshorn\tswarest\tonanist\tdiscomfiture\tepaminondas\taboriginalness\telectrocute\tgraine\talleghanies\tranklings\tperseuerance\tseashores\tcherube\tdistempers\tchoaked\tsauciness\ttrills\tunrighteousness\trankes\tbrowed\tdues\tsharuhen\tinundation\trulest\tmalchijah\tchebar\tagassiz\ttrent\thuri\tirritate\tsnappishly\tfreewoman\tworkhouse\tsala\t;*\tswimmest\tluvah\tdeborah\tjoah\tseised\thoratii\tmonomania\tcankered\tblackish\tlyca\tcompanionableness\tprepossessing\tcattegat\tunpainted\tvicariously\tshunammite\tploughs\tsouldiours\tdropt\tunbesought\tpoverties\t622154\tlochiel\tstanhill\tclappeth\tfreshier\tconfab\tdaydreams\tterrour\tophe\tphenicia\tsaladin\tduls\topposest\tmelchishua\trevelled\tdowney\tproas\tscowl\tremmonmethoar\tlooker\tisraelitish\tishmeelite\tdisagreeably\tcamelions\ttransmigration\t.--'\tdispleas\tagitations\tpapists\tpailful\tachan\tkadmonites\tramathaimzophim\tperplexities\twilloughbys\tlonesomely\tunevenness\tdiscolour\tbunches\tenshrine\tbrer\trebukes\tscepter\turiel\tsprain\tseauenth\tmodesties\tparthia\tpicturesqueness\tbefallen\tholborn\tsuperiorities\tdaresn\tchargedst\tcraz\toverstaid\tdanskers\tdebase\tjaazaniah\tflattereth\tebenezer\ttrumpery\twhoreson\ttames\tretyre\tleuie\tpouredst\tchannell\tdeprav\tchickadee\trabelais\thepherites\ttyed\tmanaen\tmeres\tgazathites\tsubserv\ttissued\tpiercings\tunentered\t'.\"\tunfort\thoast\tdeafer\taram\ttearmes\tcoozenage\thircan\ttheologies\tcruize\tarrogancy\tidealize\tizharites\teveryway\tdecoy\treeving\twhistlingly\tbivouacks\tmatsmai\tmonde_\talasse\tvngentle\tstretchest\tprayeth\tduodecimoes\tstaires\tgunites\tbalsamic\tgilalai\t!--\"\thollowed\thushathite\tupholdest\tbisons\tsheffield\tprouoker\tunseasonableness\tjove\tevanescent\trighted\tstoopeth\tcurres\tramiah\tpromisedst\telectroplating\tjaakan\tchaldeans\tvibrations\tprohibitions\tbelisarius\tbuzzers\tvnion\tordure\ttransprots\tsabbee\tmarre\tbridled\tdismembering\tpegasean\t_know_\tfretfull\tsemicircle\tsimiles\tselborne\tdisputers\tbrigandish\tlegible\tjugglers\ttost\tfadeless\tgauntleted\twashest\tcic\tunhinted\tmalefactors\tflexibly\twisedome\ttroubler\tcherethims\tfals\tvaluest\tseest\tindefinably\tfortunato\tptolemais\t_doubts_\tcompletest\tunspent\tplatforme\tcracow\tcircumfluous\tdownfallen\tclosset\ttoils\thorhagidgad\tpentecost\ttraines\tenterprize\tquahogs\tannexment\tsconces\tascalon\tdiest\tumbrageous\targyllshire\ttreader\tsuffrages\tincommunicable\tinimitable\tunbid\tpoleak\tintrantem\tpicturesquely\tdemesne\tgriped\tturnip\tstrowed\tbenumbing\tacushnet\tgobble\tgibbethon\thoshama\trapin\tcoalescing\ttransplantation\t_who\tzina\tkellynch\ttruculently\tunespied\tcontusion\tlarned\tbringeth\tspicier\twormes\tparallelogram\t.'--\tcommiseration\twainscot\trespecteth\tframeworks\ttormentoto\twiues\tlionlike\tmanoeuvring\tcoagulate\tpollute\tunadored\tinsignia\tvisages\tinuendoes\tsentries\tgriffins\tladed\tfelicitie\tmarchings\teshtaulites\tjaphia\tinsecurely\tjoab\tabiel\tmedina\tgeyser\tneighing\tsoughtest\tbethrehob\tratted\tlouest\tbakbuk\tbeerah\tgroue\tdefendest\tlikest\tgrumbly\tmarechal\tpruninghooks\tmastheads\tsquatter\tzidon\ttachmonite\tsluces\tslobgollion\teliashib\tquadrupeds\tyojo\tsedge\twheeles\tpromptness\t_alone_\tpollux\telysium\tdeceivers\t,?;\ttimnath\tstrumpet\tdismall\trosette\tarchangelical\terwhelmed\tkeeling\tunsay\taser\talcairo\toversailed\ttawn\tmodestest\tarrowy\tgallops\tleadeth\tcloakes\tuncut\trebuking\tcompulsiue\tbriefely\thewer\tnosegays\treynol\tpochereth\thadrach\tobseruer\tlingereth\tketurah\tmoats\texil\tinflames\tbrasse\tblessedness\twretches\tpurchas\tswash\trevengers\tmooned\tashvath\tschemer\tcaptur\tspecksynder\thoratius\tharodite\tdemonism\tcastalian\terrant\tabominate\tlighthouse\taskest\thanniel\thoorded\tforesaid\tbethezel\thawklike\ttroubadours\tspreadest\ttirshatha\tjechonias\tdisportest\tariseth\tincreasest\tannunzio\tsnodhead\tpeculation\tfaciende\tjah\tcomfortedst\tioyes\tpendulous\tbrushwood\ttubal\ttekel\tioyn\twhaleboat\tfornicators\tgiantess\tnecessitous\tserues\tiram\tunhoped\t\"`\tapprover\tbellona\tbatouta\tscabs\tdaren\tmainmast\tdesir\tspinner\tsavannas\tdishonesties\tcappes\trepulse\tdeluer\teuroclydon\ttahrea\tsureties\tlaadah\ttroil\texhald\tequalities\tunshovell\tcaptiously\tpotion\tmala\t_woman_\tphanuel\tprou\tmidwifery\tbloudie\t_how_\tnimrah\tcuvier\tantemosaic\tscornest\tsupt\tinconsequent\tpantheism\tbotches\tbethazmaveth\tdisjoining\tstayes\ttrenched\tiscah\tcounterpoise\tclio\tgiued\thags\tatabalipa\trabbles\tphaedon\tiournies\tgizonite\tlenox\trenascence\tzair\thidious\tlichas\topossum\tsophys\tswooned\tpunites\texuding\tcautelous\tnetophathites\tmahomet\tcoalcellar\tmoor\tchariest\tphoebus\tupheav\tdugongs\tchoyce\tshrieks\t--;\tautomatons\tretrenched\tunverdured\tastaroth\thardihood\tdispirited\tpreserv\tteemes\tzophim\tmareshah\teternize\tdruggs\tmoralists\tnoiselessness\tfulness\tmassah\timbosomed\tspoused\tundestroy\twithdrawnness\tapprehensiveness\tvexation\tlowliness\tnogah\tclimbeth\tgemariah\tblandishment\tsirra\tcowslip\tshabbier\tstabb\tselfsame\ttransgressour\ttentmakers\tavast\tchilion\trhodesian\tartemidorus\tjosaphat\tprouided\tboughes\tvnpegge\tmurther\tjerimoth\tblockhead\tsoliloquizes\tseon\tbanns\tfellowcitizens\tcooed\tebonness\twrotham\trhewmy\tfilliping\tliveries\tcushi\tathwartships\tsweepe\tcondoling\tbearskin\tnahor\tplumage\tfinny\tsyriack\tborean"
     ]
    },
    {
     "name": "stdout",
     "output_type": "stream",
     "text": [
      "\tfredda\tlashless\tharpooneers\tcamomile\tdiblath\tformost\twharfe\trore\twhistler\treares\tploughman\tplaited\tunlarned\tludicrously\tfacings\tquakerish\tinforced\tsikoke\tmown\tsequential\tprovender\tsyme\tteak\tsplendour\telectrotyping\ttrudging\termatched\ttorsoes\texployt\tpellicera\tmuscularly\trefraineth\tmanahath\traamiah\twrinkling\tmahershalalhashbaz\tamativeness\tatarothadar\tgerar\tinvitingly\tunargued\ttenderest\tpromenaders\tarimathaea\thish\tsubalterns\tlecherous\tsunn\tephraimites\tbroakers\toverspreading\tcasement\tsteersman\t"
     ]
    }
   ],
   "source": [
    "from nltk.corpus import brown\n",
    "from nltk.corpus import reuters\n",
    "from nltk.corpus import webtext\n",
    "\n",
    "all_words_brown_reuters_webtext = Counter()\n",
    "for filename in nltk.corpus.brown.fileids():\n",
    "    words = [word.lower() for word in nltk.corpus.brown.words(filename)]\n",
    "    all_words_brown_reuters_webtext.update(words)\n",
    "    \n",
    "for filename in nltk.corpus.reuters.fileids():\n",
    "    words = [word.lower() for word in nltk.corpus.reuters.words(filename)]\n",
    "    all_words_brown_reuters_webtext.update(words)\n",
    "    \n",
    "for filename in nltk.corpus.webtext.fileids():\n",
    "    words = [word.lower() for word in nltk.corpus.webtext.words(filename)]\n",
    "    all_words_brown_reuters_webtext.update(words)\n",
    "    \n",
    "ss = set(all_words_lowercase) - set(all_words_brown_reuters_webtext)\n",
    "for word in ss:\n",
    "    print(word, end='\\t')"
   ]
  },
  {
   "cell_type": "markdown",
   "metadata": {},
   "source": [
    "Although there are some words that still appear in modern written texts and spoken conversation (e.g., *outwitted*, *alms*, and *promptness*), there are some spellings that are now considered obsolete or nonstandard. With the now-standard spellings in parentheses, examples include *dissembleth* (*dissembles*) and other words that end in the archaic verb conjugation suffixes, *shrinked* (*shrank*), *tythe* (*tithe*), *centinell* (*sentinel*), and *poysoning* (*poisoning*). As a result, these obsolete or nonstandard spellings will be deemed valid by the spelling correction model. "
   ]
  },
  {
   "cell_type": "markdown",
   "metadata": {},
   "source": [
    "NLTK combines the Punkt sentence tokenizer and Treebank tokenizer to perform word-level tokenization. However, running the script below shows that hyphens are present only in punctuation strings. This is indicative of a peculiar behavior (that is not observed when using NLTK's word-level tokenizer): hyphenated words are tokenized into their constituent words. This may be traced to how `nltk.corpus.gutenberg.words` actually defines a word."
   ]
  },
  {
   "cell_type": "code",
   "execution_count": 20,
   "metadata": {},
   "outputs": [
    {
     "name": "stdout",
     "output_type": "stream",
     "text": [
      "-\t--\t.--\t?--\t!--\t;--\t--\"\t,--\t:--\t\"--\t,\"--\t--(\t)--\t.--\"\t;--\"\t--`\t----------,\t!\"--\t--------.'\t.\"--\t.'--\t!--(\t'--\t!)--\t!'--\t?\"--\"\t?\"--\t.'--`\t?)--\t;\"--\t:\"--\t,--\"\t:--\"\t.--`\t;'--\t!--\"\t!--`\t--.'\t).--\t?--\"\t);--\t--.\t:'--\t--.\"\t--,\t--:\t----\t?--(\t,)--\t---\t--;\t--!\t,--`\t.--,\t,\"--\"\t---.\t.--,\"\t-?\t-?\"\t--'\t,-\t.)--\t----\"\t--\"'\t'\"--\t)--'\t):--\t.--'\t--]\t'-\t----!\"\t--?\"\t--'\"\t--?'\t,'--\t-\"\t*--\t\"--(\t!.--\t-----\t;-\t---\"\t;--'\t?'--'\t,--'\t?--'\t.*--\t---,\t:--'\t:\"-\t;\"--(\t',--\t!--'\t;)--\t"
     ]
    }
   ],
   "source": [
    "for word in all_words:\n",
    "    if '-' in word:\n",
    "        print(word, end = '\\t')"
   ]
  },
  {
   "cell_type": "markdown",
   "metadata": {},
   "source": [
    "This highlights another weakness of the language model. Since the tokenization of the documents in the corpus results in the loss of hyphenated words, it automatically tags a hyphenated word input as a misspelling. Analogously, it is unable to make corrections that involve the insertion of hyphens to recover the intended word. These are illustrated in the code segments below."
   ]
  },
  {
   "cell_type": "code",
   "execution_count": 21,
   "metadata": {},
   "outputs": [
    {
     "name": "stdout",
     "output_type": "stream",
     "text": [
      "Output:\n"
     ]
    },
    {
     "data": {
      "text/html": [
       "<style  type=\"text/css\" >\n",
       "    #T_e51fd624_ddd5_11ec_a7f0_a81e840b27ff td {\n",
       "          text-align: left;\n",
       "    }    #T_e51fd624_ddd5_11ec_a7f0_a81e840b27ff .col_heading {\n",
       "          text-align: center;\n",
       "    }</style><table id=\"T_e51fd624_ddd5_11ec_a7f0_a81e840b27ff\" ><thead>    <tr>        <th class=\"blank level0\" ></th>        <th class=\"col_heading level0 col0\" >word</th>        <th class=\"col_heading level0 col1\" >candidate</th>        <th class=\"col_heading level0 col2\" >edit_type</th>        <th class=\"col_heading level0 col3\" >edit</th>        <th class=\"col_heading level0 col4\" >P(c)</th>        <th class=\"col_heading level0 col5\" >P(w|c)</th>        <th class=\"col_heading level0 col6\" >P(c) x P(w|c)</th>    </tr></thead><tbody>\n",
       "        </tbody></table>"
      ],
      "text/plain": [
       "<pandas.io.formats.style.Styler at 0x23fa07d49c8>"
      ]
     },
     "metadata": {},
     "output_type": "display_data"
    },
    {
     "data": {
      "text/plain": [
       "[]"
      ]
     },
     "execution_count": 21,
     "metadata": {},
     "output_type": "execute_result"
    }
   ],
   "source": [
    "get_spell_correction('in-law', is_lowercase=True)"
   ]
  },
  {
   "cell_type": "code",
   "execution_count": 22,
   "metadata": {},
   "outputs": [
    {
     "name": "stdout",
     "output_type": "stream",
     "text": [
      "Output:\n"
     ]
    },
    {
     "data": {
      "text/html": [
       "<style  type=\"text/css\" >\n",
       "    #T_e772e6ba_ddd5_11ec_b4de_a81e840b27ff td {\n",
       "          text-align: left;\n",
       "    }    #T_e772e6ba_ddd5_11ec_b4de_a81e840b27ff .col_heading {\n",
       "          text-align: center;\n",
       "    }</style><table id=\"T_e772e6ba_ddd5_11ec_b4de_a81e840b27ff\" ><thead>    <tr>        <th class=\"blank level0\" ></th>        <th class=\"col_heading level0 col0\" >word</th>        <th class=\"col_heading level0 col1\" >candidate</th>        <th class=\"col_heading level0 col2\" >edit_type</th>        <th class=\"col_heading level0 col3\" >edit</th>        <th class=\"col_heading level0 col4\" >P(c)</th>        <th class=\"col_heading level0 col5\" >P(w|c)</th>        <th class=\"col_heading level0 col6\" >P(c) x P(w|c)</th>    </tr></thead><tbody>\n",
       "                <tr>\n",
       "                        <th id=\"T_e772e6ba_ddd5_11ec_b4de_a81e840b27fflevel0_row0\" class=\"row_heading level0 row0\" >0</th>\n",
       "                        <td id=\"T_e772e6ba_ddd5_11ec_b4de_a81e840b27ffrow0_col0\" class=\"data row0 col0\" >inlaw</td>\n",
       "                        <td id=\"T_e772e6ba_ddd5_11ec_b4de_a81e840b27ffrow0_col1\" class=\"data row0 col1\" >inlay</td>\n",
       "                        <td id=\"T_e772e6ba_ddd5_11ec_b4de_a81e840b27ffrow0_col2\" class=\"data row0 col2\" >sub</td>\n",
       "                        <td id=\"T_e772e6ba_ddd5_11ec_b4de_a81e840b27ffrow0_col3\" class=\"data row0 col3\" >w | y</td>\n",
       "                        <td id=\"T_e772e6ba_ddd5_11ec_b4de_a81e840b27ffrow0_col4\" class=\"data row0 col4\" >0.000000</td>\n",
       "                        <td id=\"T_e772e6ba_ddd5_11ec_b4de_a81e840b27ffrow0_col5\" class=\"data row0 col5\" >0.000006</td>\n",
       "                        <td id=\"T_e772e6ba_ddd5_11ec_b4de_a81e840b27ffrow0_col6\" class=\"data row0 col6\" >2.166806e-12</td>\n",
       "            </tr>\n",
       "    </tbody></table>"
      ],
      "text/plain": [
       "<pandas.io.formats.style.Styler at 0x23fa07e6608>"
      ]
     },
     "metadata": {},
     "output_type": "display_data"
    },
    {
     "data": {
      "text/plain": [
       "['inlay']"
      ]
     },
     "execution_count": 22,
     "metadata": {},
     "output_type": "execute_result"
    }
   ],
   "source": [
    "get_spell_correction('inlaw', is_lowercase=True)"
   ]
  },
  {
   "cell_type": "markdown",
   "metadata": {},
   "source": [
    "Moreover, it is also possible to find words that contain punctuations and numbers (or consist solely of punctuations and numbers). To provide a rough idea of their occurrence in the corpus, the scripts below enumerate them. At the surface level, there seems to be no harm in having these words recognized as valid spellings. However, since the noisy channel model operates by considering words that are *not* in the corpus as misspellings, this means that punctuation- or number-containing words that are not found in the list below will be marked as misspellings. Given the almost-arbitrary manner of constructing punctuation- or number-containing words, there is no corpus that can satisfactorily capture them. This gives rise to the problem of overcorrection."
   ]
  },
  {
   "cell_type": "code",
   "execution_count": 23,
   "metadata": {},
   "outputs": [
    {
     "name": "stdout",
     "output_type": "stream",
     "text": [
      "[\t]\t,\t;\t-\t.\t'\t_them_\t--\t.--\t:\t?--\t(\t)\t\"\t!--\t!\"\t;--\t?\"\t?\t.\"\t!\t_We_\t`\t.'\t_one_\t,\"\t_you_\t--\"\t_will_\t,'\"\t,'\t_that_\t,--\t_She_\t_little_\t_very_\t_half_\t_small_\t_she_\t_two_\t_her_\t:--\t,)\t_wanted_\t_him_\t_gentleman_\t_us_\t\"--\t_then_\t,\"--\t_your_\t_here_\t;'\t?'\"\t--(\t)--\t_at_\t_present_\t.--\"\t;--\"\t_purport_\t_doubts_\t_You_\t;\"\t.'\"\t_was_\t_letting_\t_particular_\t_lady_\t_Courtship_\t--`\t----------,\t_court_\t_ship_\t_courtship_\t!\"--\t--------.'\t_happily_\t_well_\t_appropriation_\t?'\t_I_\t),\t.\"--\t_now_\t_not_\t.'--\t_he_\t_nearer_\t_both_\t_we_\t&\t_My_\t_my_\t_were_\t).\t_woman_\t_man_\t_when_\t_promise_\t_me_\t!--(\t_unrequited_\t_sensation_\t'--\t_joint_\t!)--\t_wish_\t!'--\t_______\t?\"--\"\t?\"--\t.'--`\t_boiled_\t?)--\t_try_\t_Mrs\t_\t_Elton_\t_What_\t_who_\t.,\t_married_\t_great_\t_way_\t_just_\t_The_\t_Rev\t_Philip_\t_White\tHart_\t_Bath_\t_He_\t;\"--\t:\"--\t\"'\t_home_\t_own_\t,--\"\t_eighteen_\t_amor_\t_patriae_\t_did_\t_his_\t_moment_\t_compliments_\t_ten_\t_Now_\t_say_\t_thoughts_\t_Mr_\t_times_\t_with_\t_time_\t:--\"\t!'\t.--`\t;'--\t.,\"\t_would_\t_all_\t_party_\t_has_\t_Robin_\t_Adair_\t_invite_\t_Miss_\t_Mrs_\t_marry_\t_any_\t_thing_\t_Taylor_\t_is_\t!--\"\t_have_\t_must_\t_cause_\t_almost_\t_refused_\t_sacrifice_\t_Woodhouse_\t_recollecting_\t_our_\t_introduction_\t_mediocre_\t_the_\t_world_\t_caro_\t_sposo_\t_should_\t_bride_\t_more_\t!--`\t_Dixons_\t_to_\t_of_\t_shall_\t_had_\t_first_\t_as_\t_understand_\t_addition_\t_May_\t:\"\t--.'\t_respect_\t).--\t_Most_\t_precious_\t_treasures_\t_been_\t_evening_\t_told_\t';\t_blunder_\t_Dixon_\t_presume_\t_answer_\t_they_\t_Chaperon_\t_Perfection_\t.)\t_some_\t_There_\t_tell_\t:'\t_alone_\t_broke_\t_Some_\t_part_\t_His_\t?--\"\t);--\t_named_\t--.\t_greater_\t_compassion_\t:'--\t_unreasonable_\t--.\"\t_Her_\t.]\t_think_\t--,\t_felt_\t_engagement_\t_be_\t_a_\t_source_\t_repentance_\t_and_\t_misery_\t_each_\t_dissolved_\t_it_\t--:\t\"`\t_three_\t_secret_\t----\t_names_\t?--(\t_assistance_\t.,'\t_accepted_\t_housebreaking_\t,)--\t---\t--;\t--!\t?),\t,--`\t'.\t;)\t);\t.--,\t,\"--\"\t---.\t?)\t.--,\"\t...\t***\t-?\t-?\"\t',\t--'\t,-\t.)--\t!'\"\t...\"\t>\t:)\t':\t!)\t:!\"\t',\"\t_tap\ttap_\t_rustle\twhisper_\trustle_\t_Who\t_roar_\t_miaouw_\t----\"\t\";\t.\"'\"\t*\t'?\"\t_on\thim_\t_puppy\tdog_\t!!!\"\t_you\tpies_\t_snap_\t_So_\t_exceedingly_\t_puff\tpuff_\t_pop\tpop_\t_That\ts_\t_but_\t_Jack\tBeanstalk_\t_Cinderella_\t_Pilgrim\tProgress_\t_Little\tWomen_\t_myself_\t_The\tTree_\t_so_\t_quite_\t_how_\t_much_\t_indeed_\t_are_\t_why_\t'!\"\t_glu\tglug_\t_whir\tr_\t_Do\t_like_\t_something_\t_He\tdegree_\tseat_\t_legends_\t_walk_\t.=\t_yours_\t_too_\t_can_\t_idea_\t_allowing_\t_rank_\t_water_\t_horses_\t_winch_\t_real\tworth_\t_true_\t_Page\t_I\td_\t_their_\t_71_\t_could_\t('\t?',\t--\"'\t!')\t'\"--\t.\"'\t'\"\t.')\t)--'\t,\"'\t):--\t\"!'\t!\"'\t!\"?'\t?\"'\t''\t')\t.--'\t\"?'\t--]\t):\t_Altiora\tpeto_\t'-\tAtheist_\t\",\t\".\t_know_\t_Daily\tTelegraph_\tMail_\tStar_\tNews_\t_Times_\tExpress_\t...?\"\t_dogmas_\tIbsenism_\t?...\t_Vae\t_achieved_\t_Virgin\tMartyr_\t_Measure\tMeasure_\t_cannot_\t_Natura\tNaturans_\t_et\tqui_\t_Tout\tFrance_\t_C\tmonde_\t_bourgeoisie_\t_Gibson\tGirl_\t----!\"\t_can\tt_\t_does_\t_idee\tfixe_\t<\t@\t://\t/\t!).\t$\t+\t%\t(*\t)(\t**\t!**\t!*\t\").\t*:\t[*]\t(~),\t(*)\t....\"\t\"...\t--?\"\t....\t:,\t\":\t--'\"\t...'\t\"`...\t....'\t'?\t).\"\t'.\"\t.*\t[*\"\t.\"]\t.;\t[*\t:*\t,**\t--?'\t!,\t.\"*\t,'--\t-\"\t.).\t*--\t!\")\t_H_arbour\t_H_earth\t_H_arm\t\"--(\t!.--\t\"?\t\"!\t;,\t,\",\t*[\t.\".\t-----\t!),\t.'\".\t.\";\t.**\t;-\t.!\"\t---\"\t;--'\t_____________\t?'--'\t,--'\t?--'\t.*--\t---,\t!)\"\t,*\t:--'\t:\"-\t;*\t;\"--(\t',--\t!--'\t?;\t,?;\t$?\t]\u001a\u001a\t].\t}\t.\")\t[\"\t!.\t}[\t;)--\t"
     ]
    }
   ],
   "source": [
    "from string import punctuation\n",
    "\n",
    "for word in word_probabilities:\n",
    "    for p in punctuation:\n",
    "        if p in word:\n",
    "            print(word, end='\\t')\n",
    "            break"
   ]
  },
  {
   "cell_type": "code",
   "execution_count": 24,
   "metadata": {},
   "outputs": [
    {
     "name": "stdout",
     "output_type": "stream",
     "text": [
      "1816\t8th\t23rd\t28th\t24th\t7th\t10\t000\t26th\t1818\t1\t1760\t15\t1784\t1800\t1785\t9\t1787\t5\t1789\t20\t1791\t16\t1810\t1814\t2\t3\t4\t1806\t6\t29th\t7\t8\t11\t12\t13\t14\t17\t18\t1st\t19\t21\t1803\t22\t23\t24\t1811\t7000L\t25\t26\t27\t28\t29\t30\t31\t32\t33\t34\t35\t36\t37\t38\t39\t200\t40\t41\t42\t43\t44\t45\t46\t47\t48\t49\t50\t51\t52\t53\t54\t55\t56\t57\t58\t59\t60\t61\t62\t63\t64\t65\t66\t67\t68\t69\t70\t71\t72\t73\t74\t75\t76\t77\t78\t79\t80\t81\t82\t83\t84\t85\t86\t87\t88\t89\t90\t91\t92\t93\t94\t95\t96\t97\t98\t99\t100\t101\t102\t103\t104\t105\t106\t107\t108\t109\t110\t111\t112\t113\t114\t115\t116\t117\t118\t119\t120\t121\t122\t123\t124\t125\t126\t127\t128\t129\t130\t131\t132\t133\t134\t135\t136\t137\t138\t139\t140\t141\t142\t143\t144\t145\t146\t147\t148\t149\t150\t151\t152\t153\t154\t155\t156\t157\t158\t159\t160\t161\t162\t163\t164\t165\t166\t167\t168\t169\t170\t171\t172\t173\t174\t175\t176\t1780\t1918\t1920\t_71_\t1865\t1909\tL12\tL10\tbllcr10\tbllcr11\tbllcr10a\tetext03\tetext02\t01\t00\t2002\t1240\t2001\t4000\t2000\t1971\t1991\t1994\t1000\t1997\t1500\t1998\t1999\t2500\t3000\t6000\t9000\t2003\t10000\t2004\t1739\t38655\t4109\t501\t622154\t02\t1914\t379\t1908\t1350\t217\t25th\t22nd\t1799\t8OO\t1414\t15O\t2nd\t3rd\t4th\t5th\t6th\t421\t1795\t17th\t18th\t1828\t299\t17OO\t440\t1851\t890\t1671\t1652\t500\t1668\t1729\t1772\t1778\t1690\t1821\t1839\t1840\t1846\t21st\t1836\t31st\t3d\t1833\t275th\t200th\t1750\t1788\tL1\t1820\t1776\t1850\t1ST\t2ND\t3D\t4TH\t5TH\t16th\t1807\t15th\t1793\t1825\t1695\tL100\t1492\tL150\t1775\t1726\t1819\t180\t400\t550\t800\t1779\t1842\t1667\t00021053\t00081429\t00482129\t1599\t1603\t1855\t1859\t19th\t600\t1854\t72d\t73d\t1861\t27th\t1870\t0\t1874\t1873\t1876\t1881\t1809\t1884\t1885\t71st\t"
     ]
    }
   ],
   "source": [
    "for word in word_probabilities:\n",
    "    if any(char.isdigit() for char in word):\n",
    "        print(word, end='\\t')"
   ]
  },
  {
   "cell_type": "markdown",
   "metadata": {},
   "source": [
    "Rather than removing these punctuation- or number-containing words from the corpus, an easier and more reliable approach would be to maintain a blacklist so that pure punctuations and numbers are not corrected; Google extends this blacklist to single characters ([Whitelaw, Hutchinson, Chung & Ellis, 2009](https://dl.acm.org/doi/10.5555/1699571.1699629)). Although unrelated to the corpus per se, another technique to mitigate overcorrection, as posited by Jurafsky and Martin (2021), is to accept the top candidate correction only if the difference between the probability of it being the correct spelling (i.e., $P(c|w)$) and the probability of the input word itself being the correct spelling (i.e., $P(w|w)$) is greater than a threshold $\\theta$: $P(c|w) - P(w|w) > \\theta$.\n",
    "\n",
    "Returning to the corpus, a possible improvement would be to limit the selection to more recent documents, such as high-quality literary works, news articles, or scientific papers published in this century or in the last century. Although online sources, such as tweets, chat logs, and forum posts reflect the current usage of the language, misspellings abound in these data sources, and manually sifting through them is laborious. On the more linguistic side, the choice of the corpora, particularly with respect to the third guideline, may be tied to debates between the prescriptive and descriptive schools of thought on what determines the canonical spelling of a word &mdash; this is the subject of lively discussion even among lexicographers."
   ]
  },
  {
   "cell_type": "markdown",
   "metadata": {},
   "source": [
    "### 2. Confusion Matrix-Related Concerns"
   ]
  },
  {
   "cell_type": "markdown",
   "metadata": {},
   "source": [
    "The confusion matrix for the error model was constructed from Peter Norvig's [collection of spelling mistakes](http://norvig.com/ngrams/count_1edit.txt), which, in turn, originates from misspellings in Wikipedia. In reference to the three assumptions laid out in the previous subsection, it may be helpful to assess the quality, comprehensiveness, and relevance of the data source. With its 6,504,264 articles ([Wikipedia, 2022](https://en.wikipedia.org/wiki/Wikipedia:Statistics)), Wikipedia can be considered comprehensive, and it certainly reflects the current usage of the language. However, the impact of the wiki policy (i.e., any user can contribute or edit articles) on the quality can be quite contentious. Regardless, since the final outputs are aggregate counts, the presence of a handful of incorrect spellings in Wikipedia is drowned out and, thus, does not significantly affect the quality of the resulting error model.\n",
    "\n",
    "To further augment the error model, data related to keyboard-based edit distances may be integrated although this may be more relevant to languages where the screen output is not a verbatim mapping of the original keyboard input, as in the Chinese characters that are first typed in romanized Pinyin ([Sha, Jun, Qinghua & Wei, 2011](https://link.springer.com/chapter/10.1007/978-94-007-2105-0_5)). Another approach would be to incorporate phonetic information; to this end, GNU Aspell, the standard spell checker of the GNU operating system, employs Lawrence Philips' metaphone algorithm ([Aspell, n.d.](http://aspell.net/metaphone/)), which is an improvement over the older Soundex algorithm. \n",
    "\n",
    "Returning to Norvig's collection of spelling mistakes, it may be interesting to note that the rules are limited to transpositions and single-character corrections (insertions, deletions, and substitutions) &mdash; making it compatible with the Damerau-Levenshtein distance. Moreover, it is case-sensitive, as evidenced by the presence of rules like `o|O` and `i|I`. Therefore, the error correction model should be case-sensitive as well. Nevertheless, to explore the effect of case folding, separate models were built.\n",
    "\n",
    "Case folding naturally results in varying final probabilities although the differences are generally miniscule (roughly in the order 10<sup>&ndash;2</sup>). The more important difference is with respect to the correction of named entities, as seen in the code segments below. When case folding is applied, `america` is not tagged as a misspelling. On the other hand, if the case is preserved, it is corrected to `America` &mdash; as desired. In summary, it is more preferable to preserve the case. Meanwhile, the role of named entity recognition in spelling correction is revisited in the final section **Beyond the Noisy Channel**. "
   ]
  },
  {
   "cell_type": "code",
   "execution_count": 25,
   "metadata": {},
   "outputs": [
    {
     "name": "stdout",
     "output_type": "stream",
     "text": [
      "Output: No error\n"
     ]
    },
    {
     "data": {
      "text/plain": [
       "'Output: No error'"
      ]
     },
     "execution_count": 25,
     "metadata": {},
     "output_type": "execute_result"
    }
   ],
   "source": [
    "get_spell_correction('america', is_lowercase=True)"
   ]
  },
  {
   "cell_type": "code",
   "execution_count": 26,
   "metadata": {},
   "outputs": [
    {
     "name": "stdout",
     "output_type": "stream",
     "text": [
      "Output:\n"
     ]
    },
    {
     "data": {
      "text/html": [
       "<style  type=\"text/css\" >\n",
       "    #T_eb6cf590_ddd5_11ec_ab7f_a81e840b27ff td {\n",
       "          text-align: left;\n",
       "    }    #T_eb6cf590_ddd5_11ec_ab7f_a81e840b27ff .col_heading {\n",
       "          text-align: center;\n",
       "    }</style><table id=\"T_eb6cf590_ddd5_11ec_ab7f_a81e840b27ff\" ><thead>    <tr>        <th class=\"blank level0\" ></th>        <th class=\"col_heading level0 col0\" >word</th>        <th class=\"col_heading level0 col1\" >candidate</th>        <th class=\"col_heading level0 col2\" >edit_type</th>        <th class=\"col_heading level0 col3\" >edit</th>        <th class=\"col_heading level0 col4\" >P(c)</th>        <th class=\"col_heading level0 col5\" >P(w|c)</th>        <th class=\"col_heading level0 col6\" >P(c) x P(w|c)</th>    </tr></thead><tbody>\n",
       "                <tr>\n",
       "                        <th id=\"T_eb6cf590_ddd5_11ec_ab7f_a81e840b27fflevel0_row0\" class=\"row_heading level0 row0\" >0</th>\n",
       "                        <td id=\"T_eb6cf590_ddd5_11ec_ab7f_a81e840b27ffrow0_col0\" class=\"data row0 col0\" >america</td>\n",
       "                        <td id=\"T_eb6cf590_ddd5_11ec_ab7f_a81e840b27ffrow0_col1\" class=\"data row0 col1\" >America</td>\n",
       "                        <td id=\"T_eb6cf590_ddd5_11ec_ab7f_a81e840b27ffrow0_col2\" class=\"data row0 col2\" >sub</td>\n",
       "                        <td id=\"T_eb6cf590_ddd5_11ec_ab7f_a81e840b27ffrow0_col3\" class=\"data row0 col3\" >a | A</td>\n",
       "                        <td id=\"T_eb6cf590_ddd5_11ec_ab7f_a81e840b27ffrow0_col4\" class=\"data row0 col4\" >0.000039</td>\n",
       "                        <td id=\"T_eb6cf590_ddd5_11ec_ab7f_a81e840b27ffrow0_col5\" class=\"data row0 col5\" >0.000124</td>\n",
       "                        <td id=\"T_eb6cf590_ddd5_11ec_ab7f_a81e840b27ffrow0_col6\" class=\"data row0 col6\" >4.816159e-09</td>\n",
       "            </tr>\n",
       "    </tbody></table>"
      ],
      "text/plain": [
       "<pandas.io.formats.style.Styler at 0x23f9f75eb08>"
      ]
     },
     "metadata": {},
     "output_type": "display_data"
    },
    {
     "data": {
      "text/plain": [
       "['America']"
      ]
     },
     "execution_count": 26,
     "metadata": {},
     "output_type": "execute_result"
    }
   ],
   "source": [
    "get_spell_correction('america', is_lowercase=False)"
   ]
  },
  {
   "cell_type": "markdown",
   "metadata": {},
   "source": [
    "## C. Evaluating the Model"
   ]
  },
  {
   "cell_type": "markdown",
   "metadata": {},
   "source": [
    "The previous sections have already touched on some preliminary observations related to the performance of the model. To lend some rigor to the evaluation two test sets are used. The first is the test set used in the development of GNU Aspell, which is a fairly standard test set used in evaluating spelling correction models. On the other hand, the second is a difficult test set taken from the contestants' errors in the Scripps National Spelling Bee. (In this regard, the model should not be unfairly judged by its performance in the second test set; the intention for using it is purely exploratory.)"
   ]
  },
  {
   "cell_type": "markdown",
   "metadata": {},
   "source": [
    "### 1. GNU Aspell"
   ]
  },
  {
   "cell_type": "markdown",
   "metadata": {},
   "source": [
    "The model is evaluated through the [test set](http://aspell.net/test/common-all/) used in the development of [GNU Aspell](http://aspell.net/), the standard spell checker of the GNU operating system. Containing 4,206 entries, this set is derived from the list of common misspellings provided by Wikipedia. It can be recalled that this spell corrector's [error model](http://norvig.com/ngrams/count_1edit.txt) is based on Wikipedia as well."
   ]
  },
  {
   "cell_type": "code",
   "execution_count": 27,
   "metadata": {},
   "outputs": [],
   "source": [
    "with open('aspell-test.txt') as f:\n",
    "    test_set_1 = {}\n",
    "    \n",
    "    for line in f:\n",
    "        # For each line in the file, separate the spelling mistake and its frequency.\n",
    "        misspelled, correct = line.split(\"\\t\")\n",
    "        misspelled = misspelled.strip()\n",
    "        correct = correct.strip()\n",
    "        \n",
    "        test_set_1[misspelled] = correct"
   ]
  },
  {
   "cell_type": "markdown",
   "metadata": {},
   "source": [
    "### ⚠️ WARNING! The script below takes around 12 hours to run. Uncomment to execute it."
   ]
  },
  {
   "cell_type": "code",
   "execution_count": 28,
   "metadata": {},
   "outputs": [],
   "source": [
    "\"\"\"\n",
    "BATCH_SIZE = 20\n",
    "\n",
    "error = {}\n",
    "correct = 0\n",
    "ctr = 0\n",
    "\n",
    "for word in test_set_1:\n",
    "    suggestions = get_spell_correction(word, is_lowercase=False, display_df=False)\n",
    "    expected_output = test_set_1[word]\n",
    "\n",
    "    if suggestions == NO_ERROR:\n",
    "        error[word] = (NO_ERROR, expected_output)\n",
    "        \n",
    "    elif len(suggestions) == 0:\n",
    "        error[word] = ('', expected_output)\n",
    "    \n",
    "    else:\n",
    "        actual_output = suggestions[0]\n",
    "\n",
    "        if actual_output == expected_output:\n",
    "            correct += 1\n",
    "        else:\n",
    "            error[word] = (actual_output, expected_output)\n",
    "        \n",
    "    ctr += 1\n",
    "    if ctr % BATCH_SIZE == 0:\n",
    "        print(\"Test\", ctr, \"done!\")\n",
    "        print(\"Num. of correct suggestions:\", correct)\n",
    "      \n",
    "print(\"Accuracy:\", correct / len(test_set_1))\n",
    "\n",
    "with open('errors-aspell.pkl', 'wb') as f:\n",
    "    pickle.dump(error, f)\n",
    "\"\"\"\n",
    "\n",
    "with open('errors-aspell.pkl', 'rb') as f:\n",
    "    errors_aspell = pickle.load(f)"
   ]
  },
  {
   "cell_type": "markdown",
   "metadata": {},
   "source": [
    "### The accuracy of the spelling correction model against the Aspell test set is 58.08%."
   ]
  },
  {
   "cell_type": "code",
   "execution_count": 29,
   "metadata": {},
   "outputs": [
    {
     "data": {
      "text/plain": [
       "0.58078273958856"
      ]
     },
     "execution_count": 29,
     "metadata": {},
     "output_type": "execute_result"
    }
   ],
   "source": [
    "1 - len(errors_aspell) / len(test_set_1)"
   ]
  },
  {
   "cell_type": "markdown",
   "metadata": {},
   "source": [
    "### Error Analysis"
   ]
  },
  {
   "cell_type": "markdown",
   "metadata": {},
   "source": [
    "The script below presents a quantitative analysis of the errors."
   ]
  },
  {
   "cell_type": "code",
   "execution_count": 30,
   "metadata": {},
   "outputs": [
    {
     "name": "stdout",
     "output_type": "stream",
     "text": [
      "Intended word is not in corpus:\t\t\t\t 59.54518252543387%\n",
      "Intended word is of edit distance above 1:\t\t 19.449431478156793%\n",
      "Top candidate correction is not the intended spelling:\t 21.005385996409338%\n"
     ]
    }
   ],
   "source": [
    "ctr1 = 0\n",
    "for entry in errors_aspell:\n",
    "    if errors_aspell[entry][0] == '' and errors_aspell[entry][1] not in all_words:\n",
    "        ctr1 += 1\n",
    "        \n",
    "ctr3 = 0\n",
    "for entry in errors_aspell:\n",
    "    if errors_aspell[entry][0] == '' and errors_aspell[entry][1] in all_words:\n",
    "        ctr3 += 1\n",
    "\n",
    "ctr2 = 0\n",
    "for entry in errors_aspell:\n",
    "    if errors_aspell[entry][0] != '':\n",
    "        ctr2 += 1\n",
    "\n",
    "        \n",
    "print(\"Intended word is not in corpus:\\t\\t\\t\\t\", str(ctr1 / len(errors_aspell) * 100) + \"%\")\n",
    "print(\"Intended word is of edit distance above 1:\\t\\t\", str(ctr3 / len(errors_aspell) * 100) + \"%\")\n",
    "print(\"Top candidate correction is not the intended spelling:\\t\", str(ctr2 / len(errors_aspell) * 100) + \"%\")"
   ]
  },
  {
   "cell_type": "markdown",
   "metadata": {},
   "source": [
    "The script below prints the instances wherein the **intended word is not in the language model's corpus in the first place (59.55%)**. The resolution to this class of errors would be to make the corpus more comprehensive. For example, correcting the misspelling *telelevision* was impossible since televisions were only invented in 1927, and the most recent literary work in the Project Gutenberg corpus was published in 1920."
   ]
  },
  {
   "cell_type": "code",
   "execution_count": 31,
   "metadata": {},
   "outputs": [
    {
     "name": "stdout",
     "output_type": "stream",
     "text": [
      "aberation ('', 'aberration')\n",
      "abondons ('', 'abandons')\n",
      "aborigene ('', 'aborigine')\n",
      "abortificant ('', 'abortifacient')\n",
      "abreviated ('', 'abbreviated')\n",
      "abundacies ('', 'abundances')\n",
      "abundancies ('', 'abundances')\n",
      "acadmic ('', 'academic')\n",
      "accademic ('', 'academic')\n",
      "accelleration ('', 'acceleration')\n",
      "acclimitization ('', 'acclimatization')\n",
      "accomadates ('', 'accommodates')\n",
      "accomodates ('', 'accommodates')\n",
      "accordeon ('', 'accordion')\n",
      "accordian ('', 'accordion')\n",
      "accoustic ('', 'acoustic')\n",
      "acedemic ('', 'academic')\n",
      "acheives ('', 'achieves')\n",
      "additinally ('', 'additionally')\n",
      "addoptive ('', 'adoptive')\n",
      "addresable ('', 'addressable')\n",
      "admininistrative ('', 'administrative')\n",
      "adminstrate ('', 'administrate')\n",
      "adminstrative ('', 'administrative')\n",
      "adminstrator ('', 'administrator')\n",
      "admissability ('', 'admissibility')\n",
      "admitedly ('', 'admittedly')\n",
      "adolecent ('', 'adolescent')\n",
      "adquires ('', 'acquires')\n",
      "adresable ('', 'addressable')\n",
      "adressable ('', 'addressable')\n",
      "aeriels ('', 'aerials')\n",
      "afficianados ('', 'aficionados')\n",
      "afficionado ('', 'aficionado')\n",
      "afficionados ('', 'aficionados')\n",
      "affilate ('', 'affiliate')\n",
      "affilliate ('', 'affiliate')\n",
      "aforememtioned ('', 'aforementioned')\n",
      "aggaravates ('', 'aggravates')\n",
      "aggregious ('', 'egregious')\n",
      "agressor ('', 'aggressor')\n",
      "aicraft ('', 'aircraft')\n",
      "aiport ('', 'airport')\n",
      "airbourne ('', 'airborne')\n",
      "aircaft ('', 'aircraft')\n",
      "aircrafts ('', 'aircraft')\n",
      "airporta ('', 'airports')\n",
      "airrcraft ('', 'aircraft')\n",
      "aisian ('', 'asian')\n",
      "alchohol ('', 'alcohol')\n",
      "alchoholic ('', 'alcoholic')\n",
      "alchol ('', 'alcohol')\n",
      "alcholic ('', 'alcoholic')\n",
      "alcohal ('', 'alcohol')\n",
      "alcoholical ('', 'alcoholic')\n",
      "algebraical ('', 'algebraic')\n",
      "algorhitms ('', 'algorithms')\n",
      "algoritm ('', 'algorithm')\n",
      "algoritms ('', 'algorithms')\n",
      "alientating ('', 'alienating')\n",
      "alledge ('', 'allege')\n",
      "alledgedly ('', 'allegedly')\n",
      "alledges ('', 'alleges')\n",
      "allegedely ('', 'allegedly')\n",
      "allegely ('', 'allegedly')\n",
      "allign ('', 'align')\n",
      "alligned ('', 'aligned')\n",
      "alliviate ('', 'alleviate')\n",
      "allopone ('', 'allophone')\n",
      "allopones ('', 'allophones')\n",
      "alochol ('', 'alcohol')\n",
      "amalgomated ('', 'amalgamated')\n",
      "amerliorate ('', 'ameliorate')\n",
      "ammendments ('', 'amendments')\n",
      "ancilliary ('', 'ancillary')\n",
      "androgenous ('', 'androgynous')\n",
      "androgeny ('', 'androgyny')\n",
      "aniversary ('', 'anniversary')\n",
      "anomolies ('', 'anomalies')\n",
      "anonimity ('', 'anonymity')\n",
      "ansalisation ('', 'nasalisation')\n",
      "ansalization ('', 'nasalization')\n",
      "antartic ('', 'antarctic')\n",
      "anthromorphization ('', 'anthropomorphization')\n",
      "apolegetics ('', 'apologetics')\n",
      "approxamately ('', 'approximately')\n",
      "approxiately ('', 'approximately')\n",
      "approximitely ('', 'approximately')\n",
      "aproximately ('', 'approximately')\n",
      "arbitarily ('', 'arbitrarily')\n",
      "archaelogy ('', 'archaeology')\n",
      "archaoelogy ('', 'archaeology')\n",
      "archaology ('', 'archaeology')\n",
      "archeaologist ('', 'archaeologist')\n",
      "archetecturally ('', 'architecturally')\n",
      "archiac ('', 'archaic')\n",
      "archimedian ('', 'archimedean')\n",
      "architechturally ('', 'architecturally')\n",
      "architechtures ('', 'architectures')\n",
      "archtype ('', 'archetype')\n",
      "archtypes ('', 'archetypes')\n",
      "areodynamics ('', 'aerodynamics')\n",
      "argubly ('', 'arguably')\n",
      "armamant ('', 'armament')\n",
      "armistace ('', 'armistice')\n",
      "asphyxation ('', 'asphyxiation')\n",
      "assasinate ('', 'assassinate')\n",
      "assasinates ('', 'assassinates')\n",
      "assasinations ('', 'assassinations')\n",
      "assisnate ('', 'assassinate')\n",
      "assymetric ('', 'asymmetric')\n",
      "assymetrical ('', 'asymmetrical')\n",
      "asteriod ('', 'asteroid')\n",
      "asthetical ('', 'aesthetical')\n",
      "athenean ('', 'athenian')\n",
      "atheneans ('', 'athenians')\n",
      "auromated ('', 'automated')\n",
      "authobiographic ('', 'autobiographic')\n",
      "authobiography ('', 'autobiography')\n",
      "autochtonous ('', 'autochthonous')\n",
      "autoctonous ('', 'autochthonous')\n",
      "automonomous ('', 'autonomous')\n",
      "auxillaries ('', 'auxiliaries')\n",
      "auxilliaries ('', 'auxiliaries')\n",
      "availablity ('', 'availability')\n",
      "avation ('', 'aviation')\n",
      "backrounds ('', 'backgrounds')\n",
      "banannas ('', 'bananas')\n",
      "bandwith ('', 'bandwidth')\n",
      "bankrupcy ('', 'bankruptcy')\n",
      "banruptcy ('', 'bankruptcy')\n",
      "basicaly ('', 'basically')\n",
      "basicly ('', 'basically')\n",
      "beastiality ('', 'bestiality')\n",
      "beaurocracy ('', 'bureaucracy')\n",
      "beaurocratic ('', 'bureaucratic')\n",
      "begginers ('', 'beginners')\n",
      "beleagured ('', 'beleaguered')\n",
      "beligum ('', 'belgium')\n",
      "belligerant ('', 'belligerent')\n",
      "bellweather ('', 'bellwether')\n",
      "bemusemnt ('', 'bemusement')\n",
      "beneficary ('', 'beneficiary')\n",
      "bergamont ('', 'bergamot')\n",
      "Bernouilli ('', 'Bernoulli')\n",
      "bilateraly ('', 'bilaterally')\n",
      "billingualism ('', 'bilingualism')\n",
      "binominal ('', 'binomial')\n",
      "bizzare ('', 'bizarre')\n",
      "Blitzkreig ('', 'Blitzkrieg')\n",
      "bodydbuilder ('', 'bodybuilder')\n",
      "Bonnano ('', 'Bonanno')\n",
      "breakthough ('', 'breakthrough')\n",
      "breakthroughts ('', 'breakthroughs')\n",
      "broadacasting ('', 'broadcasting')\n",
      "buisnessman ('', 'businessman')\n",
      "calaber ('', 'caliber')\n",
      "calander ('', 'colander')\n",
      "calculs ('', 'calculus')\n",
      "calenders ('', 'calendars')\n",
      "caligraphy ('', 'calligraphy')\n",
      "camoflage ('', 'camouflage')\n",
      "cannonical ('', 'canonical')\n",
      "carismatic ('', 'charismatic')\n",
      "Carribbean ('', 'Caribbean')\n",
      "Carribean ('', 'Caribbean')\n",
      "Carthagian ('', 'Carthaginian')\n",
      "carthographer ('', 'cartographer')\n",
      "cartilege ('', 'cartilage')\n",
      "cartilidge ('', 'cartilage')\n",
      "casette ('', 'cassette')\n",
      "casion ('', 'caisson')\n",
      "cassawory ('', 'cassowary')\n",
      "cassowarry ('', 'cassowary')\n",
      "catagories ('', 'categories')\n",
      "catagorized ('', 'categorized')\n",
      "catergorize ('', 'categorize')\n",
      "catergorized ('', 'categorized')\n",
      "Cataline ('', 'Catalina')\n",
      "cathlic ('', 'catholic')\n",
      "catholocism ('', 'catholicism')\n",
      "catterpilars ('', 'caterpillars')\n",
      "Celcius ('', 'Celsius')\n",
      "cellpading ('', 'cellpadding')\n",
      "cententenial ('', 'centennial')\n",
      "cervial ('', 'serval')\n",
      "charasmatic ('', 'charismatic')\n",
      "chemcially ('', 'chemically')\n",
      "childbird ('', 'childbirth')\n",
      "ciriculum ('', 'curriculum')\n",
      "clasically ('', 'classically')\n",
      "clincial ('', 'clinical')\n",
      "clinicaly ('', 'clinically')\n",
      "coctail ('', 'cocktail')\n",
      "coincedentally ('', 'coincidentally')\n",
      "colaborations ('', 'collaborations')\n",
      "collaberative ('', 'collaborative')\n",
      "colonizators ('', 'colonizers')\n",
      "comando ('', 'commando')\n",
      "comandos ('', 'commandos')\n",
      "comback ('', 'comeback')\n",
      "comemoretion ('', 'commemoration')\n",
      "comisioner ('', 'commissioner')\n",
      "comisioning ('', 'commissioning')\n",
      "comissioner ('', 'commissioner')\n",
      "comissioning ('', 'commissioning')\n",
      "commandoes ('', 'commandos')\n",
      "commedic ('', 'comedic')\n",
      "commemerative ('', 'commemorative')\n",
      "commemmorating ('', 'commemorating')\n",
      "commerically ('', 'commercially')\n",
      "commericially ('', 'commercially')\n",
      "commerorative ('', 'commemorative')\n",
      "commisioner ('', 'commissioner')\n",
      "commisioning ('', 'commissioning')\n",
      "committment ('', 'commitment')\n",
      "committments ('', 'commitments')\n",
      "commmemorated ('', 'commemorated')\n",
      "compability ('', 'compatibility')\n",
      "compatabilities ('', 'compatibilities')\n",
      "compatability ('', 'compatibility')\n",
      "compatablities ('', 'compatibilities')\n",
      "compatablity ('', 'compatibility')\n",
      "compatiblities ('', 'compatibilities')\n",
      "compatiblity ('', 'compatibility')\n",
      "compeitions ('', 'competitions')\n",
      "compensantion ('', 'compensation')\n",
      "competative ('', 'competitive')\n",
      "competive ('', 'competitive')\n",
      "competiveness ('', 'competitiveness')\n",
      "compulsary ('', 'compulsory')\n",
      "compulsery ('', 'compulsory')\n",
      "computarized ('', 'computerized')\n",
      "concensus ('', 'consensus')\n",
      "conesencus ('', 'consensus')\n",
      "configureable ('', 'configurable')\n",
      "congresional ('', 'congressional')\n",
      "conived ('', 'connived')\n",
      "conotations ('', 'connotations')\n",
      "consentrates ('', 'concentrates')\n",
      "consituency ('', 'constituency')\n",
      "consolodate ('', 'consolidate')\n",
      "consolodated ('', 'consolidated')\n",
      "consonent ('', 'consonant')\n",
      "consonents ('', 'consonants')\n",
      "consorcium ('', 'consortium')\n",
      "constaints ('', 'constraints')\n",
      "constituant ('', 'constituent')\n",
      "consulant ('', 'consultant')\n",
      "consumated ('', 'consummated')\n",
      "contaiminate ('', 'contaminate')\n",
      "contamporaries ('', 'contemporaries')\n",
      "contemporaneus ('', 'contemporaneous')\n",
      "contendor ('', 'contender')\n",
      "convertables ('', 'convertibles')\n",
      "coordiantion ('', 'coordination')\n",
      "coorperation ('', 'corporation')\n",
      "coorperations ('', 'corporations')\n",
      "corparate ('', 'corporate')\n",
      "corperations ('', 'corporations')\n",
      "correcters ('', 'correctors')\n",
      "correspondants ('', 'correspondents')\n",
      "corrispondants ('', 'correspondents')\n",
      "coururier ('', 'couturier')\n",
      "creedence ('', 'credence')\n",
      "criterias ('', 'criteria')\n",
      "critising ('', 'criticizing')\n",
      "critisize ('', 'criticize')\n",
      "critisized ('', 'criticized')\n",
      "critisizes ('', 'criticizes')\n",
      "critisizing ('', 'criticizing')\n",
      "critized ('', 'criticized')\n",
      "critizing ('', 'criticizing')\n",
      "crockodiles ('', 'crocodiles')\n",
      "crticised ('', 'criticised')\n",
      "crystalisation ('', 'crystallisation')\n",
      "currenly ('', 'currently')\n",
      "curriculem ('', 'curriculum')\n",
      "dalmation ('', 'dalmatian')\n",
      "dacquiri ('', 'daiquiri')\n",
      "debateable ('', 'debatable')\n",
      "decideable ('', 'decidable')\n",
      "decomissioned ('', 'decommissioned')\n",
      "decomposited ('', 'decomposed')\n",
      "decompositing ('', 'decomposing')\n",
      "decomposits ('', 'decomposes')\n",
      "definining ('', 'defining')\n",
      "delagates ('', 'delegates')\n",
      "delusionally ('', 'delusively')\n",
      "demographical ('', 'demographic')\n",
      "demolision ('', 'demolition')\n",
      "denegrating ('', 'denigrating')\n",
      "deparmental ('', 'departmental')\n",
      "dependancy ('', 'dependency')\n",
      "derivitive ('', 'derivative')\n",
      "derogitory ('', 'derogatory')\n",
      "descripters ('', 'descriptors')\n",
      "desintegration ('', 'disintegration')\n",
      "desktiop ('', 'desktop')\n",
      "desoriented ('', 'disoriented')\n",
      "dessicated ('', 'desiccated')\n",
      "destablized ('', 'destabilized')\n",
      "deteoriated ('', 'deteriorated')\n",
      "deteriate ('', 'deteriorate')\n",
      "deterioriating ('', 'deteriorating')\n",
      "detremental ('', 'detrimental')\n",
      "devasted ('', 'devastated')\n",
      "devestated ('', 'devastated')\n",
      "devestating ('', 'devastating')\n",
      "devistating ('', 'devastating')\n",
      "dichtomy ('', 'dichotomy')\n",
      "diconnects ('', 'disconnects')\n",
      "differentiatiations ('', 'differentiations')\n",
      "dimentional ('', 'dimensional')\n",
      "dimesnional ('', 'dimensional')\n",
      "diminuitive ('', 'diminutive')\n",
      "diosese ('', 'diocese')\n",
      "diphtong ('', 'diphthong')\n",
      "diphtongs ('', 'diphthongs')\n",
      "dipthong ('', 'diphthong')\n",
      "dipthongs ('', 'diphthongs')\n",
      "disemination ('', 'dissemination')\n",
      "disenchanged ('', 'disenchanted')\n",
      "disparingly ('', 'disparagingly')\n",
      "disproportiate ('', 'disproportionate')\n",
      "disputandem ('', 'disputandum')\n",
      "distingishes ('', 'distinguishes')\n",
      "doccumented ('', 'documented')\n",
      "documenatry ('', 'documentary')\n",
      "dominaton ('', 'domination')\n",
      "dosen't ('', \"doesn't\")\n",
      "dowloads ('', 'downloads')\n",
      "Dravadian ('', 'Dravidian')\n",
      "drummless ('', 'drumless')\n",
      "ecclectic ('', 'eclectic')\n",
      "ecidious ('', 'deciduous')\n",
      "effeciently ('', 'efficiently')\n",
      "efficently ('', 'efficiently')\n",
      "electricly ('', 'electrically')\n",
      "eleminated ('', 'eliminated')\n",
      "eleminating ('', 'eliminating')\n",
      "elicided ('', 'elicited')\n",
      "embezelled ('', 'embezzled')\n",
      "emblamatic ('', 'emblematic')\n",
      "eminated ('', 'emanated')\n",
      "emision ('', 'emission')\n",
      "emmigrated ('', 'emigrated')\n",
      "emmisaries ('', 'emissaries')\n",
      "emmisarries ('', 'emissaries')\n",
      "emmision ('', 'emission')\n",
      "emmisions ('', 'emissions')\n",
      "emmited ('', 'emitted')\n",
      "emmitted ('', 'emitted')\n",
      "emperical ('', 'empirical')\n",
      "emphaised ('', 'emphasised')\n",
      "emphysyma ('', 'emphysema')\n",
      "enameld ('', 'enameled')\n",
      "enchancement ('', 'enhancement')\n",
      "encryptiion ('', 'encryption')\n",
      "encylopedia ('', 'encyclopedia')\n",
      "endolithes ('', 'endoliths')\n",
      "enlargments ('', 'enlargements')\n",
      "entitity ('', 'entity')\n",
      "entrepeneur ('', 'entrepreneur')\n",
      "entrepeneurs ('', 'entrepreneurs')\n",
      "enviormental ('', 'environmental')\n",
      "enviormentally ('', 'environmentally')\n",
      "enviornmental ('', 'environmental')\n",
      "enviornmentalist ('', 'environmentalist')\n",
      "enviornmentally ('', 'environmentally')\n",
      "enviromental ('', 'environmental')\n",
      "enviromentalist ('', 'environmentalist')\n",
      "enviromentally ('', 'environmentally')\n",
      "epidsodes ('', 'episodes')\n",
      "eratically ('', 'erratically')\n",
      "eraticly ('', 'erratically')\n",
      "errupted ('', 'erupted')\n",
      "estabishes ('', 'establishes')\n",
      "ethnocentricm ('', 'ethnocentrism')\n",
      "Europians ('', 'Europeans')\n",
      "exagerates ('', 'exaggerates')\n",
      "exagerrates ('', 'exaggerates')\n",
      "exerbate ('', 'exacerbate')\n",
      "exerbated ('', 'exacerbated')\n",
      "exerpts ('', 'excerpts')\n",
      "existant ('', 'existent')\n",
      "exonorate ('', 'exonerate')\n",
      "exoskelaton ('', 'exoskeleton')\n",
      "expeditonary ('', 'expeditionary')\n",
      "explictly ('', 'explicitly')\n",
      "exploititive ('', 'exploitative')\n",
      "expropiated ('', 'expropriated')\n",
      "expropiation ('', 'expropriation')\n",
      "extentions ('', 'extensions')\n",
      "extermist ('', 'extremist')\n",
      "extradiction ('', 'extradition')\n",
      "extraterrestial ('', 'extraterrestrial')\n",
      "extraterrestials ('', 'extraterrestrials')\n",
      "extremeophile ('', 'extremophile')\n",
      "eyasr ('', 'eyas')\n",
      "faciliated ('', 'facilitated')\n",
      "faciliates ('', 'facilitates')\n",
      "facilites ('', 'facilities')\n",
      "facist ('', 'fascist')\n",
      "Farenheit ('', 'Fahrenheit')\n",
      "fedreally ('', 'federally')\n",
      "feromone ('', 'pheromone')\n",
      "fisionable ('', 'fissionable')\n",
      "Flemmish ('', 'Flemish')\n",
      "florescent ('', 'fluorescent')\n",
      "flourescent ('', 'fluorescent')\n",
      "fonetic ('', 'phonetic')\n",
      "fontrier ('', 'fontier')\n",
      "Formalhaut ('', 'Fomalhaut')\n",
      "formallize ('', 'formalize')\n",
      "formallized ('', 'formalized')\n",
      "forseeable ('', 'foreseeable')\n",
      "fourties ('', 'forties')\n",
      "fucntioning ('', 'functioning')\n",
      "Fransiscans ('', 'Franciscans')\n",
      "futhroc ('', 'futhorc')\n",
      "galatic ('', 'galactic')\n",
      "gallaxies ('', 'galaxies')\n",
      "ganster ('', 'gangster')\n",
      "geneological ('', 'genealogical')\n",
      "genialia ('', 'genitalia')\n",
      "geometricians ('', 'geometers')\n",
      "Ghandi ('', 'Gandhi')\n",
      "Godounov ('', 'Godunov')\n",
      "Gothenberg ('', 'Gothenburg')\n",
      "govermental ('', 'governmental')\n",
      "govormental ('', 'governmental')\n",
      "grafitti ('', 'graffiti')\n",
      "gratuitious ('', 'gratuitous')\n",
      "Guaduloupe ('', 'Guadeloupe')\n",
      "Guadulupe ('', 'Guadeloupe')\n",
      "Guatamala ('', 'Guatemala')\n",
      "Guatamalan ('', 'Guatemalan')\n",
      "guerillas ('', 'guerrillas')\n",
      "guerrilas ('', 'guerrillas')\n"
     ]
    },
    {
     "name": "stdout",
     "output_type": "stream",
     "text": [
      "Guilia ('', 'Giulia')\n",
      "Guilio ('', 'Giulio')\n",
      "Guiseppe ('', 'Giuseppe')\n",
      "gunanine ('', 'guanine')\n",
      "habaeus ('', 'habeas')\n",
      "habeus ('', 'habeas')\n",
      "Habsbourg ('', 'Habsburg')\n",
      "haemorrage ('', 'haemorrhage')\n",
      "Hallowean ('', 'Halloween')\n",
      "harased ('', 'harassed')\n",
      "harasment ('', 'harassment')\n",
      "harasments ('', 'harassments')\n",
      "harassement ('', 'harassment')\n",
      "harrased ('', 'harassed')\n",
      "harrasment ('', 'harassment')\n",
      "harrasments ('', 'harassments')\n",
      "harrassed ('', 'harassed')\n",
      "harrassment ('', 'harassment')\n",
      "harrassments ('', 'harassments')\n",
      "headquater ('', 'headquarter')\n",
      "headquarer ('', 'headquarter')\n",
      "headquatered ('', 'headquartered')\n",
      "healthercare ('', 'healthcare')\n",
      "heirarchy ('', 'hierarchy')\n",
      "hemmorhage ('', 'hemorrhage')\n",
      "hertzs ('', 'hertz')\n",
      "hierachical ('', 'hierarchical')\n",
      "hierachy ('', 'hierarchy')\n",
      "hierarcical ('', 'hierarchical')\n",
      "hierarcy ('', 'hierarchy')\n",
      "hieroglph ('', 'hieroglyph')\n",
      "hieroglphs ('', 'hieroglyphs')\n",
      "histocompatability ('', 'histocompatibility')\n",
      "homogeneize ('', 'homogenize')\n",
      "homogeneized ('', 'homogenized')\n",
      "huminoid ('', 'humanoid')\n",
      "humoural ('', 'humoral')\n",
      "hydogen ('', 'hydrogen')\n",
      "hydropile ('', 'hydrophile')\n",
      "hydropilic ('', 'hydrophilic')\n",
      "hydropobe ('', 'hydrophobe')\n",
      "hydropobic ('', 'hydrophobic')\n",
      "iconclastic ('', 'iconoclastic')\n",
      "idealogies ('', 'ideologies')\n",
      "idealogy ('', 'ideology')\n",
      "identifers ('', 'identifiers')\n",
      "ideosyncratic ('', 'idiosyncratic')\n",
      "idiosyncracy ('', 'idiosyncrasy')\n",
      "Ihaca ('', 'Ithaca')\n",
      "illegitmate ('', 'illegitimate')\n",
      "imigrated ('', 'immigrated')\n",
      "imigration ('', 'immigration')\n",
      "immitator ('', 'imitator')\n",
      "immunosupressant ('', 'immunosuppressant')\n",
      "impecabbly ('', 'impeccably')\n",
      "implamenting ('', 'implementing')\n",
      "implimented ('', 'implemented')\n",
      "inadvertant ('', 'inadvertent')\n",
      "inadvertantly ('', 'inadvertently')\n",
      "inagurated ('', 'inaugurated')\n",
      "inaguration ('', 'inauguration')\n",
      "inaugures ('', 'inaugurates')\n",
      "inbalance ('', 'imbalance')\n",
      "incompatabilities ('', 'incompatibilities')\n",
      "incompatability ('', 'incompatibility')\n",
      "incompatablities ('', 'incompatibilities')\n",
      "incompatablity ('', 'incompatibility')\n",
      "incompatiblities ('', 'incompatibilities')\n",
      "incompatiblity ('', 'incompatibility')\n",
      "incorperation ('', 'incorporation')\n",
      "incorprates ('', 'incorporates')\n",
      "incramentally ('', 'incrementally')\n",
      "incunabla ('', 'incunabula')\n",
      "indefineable ('', 'undefinable')\n",
      "indictement ('', 'indictment')\n",
      "infalability ('', 'infallibility')\n",
      "infilitrate ('', 'infiltrate')\n",
      "infilitration ('', 'infiltration')\n",
      "infrantryman ('', 'infantryman')\n",
      "inherantly ('', 'inherently')\n",
      "inital ('', 'initial')\n",
      "initally ('', 'initially')\n",
      "initiaitive ('', 'initiative')\n",
      "innoculated ('', 'inoculated')\n",
      "inofficial ('', 'unofficial')\n",
      "insectiverous ('', 'insectivorous')\n",
      "insensative ('', 'insensitive')\n",
      "insistance ('', 'insistence')\n",
      "instutionalized ('', 'institutionalized')\n",
      "intepretator ('', 'interpretor')\n",
      "interbread ('', 'interbred')\n",
      "interchangable ('', 'interchangeable')\n",
      "intercontinetal ('', 'intercontinental')\n",
      "interelated ('', 'interrelated')\n",
      "intergrated ('', 'integrated')\n",
      "intergration ('', 'integration')\n",
      "intervines ('', 'intervenes')\n",
      "intially ('', 'initially')\n",
      "invertibrates ('', 'invertebrates')\n",
      "irreplacable ('', 'irreplaceable')\n",
      "jaques ('', 'jacques')\n",
      "jewllery ('', 'jewellery')\n",
      "Johanine ('', 'Johannine')\n",
      "Juadaism ('', 'Judaism')\n",
      "Juadism ('', 'Judaism')\n",
      "judical ('', 'judicial')\n",
      "judisuary ('', 'judiciary')\n",
      "juducial ('', 'judicial')\n",
      "juristictions ('', 'jurisdictions')\n",
      "kindergarden ('', 'kindergarten')\n",
      "klenex ('', 'kleenex')\n",
      "knowlegeable ('', 'knowledgeable')\n",
      "labatory ('', 'laboratory')\n",
      "labratory ('', 'laboratory')\n",
      "larrry ('', 'larry')\n",
      "leathal ('', 'lethal')\n",
      "leibnitz ('', 'leibniz')\n",
      "levetate ('', 'levitate')\n",
      "levetated ('', 'levitated')\n",
      "levetates ('', 'levitates')\n",
      "levetating ('', 'levitating')\n",
      "liasion ('', 'liaison')\n",
      "liason ('', 'liaison')\n",
      "liasons ('', 'liaisons')\n",
      "libguistic ('', 'linguistic')\n",
      "libguistics ('', 'linguistics')\n",
      "libitarianisn ('', 'libertarianism')\n",
      "linnaena ('', 'linnaean')\n",
      "lippizaner ('', 'lipizzaner')\n",
      "liquify ('', 'liquefy')\n",
      "longitudonal ('', 'longitudinal')\n",
      "lotharingen ('', 'lothringen')\n",
      "maltesian ('', 'Maltese')\n",
      "mamalian ('', 'mammalian')\n",
      "managable ('', 'manageably')\n",
      "manisfestations ('', 'manifestations')\n",
      "manoeuverability ('', 'maneuverability')\n",
      "manouverability ('', 'manoeuverability')\n",
      "manouverable ('', 'manoeuvrable')\n",
      "manuver ('', 'maneuver')\n",
      "marketting ('', 'marketing')\n",
      "marrtyred ('', 'martyred')\n",
      "masterbation ('', 'masturbation')\n",
      "mccarthyst ('', 'mccarthyist')\n",
      "mediterainnean ('', 'mediterranean')\n",
      "meerkrat ('', 'meerkat')\n",
      "melieux ('', 'milieux')\n",
      "membranaphone ('', 'membranophone')\n",
      "menally ('', 'mentally')\n",
      "messenging ('', 'messaging')\n",
      "metalurgic ('', 'metallurgic')\n",
      "metalurgical ('', 'metallurgical')\n",
      "metalurgy ('', 'metallurgy')\n",
      "metamorphysis ('', 'metamorphosis')\n",
      "metaphoricial ('', 'metaphorical')\n",
      "meterologist ('', 'meteorologist')\n",
      "meterology ('', 'meteorology')\n",
      "methaphors ('', 'metaphors')\n",
      "micoscopy ('', 'microscopy')\n",
      "mileau ('', 'milieu')\n",
      "milennia ('', 'millennia')\n",
      "millenia ('', 'millennia')\n",
      "millenial ('', 'millennial')\n",
      "millenialism ('', 'millennialism')\n",
      "millepede ('', 'millipede')\n",
      "miniscule ('', 'minuscule')\n",
      "minstries ('', 'ministries')\n",
      "minumum ('', 'minimum')\n",
      "misdameanor ('', 'misdemeanor')\n",
      "misdameanors ('', 'misdemeanors')\n",
      "misdemenor ('', 'misdemeanor')\n",
      "misdemenors ('', 'misdemeanors')\n",
      "mispelling ('', 'misspelling')\n",
      "mohammedans ('', 'muslims')\n",
      "moleclues ('', 'molecules')\n",
      "monestaries ('', 'monasteries')\n",
      "monestary ('', 'monetary')\n",
      "monickers ('', 'monikers')\n",
      "monolite ('', 'monolithic')\n",
      "Monserrat ('', 'Montserrat')\n",
      "montypic ('', 'monotypic')\n",
      "Morisette ('', 'Morissette')\n",
      "Morrisette ('', 'Morissette')\n",
      "morroccan ('', 'moroccan')\n",
      "morrocco ('', 'morocco')\n",
      "morroco ('', 'morocco')\n",
      "motiviated ('', 'motivated')\n",
      "mucuous ('', 'mucous')\n",
      "muhammadan ('', 'muslim')\n",
      "multicultralism ('', 'multiculturalism')\n",
      "multiplers ('', 'multipliers')\n",
      "muncipalities ('', 'municipalities')\n",
      "muncipality ('', 'municipality')\n",
      "munnicipality ('', 'municipality')\n",
      "mysogynist ('', 'misogynist')\n",
      "mysogyny ('', 'misogyny')\n",
      "Mythraic ('', 'Mithraic')\n",
      "naieve ('', 'naive')\n",
      "neglible ('', 'negligible')\n",
      "negligable ('', 'negligible')\n",
      "negociations ('', 'negotiations')\n",
      "neolitic ('', 'neolithic')\n",
      "newletters ('', 'newsletters')\n",
      "nightime ('', 'nighttime')\n",
      "noncombatents ('', 'noncombatants')\n",
      "nontheless ('', 'nonetheless')\n",
      "northereastern ('', 'northeastern')\n",
      "noteably ('', 'notably')\n",
      "noticable ('', 'noticeable')\n",
      "noticably ('', 'noticeably')\n",
      "noticible ('', 'noticeable')\n",
      "noveau ('', 'nouveau')\n",
      "nucular ('', 'nuclear')\n",
      "nuculear ('', 'nuclear')\n",
      "Nullabour ('', 'Nullarbor')\n",
      "Nuremburg ('', 'Nuremberg')\n",
      "nuturing ('', 'nurturing')\n",
      "obession ('', 'obsession')\n",
      "obssessed ('', 'obsessed')\n",
      "octohedra ('', 'octahedra')\n",
      "octohedral ('', 'octahedral')\n",
      "octohedron ('', 'octahedron')\n",
      "omniverously ('', 'omnivorously')\n",
      "opthalmic ('', 'ophthalmic')\n",
      "opthalmologist ('', 'ophthalmologist')\n",
      "opthalmology ('', 'ophthalmology')\n",
      "opthamologist ('', 'ophthalmologist')\n",
      "optmizations ('', 'optimizations')\n",
      "orginize ('', 'organise')\n",
      "oximoron ('', 'oxymoron')\n",
      "paleolitic ('', 'paleolithic')\n",
      "Palistian ('', 'Palestinian')\n",
      "Palistinian ('', 'Palestinian')\n",
      "Palistinians ('', 'Palestinians')\n",
      "pamflet ('', 'pamphlet')\n",
      "pamplet ('', 'pamphlet')\n",
      "Papanicalou ('', 'Papanicolaou')\n",
      "paranthesis ('', 'parenthesis')\n",
      "paraphenalia ('', 'paraphernalia')\n",
      "parrakeets ('', 'parakeets')\n",
      "parrallelly ('', 'parallelly')\n",
      "parrallely ('', 'parallelly')\n",
      "passerbys ('', 'passersby')\n",
      "pattented ('', 'patented')\n",
      "Peloponnes ('', 'Peloponnesus')\n",
      "penerator ('', 'penetrator')\n",
      "penisular ('', 'peninsular')\n",
      "penninsular ('', 'peninsular')\n",
      "peripathetic ('', 'peripatetic')\n",
      "perjorative ('', 'pejorative')\n",
      "perogative ('', 'prerogative')\n",
      "persistance ('', 'persistence')\n",
      "personnell ('', 'personnel')\n",
      "pessiary ('', 'pessary')\n",
      "phenomenonal ('', 'phenomenal')\n",
      "phenomenonly ('', 'phenomenally')\n",
      "Philipines ('', 'Philippines')\n",
      "Phillipines ('', 'Philippines')\n",
      "Phillippines ('', 'Philippines')\n",
      "Phonecian ('', 'Phoenecian')\n",
      "phongraph ('', 'phonograph')\n",
      "pilgrimmages ('', 'pilgrimages')\n",
      "pinapple ('', 'pineapple')\n",
      "pinoneered ('', 'pioneered')\n",
      "plagarism ('', 'plagiarism')\n",
      "plantiff ('', 'plaintiff')\n",
      "playright ('', 'playwright')\n",
      "playwrite ('', 'playwright')\n",
      "playwrites ('', 'playwrights')\n",
      "plebicite ('', 'plebiscite')\n",
      "polinator ('', 'pollinator')\n",
      "polinators ('', 'pollinators')\n",
      "polutes ('', 'pollutes')\n",
      "polyphonyic ('', 'polyphonic')\n",
      "polysaccaride ('', 'polysaccharide')\n",
      "polysaccharid ('', 'polysaccharide')\n",
      "poportional ('', 'proportional')\n",
      "portraing ('', 'portraying')\n",
      "portuguease ('', 'portuguese')\n",
      "posthomous ('', 'posthumous')\n",
      "practicioners ('', 'practitioners')\n",
      "practioners ('', 'practitioners')\n",
      "precentage ('', 'percentage')\n",
      "precurser ('', 'precursor')\n",
      "predicatble ('', 'predictable')\n",
      "predomiantly ('', 'predominately')\n",
      "preferrably ('', 'preferably')\n",
      "pregancies ('', 'pregnancies')\n",
      "preliferation ('', 'proliferation')\n",
      "premeire ('', 'premiere')\n",
      "premeired ('', 'premiered')\n",
      "premillenial ('', 'premillennial')\n",
      "Premonasterians ('', 'Premonstratensians')\n",
      "preocupation ('', 'preoccupation')\n",
      "presitgious ('', 'prestigious')\n",
      "prestigeous ('', 'prestigious')\n",
      "prestigous ('', 'prestigious')\n",
      "primatives ('', 'primitives')\n",
      "probablistic ('', 'probabilistic')\n",
      "programable ('', 'programmable')\n",
      "progroms ('', 'programs')\n",
      "prologomena ('', 'prolegomena')\n",
      "prominately ('', 'predominately')\n",
      "pronomial ('', 'pronominal')\n",
      "propoganda ('', 'propaganda')\n",
      "propogates ('', 'propagates')\n",
      "propogation ('', 'propagation')\n",
      "proseletyzing ('', 'proselytizing')\n",
      "protaganist ('', 'protagonist')\n",
      "protaganists ('', 'protagonists')\n",
      "protocal ('', 'protocol')\n",
      "protoganist ('', 'protagonist')\n",
      "protruberances ('', 'protuberances')\n",
      "prouncements ('', 'pronouncements')\n",
      "provacative ('', 'provocative')\n",
      "provisonal ('', 'provisional')\n",
      "pseudononymous ('', 'pseudonymous')\n",
      "pseudonyn ('', 'pseudonym')\n",
      "psyhic ('', 'psychic')\n",
      "Pucini ('', 'Puccini')\n",
      "puritannical ('', 'puritanical')\n",
      "purpotedly ('', 'purportedly')\n",
      "pursuades ('', 'persuades')\n",
      "pyscic ('', 'psychic')\n",
      "Queenland ('', 'Queensland')\n",
      "quinessential ('', 'quintessential')\n",
      "rabinnical ('', 'rabbinical')\n",
      "radiactive ('', 'radioactive')\n",
      "radify ('', 'ratify')\n",
      "readmition ('', 'readmission')\n",
      "rebllions ('', 'rebellions')\n",
      "receeded ('', 'receded')\n",
      "recepient ('', 'recipient')\n",
      "recepients ('', 'recipients')\n",
      "rechargable ('', 'rechargeable')\n",
      "reciepents ('', 'recipients')\n",
      "recievers ('', 'receivers')\n",
      "recipiant ('', 'recipient')\n",
      "recipiants ('', 'recipients')\n",
      "recivership ('', 'receivership')\n",
      "reconaissance ('', 'reconnaissance')\n",
      "reconnaissence ('', 'reconnaissance')\n",
      "recontructed ('', 'reconstructed')\n",
      "recrational ('', 'recreational')\n",
      "refedendum ('', 'referendum')\n",
      "referal ('', 'referral')\n",
      "refridgeration ('', 'refrigeration')\n",
      "refridgerator ('', 'refrigerator')\n",
      "refromist ('', 'reformist')\n",
      "regulaotrs ('', 'regulators')\n",
      "rehersal ('', 'rehearsal')\n",
      "reicarnation ('', 'reincarnation')\n",
      "releses ('', 'releases')\n",
      "relevence ('', 'relevance')\n",
      "relevent ('', 'relevant')\n",
      "reliablity ('', 'reliability')\n",
      "religously ('', 'religiously')\n",
      "rentors ('', 'renters')\n",
      "reorganision ('', 'reorganisation')\n",
      "reportadly ('', 'reportedly')\n",
      "reproducable ('', 'reproducible')\n",
      "reprtoire ('', 'repertoire')\n",
      "requirment ('', 'requirement')\n",
      "resignement ('', 'resignment')\n",
      "resistable ('', 'resistible')\n",
      "resistent ('', 'resistant')\n",
      "resssurecting ('', 'resurrecting')\n",
      "ressurect ('', 'resurrect')\n",
      "restaraunteur ('', 'restaurateur')\n",
      "restaraunteurs ('', 'restaurateurs')\n",
      "restauranteurs ('', 'restaurateurs')\n",
      "resurecting ('', 'resurrecting')\n",
      "retalitated ('', 'retaliated')\n",
      "retalitation ('', 'retaliation')\n",
      "retreive ('', 'retrieve')\n",
      "revaluated ('', 'reevaluated')\n",
      "rewitten ('', 'rewritten')\n",
      "rewriet ('', 'rewrite')\n",
      "Rockerfeller ('', 'Rockefeller')\n",
      "roomate ('', 'roommate')\n",
      "rucuperate ('', 'recuperate')\n",
      "rythyms ('', 'rhythms')\n",
      "sanctionning ('', 'sanctioning')\n",
      "Sanhedrim ('', 'Sanhedrin')\n",
      "santioned ('', 'sanctioned')\n",
      "Saterdays ('', 'Saturdays')\n",
      "satric ('', 'satiric')\n",
      "satrically ('', 'satirically')\n",
      "saxaphone ('', 'saxophone')\n",
      "scavanged ('', 'scavenged')\n",
      "schedual ('', 'schedule')\n",
      "scholarhip ('', 'scholarship')\n",
      "scholarstic ('', 'scholarly')\n",
      "screenwrighter ('', 'screenwriter')\n",
      "seceed ('', 'secede')\n",
      "seceeded ('', 'seceded')\n",
      "sedereal ('', 'sidereal')\n",
      "segementation ('', 'segmentation')\n",
      "seguoys ('', 'segues')\n",
      "senarios ('', 'scenarios')\n",
      "seperatism ('', 'separatism')\n",
      "seperatist ('', 'separatist')\n",
      "shopkeeepers ('', 'shopkeepers')\n",
      "siezures ('', 'seizures')\n",
      "signitories ('', 'signatories')\n",
      "signitory ('', 'signatory')\n",
      "singsog ('', 'singsong')\n",
      "Sionist ('', 'Zionist')\n",
      "Sionists ('', 'Zionists')\n",
      "Sixtin ('', 'Sistine')\n",
      "Skagerak ('', 'Skagerrak')\n",
      "skateing ('', 'skating')\n",
      "slaugterhouses ('', 'slaughterhouses')\n",
      "smealting ('', 'smelting')\n",
      "soluable ('', 'soluble')\n",
      "sountrack ('', 'soundtrack')\n",
      "souvenier ('', 'souvenir')\n",
      "soveits ('', 'soviets')\n",
      "specifiying ('', 'specifying')\n",
      "spectauclar ('', 'spectacular')\n",
      "spectaulars ('', 'spectaculars')\n",
      "spectum ('', 'spectrum')\n",
      "spermatozoan ('', 'spermatozoon')\n",
      "sponsered ('', 'sponsored')\n",
      "sponzored ('', 'sponsored')\n",
      "startegic ('', 'strategic')\n",
      "startegies ('', 'strategies')\n",
      "startegy ('', 'strategy')\n",
      "steriods ('', 'steroids')\n",
      "sterotypes ('', 'stereotypes')\n",
      "stingent ('', 'stringent')\n",
      "stradegies ('', 'strategies')\n",
      "stradegy ('', 'strategy')\n",
      "stratagically ('', 'strategically')\n",
      "streemlining ('', 'streamlining')\n",
      "stuctured ('', 'structured')\n",
      "subcatagories ('', 'subcategories')\n",
      "subcatagory ('', 'subcategory')\n",
      "subconsiously ('', 'subconsciously')\n",
      "subjudgation ('', 'subjugation')\n",
      "submachne ('', 'submachine')\n",
      "subpecies ('', 'subspecies')\n",
      "subsidary ('', 'subsidiary')\n",
      "subsiduary ('', 'subsidiary')\n",
      "substracted ('', 'subtracted')\n",
      "substracting ('', 'subtracting')\n",
      "substraction ('', 'subtraction')\n",
      "substracts ('', 'subtracts')\n",
      "sunglases ('', 'sunglasses')\n",
      "superintendant ('', 'superintendent')\n",
      "suplimented ('', 'supplemented')\n",
      "suposedly ('', 'supposedly')\n",
      "supplamented ('', 'supplemented')\n",
      "suppliementing ('', 'supplementing')\n",
      "supposingly ('', 'supposedly')\n",
      "supressing ('', 'suppressing')\n",
      "surrepetitious ('', 'surreptitious')\n",
      "surrepetitiously ('', 'surreptitiously')\n",
      "surreptious ('', 'surreptitious')\n",
      "surreptiously ('', 'surreptitiously')\n",
      "surveill ('', 'surveil')\n",
      "symettric ('', 'symmetric')\n",
      "symmetral ('', 'symmetric')\n",
      "syncronization ('', 'synchronization')\n",
      "synonymns ('', 'synonyms')\n",
      "syphyllis ('', 'syphilis')\n",
      "targetted ('', 'targeted')\n",
      "targetting ('', 'targeting')\n",
      "taxanomic ('', 'taxonomic')\n",
      "taxanomy ('', 'taxonomy')\n",
      "techician ('', 'technician')\n",
      "techicians ('', 'technicians')\n",
      "techiniques ('', 'techniques')\n",
      "technitian ('', 'technician')\n",
      "technnology ('', 'technology')\n",
      "technolgy ('', 'technology')\n",
      "telelevision ('', 'television')\n",
      "televsion ('', 'television')\n",
      "telphony ('', 'telephony')\n",
      "tenacle ('', 'tentacle')\n",
      "territorist ('', 'terrorist')\n",
      "terroist ('', 'terrorist')\n",
      "testiclular ('', 'testicular')\n",
      "tjpanishad ('', 'upanishad')\n",
      "tolerence ('', 'tolerance')\n",
      "Tolkein ('', 'Tolkien')\n",
      "toriodal ('', 'toroidal')\n",
      "torpeados ('', 'torpedoes')\n",
      "torpedos ('', 'torpedoes')\n",
      "tradionally ('', 'traditionally')\n",
      "tradtionally ('', 'traditionally')\n",
      "trafficed ('', 'trafficked')\n",
      "trafficing ('', 'trafficking')\n",
      "transcendance ('', 'transcendence')\n",
      "transesxuals ('', 'transsexuals')\n",
      "transmissable ('', 'transmissible')\n",
      "tremelo ('', 'tremolo')\n",
      "tremelos ('', 'tremolos')\n",
      "triguered ('', 'triggered')\n"
     ]
    },
    {
     "name": "stdout",
     "output_type": "stream",
     "text": [
      "triology ('', 'trilogy')\n",
      "troling ('', 'trolling')\n",
      "trustworthyness ('', 'trustworthiness')\n",
      "tyranies ('', 'tyrannies')\n",
      "tyrranies ('', 'tyrannies')\n",
      "Ukranian ('', 'Ukrainian')\n",
      "unathorised ('', 'unauthorised')\n",
      "unavailible ('', 'unavailable')\n",
      "unballance ('', 'unbalance')\n",
      "unbeleivable ('', 'unbelievable')\n",
      "unchallengable ('', 'unchallengeable')\n",
      "uncompetive ('', 'uncompetitive')\n",
      "uncontitutional ('', 'unconstitutional')\n",
      "undecideable ('', 'undecidable')\n",
      "undetecable ('', 'undetectable')\n",
      "unequalities ('', 'inequalities')\n",
      "unforgiveable ('', 'unforgivable')\n",
      "unilateraly ('', 'unilaterally')\n",
      "unilatreal ('', 'unilateral')\n",
      "unilatreally ('', 'unilaterally')\n",
      "UnitesStates ('', 'UnitedStates')\n",
      "unmanouverable ('', 'unmanoeuvrable')\n",
      "unoffical ('', 'unofficial')\n",
      "unoperational ('', 'nonoperational')\n",
      "unsubstanciated ('', 'unsubstantiated')\n",
      "unsuprised ('', 'unsurprised')\n",
      "unsuprising ('', 'unsurprising')\n",
      "unsuprisingly ('', 'unsurprisingly')\n",
      "unsuprized ('', 'unsurprised')\n",
      "unsuprizing ('', 'unsurprising')\n",
      "unsuprizingly ('', 'unsurprisingly')\n",
      "unsurprized ('', 'unsurprised')\n",
      "unsurprizing ('', 'unsurprising')\n",
      "unsurprizingly ('', 'unsurprisingly')\n",
      "upcomming ('', 'upcoming')\n",
      "upgradded ('', 'upgraded')\n",
      "vailidty ('', 'validity')\n",
      "valetta ('', 'valletta')\n",
      "varient ('', 'variant')\n",
      "verfication ('', 'verification')\n",
      "versitilaty ('', 'versatility')\n",
      "versitlity ('', 'versatility')\n",
      "villification ('', 'vilification')\n",
      "villify ('', 'vilify')\n",
      "virutally ('', 'virtually')\n",
      "voleyball ('', 'volleyball')\n",
      "vulnerablility ('', 'vulnerability')\n",
      "weaponary ('', 'weaponry')\n",
      "widesread ('', 'widespread')\n",
      "workststion ('', 'workstation')\n",
      "wordlwide ('', 'worldwide')\n",
      "worstened ('', 'worsened')\n",
      "xenophoby ('', 'xenophobia')\n",
      "Yementite ('', 'Yemeni')\n",
      "youseff ('', 'yousef')\n",
      "zeebra ('', 'zebra')\n"
     ]
    }
   ],
   "source": [
    "for entry in errors_aspell:\n",
    "    if errors_aspell[entry][0] == '' and errors_aspell[entry][1] not in all_words:\n",
    "       print(entry, errors_aspell[entry])"
   ]
  },
  {
   "cell_type": "markdown",
   "metadata": {},
   "source": [
    "The script below prints the instances wherein the **intended word is in the corpus but it is not within a minimum edit distance of 1 (19.45%)**. Therefore, the model had a difficult time correcting errors that involved multiple pairs of double letters, like *comision* (supposedly *commission*). The extent to which the window for the minimum edit distance can be extended can be determined through the use of a development or validation set, but a good rule of thumb mentioned in NLP1000 comes from the empirical observation that around 80% of the errors are within an edit distance of 1 and almost all errors are within an edit distance of 2. "
   ]
  },
  {
   "cell_type": "code",
   "execution_count": 32,
   "metadata": {},
   "outputs": [
    {
     "name": "stdout",
     "output_type": "stream",
     "text": [
      "absorbsion ('', 'absorption')\n",
      "accomadate ('', 'accommodate')\n",
      "accomadated ('', 'accommodated')\n",
      "accomadating ('', 'accommodating')\n",
      "accomadation ('', 'accommodation')\n",
      "accomadations ('', 'accommodations')\n",
      "accomdate ('', 'accommodate')\n",
      "acheivment ('', 'achievement')\n",
      "acheivments ('', 'achievements')\n",
      "acquiantence ('', 'acquaintance')\n",
      "acquiantences ('', 'acquaintances')\n",
      "acustommed ('', 'accustomed')\n",
      "adresing ('', 'addressing')\n",
      "ahev ('', 'have')\n",
      "alegience ('', 'allegiance')\n",
      "allegence ('', 'allegiance')\n",
      "altho ('', 'although')\n",
      "apenines ('', 'Apennines')\n",
      "appenines ('', 'Apennines')\n",
      "appropropiate ('', 'appropriate')\n",
      "approproximate ('', 'approximate')\n",
      "aquiantance ('', 'acquaintance')\n",
      "artical ('', 'article')\n",
      "assasined ('', 'assassinated')\n",
      "assertation ('', 'assertion')\n",
      "assosication ('', 'assassination')\n",
      "asssassans ('', 'assassins')\n",
      "attaindre ('', 'attained')\n",
      "austrailia ('', 'Australia')\n",
      "austrailian ('', 'Australian')\n",
      "authorative ('', 'authoritative')\n",
      "authoritive ('', 'authoritative')\n",
      "automaticly ('', 'automatically')\n",
      "baceause ('', 'because')\n",
      "beautyfull ('', 'beautiful')\n",
      "begginer ('', 'beginner')\n",
      "beggining ('', 'beginning')\n",
      "begginings ('', 'beginnings')\n",
      "blessure ('', 'blessing')\n",
      "Brasillian ('', 'Brazilian')\n",
      "broacasted ('', 'broadcast')\n",
      "caperbility ('', 'capability')\n",
      "carachter ('', 'character')\n",
      "catterpilar ('', 'caterpillar')\n",
      "causalities ('', 'casualties')\n",
      "cementary ('', 'cemetery')\n",
      "cemetarey ('', 'cemetery')\n",
      "charistics ('', 'characteristics')\n",
      "Cincinatti ('', 'Cincinnati')\n",
      "circumsicion ('', 'circumcision')\n",
      "collonade ('', 'colonnade')\n",
      "collosal ('', 'colossal')\n",
      "comision ('', 'commission')\n",
      "comisioned ('', 'commissioned')\n",
      "comisions ('', 'commissions')\n",
      "completetion ('', 'completion')\n",
      "consequentually ('', 'consequently')\n",
      "consequeseces ('', 'consequences')\n",
      "contempory ('', 'contemporary')\n",
      "contravercial ('', 'controversial')\n",
      "convential ('', 'conventional')\n",
      "copywrite ('', 'copyright')\n",
      "cornmitted ('', 'committed')\n",
      "correposding ('', 'corresponding')\n",
      "corrispondant ('', 'correspondent')\n",
      "crucifiction ('', 'crucifixion')\n",
      "cumulatative ('', 'cumulative')\n",
      "damenor ('', 'demeanor')\n",
      "decendents ('', 'descendants')\n",
      "decomposit ('', 'decompose')\n",
      "definetly ('', 'definitely')\n",
      "delevopment ('', 'development')\n",
      "deriviated ('', 'derived')\n",
      "determinining ('', 'determining')\n",
      "devolopement ('', 'development')\n",
      "diferrent ('', 'different')\n",
      "discontentment ('', 'discontent')\n",
      "dissapear ('', 'disappear')\n",
      "dissapearance ('', 'disappearance')\n",
      "dissapeared ('', 'disappeared')\n",
      "dissapearing ('', 'disappearing')\n",
      "dissapears ('', 'disappears')\n",
      "dissobediance ('', 'disobedience')\n",
      "dissobediant ('', 'disobedient')\n",
      "ecomonic ('', 'economic')\n",
      "emmisarry ('', 'emissary')\n",
      "emmisary ('', 'emissary')\n",
      "emmiting ('', 'emitting')\n",
      "empirial ('', 'imperial')\n",
      "enviorment ('', 'environment')\n",
      "enviorments ('', 'environments')\n",
      "equivelant ('', 'equivalent')\n",
      "equivilant ('', 'equivalent')\n",
      "essesital ('', 'essential')\n",
      "evidentally ('', 'evidently')\n",
      "exagerrate ('', 'exaggerate')\n",
      "exagerrated ('', 'exaggerated')\n",
      "exagerrating ('', 'exaggerating')\n",
      "examinated ('', 'examined')\n",
      "exchanching ('', 'exchanging')\n",
      "exculsivly ('', 'exclusively')\n",
      "exelent ('', 'excellent')\n",
      "exersize ('', 'exercise')\n",
      "exerternal ('', 'external')\n",
      "expierence ('', 'experience')\n",
      "fanatism ('', 'fanaticism')\n",
      "forunner ('', 'forerunner')\n",
      "Foundland ('', 'Newfoundland')\n",
      "funguses ('', 'fungi')\n",
      "gaurentee ('', 'guarantee')\n",
      "gaurenteed ('', 'guaranteed')\n",
      "gaurentees ('', 'guarantees')\n",
      "geometrician ('', 'geometer')\n",
      "gouvener ('', 'governor')\n",
      "govorment ('', 'government')\n",
      "greatful ('', 'grateful')\n",
      "greatfully ('', 'gratefully')\n",
      "harras ('', 'harass')\n",
      "harrases ('', 'harasses')\n",
      "harrasing ('', 'harassing')\n",
      "hinderence ('', 'hindrance')\n",
      "historicians ('', 'historians')\n",
      "htikn ('', 'think')\n",
      "hvea ('', 'heave')\n",
      "hwihc ('', 'which')\n",
      "hypocracy ('', 'hypocrisy')\n",
      "idaeidae ('', 'idea')\n",
      "illegimacy ('', 'illegitimacy')\n",
      "immidately ('', 'immediately')\n",
      "improvision ('', 'improvisation')\n",
      "inbetween ('', 'between')\n",
      "incidently ('', 'incidentally')\n",
      "indepedantly ('', 'independently')\n",
      "independendet ('', 'independent')\n",
      "indigineous ('', 'indigenous')\n",
      "indespensible ('', 'indispensable')\n",
      "inevatible ('', 'inevitable')\n",
      "inevititably ('', 'inevitably')\n",
      "ingreediants ('', 'ingredients')\n",
      "inheritage ('', 'inheritance')\n",
      "instade ('', 'instead')\n",
      "instatance ('', 'instance')\n",
      "instutions ('', 'intuitions')\n",
      "internation ('', 'international')\n",
      "interrugum ('', 'interregnum')\n",
      "irelevent ('', 'irrelevant')\n",
      "iresistable ('', 'irresistible')\n",
      "iresistably ('', 'irresistibly')\n",
      "ironicly ('', 'ironically')\n",
      "irregardless ('', 'regardless')\n",
      "journied ('', 'journeyed')\n",
      "jstu ('', 'just')\n",
      "kwno ('', 'know')\n",
      "lveo ('', 'love')\n",
      "maintainance ('', 'maintenance')\n",
      "maintainence ('', 'maintenance')\n",
      "maintance ('', 'maintenance')\n",
      "maintinaing ('', 'maintaining')\n",
      "maintioned ('', 'mentioned')\n",
      "manouver ('', 'manoeuvre')\n",
      "manouvers ('', 'manoeuvres')\n",
      "manuever ('', 'manoeuvre')\n",
      "manuevers ('', 'manoeuvres')\n",
      "Massachussets ('', 'Massachusetts')\n",
      "matheticians ('', 'mathematicians')\n",
      "medevial ('', 'medieval')\n",
      "miliraty ('', 'military')\n",
      "mischevious ('', 'mischievous')\n",
      "Missisipi ('', 'Mississippi')\n",
      "misteryous ('', 'mysterious')\n",
      "mkea ('', 'make')\n",
      "montanous ('', 'mountainous')\n",
      "moreso ('', 'more')\n",
      "munbers ('', 'numbers')\n",
      "Napoleonian ('', 'Napoleonic')\n",
      "neccesarily ('', 'necessarily')\n",
      "neccesary ('', 'necessary')\n",
      "nessasarily ('', 'necessarily')\n",
      "nessecary ('', 'necessary')\n",
      "nkwo ('', 'know')\n",
      "obstacal ('', 'obstacle')\n",
      "ocasionaly ('', 'occasionally')\n",
      "ocassion ('', 'occasion')\n",
      "ocassional ('', 'occasional')\n",
      "ocassionally ('', 'occasionally')\n",
      "ocassionaly ('', 'occasionally')\n",
      "ocassioned ('', 'occasioned')\n",
      "ocassions ('', 'occasions')\n",
      "occassionaly ('', 'occasionally')\n",
      "occurance ('', 'occurrence')\n",
      "occurances ('', 'occurrences')\n",
      "ocurr ('', 'occur')\n",
      "ocurrance ('', 'occurrence')\n",
      "officaly ('', 'officially')\n",
      "oftenly ('', 'often')\n",
      "ommision ('', 'omission')\n",
      "ommited ('', 'omitted')\n",
      "ommiting ('', 'omitting')\n",
      "oppononent ('', 'opponent')\n",
      "oppositition ('', 'opposition')\n",
      "origanaly ('', 'originally')\n",
      "owudl ('', 'would')\n",
      "parituclar ('', 'particular')\n",
      "parralel ('', 'parallel')\n",
      "parrallell ('', 'parallel')\n",
      "particually ('', 'particularly')\n",
      "peculure ('', 'peculiar')\n",
      "pensinula ('', 'peninsula')\n",
      "percepted ('', 'perceived')\n",
      "permenant ('', 'permanent')\n",
      "permenantly ('', 'permanently')\n",
      "perphas ('', 'perhaps')\n",
      "phenomonenon ('', 'phenomenon')\n",
      "Phillipine ('', 'Philippine')\n",
      "polical ('', 'political')\n",
      "possiblilty ('', 'possibility')\n",
      "practicly ('', 'practically')\n",
      "practioner ('', 'practitioner')\n",
      "prairy ('', 'prairie')\n",
      "precedessor ('', 'predecessor')\n",
      "prevelant ('', 'prevalent')\n",
      "priveledges ('', 'privileges')\n",
      "privelige ('', 'privilege')\n",
      "priveliged ('', 'privileged')\n",
      "priveliges ('', 'privileges')\n",
      "privelleges ('', 'privileges')\n",
      "privledge ('', 'privilege')\n",
      "probalibity ('', 'probability')\n",
      "procedger ('', 'procedure')\n",
      "proffesion ('', 'profession')\n",
      "proffesional ('', 'professional')\n",
      "proffesor ('', 'professor')\n",
      "profilic ('', 'prolific')\n",
      "pususading ('', 'persuading')\n",
      "qtuie ('', 'quiet')\n",
      "racaus ('', 'raucous')\n",
      "reaccurring ('', 'recurring')\n",
      "realitvely ('', 'relatively')\n",
      "reccomend ('', 'recommend')\n",
      "reccomendations ('', 'recommendations')\n",
      "reccomended ('', 'recommended')\n",
      "reccomending ('', 'recommending')\n",
      "reccuring ('', 'recurring')\n",
      "referiang ('', 'referring')\n",
      "reffered ('', 'referred')\n",
      "relitavely ('', 'relatively')\n",
      "rememberable ('', 'memorable')\n",
      "remenicent ('', 'reminiscent')\n",
      "reoccurrence ('', 'recurrence')\n",
      "repeteadly ('', 'repeatedly')\n",
      "representive ('', 'representative')\n",
      "representives ('', 'representatives')\n",
      "responnsibilty ('', 'responsibility')\n",
      "ressemblence ('', 'resemblance')\n",
      "ressurected ('', 'resurrected')\n",
      "ressurection ('', 'resurrection')\n",
      "restaraunt ('', 'restaurant')\n",
      "restaraunts ('', 'restaurants')\n",
      "restauration ('', 'restoration')\n",
      "resteraunt ('', 'restaurant')\n",
      "resteraunts ('', 'restaurants')\n",
      "resturaunt ('', 'restaurant')\n",
      "rininging ('', 'ringing')\n",
      "russina ('', 'Russian')\n",
      "rythem ('', 'rhythm')\n",
      "rythim ('', 'rhythm')\n",
      "sacreligious ('', 'sacrilegious')\n",
      "sargant ('', 'sergeant')\n",
      "sattelite ('', 'satellite')\n",
      "sattelites ('', 'satellites')\n",
      "scandanavia ('', 'Scandinavia')\n",
      "scrutinity ('', 'scrutiny')\n",
      "seldomly ('', 'seldom')\n",
      "sepina ('', 'subpoena')\n",
      "signficiant ('', 'significant')\n",
      "signifantly ('', 'significantly')\n",
      "soilders ('', 'soldiers')\n",
      "sophicated ('', 'sophisticated')\n",
      "soverignity ('', 'sovereignty')\n",
      "spainish ('', 'Spanish')\n",
      "spreaded ('', 'spread')\n",
      "stornegst ('', 'strongest')\n",
      "strikely ('', 'strikingly')\n",
      "suburburban ('', 'suburban')\n",
      "succesfuly ('', 'successfully')\n",
      "succsessfull ('', 'successful')\n",
      "sucesful ('', 'successful')\n",
      "sucesfully ('', 'successfully')\n",
      "sucesfuly ('', 'successfully')\n",
      "sucesion ('', 'succession')\n",
      "sucessfull ('', 'successful')\n",
      "sucessfuly ('', 'successfully')\n",
      "sucessot ('', 'successor')\n",
      "sucidial ('', 'suicidal')\n",
      "superceeded ('', 'superseded')\n",
      "suprizing ('', 'surprising')\n",
      "suprizingly ('', 'surprisingly')\n",
      "surveilence ('', 'surveillance')\n",
      "suseptable ('', 'susceptible')\n",
      "sysmatically ('', 'systematically')\n",
      "tendacy ('', 'tendency')\n",
      "themselfs ('', 'themselves')\n",
      "thigsn ('', 'things')\n",
      "tihkn ('', 'think')\n",
      "tobbaco ('', 'tobacco')\n",
      "tommorow ('', 'tomorrow')\n",
      "traditition ('', 'tradition')\n",
      "transcendentational ('', 'transcendental')\n",
      "transcripting ('', 'transcription')\n",
      "unconfortability ('', 'discomfort')\n",
      "unconvential ('', 'unconventional')\n",
      "uneccesary ('', 'unnecessary')\n",
      "unneccesarily ('', 'unnecessarily')\n",
      "unneccesary ('', 'unnecessary')\n",
      "unplease ('', 'displease')\n",
      "unrepetent ('', 'unrepentant')\n",
      "unsucesful ('', 'unsuccessful')\n",
      "unsucesfuly ('', 'unsuccessfully')\n",
      "unsucessfull ('', 'unsuccessful')\n",
      "unweildly ('', 'unwieldy')\n",
      "vaccume ('', 'vacuum')\n",
      "vasall ('', 'vassal')\n",
      "vasalls ('', 'vassals')\n",
      "wendsay ('', 'Wednesday')\n",
      "wensday ('', 'Wednesday')\n"
     ]
    }
   ],
   "source": [
    "for entry in errors_aspell:\n",
    "    if errors_aspell[entry][0] == '' and errors_aspell[entry][1] in all_words:\n",
    "       print(entry, errors_aspell[entry])"
   ]
  },
  {
   "cell_type": "markdown",
   "metadata": {},
   "source": [
    "The script below prints the instances wherein the **the top candidate correction is not the intended spelling (21.01%)**. This is rather nuanced to resolve. Aside from expanding the corpora to better model the language and the channel, it is also possible to explore the introduction of weights to give more importance on either the language model or the channel model. Another possible approach would be to consider context in creating the models. These strategies are more formally discussed in the final section **Beyond the Noisy Channel**."
   ]
  },
  {
   "cell_type": "markdown",
   "metadata": {},
   "source": [
    "### 2. Scripps National Spelling Bee"
   ]
  },
  {
   "cell_type": "markdown",
   "metadata": {},
   "source": [
    "This test set consists of the words that participants of the Scripps Spelling Bee, a longstanding quiz bee in the United States, misspelled two or more times (with the exception of the entries from the 2010 iteration, as errors were found in its results data). The data is sourced from this [website](https://qz.com/1292564/national-spelling-bee-2018-the-most-commonly-misspelled-words-at-the-national-spelling-bee/). "
   ]
  },
  {
   "cell_type": "code",
   "execution_count": 33,
   "metadata": {},
   "outputs": [],
   "source": [
    "with open('spell-bee-test.txt') as f:\n",
    "    test_set_2 = {}\n",
    "    \n",
    "    for line in f:\n",
    "        # For each line in the file, separate the spelling mistake and its frequency.\n",
    "        correct, misspelled = line.split(\"\\t\")\n",
    "        misspelled = misspelled.strip()\n",
    "        correct = correct.strip()\n",
    "        \n",
    "        if correct == 'â€“':\n",
    "            correct = prev\n",
    "            \n",
    "        prev = correct\n",
    "                        \n",
    "        test_set_2[misspelled] = correct"
   ]
  },
  {
   "cell_type": "markdown",
   "metadata": {},
   "source": [
    "### ⚠️ WARNING! The script below takes around 2.5 hours to run. Uncomment to execute it."
   ]
  },
  {
   "cell_type": "code",
   "execution_count": 34,
   "metadata": {},
   "outputs": [],
   "source": [
    "\"\"\"\n",
    "error = {}\n",
    "correct = 0\n",
    "ctr = 0\n",
    "\n",
    "for word in test_set_2:\n",
    "    suggestions = get_spell_correction(word, is_lowercase=False, display_df=False)\n",
    "    expected_output = test_set_2[word]\n",
    "\n",
    "    if suggestions == NO_ERROR:\n",
    "        error[word] = (NO_ERROR, expected_output)\n",
    "        \n",
    "    elif len(suggestions) == 0:\n",
    "        error[word] = ('', expected_output)\n",
    "    \n",
    "    else:\n",
    "        actual_output = suggestions[0]\n",
    "\n",
    "        if actual_output == expected_output:\n",
    "            correct += 1\n",
    "        else:\n",
    "            error[word] = (actual_output, expected_output)\n",
    "        \n",
    "    ctr += 1\n",
    "    if ctr % BATCH_SIZE == 0:\n",
    "        print(\"Test\", ctr, \"done!\")\n",
    "        print(\"Num. of correct suggestions:\", correct)\n",
    "      \n",
    "print(\"Accuracy:\", correct / len(test_set_2))\n",
    "\n",
    "with open('errors-scripps.pkl', 'wb') as f:\n",
    "    pickle.dump(error, f)\n",
    "\"\"\"\n",
    "\n",
    "with open('errors-scripps.pkl', 'rb') as f:\n",
    "    errors_scripps = pickle.load(f)"
   ]
  },
  {
   "cell_type": "markdown",
   "metadata": {},
   "source": [
    "### The accuracy of the spelling correction model against the Scripps National Spelling Bee test set is 2.96%. \n",
    "\n",
    "To reiterate, however, this is an inherently difficult test set, and this evaluation is purely exploratory (i.e., out of curiosity)."
   ]
  },
  {
   "cell_type": "code",
   "execution_count": 35,
   "metadata": {},
   "outputs": [
    {
     "data": {
      "text/plain": [
       "0.029649595687331498"
      ]
     },
     "execution_count": 35,
     "metadata": {},
     "output_type": "execute_result"
    }
   ],
   "source": [
    "1 - len(errors_scripps) / len(test_set_2)"
   ]
  },
  {
   "cell_type": "code",
   "execution_count": 36,
   "metadata": {},
   "outputs": [
    {
     "name": "stdout",
     "output_type": "stream",
     "text": [
      "Intended word is not in corpus:\t\t\t\t 88.75%\n",
      "Intended word is of edit distance above 1:\t\t 3.3333333333333335%\n",
      "Top candidate correction is not the intended spelling:\t 7.916666666666666%\n"
     ]
    }
   ],
   "source": [
    "ctr1 = 0\n",
    "for entry in errors_scripps:\n",
    "    if errors_scripps[entry][0] == '' and errors_scripps[entry][1] not in all_words:\n",
    "        ctr1 += 1\n",
    "        \n",
    "ctr3 = 0\n",
    "for entry in errors_scripps:\n",
    "    if errors_scripps[entry][0] == '' and errors_scripps[entry][1] in all_words:\n",
    "        ctr3 += 1\n",
    "\n",
    "ctr2 = 0\n",
    "for entry in errors_scripps:\n",
    "    if errors_scripps[entry][0] != '':\n",
    "        ctr2 += 1\n",
    "\n",
    "        \n",
    "print(\"Intended word is not in corpus:\\t\\t\\t\\t\", str(ctr1 / len(errors_scripps) * 100) + \"%\")\n",
    "print(\"Intended word is of edit distance above 1:\\t\\t\", str(ctr3 / len(errors_scripps) * 100) + \"%\")\n",
    "print(\"Top candidate correction is not the intended spelling:\\t\", str(ctr2 / len(errors_scripps) * 100) + \"%\")"
   ]
  },
  {
   "cell_type": "markdown",
   "metadata": {},
   "source": [
    "As expected, an overwhelming majority of the intended words are not in the corpus. This can be attributed to the fact that words given in competitions of the same calibre as the Scripps National Spelling Bee are deliberately selected for their rarity and orthographic difficulty."
   ]
  },
  {
   "cell_type": "markdown",
   "metadata": {},
   "source": [
    "### Employing \"Backoff\""
   ]
  },
  {
   "cell_type": "markdown",
   "metadata": {},
   "source": [
    "One idea that we thought to improve the model of the performance is inspired by the idea of backoff in $n$-gram language models. In this case, however, backoff is done as follows: if no candidate correction is within a minimum edit distance of $n$, it proceeds to incrementing the distance window to $n+1$ and so on, until a candidate correction is found. \n",
    "\n",
    "Note that, since the error model is limited to transpositions and single-character edits, there is no particular order to the sorting of the candidate corrections when the edit distance is longer than 1."
   ]
  },
  {
   "cell_type": "code",
   "execution_count": 37,
   "metadata": {},
   "outputs": [],
   "source": [
    "def spell_correction_backoff(word):\n",
    "    min_edit_distance = 1\n",
    "    spell_correct = get_spell_correction(word, is_lowercase=False, display_df=False)\n",
    "    print(\"Minimum Edit Distance of\", min_edit_distance)\n",
    "    print(spell_correct, \"\\n\")\n",
    "\n",
    "    if spell_correct == \"Output: No error\":\n",
    "        return\n",
    "    \n",
    "    while len(spell_correct) == 0:\n",
    "        min_edit_distance += 1\n",
    "        spell_correct = get_spell_correction(word, is_lowercase=False, min_edit_distance=min_edit_distance, display_df=False)\n",
    "        print(\"Minimum Edit Distance of\", min_edit_distance)\n",
    "        print(spell_correct, \"\\n\")"
   ]
  },
  {
   "cell_type": "code",
   "execution_count": 38,
   "metadata": {},
   "outputs": [
    {
     "name": "stdout",
     "output_type": "stream",
     "text": [
      "Minimum Edit Distance of 1\n",
      "[] \n",
      "\n",
      "Minimum Edit Distance of 2\n",
      "['dominion', 'commission', 'collision', 'omission', 'Dominion', 'concision', 'cohesion'] \n",
      "\n"
     ]
    }
   ],
   "source": [
    "spell_correction_backoff('comision')"
   ]
  },
  {
   "cell_type": "markdown",
   "metadata": {},
   "source": [
    "However, it must be noted that, if this backoff approach is used, the language model should not contain too many instances of rare words, as it will give priority to the more obscure word with a smaller edit distance rather than opting for the more common (and more likely) word with a larger edit distance. \n",
    "\n",
    "Finally, the code below plots the number of spelling corrections that fall at different minimum edit distance values. The graph corroborates the rule of thumb that almost all errors are within an edit distance of 2."
   ]
  },
  {
   "cell_type": "code",
   "execution_count": 39,
   "metadata": {},
   "outputs": [
    {
     "data": {
      "image/png": "[encoded data removed]",
      "text/plain": [
       "<Figure size 432x288 with 1 Axes>"
      ]
     },
     "metadata": {
      "needs_background": "light"
     },
     "output_type": "display_data"
    }
   ],
   "source": [
    "import matplotlib.pyplot as plt\n",
    "import numpy as np\n",
    "\n",
    "LIMIT = 12\n",
    "ctr_dist = [0 for _ in range(LIMIT)]\n",
    "\n",
    "# Iterate through all the mismatched spelling corrections.\n",
    "for entry in errors_aspell:\n",
    "    if errors_aspell[entry][1] in all_words:\n",
    "        ctr_dist[get_min_edit_dist(entry, errors_aspell[entry][1])[0]] += 1\n",
    "\n",
    "# Correct spelling corrections are of edit distance 1.\n",
    "ctr_dist[1] += len(test_set_1) - len(errors_aspell)\n",
    "\n",
    "ctr_dict = {}\n",
    "for i in range(1, LIMIT):\n",
    "    ctr_dict[i] = ctr_dist[i]\n",
    "\n",
    "ctr_dict = sorted(ctr_dict.items())\n",
    "x, y = zip(*ctr_dict)     \n",
    "plt.plot(x, y)\n",
    "plt.xticks(np.arange(min(x), max(x)+1, 1.0))\n",
    "plt.xlabel('Edit Distance')\n",
    "plt.ylabel('Number of Corrections')\n",
    "plt.show()"
   ]
  },
  {
   "cell_type": "markdown",
   "metadata": {},
   "source": [
    "### Beyond the Noisy Channel"
   ]
  },
  {
   "cell_type": "markdown",
   "metadata": {},
   "source": [
    "The noisy channel model is a robust and highly extensible framework for spelling correction. It can account for a majority of virtually conceivable spelling errors, provided that the language and error models are comprehensive or sophisticated enough for the task at hand. As seen in the evaluation of the built model, a language model that is limited ultimately leads to subpar results. Nevertheless, one of the main advantages of the noisy channel model is its extensibility:\n",
    "- Aside from the suggestions in **Section B** on expanding the corpus, context can be integrated to an extent in the language model by considering higher-order $n$-grams. For example, the most probable correction to `horor` in `maid of horor` is `honor` instead of `horror`, but this can only be captured by considering trigrams. The general idea to factor in context using an $n$-gram model is to imbue the Markov model with a bit more history.\n",
    "- In **Section B**, it was also suggested that the error model can be extended through the incorporation of keyboard-based edit distances and phonetic information (e.g., the metaphone algorithm used by GNU Aspell). In brief, a spelling correction system may benefit from an ensemble of channel models.\n",
    "- As suggested by Jurafsky and Martin (2021), the probability function itself may be modified to give a higher weight to either of the models, resulting in a modified formulation of the Bayesian inference: $P(c|w) = P(c) \\times P(w|c)^\\lambda$, where $\\lambda$ is a parameter tuned via a dedicated development set. \n",
    "\n",
    "Despite these strengths, relying on the noisy channel model alone is inadequate. As already pointed out in Section 2, this approach is susceptible to overcorrection (although it can be partially mitigated with a blacklist). However, proper nouns or, more generally, named entities pose another problem. It is not entirely clear-cut as to whether they should be blacklisted or subjected to some form of spelling correction. For instance, `Philipines` is most likely a misspelling of `Philippines` and should be corrected. However, more uncommon spellings of people's names, like `Queenievere`, should ideally be preserved. \n",
    "\n",
    "Regardless of the design decision, this cannot be reliably done equipped with only a noisy channel model. Named entity recognition is a separate prototypical NLP task, and the example above shows the importance of integrating it in order to create a more accommodating spelling correction model. Specifically, a more granular approach where names of people are distinguished from established entities, like names of countries and geographical locations, may prove to be helpful. To further illustrate this point, consider the output of the built backoff-based model when our names are entered. "
   ]
  },
  {
   "cell_type": "code",
   "execution_count": 40,
   "metadata": {},
   "outputs": [
    {
     "name": "stdout",
     "output_type": "stream",
     "text": [
      "Minimum Edit Distance of 1\n",
      "['phoebe', 'Phebe'] \n",
      "\n"
     ]
    }
   ],
   "source": [
    "spell_correction_backoff('Phoebe')"
   ]
  },
  {
   "cell_type": "code",
   "execution_count": 41,
   "metadata": {},
   "outputs": [
    {
     "name": "stdout",
     "output_type": "stream",
     "text": [
      "Minimum Edit Distance of 1\n",
      "Output: No error \n",
      "\n"
     ]
    }
   ],
   "source": [
    "spell_correction_backoff('Mark')"
   ]
  },
  {
   "cell_type": "code",
   "execution_count": 42,
   "metadata": {},
   "outputs": [
    {
     "name": "stdout",
     "output_type": "stream",
     "text": [
      "Minimum Edit Distance of 1\n",
      "[] \n",
      "\n",
      "Minimum Edit Distance of 2\n",
      "['Cyrene', 'Hymen', 'Hyena', 'Syene', 'Hilen', 'Hygiene', 'Helena', 'Hymenee'] \n",
      "\n"
     ]
    }
   ],
   "source": [
    "spell_correction_backoff('Hylene')"
   ]
  },
  {
   "cell_type": "markdown",
   "metadata": {},
   "source": [
    "Additional complications arise when dealing with spaces. Even though Norvig's list of spelling corrections included rules for substituting characters for spaces (e.g., ` |r`), the built model is restricted to single-word inputs and outputs. More powerful spelling models ideally should be able to handle corrections like `langu age` to `language` (deletion of a space) and `ofthe` to `of the` (insertion of a space). Although it is possible to incorporate this into the existing noisy channel model by considering word-pairs (or word-tuples) instead of single words, this introduces an additional layer of complexity and computational cost that may not be commensurate with its performance, reducing the applicability of the noisy channel model with respect to this particular class of problems.\n",
    "\n",
    "An intuitive way to address this issue with word boundaries is through a method that is able to \"natively\" handle sequences. This has motivated researchers to explore a special class of finite state automata known as weighted finite-state transducers ([Riley, Allauzen & Jansche, 2009](https://aclanthology.org/N09-4005/)). The code segment below highlights this problem in the existing model."
   ]
  },
  {
   "cell_type": "code",
   "execution_count": 43,
   "metadata": {},
   "outputs": [
    {
     "name": "stdout",
     "output_type": "stream",
     "text": [
      "Minimum Edit Distance of 1\n",
      "[] \n",
      "\n",
      "Minimum Edit Distance of 2\n",
      "['the', 'other', 'often', 'oath', 'oft', 'bathe', 'soothe', 'tithe', 'oaths', 'lithe', 'lothe', 'Lethe', 'loathe', 'afther', 'Afther', 'Goethe', 'sithe', 'tythe', 'Lithe', 'Soothe', 'Bathe'] \n",
      "\n"
     ]
    }
   ],
   "source": [
    "spell_correction_backoff('ofthe')"
   ]
  },
  {
   "cell_type": "markdown",
   "metadata": {},
   "source": [
    "Finally, in light of the advancements in machine learning and deep learning, spelling correction models can learn the error model instead of relying on a predefined set of rules. Interestingly, one of the most influential papers on the application of the noisy channel model to spelling correction, i.e., the paper written by [Kernighan, Church, and Gale (1990)](https://aclanthology.org/C90-2036/), is patterned after the same idea, as it iteratively constructs the confusion matrices using the expectation-maximization (EM) algorithm. A more recent work is the Chinese spell correction program by [Han, Lv, Wang, and Fu (2019)](https://colips.org/conferences/ialp2019/ialp2019.com/files/papers/IALP2019_094.pdf), which exploits a bidirectional long short-term memory network (BiLSTM) to automatically learn errors, reframing it into a sequence labeling task. \n",
    "\n",
    "[Hládek, Staš, and Pleva (2020)](https://www.mdpi.com/2079-9292/9/10/1670) note that studies following this approach either forgo the use of a language model or use a separately trained embedding. An example of the latter is the work of [Fivez, Suster, and Daelemans (2017)](https://aclanthology.org/W17-2317.pdf), which employs a fastText skipgram model &mdash; making it considerably more context-sensitive than simply considering higher $n$-grams for the language model. On a more general note, this approach also ties spelling correction to the NLP1000 lesson on vector semantics and embeddings. \n",
    "\n",
    "This suggests that, although orthography scratches only the \"shallower\" tiers of language processing while semantics belongs to a \"deeper\" level, they have an interesting connection that leads to the mutual enrichment of works on both areas. Ultimately, this paints a more nuanced and unified picture of natural language processing and opens up promising intersections for future directions in improving automatic spelling correction systems."
   ]
  },
  {
   "cell_type": "markdown",
   "metadata": {},
   "source": [
    "<hr>"
   ]
  },
  {
   "cell_type": "markdown",
   "metadata": {},
   "source": [
    "# References"
   ]
  },
  {
   "cell_type": "markdown",
   "metadata": {},
   "source": [
    "- Aspell. (n.d.). *Lawrence Philips' metaphone algorithm*. GNU Aspell. http://aspell.net/metaphone/\n",
    "- Fivez, P., Suster, S., & Daelemans, W. (2017). Unsupervised context-sensitive spelling correction of clinical free-text with word and character n-gram embeddings. In *Proceedings of the BioNLP 2017 Workshop,* 143-148.\n",
    "- Jurafsky, D., & Martin, J.H. (2021). *Speech and language processing* (3rd ed., draft). Stanford University.\n",
    "- Kernighan, M.D., Church, K.W., & Gale, W.A. (1990). A spelling correction program based on a noisy channel model. In *COLING 1990 Volume 2: Papers presented to the 13th International Conference on Computational Linguistics*.\n",
    "- Han, Z., Lv, C., Wang, Q., & Fu, G. (2019). Chinese spelling check based on sequence labeling. In *2019 International Conference on Asian Language Processing (IALP),* 373-378. doi: 10.1109/IALP48816.2019.9037652.\n",
    "- Hládek, D, Staš, J, & Pleva, M. (2020). Survey of automatic spelling correction. *Electronics, 9*(10), 1670.\n",
    "- Lai, K.H., Topaz, M., Gross, F.R., & Zhou, L. (2015). Automated misspelling detection and correction in clinical free-text records. *Journal of Biomedical Informatics, 55*, 188-195.\n",
    "- Mykowiecka, A., & Marciniak, M. (2006). Domain-driven automatic spelling correction for mammography reports. In M.A. Kłopotek, S.T. Wierzchoń, & K. Trojanowski (Eds.), *Intelligent information processing and web mining*. Springer.\n",
    "- Riley, M., Allauzen, C., & Jansche, M. (2009). OpenFst: An open-source, weighted finite-state transducer library and its applications to speech and language. In *Proceedings of Human Language Technologies: The 2009 Annual Conference of the North American Chapter of the Association for Computational Linguistics, Companion Volume: Tutorial Abstracts*, 9- 10.\n",
    "- Rudra, A. (2007). *Lecture 8: Shannon's noise models.* University at Buffalo. https://cse.buffalo.edu/faculty/atri/courses/coding-theory/lectures/lect8.pdf\n",
    "- Sagar-Fenton, B., & McNeill, L. (2018, June 24). *How many words do you need to speak a language?* BBC News. https://www.bbc.com/news/world-44569277\n",
    "- Sha, S., Jun, L., Qinghua, Z., & Wei, Z. (2011). Automatic Chinese topic term spelling correction in online Pinyin input. In *Proceedings of the International Conference on Human-centric Computing 2011 and Embedded and Multimedia Computing 2011*, 23-36.\n",
    "- Whitelaw, C., Hutchinson, B., Chung, G.Y., & Ellis, G. (2009). Using the web for language independent spellchecking and autocorrection. In *EMNLP '09: Proceedings of the 2009 Conference on Empirical Methods in Natural Language Processing: Volume 2*, 890-899.\n",
    "- Wikipedia. (2022). *Wikipedia:Statistics*. https://en.wikipedia.org/wiki/Wikipedia:Statistics\n"
   ]
  }
 ],
 "metadata": {
  "kernelspec": {
   "display_name": "Python 3",
   "language": "python",
   "name": "python3"
  },
  "language_info": {
   "codemirror_mode": {
    "name": "ipython",
    "version": 3
   },
   "file_extension": ".py",
   "mimetype": "text/x-python",
   "name": "python",
   "nbconvert_exporter": "python",
   "pygments_lexer": "ipython3",
   "version": "3.7.6"
  }
 },
 "nbformat": 4,
 "nbformat_minor": 5
}
